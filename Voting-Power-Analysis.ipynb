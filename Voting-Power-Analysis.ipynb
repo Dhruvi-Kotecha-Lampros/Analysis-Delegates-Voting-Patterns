{
 "cells": [
  {
   "cell_type": "code",
   "execution_count": 1,
   "metadata": {},
   "outputs": [],
   "source": [
    "import pandas as pd\n",
    "import numpy as np\n",
    "import matplotlib.pyplot as plt\n",
    "import seaborn as sns\n",
    "import plotly.express as px\n",
    "from datetime import datetime\n",
    "from datetime import timedelta\n",
    "import plotly.graph_objects as go\n",
    "from plotly.subplots import make_subplots\n",
    "import altair as alt\n",
    "from IPython.display import display\n",
    "from statsmodels.tsa.seasonal import seasonal_decompose"
   ]
  },
  {
   "cell_type": "code",
   "execution_count": 2,
   "metadata": {},
   "outputs": [],
   "source": [
    "data = pd.read_csv(r'basic_type_data.csv')"
   ]
  },
  {
   "cell_type": "code",
   "execution_count": 3,
   "metadata": {},
   "outputs": [],
   "source": [
    "data1 = data.copy()"
   ]
  },
  {
   "cell_type": "code",
   "execution_count": 4,
   "metadata": {},
   "outputs": [
    {
     "data": {
      "text/plain": [
       "(2637014, 28)"
      ]
     },
     "execution_count": 4,
     "metadata": {},
     "output_type": "execute_result"
    }
   ],
   "source": [
    "data1.shape"
   ]
  },
  {
   "cell_type": "code",
   "execution_count": 5,
   "metadata": {},
   "outputs": [
    {
     "data": {
      "text/plain": [
       "114"
      ]
     },
     "execution_count": 5,
     "metadata": {},
     "output_type": "execute_result"
    }
   ],
   "source": [
    "data1['proposal_title'].nunique()"
   ]
  },
  {
   "cell_type": "code",
   "execution_count": 6,
   "metadata": {},
   "outputs": [
    {
     "data": {
      "text/plain": [
       "Index(['Unnamed: 0', 'vote_id', 'voter', 'voting_power', 'vote_date',\n",
       "       'voting_reason', 'vote_year', 'vote_month', 'vote_day', 'vote_time',\n",
       "       'vote_hour', 'vote_minute', 'vote_year_month', 'voting_power_range',\n",
       "       'proposal_id', 'proposal_title', 'proposal_body', 'proposal_type',\n",
       "       'proposal_created', 'proposal_start_date', 'proposal_end_date',\n",
       "       'proposal_year', 'proposal_month', 'proposal_day', 'proposal_time',\n",
       "       'proposal_choices', 'voting_choice', 'mapped_choice'],\n",
       "      dtype='object')"
      ]
     },
     "execution_count": 6,
     "metadata": {},
     "output_type": "execute_result"
    }
   ],
   "source": [
    "data1.columns"
   ]
  },
  {
   "cell_type": "code",
   "execution_count": 7,
   "metadata": {},
   "outputs": [],
   "source": [
    "data1.drop(columns=['Unnamed: 0'], inplace=True)"
   ]
  },
  {
   "cell_type": "code",
   "execution_count": 8,
   "metadata": {},
   "outputs": [],
   "source": [
    "# Pivot the DataFrame to create a new DataFrame with voters as rows and proposals as columns\n",
    "voters_proposals = data1.pivot_table(values='voting_power', index='voter', columns='proposal_title', fill_value=0)\n",
    "\n",
    "# Reset the index to make 'voter' a regular column\n",
    "voters_proposals.reset_index(inplace=True)\n",
    "\n",
    "# Create a DataFrame with voter addresses\n",
    "voter = data1['voter'].drop_duplicates()\n",
    "\n",
    "# Merge the two DataFrames based on 'voter'\n",
    "result_df = pd.merge(voter, voters_proposals, on='voter')\n",
    "\n",
    "# Rename the columns for better clarity\n",
    "result_df.columns = ['voter'] + [f'{proposal}' for proposal in result_df.columns[1:]]"
   ]
  },
  {
   "cell_type": "code",
   "execution_count": 9,
   "metadata": {},
   "outputs": [],
   "source": [
    "# Count the unique proposals\n",
    "proposals_count = data1['proposal_title'].nunique()\n",
    "\n",
    "# Group the data by 'voter' and count the total unique proposals each voter voted for\n",
    "vote_counts = data1.groupby('voter')['proposal_title'].nunique().reset_index(name='proposals_voted_for')"
   ]
  },
  {
   "cell_type": "code",
   "execution_count": 10,
   "metadata": {},
   "outputs": [],
   "source": [
    "# # Filter out voters who voted for all unique proposals\n",
    "# voters = vote_counts[vote_counts['proposals_voted_for'] == proposals_count]\n",
    "\n",
    "# # Get the count of voters who voted for all unique proposals\n",
    "# count_proposals = len(voters)\n",
    "\n",
    "# print(f\"Number of voters who voted for all unique proposals: {count_proposals}\")"
   ]
  },
  {
   "cell_type": "code",
   "execution_count": 11,
   "metadata": {},
   "outputs": [
    {
     "data": {
      "text/html": [
       "<div>\n",
       "<style scoped>\n",
       "    .dataframe tbody tr th:only-of-type {\n",
       "        vertical-align: middle;\n",
       "    }\n",
       "\n",
       "    .dataframe tbody tr th {\n",
       "        vertical-align: top;\n",
       "    }\n",
       "\n",
       "    .dataframe thead th {\n",
       "        text-align: right;\n",
       "    }\n",
       "</style>\n",
       "<table border=\"1\" class=\"dataframe\">\n",
       "  <thead>\n",
       "    <tr style=\"text-align: right;\">\n",
       "      <th></th>\n",
       "      <th>voter</th>\n",
       "      <th>proposals_voted_for</th>\n",
       "    </tr>\n",
       "  </thead>\n",
       "  <tbody>\n",
       "    <tr>\n",
       "      <th>0</th>\n",
       "      <td>0x00000000051CBcE3fD04148CcE2c0adc7c651829</td>\n",
       "      <td>1</td>\n",
       "    </tr>\n",
       "    <tr>\n",
       "      <th>1</th>\n",
       "      <td>0x000000000A38444e0a6E37d3b630d7e855a7cb13</td>\n",
       "      <td>10</td>\n",
       "    </tr>\n",
       "    <tr>\n",
       "      <th>2</th>\n",
       "      <td>0x000000006F457c0f8F560333d9c2877287d92a92</td>\n",
       "      <td>102</td>\n",
       "    </tr>\n",
       "    <tr>\n",
       "      <th>3</th>\n",
       "      <td>0x00000001985C6A08963eEf53821c78aa84318B42</td>\n",
       "      <td>6</td>\n",
       "    </tr>\n",
       "    <tr>\n",
       "      <th>4</th>\n",
       "      <td>0x00000001B01122945D67Cf7c972f1a2063Ca4008</td>\n",
       "      <td>5</td>\n",
       "    </tr>\n",
       "    <tr>\n",
       "      <th>...</th>\n",
       "      <td>...</td>\n",
       "      <td>...</td>\n",
       "    </tr>\n",
       "    <tr>\n",
       "      <th>144261</th>\n",
       "      <td>0xffeb5154B33A7FeA9f81aCe866785F6538652884</td>\n",
       "      <td>108</td>\n",
       "    </tr>\n",
       "    <tr>\n",
       "      <th>144262</th>\n",
       "      <td>0xffec9E15a95845b6720A7e7ea5F65e97EaeAd3e8</td>\n",
       "      <td>7</td>\n",
       "    </tr>\n",
       "    <tr>\n",
       "      <th>144263</th>\n",
       "      <td>0xfff65670f19cE7E48d6ffAd7A679FA9A7e0c5e97</td>\n",
       "      <td>101</td>\n",
       "    </tr>\n",
       "    <tr>\n",
       "      <th>144264</th>\n",
       "      <td>0xfff69ccaffd53e68b056d0E7D24fC941B033EEc3</td>\n",
       "      <td>1</td>\n",
       "    </tr>\n",
       "    <tr>\n",
       "      <th>144265</th>\n",
       "      <td>0xfff8fe1CFAf251aA33e3105b265d2350DAB9eDB4</td>\n",
       "      <td>106</td>\n",
       "    </tr>\n",
       "  </tbody>\n",
       "</table>\n",
       "<p>144266 rows × 2 columns</p>\n",
       "</div>"
      ],
      "text/plain": [
       "                                             voter  proposals_voted_for\n",
       "0       0x00000000051CBcE3fD04148CcE2c0adc7c651829                    1\n",
       "1       0x000000000A38444e0a6E37d3b630d7e855a7cb13                   10\n",
       "2       0x000000006F457c0f8F560333d9c2877287d92a92                  102\n",
       "3       0x00000001985C6A08963eEf53821c78aa84318B42                    6\n",
       "4       0x00000001B01122945D67Cf7c972f1a2063Ca4008                    5\n",
       "...                                            ...                  ...\n",
       "144261  0xffeb5154B33A7FeA9f81aCe866785F6538652884                  108\n",
       "144262  0xffec9E15a95845b6720A7e7ea5F65e97EaeAd3e8                    7\n",
       "144263  0xfff65670f19cE7E48d6ffAd7A679FA9A7e0c5e97                  101\n",
       "144264  0xfff69ccaffd53e68b056d0E7D24fC941B033EEc3                    1\n",
       "144265  0xfff8fe1CFAf251aA33e3105b265d2350DAB9eDB4                  106\n",
       "\n",
       "[144266 rows x 2 columns]"
      ]
     },
     "execution_count": 11,
     "metadata": {},
     "output_type": "execute_result"
    }
   ],
   "source": [
    "vote_counts"
   ]
  },
  {
   "cell_type": "code",
   "execution_count": 12,
   "metadata": {},
   "outputs": [],
   "source": [
    "result_df = pd.merge(result_df, vote_counts, on='voter')"
   ]
  },
  {
   "cell_type": "code",
   "execution_count": 13,
   "metadata": {},
   "outputs": [
    {
     "data": {
      "text/html": [
       "<div>\n",
       "<style scoped>\n",
       "    .dataframe tbody tr th:only-of-type {\n",
       "        vertical-align: middle;\n",
       "    }\n",
       "\n",
       "    .dataframe tbody tr th {\n",
       "        vertical-align: top;\n",
       "    }\n",
       "\n",
       "    .dataframe thead th {\n",
       "        text-align: right;\n",
       "    }\n",
       "</style>\n",
       "<table border=\"1\" class=\"dataframe\">\n",
       "  <thead>\n",
       "    <tr style=\"text-align: right;\">\n",
       "      <th></th>\n",
       "      <th>voter</th>\n",
       "      <th>0xGen STIP Proposal - Round 1</th>\n",
       "      <th>AIP 1.05: Return 700M $ARB to the DAO Treasury [REAL]</th>\n",
       "      <th>AIP-1.1 - Lockup, Budget, Transparency</th>\n",
       "      <th>AIP-1.2 - Foundation and DAO Governance</th>\n",
       "      <th>AIP-1: Arbitrum Improvement Proposal Framework</th>\n",
       "      <th>ALAYA STIP Proposal - Round 1</th>\n",
       "      <th>Abracadabra DAO STIP Proposal - Round 1</th>\n",
       "      <th>Accelerating Arbitrum - leveraging Camelot as an ecosystem hub to support native builders</th>\n",
       "      <th>Angle Protocol STIP Proposal - Round 1</th>\n",
       "      <th>...</th>\n",
       "      <th>Wormhole STIP Proposal - Round 1</th>\n",
       "      <th>XY STIP Proposal - Round 1</th>\n",
       "      <th>ZKasino STIP Proposal - Round 1</th>\n",
       "      <th>[Non-Constitutional] Fund the Arbitrum Grants Framework Proposal Milestone 1</th>\n",
       "      <th>[Non-Constitutional]: Arbitrum Stable Treasury Endowment Program</th>\n",
       "      <th>dForce STIP Proposal - Round 1</th>\n",
       "      <th>iZUMi STIP Proposal - Round 1</th>\n",
       "      <th>tBTC STIP Proposal - Round 1</th>\n",
       "      <th>unshETH STIP Proposal - Round 1</th>\n",
       "      <th>proposals_voted_for</th>\n",
       "    </tr>\n",
       "  </thead>\n",
       "  <tbody>\n",
       "    <tr>\n",
       "      <th>0</th>\n",
       "      <td>0xcC953B343fDC81E70FE7C0097629E1eAD46C927C</td>\n",
       "      <td>0.000000</td>\n",
       "      <td>0.000000</td>\n",
       "      <td>0.000000</td>\n",
       "      <td>0.000000</td>\n",
       "      <td>0.00</td>\n",
       "      <td>0.000000</td>\n",
       "      <td>0.000000</td>\n",
       "      <td>0.000000</td>\n",
       "      <td>0.000000</td>\n",
       "      <td>...</td>\n",
       "      <td>0.000000</td>\n",
       "      <td>0.000000</td>\n",
       "      <td>0.000000</td>\n",
       "      <td>0.000000</td>\n",
       "      <td>30.017713</td>\n",
       "      <td>0.000000</td>\n",
       "      <td>0.000000</td>\n",
       "      <td>0.000000</td>\n",
       "      <td>0.000000</td>\n",
       "      <td>3</td>\n",
       "    </tr>\n",
       "    <tr>\n",
       "      <th>1</th>\n",
       "      <td>0x157F41B3B83A8E41354A2393C4E6AB6702C0e7d9</td>\n",
       "      <td>1200.045368</td>\n",
       "      <td>3999.045368</td>\n",
       "      <td>3999.045368</td>\n",
       "      <td>3999.045368</td>\n",
       "      <td>3000.00</td>\n",
       "      <td>1200.045368</td>\n",
       "      <td>1200.045368</td>\n",
       "      <td>1200.045368</td>\n",
       "      <td>1200.045368</td>\n",
       "      <td>...</td>\n",
       "      <td>1200.045368</td>\n",
       "      <td>1200.045368</td>\n",
       "      <td>1200.045368</td>\n",
       "      <td>0.000000</td>\n",
       "      <td>700.042374</td>\n",
       "      <td>1200.045368</td>\n",
       "      <td>1200.045368</td>\n",
       "      <td>1200.045368</td>\n",
       "      <td>1200.045368</td>\n",
       "      <td>112</td>\n",
       "    </tr>\n",
       "    <tr>\n",
       "      <th>2</th>\n",
       "      <td>0xA38092428628b7f1507FfB77624b4760732c7A28</td>\n",
       "      <td>0.000000</td>\n",
       "      <td>0.000000</td>\n",
       "      <td>0.000000</td>\n",
       "      <td>0.000000</td>\n",
       "      <td>0.00</td>\n",
       "      <td>0.000000</td>\n",
       "      <td>0.000000</td>\n",
       "      <td>50.768444</td>\n",
       "      <td>0.000000</td>\n",
       "      <td>...</td>\n",
       "      <td>0.000000</td>\n",
       "      <td>0.000000</td>\n",
       "      <td>0.000000</td>\n",
       "      <td>50.768444</td>\n",
       "      <td>317.424181</td>\n",
       "      <td>0.000000</td>\n",
       "      <td>0.000000</td>\n",
       "      <td>0.000000</td>\n",
       "      <td>0.000000</td>\n",
       "      <td>15</td>\n",
       "    </tr>\n",
       "    <tr>\n",
       "      <th>3</th>\n",
       "      <td>0x3aceB77bf88c3A92079BAa8dB3Ddb172e3636Bb7</td>\n",
       "      <td>0.000000</td>\n",
       "      <td>50.000000</td>\n",
       "      <td>50.000000</td>\n",
       "      <td>50.000000</td>\n",
       "      <td>0.00</td>\n",
       "      <td>0.000000</td>\n",
       "      <td>0.000000</td>\n",
       "      <td>50.000000</td>\n",
       "      <td>0.000000</td>\n",
       "      <td>...</td>\n",
       "      <td>0.000000</td>\n",
       "      <td>0.000000</td>\n",
       "      <td>0.000000</td>\n",
       "      <td>50.000000</td>\n",
       "      <td>2.000000</td>\n",
       "      <td>0.000000</td>\n",
       "      <td>50.000000</td>\n",
       "      <td>0.000000</td>\n",
       "      <td>0.000000</td>\n",
       "      <td>19</td>\n",
       "    </tr>\n",
       "    <tr>\n",
       "      <th>4</th>\n",
       "      <td>0xf9cb583de6B3375A8CCd32be172Fd810B69a0eE7</td>\n",
       "      <td>0.000000</td>\n",
       "      <td>0.000000</td>\n",
       "      <td>0.000000</td>\n",
       "      <td>0.000000</td>\n",
       "      <td>0.00</td>\n",
       "      <td>0.000000</td>\n",
       "      <td>0.000000</td>\n",
       "      <td>0.000000</td>\n",
       "      <td>0.000000</td>\n",
       "      <td>...</td>\n",
       "      <td>0.000000</td>\n",
       "      <td>0.000000</td>\n",
       "      <td>0.000000</td>\n",
       "      <td>0.000000</td>\n",
       "      <td>101.011000</td>\n",
       "      <td>0.000000</td>\n",
       "      <td>0.000000</td>\n",
       "      <td>0.000000</td>\n",
       "      <td>0.000000</td>\n",
       "      <td>1</td>\n",
       "    </tr>\n",
       "    <tr>\n",
       "      <th>...</th>\n",
       "      <td>...</td>\n",
       "      <td>...</td>\n",
       "      <td>...</td>\n",
       "      <td>...</td>\n",
       "      <td>...</td>\n",
       "      <td>...</td>\n",
       "      <td>...</td>\n",
       "      <td>...</td>\n",
       "      <td>...</td>\n",
       "      <td>...</td>\n",
       "      <td>...</td>\n",
       "      <td>...</td>\n",
       "      <td>...</td>\n",
       "      <td>...</td>\n",
       "      <td>...</td>\n",
       "      <td>...</td>\n",
       "      <td>...</td>\n",
       "      <td>...</td>\n",
       "      <td>...</td>\n",
       "      <td>...</td>\n",
       "      <td>...</td>\n",
       "    </tr>\n",
       "    <tr>\n",
       "      <th>144261</th>\n",
       "      <td>0x297d2B80728966F8B6aadE2f1A0016aD5E479084</td>\n",
       "      <td>0.000000</td>\n",
       "      <td>0.000000</td>\n",
       "      <td>0.000000</td>\n",
       "      <td>0.000000</td>\n",
       "      <td>18181.98</td>\n",
       "      <td>0.000000</td>\n",
       "      <td>0.000000</td>\n",
       "      <td>0.000000</td>\n",
       "      <td>0.000000</td>\n",
       "      <td>...</td>\n",
       "      <td>0.000000</td>\n",
       "      <td>0.000000</td>\n",
       "      <td>0.000000</td>\n",
       "      <td>0.000000</td>\n",
       "      <td>0.000000</td>\n",
       "      <td>0.000000</td>\n",
       "      <td>0.000000</td>\n",
       "      <td>0.000000</td>\n",
       "      <td>0.000000</td>\n",
       "      <td>1</td>\n",
       "    </tr>\n",
       "    <tr>\n",
       "      <th>144262</th>\n",
       "      <td>0xc68BC30EC0847E856E19a621aA17C485f49e3c13</td>\n",
       "      <td>0.000000</td>\n",
       "      <td>0.000000</td>\n",
       "      <td>0.000000</td>\n",
       "      <td>0.000000</td>\n",
       "      <td>1250.00</td>\n",
       "      <td>0.000000</td>\n",
       "      <td>0.000000</td>\n",
       "      <td>0.000000</td>\n",
       "      <td>0.000000</td>\n",
       "      <td>...</td>\n",
       "      <td>0.000000</td>\n",
       "      <td>0.000000</td>\n",
       "      <td>0.000000</td>\n",
       "      <td>0.000000</td>\n",
       "      <td>0.000000</td>\n",
       "      <td>0.000000</td>\n",
       "      <td>0.000000</td>\n",
       "      <td>0.000000</td>\n",
       "      <td>0.000000</td>\n",
       "      <td>1</td>\n",
       "    </tr>\n",
       "    <tr>\n",
       "      <th>144263</th>\n",
       "      <td>0x0569A2073A5C573d9D41010f801834ae9848Ca3b</td>\n",
       "      <td>0.000000</td>\n",
       "      <td>0.000000</td>\n",
       "      <td>0.000000</td>\n",
       "      <td>0.000000</td>\n",
       "      <td>2750.00</td>\n",
       "      <td>0.000000</td>\n",
       "      <td>0.000000</td>\n",
       "      <td>0.000000</td>\n",
       "      <td>0.000000</td>\n",
       "      <td>...</td>\n",
       "      <td>0.000000</td>\n",
       "      <td>0.000000</td>\n",
       "      <td>0.000000</td>\n",
       "      <td>0.000000</td>\n",
       "      <td>0.000000</td>\n",
       "      <td>0.000000</td>\n",
       "      <td>0.000000</td>\n",
       "      <td>0.000000</td>\n",
       "      <td>0.000000</td>\n",
       "      <td>1</td>\n",
       "    </tr>\n",
       "    <tr>\n",
       "      <th>144264</th>\n",
       "      <td>0x809386596CA2F65982d25131F4D210D081BE4bC0</td>\n",
       "      <td>0.000000</td>\n",
       "      <td>0.000000</td>\n",
       "      <td>0.000000</td>\n",
       "      <td>0.000000</td>\n",
       "      <td>100.00</td>\n",
       "      <td>0.000000</td>\n",
       "      <td>0.000000</td>\n",
       "      <td>0.000000</td>\n",
       "      <td>0.000000</td>\n",
       "      <td>...</td>\n",
       "      <td>0.000000</td>\n",
       "      <td>0.000000</td>\n",
       "      <td>0.000000</td>\n",
       "      <td>0.000000</td>\n",
       "      <td>0.000000</td>\n",
       "      <td>0.000000</td>\n",
       "      <td>0.000000</td>\n",
       "      <td>0.000000</td>\n",
       "      <td>0.000000</td>\n",
       "      <td>1</td>\n",
       "    </tr>\n",
       "    <tr>\n",
       "      <th>144265</th>\n",
       "      <td>0xA849a608532e5467475B6a328128e76A06312993</td>\n",
       "      <td>0.000000</td>\n",
       "      <td>0.000000</td>\n",
       "      <td>0.000000</td>\n",
       "      <td>0.000000</td>\n",
       "      <td>25.00</td>\n",
       "      <td>0.000000</td>\n",
       "      <td>0.000000</td>\n",
       "      <td>0.000000</td>\n",
       "      <td>0.000000</td>\n",
       "      <td>...</td>\n",
       "      <td>0.000000</td>\n",
       "      <td>0.000000</td>\n",
       "      <td>0.000000</td>\n",
       "      <td>0.000000</td>\n",
       "      <td>0.000000</td>\n",
       "      <td>0.000000</td>\n",
       "      <td>0.000000</td>\n",
       "      <td>0.000000</td>\n",
       "      <td>0.000000</td>\n",
       "      <td>1</td>\n",
       "    </tr>\n",
       "  </tbody>\n",
       "</table>\n",
       "<p>144266 rows × 116 columns</p>\n",
       "</div>"
      ],
      "text/plain": [
       "                                             voter  \\\n",
       "0       0xcC953B343fDC81E70FE7C0097629E1eAD46C927C   \n",
       "1       0x157F41B3B83A8E41354A2393C4E6AB6702C0e7d9   \n",
       "2       0xA38092428628b7f1507FfB77624b4760732c7A28   \n",
       "3       0x3aceB77bf88c3A92079BAa8dB3Ddb172e3636Bb7   \n",
       "4       0xf9cb583de6B3375A8CCd32be172Fd810B69a0eE7   \n",
       "...                                            ...   \n",
       "144261  0x297d2B80728966F8B6aadE2f1A0016aD5E479084   \n",
       "144262  0xc68BC30EC0847E856E19a621aA17C485f49e3c13   \n",
       "144263  0x0569A2073A5C573d9D41010f801834ae9848Ca3b   \n",
       "144264  0x809386596CA2F65982d25131F4D210D081BE4bC0   \n",
       "144265  0xA849a608532e5467475B6a328128e76A06312993   \n",
       "\n",
       "        0xGen STIP Proposal - Round 1  \\\n",
       "0                            0.000000   \n",
       "1                         1200.045368   \n",
       "2                            0.000000   \n",
       "3                            0.000000   \n",
       "4                            0.000000   \n",
       "...                               ...   \n",
       "144261                       0.000000   \n",
       "144262                       0.000000   \n",
       "144263                       0.000000   \n",
       "144264                       0.000000   \n",
       "144265                       0.000000   \n",
       "\n",
       "        AIP 1.05: Return 700M $ARB to the DAO Treasury [REAL]  \\\n",
       "0                                                0.000000       \n",
       "1                                             3999.045368       \n",
       "2                                                0.000000       \n",
       "3                                               50.000000       \n",
       "4                                                0.000000       \n",
       "...                                                   ...       \n",
       "144261                                           0.000000       \n",
       "144262                                           0.000000       \n",
       "144263                                           0.000000       \n",
       "144264                                           0.000000       \n",
       "144265                                           0.000000       \n",
       "\n",
       "        AIP-1.1 - Lockup, Budget, Transparency  \\\n",
       "0                                     0.000000   \n",
       "1                                  3999.045368   \n",
       "2                                     0.000000   \n",
       "3                                    50.000000   \n",
       "4                                     0.000000   \n",
       "...                                        ...   \n",
       "144261                                0.000000   \n",
       "144262                                0.000000   \n",
       "144263                                0.000000   \n",
       "144264                                0.000000   \n",
       "144265                                0.000000   \n",
       "\n",
       "        AIP-1.2 - Foundation and DAO Governance  \\\n",
       "0                                      0.000000   \n",
       "1                                   3999.045368   \n",
       "2                                      0.000000   \n",
       "3                                     50.000000   \n",
       "4                                      0.000000   \n",
       "...                                         ...   \n",
       "144261                                 0.000000   \n",
       "144262                                 0.000000   \n",
       "144263                                 0.000000   \n",
       "144264                                 0.000000   \n",
       "144265                                 0.000000   \n",
       "\n",
       "        AIP-1: Arbitrum Improvement Proposal Framework  \\\n",
       "0                                                 0.00   \n",
       "1                                              3000.00   \n",
       "2                                                 0.00   \n",
       "3                                                 0.00   \n",
       "4                                                 0.00   \n",
       "...                                                ...   \n",
       "144261                                        18181.98   \n",
       "144262                                         1250.00   \n",
       "144263                                         2750.00   \n",
       "144264                                          100.00   \n",
       "144265                                           25.00   \n",
       "\n",
       "        ALAYA STIP Proposal - Round 1  \\\n",
       "0                            0.000000   \n",
       "1                         1200.045368   \n",
       "2                            0.000000   \n",
       "3                            0.000000   \n",
       "4                            0.000000   \n",
       "...                               ...   \n",
       "144261                       0.000000   \n",
       "144262                       0.000000   \n",
       "144263                       0.000000   \n",
       "144264                       0.000000   \n",
       "144265                       0.000000   \n",
       "\n",
       "        Abracadabra DAO STIP Proposal - Round 1  \\\n",
       "0                                      0.000000   \n",
       "1                                   1200.045368   \n",
       "2                                      0.000000   \n",
       "3                                      0.000000   \n",
       "4                                      0.000000   \n",
       "...                                         ...   \n",
       "144261                                 0.000000   \n",
       "144262                                 0.000000   \n",
       "144263                                 0.000000   \n",
       "144264                                 0.000000   \n",
       "144265                                 0.000000   \n",
       "\n",
       "        Accelerating Arbitrum - leveraging Camelot as an ecosystem hub to support native builders  \\\n",
       "0                                                0.000000                                           \n",
       "1                                             1200.045368                                           \n",
       "2                                               50.768444                                           \n",
       "3                                               50.000000                                           \n",
       "4                                                0.000000                                           \n",
       "...                                                   ...                                           \n",
       "144261                                           0.000000                                           \n",
       "144262                                           0.000000                                           \n",
       "144263                                           0.000000                                           \n",
       "144264                                           0.000000                                           \n",
       "144265                                           0.000000                                           \n",
       "\n",
       "        Angle Protocol STIP Proposal - Round 1  ...  \\\n",
       "0                                     0.000000  ...   \n",
       "1                                  1200.045368  ...   \n",
       "2                                     0.000000  ...   \n",
       "3                                     0.000000  ...   \n",
       "4                                     0.000000  ...   \n",
       "...                                        ...  ...   \n",
       "144261                                0.000000  ...   \n",
       "144262                                0.000000  ...   \n",
       "144263                                0.000000  ...   \n",
       "144264                                0.000000  ...   \n",
       "144265                                0.000000  ...   \n",
       "\n",
       "        Wormhole STIP Proposal - Round 1  XY STIP Proposal - Round 1  \\\n",
       "0                               0.000000                    0.000000   \n",
       "1                            1200.045368                 1200.045368   \n",
       "2                               0.000000                    0.000000   \n",
       "3                               0.000000                    0.000000   \n",
       "4                               0.000000                    0.000000   \n",
       "...                                  ...                         ...   \n",
       "144261                          0.000000                    0.000000   \n",
       "144262                          0.000000                    0.000000   \n",
       "144263                          0.000000                    0.000000   \n",
       "144264                          0.000000                    0.000000   \n",
       "144265                          0.000000                    0.000000   \n",
       "\n",
       "        ZKasino STIP Proposal - Round 1  \\\n",
       "0                              0.000000   \n",
       "1                           1200.045368   \n",
       "2                              0.000000   \n",
       "3                              0.000000   \n",
       "4                              0.000000   \n",
       "...                                 ...   \n",
       "144261                         0.000000   \n",
       "144262                         0.000000   \n",
       "144263                         0.000000   \n",
       "144264                         0.000000   \n",
       "144265                         0.000000   \n",
       "\n",
       "        [Non-Constitutional] Fund the Arbitrum Grants Framework Proposal Milestone 1  \\\n",
       "0                                                0.000000                              \n",
       "1                                                0.000000                              \n",
       "2                                               50.768444                              \n",
       "3                                               50.000000                              \n",
       "4                                                0.000000                              \n",
       "...                                                   ...                              \n",
       "144261                                           0.000000                              \n",
       "144262                                           0.000000                              \n",
       "144263                                           0.000000                              \n",
       "144264                                           0.000000                              \n",
       "144265                                           0.000000                              \n",
       "\n",
       "        [Non-Constitutional]: Arbitrum Stable Treasury Endowment Program  \\\n",
       "0                                               30.017713                  \n",
       "1                                              700.042374                  \n",
       "2                                              317.424181                  \n",
       "3                                                2.000000                  \n",
       "4                                              101.011000                  \n",
       "...                                                   ...                  \n",
       "144261                                           0.000000                  \n",
       "144262                                           0.000000                  \n",
       "144263                                           0.000000                  \n",
       "144264                                           0.000000                  \n",
       "144265                                           0.000000                  \n",
       "\n",
       "        dForce STIP Proposal - Round 1  iZUMi STIP Proposal - Round 1  \\\n",
       "0                             0.000000                       0.000000   \n",
       "1                          1200.045368                    1200.045368   \n",
       "2                             0.000000                       0.000000   \n",
       "3                             0.000000                      50.000000   \n",
       "4                             0.000000                       0.000000   \n",
       "...                                ...                            ...   \n",
       "144261                        0.000000                       0.000000   \n",
       "144262                        0.000000                       0.000000   \n",
       "144263                        0.000000                       0.000000   \n",
       "144264                        0.000000                       0.000000   \n",
       "144265                        0.000000                       0.000000   \n",
       "\n",
       "        tBTC STIP Proposal - Round 1  unshETH STIP Proposal - Round 1  \\\n",
       "0                           0.000000                         0.000000   \n",
       "1                        1200.045368                      1200.045368   \n",
       "2                           0.000000                         0.000000   \n",
       "3                           0.000000                         0.000000   \n",
       "4                           0.000000                         0.000000   \n",
       "...                              ...                              ...   \n",
       "144261                      0.000000                         0.000000   \n",
       "144262                      0.000000                         0.000000   \n",
       "144263                      0.000000                         0.000000   \n",
       "144264                      0.000000                         0.000000   \n",
       "144265                      0.000000                         0.000000   \n",
       "\n",
       "        proposals_voted_for  \n",
       "0                         3  \n",
       "1                       112  \n",
       "2                        15  \n",
       "3                        19  \n",
       "4                         1  \n",
       "...                     ...  \n",
       "144261                    1  \n",
       "144262                    1  \n",
       "144263                    1  \n",
       "144264                    1  \n",
       "144265                    1  \n",
       "\n",
       "[144266 rows x 116 columns]"
      ]
     },
     "execution_count": 13,
     "metadata": {},
     "output_type": "execute_result"
    }
   ],
   "source": [
    "result_df"
   ]
  },
  {
   "cell_type": "code",
   "execution_count": 14,
   "metadata": {},
   "outputs": [
    {
     "data": {
      "text/html": [
       "<div>\n",
       "<style scoped>\n",
       "    .dataframe tbody tr th:only-of-type {\n",
       "        vertical-align: middle;\n",
       "    }\n",
       "\n",
       "    .dataframe tbody tr th {\n",
       "        vertical-align: top;\n",
       "    }\n",
       "\n",
       "    .dataframe thead th {\n",
       "        text-align: right;\n",
       "    }\n",
       "</style>\n",
       "<table border=\"1\" class=\"dataframe\">\n",
       "  <thead>\n",
       "    <tr style=\"text-align: right;\">\n",
       "      <th></th>\n",
       "      <th>voter</th>\n",
       "      <th>total_voting_power</th>\n",
       "      <th>proposals_voted_for</th>\n",
       "      <th>average_voting_power</th>\n",
       "    </tr>\n",
       "  </thead>\n",
       "  <tbody>\n",
       "    <tr>\n",
       "      <th>0</th>\n",
       "      <td>0xcC953B343fDC81E70FE7C0097629E1eAD46C927C</td>\n",
       "      <td>91.253190</td>\n",
       "      <td>3</td>\n",
       "      <td>30.417730</td>\n",
       "    </tr>\n",
       "    <tr>\n",
       "      <th>1</th>\n",
       "      <td>0x157F41B3B83A8E41354A2393C4E6AB6702C0e7d9</td>\n",
       "      <td>144214.023925</td>\n",
       "      <td>112</td>\n",
       "      <td>1287.625214</td>\n",
       "    </tr>\n",
       "    <tr>\n",
       "      <th>2</th>\n",
       "      <td>0xA38092428628b7f1507FfB77624b4760732c7A28</td>\n",
       "      <td>1043.182396</td>\n",
       "      <td>15</td>\n",
       "      <td>69.545493</td>\n",
       "    </tr>\n",
       "    <tr>\n",
       "      <th>3</th>\n",
       "      <td>0x3aceB77bf88c3A92079BAa8dB3Ddb172e3636Bb7</td>\n",
       "      <td>921.000000</td>\n",
       "      <td>19</td>\n",
       "      <td>48.473684</td>\n",
       "    </tr>\n",
       "    <tr>\n",
       "      <th>4</th>\n",
       "      <td>0xf9cb583de6B3375A8CCd32be172Fd810B69a0eE7</td>\n",
       "      <td>102.011000</td>\n",
       "      <td>1</td>\n",
       "      <td>102.011000</td>\n",
       "    </tr>\n",
       "    <tr>\n",
       "      <th>...</th>\n",
       "      <td>...</td>\n",
       "      <td>...</td>\n",
       "      <td>...</td>\n",
       "      <td>...</td>\n",
       "    </tr>\n",
       "    <tr>\n",
       "      <th>144261</th>\n",
       "      <td>0x297d2B80728966F8B6aadE2f1A0016aD5E479084</td>\n",
       "      <td>18182.980000</td>\n",
       "      <td>1</td>\n",
       "      <td>18182.980000</td>\n",
       "    </tr>\n",
       "    <tr>\n",
       "      <th>144262</th>\n",
       "      <td>0xc68BC30EC0847E856E19a621aA17C485f49e3c13</td>\n",
       "      <td>1251.000000</td>\n",
       "      <td>1</td>\n",
       "      <td>1251.000000</td>\n",
       "    </tr>\n",
       "    <tr>\n",
       "      <th>144263</th>\n",
       "      <td>0x0569A2073A5C573d9D41010f801834ae9848Ca3b</td>\n",
       "      <td>2751.000000</td>\n",
       "      <td>1</td>\n",
       "      <td>2751.000000</td>\n",
       "    </tr>\n",
       "    <tr>\n",
       "      <th>144264</th>\n",
       "      <td>0x809386596CA2F65982d25131F4D210D081BE4bC0</td>\n",
       "      <td>101.000000</td>\n",
       "      <td>1</td>\n",
       "      <td>101.000000</td>\n",
       "    </tr>\n",
       "    <tr>\n",
       "      <th>144265</th>\n",
       "      <td>0xA849a608532e5467475B6a328128e76A06312993</td>\n",
       "      <td>26.000000</td>\n",
       "      <td>1</td>\n",
       "      <td>26.000000</td>\n",
       "    </tr>\n",
       "  </tbody>\n",
       "</table>\n",
       "<p>144266 rows × 4 columns</p>\n",
       "</div>"
      ],
      "text/plain": [
       "                                             voter  total_voting_power  \\\n",
       "0       0xcC953B343fDC81E70FE7C0097629E1eAD46C927C           91.253190   \n",
       "1       0x157F41B3B83A8E41354A2393C4E6AB6702C0e7d9       144214.023925   \n",
       "2       0xA38092428628b7f1507FfB77624b4760732c7A28         1043.182396   \n",
       "3       0x3aceB77bf88c3A92079BAa8dB3Ddb172e3636Bb7          921.000000   \n",
       "4       0xf9cb583de6B3375A8CCd32be172Fd810B69a0eE7          102.011000   \n",
       "...                                            ...                 ...   \n",
       "144261  0x297d2B80728966F8B6aadE2f1A0016aD5E479084        18182.980000   \n",
       "144262  0xc68BC30EC0847E856E19a621aA17C485f49e3c13         1251.000000   \n",
       "144263  0x0569A2073A5C573d9D41010f801834ae9848Ca3b         2751.000000   \n",
       "144264  0x809386596CA2F65982d25131F4D210D081BE4bC0          101.000000   \n",
       "144265  0xA849a608532e5467475B6a328128e76A06312993           26.000000   \n",
       "\n",
       "        proposals_voted_for  average_voting_power  \n",
       "0                         3             30.417730  \n",
       "1                       112           1287.625214  \n",
       "2                        15             69.545493  \n",
       "3                        19             48.473684  \n",
       "4                         1            102.011000  \n",
       "...                     ...                   ...  \n",
       "144261                    1          18182.980000  \n",
       "144262                    1           1251.000000  \n",
       "144263                    1           2751.000000  \n",
       "144264                    1            101.000000  \n",
       "144265                    1             26.000000  \n",
       "\n",
       "[144266 rows x 4 columns]"
      ]
     },
     "execution_count": 14,
     "metadata": {},
     "output_type": "execute_result"
    }
   ],
   "source": [
    "# Calculate the total voting power for each voter\n",
    "result_df['total_voting_power'] = result_df.drop(columns='voter').sum(axis=1)\n",
    "\n",
    "# Calculate the average voting power\n",
    "result_df['average_voting_power'] = result_df['total_voting_power'] / result_df['proposals_voted_for']\n",
    "\n",
    "# Display the DataFrame with voter addresses and total voting power\n",
    "result_df[['voter', 'total_voting_power', 'proposals_voted_for', 'average_voting_power']]"
   ]
  },
  {
   "cell_type": "code",
   "execution_count": 15,
   "metadata": {},
   "outputs": [
    {
     "data": {
      "image/png": "[encoded data removed]",
      "text/plain": [
       "<Figure size 1000x500 with 1 Axes>"
      ]
     },
     "metadata": {},
     "output_type": "display_data"
    }
   ],
   "source": [
    "# Create a box plot of average voting power using Seaborn\n",
    "plt.figure(figsize=(10, 5))\n",
    "sns.boxplot(x=result_df['total_voting_power'])\n",
    "plt.xlabel('Voting Power')\n",
    "plt.title('Box Plot of Voters based on their Total Voting Power across All Proposals')\n",
    "plt.show()"
   ]
  },
  {
   "cell_type": "code",
   "execution_count": 16,
   "metadata": {},
   "outputs": [
    {
     "name": "stdout",
     "output_type": "stream",
     "text": [
      "Summary Statistics:\n",
      "count    1.442660e+05\n",
      "mean     1.150969e+05\n",
      "std      1.179447e+07\n",
      "min      1.000000e+00\n",
      "25%      1.100000e+01\n",
      "50%      5.917106e+01\n",
      "75%      5.010623e+02\n",
      "max      2.944637e+09\n",
      "Name: total_voting_power, dtype: float64\n"
     ]
    }
   ],
   "source": [
    "# Summary statistics\n",
    "summary_stats = result_df['total_voting_power'].describe()\n",
    "print(\"Summary Statistics:\")\n",
    "print(summary_stats)"
   ]
  },
  {
   "cell_type": "code",
   "execution_count": 17,
   "metadata": {},
   "outputs": [
    {
     "data": {
      "text/html": [
       "<div>\n",
       "<style scoped>\n",
       "    .dataframe tbody tr th:only-of-type {\n",
       "        vertical-align: middle;\n",
       "    }\n",
       "\n",
       "    .dataframe tbody tr th {\n",
       "        vertical-align: top;\n",
       "    }\n",
       "\n",
       "    .dataframe thead th {\n",
       "        text-align: right;\n",
       "    }\n",
       "</style>\n",
       "<table border=\"1\" class=\"dataframe\">\n",
       "  <thead>\n",
       "    <tr style=\"text-align: right;\">\n",
       "      <th></th>\n",
       "      <th>voter</th>\n",
       "      <th>0xGen STIP Proposal - Round 1</th>\n",
       "      <th>AIP 1.05: Return 700M $ARB to the DAO Treasury [REAL]</th>\n",
       "      <th>AIP-1.1 - Lockup, Budget, Transparency</th>\n",
       "      <th>AIP-1.2 - Foundation and DAO Governance</th>\n",
       "      <th>AIP-1: Arbitrum Improvement Proposal Framework</th>\n",
       "      <th>ALAYA STIP Proposal - Round 1</th>\n",
       "      <th>Abracadabra DAO STIP Proposal - Round 1</th>\n",
       "      <th>Accelerating Arbitrum - leveraging Camelot as an ecosystem hub to support native builders</th>\n",
       "      <th>Angle Protocol STIP Proposal - Round 1</th>\n",
       "      <th>...</th>\n",
       "      <th>ZKasino STIP Proposal - Round 1</th>\n",
       "      <th>[Non-Constitutional] Fund the Arbitrum Grants Framework Proposal Milestone 1</th>\n",
       "      <th>[Non-Constitutional]: Arbitrum Stable Treasury Endowment Program</th>\n",
       "      <th>dForce STIP Proposal - Round 1</th>\n",
       "      <th>iZUMi STIP Proposal - Round 1</th>\n",
       "      <th>tBTC STIP Proposal - Round 1</th>\n",
       "      <th>unshETH STIP Proposal - Round 1</th>\n",
       "      <th>proposals_voted_for</th>\n",
       "      <th>total_voting_power</th>\n",
       "      <th>average_voting_power</th>\n",
       "    </tr>\n",
       "  </thead>\n",
       "  <tbody>\n",
       "    <tr>\n",
       "      <th>24895</th>\n",
       "      <td>0x0eB5B03c0303f2F47cD81d7BE4275AF8Ed347576</td>\n",
       "      <td>2.755511e+07</td>\n",
       "      <td>2.127950e+07</td>\n",
       "      <td>2.027193e+07</td>\n",
       "      <td>2.027346e+07</td>\n",
       "      <td>2.129914e+07</td>\n",
       "      <td>2.755511e+07</td>\n",
       "      <td>2.755511e+07</td>\n",
       "      <td>2.995473e+07</td>\n",
       "      <td>2.755511e+07</td>\n",
       "      <td>...</td>\n",
       "      <td>2.755511e+07</td>\n",
       "      <td>0.0</td>\n",
       "      <td>2.278913e+07</td>\n",
       "      <td>2.755511e+07</td>\n",
       "      <td>2.755511e+07</td>\n",
       "      <td>2.755511e+07</td>\n",
       "      <td>2.755511e+07</td>\n",
       "      <td>108</td>\n",
       "      <td>2.944637e+09</td>\n",
       "      <td>2.726515e+07</td>\n",
       "    </tr>\n",
       "  </tbody>\n",
       "</table>\n",
       "<p>1 rows × 118 columns</p>\n",
       "</div>"
      ],
      "text/plain": [
       "                                            voter  \\\n",
       "24895  0x0eB5B03c0303f2F47cD81d7BE4275AF8Ed347576   \n",
       "\n",
       "       0xGen STIP Proposal - Round 1  \\\n",
       "24895                   2.755511e+07   \n",
       "\n",
       "       AIP 1.05: Return 700M $ARB to the DAO Treasury [REAL]  \\\n",
       "24895                                       2.127950e+07       \n",
       "\n",
       "       AIP-1.1 - Lockup, Budget, Transparency  \\\n",
       "24895                            2.027193e+07   \n",
       "\n",
       "       AIP-1.2 - Foundation and DAO Governance  \\\n",
       "24895                             2.027346e+07   \n",
       "\n",
       "       AIP-1: Arbitrum Improvement Proposal Framework  \\\n",
       "24895                                    2.129914e+07   \n",
       "\n",
       "       ALAYA STIP Proposal - Round 1  Abracadabra DAO STIP Proposal - Round 1  \\\n",
       "24895                   2.755511e+07                             2.755511e+07   \n",
       "\n",
       "       Accelerating Arbitrum - leveraging Camelot as an ecosystem hub to support native builders  \\\n",
       "24895                                       2.995473e+07                                           \n",
       "\n",
       "       Angle Protocol STIP Proposal - Round 1  ...  \\\n",
       "24895                            2.755511e+07  ...   \n",
       "\n",
       "       ZKasino STIP Proposal - Round 1  \\\n",
       "24895                     2.755511e+07   \n",
       "\n",
       "       [Non-Constitutional] Fund the Arbitrum Grants Framework Proposal Milestone 1  \\\n",
       "24895                                                0.0                              \n",
       "\n",
       "       [Non-Constitutional]: Arbitrum Stable Treasury Endowment Program  \\\n",
       "24895                                       2.278913e+07                  \n",
       "\n",
       "       dForce STIP Proposal - Round 1  iZUMi STIP Proposal - Round 1  \\\n",
       "24895                    2.755511e+07                   2.755511e+07   \n",
       "\n",
       "       tBTC STIP Proposal - Round 1  unshETH STIP Proposal - Round 1  \\\n",
       "24895                  2.755511e+07                     2.755511e+07   \n",
       "\n",
       "       proposals_voted_for  total_voting_power  average_voting_power  \n",
       "24895                  108        2.944637e+09          2.726515e+07  \n",
       "\n",
       "[1 rows x 118 columns]"
      ]
     },
     "execution_count": 17,
     "metadata": {},
     "output_type": "execute_result"
    }
   ],
   "source": [
    "result_df[result_df['total_voting_power'] == 2944636576.9564233]"
   ]
  },
  {
   "cell_type": "code",
   "execution_count": 18,
   "metadata": {},
   "outputs": [
    {
     "name": "stdout",
     "output_type": "stream",
     "text": [
      "Summary Statistics:\n",
      "count    1.442660e+05\n",
      "mean     2.096475e+03\n",
      "std      1.328660e+05\n",
      "min      1.000000e+00\n",
      "25%      2.137498e+00\n",
      "50%      6.000000e+00\n",
      "75%      5.123961e+01\n",
      "max      2.726515e+07\n",
      "Name: average_voting_power, dtype: float64\n"
     ]
    }
   ],
   "source": [
    "# Summary statistics\n",
    "summary_stats = result_df['average_voting_power'].describe()\n",
    "print(\"Summary Statistics:\")\n",
    "print(summary_stats)"
   ]
  },
  {
   "cell_type": "code",
   "execution_count": 19,
   "metadata": {},
   "outputs": [],
   "source": [
    "# # Create an interactive KDE plot using Plotly\n",
    "# fig = px.histogram(result_df, x='average_voting_power', marginal='rug', nbins=20, opacity=0.7)\n",
    "\n",
    "# # Calculate mean and median\n",
    "# mean_val = result_df['average_voting_power'].mean()\n",
    "\n",
    "# # Add vertical lines for mean and median\n",
    "# fig.add_vline(x=mean_val, line_dash=\"solid\", line_color=\"green\", annotation_text=f\"Mean: {mean_val:.2f}\")\n",
    "\n",
    "# fig.update_layout(\n",
    "#     title='Interactive KDE Plot of Voting Power with Mean',\n",
    "#     xaxis_title='Average Voting Power',\n",
    "#     yaxis_title='Density',\n",
    "#     bargap=0.1,\n",
    "#     showlegend=False\n",
    "# )\n",
    "# fig.show()\n",
    "# fig.write_html(r'Graphs\\avg-power-dis.html')"
   ]
  },
  {
   "cell_type": "markdown",
   "metadata": {},
   "source": [
    "## Identifying the outliers"
   ]
  },
  {
   "cell_type": "code",
   "execution_count": 20,
   "metadata": {},
   "outputs": [
    {
     "name": "stdout",
     "output_type": "stream",
     "text": [
      "Identified Outliers:\n"
     ]
    },
    {
     "data": {
      "text/html": [
       "<div>\n",
       "<style scoped>\n",
       "    .dataframe tbody tr th:only-of-type {\n",
       "        vertical-align: middle;\n",
       "    }\n",
       "\n",
       "    .dataframe tbody tr th {\n",
       "        vertical-align: top;\n",
       "    }\n",
       "\n",
       "    .dataframe thead th {\n",
       "        text-align: right;\n",
       "    }\n",
       "</style>\n",
       "<table border=\"1\" class=\"dataframe\">\n",
       "  <thead>\n",
       "    <tr style=\"text-align: right;\">\n",
       "      <th></th>\n",
       "      <th>voter</th>\n",
       "      <th>0xGen STIP Proposal - Round 1</th>\n",
       "      <th>AIP 1.05: Return 700M $ARB to the DAO Treasury [REAL]</th>\n",
       "      <th>AIP-1.1 - Lockup, Budget, Transparency</th>\n",
       "      <th>AIP-1.2 - Foundation and DAO Governance</th>\n",
       "      <th>AIP-1: Arbitrum Improvement Proposal Framework</th>\n",
       "      <th>ALAYA STIP Proposal - Round 1</th>\n",
       "      <th>Abracadabra DAO STIP Proposal - Round 1</th>\n",
       "      <th>Accelerating Arbitrum - leveraging Camelot as an ecosystem hub to support native builders</th>\n",
       "      <th>Angle Protocol STIP Proposal - Round 1</th>\n",
       "      <th>...</th>\n",
       "      <th>ZKasino STIP Proposal - Round 1</th>\n",
       "      <th>[Non-Constitutional] Fund the Arbitrum Grants Framework Proposal Milestone 1</th>\n",
       "      <th>[Non-Constitutional]: Arbitrum Stable Treasury Endowment Program</th>\n",
       "      <th>dForce STIP Proposal - Round 1</th>\n",
       "      <th>iZUMi STIP Proposal - Round 1</th>\n",
       "      <th>tBTC STIP Proposal - Round 1</th>\n",
       "      <th>unshETH STIP Proposal - Round 1</th>\n",
       "      <th>proposals_voted_for</th>\n",
       "      <th>total_voting_power</th>\n",
       "      <th>average_voting_power</th>\n",
       "    </tr>\n",
       "  </thead>\n",
       "  <tbody>\n",
       "    <tr>\n",
       "      <th>1</th>\n",
       "      <td>0x157F41B3B83A8E41354A2393C4E6AB6702C0e7d9</td>\n",
       "      <td>1200.045368</td>\n",
       "      <td>3999.045368</td>\n",
       "      <td>3999.045368</td>\n",
       "      <td>3999.045368</td>\n",
       "      <td>3000.000</td>\n",
       "      <td>1200.045368</td>\n",
       "      <td>1200.045368</td>\n",
       "      <td>1200.045368</td>\n",
       "      <td>1200.045368</td>\n",
       "      <td>...</td>\n",
       "      <td>1200.045368</td>\n",
       "      <td>0.00</td>\n",
       "      <td>700.042374</td>\n",
       "      <td>1200.045368</td>\n",
       "      <td>1200.045368</td>\n",
       "      <td>1200.045368</td>\n",
       "      <td>1200.045368</td>\n",
       "      <td>112</td>\n",
       "      <td>144214.023925</td>\n",
       "      <td>1287.625214</td>\n",
       "    </tr>\n",
       "    <tr>\n",
       "      <th>11</th>\n",
       "      <td>0x1be32718D0e44B0140FaC069bDE714e4aC920d90</td>\n",
       "      <td>0.000000</td>\n",
       "      <td>1875.000000</td>\n",
       "      <td>1875.000000</td>\n",
       "      <td>1875.000000</td>\n",
       "      <td>1875.000</td>\n",
       "      <td>48.280000</td>\n",
       "      <td>0.000000</td>\n",
       "      <td>75.780000</td>\n",
       "      <td>48.280000</td>\n",
       "      <td>...</td>\n",
       "      <td>48.280000</td>\n",
       "      <td>75.78</td>\n",
       "      <td>48.303907</td>\n",
       "      <td>0.000000</td>\n",
       "      <td>48.280000</td>\n",
       "      <td>48.280000</td>\n",
       "      <td>0.000000</td>\n",
       "      <td>83</td>\n",
       "      <td>11599.655629</td>\n",
       "      <td>139.754887</td>\n",
       "    </tr>\n",
       "    <tr>\n",
       "      <th>31</th>\n",
       "      <td>0x2C2ca72774795929ce84fC6Ffde4A9bf47230895</td>\n",
       "      <td>0.000000</td>\n",
       "      <td>7170.000000</td>\n",
       "      <td>7170.000000</td>\n",
       "      <td>7170.000000</td>\n",
       "      <td>3445.000</td>\n",
       "      <td>156.356585</td>\n",
       "      <td>0.000000</td>\n",
       "      <td>0.000000</td>\n",
       "      <td>156.356585</td>\n",
       "      <td>...</td>\n",
       "      <td>156.356585</td>\n",
       "      <td>0.00</td>\n",
       "      <td>4.352147</td>\n",
       "      <td>156.356585</td>\n",
       "      <td>156.356585</td>\n",
       "      <td>156.356585</td>\n",
       "      <td>0.000000</td>\n",
       "      <td>65</td>\n",
       "      <td>34204.034073</td>\n",
       "      <td>526.215909</td>\n",
       "    </tr>\n",
       "    <tr>\n",
       "      <th>33</th>\n",
       "      <td>0xd2eb12C78151d6c51932cDcF2462f80b464452CB</td>\n",
       "      <td>0.000000</td>\n",
       "      <td>0.000000</td>\n",
       "      <td>0.000000</td>\n",
       "      <td>0.000000</td>\n",
       "      <td>2250.000</td>\n",
       "      <td>0.000000</td>\n",
       "      <td>0.000000</td>\n",
       "      <td>0.000000</td>\n",
       "      <td>0.000000</td>\n",
       "      <td>...</td>\n",
       "      <td>0.000000</td>\n",
       "      <td>0.00</td>\n",
       "      <td>6.681291</td>\n",
       "      <td>0.000000</td>\n",
       "      <td>0.000000</td>\n",
       "      <td>0.000000</td>\n",
       "      <td>0.000000</td>\n",
       "      <td>2</td>\n",
       "      <td>2258.681291</td>\n",
       "      <td>1129.340646</td>\n",
       "    </tr>\n",
       "    <tr>\n",
       "      <th>35</th>\n",
       "      <td>0x75ddEE33eAddA49758F188E7fa84194e53222A70</td>\n",
       "      <td>0.000000</td>\n",
       "      <td>875.000000</td>\n",
       "      <td>875.000000</td>\n",
       "      <td>875.000000</td>\n",
       "      <td>0.000</td>\n",
       "      <td>0.000000</td>\n",
       "      <td>0.000000</td>\n",
       "      <td>875.000000</td>\n",
       "      <td>0.000000</td>\n",
       "      <td>...</td>\n",
       "      <td>0.000000</td>\n",
       "      <td>875.00</td>\n",
       "      <td>1999.961000</td>\n",
       "      <td>0.000000</td>\n",
       "      <td>0.000000</td>\n",
       "      <td>0.000000</td>\n",
       "      <td>0.000000</td>\n",
       "      <td>13</td>\n",
       "      <td>14762.883000</td>\n",
       "      <td>1135.606385</td>\n",
       "    </tr>\n",
       "    <tr>\n",
       "      <th>...</th>\n",
       "      <td>...</td>\n",
       "      <td>...</td>\n",
       "      <td>...</td>\n",
       "      <td>...</td>\n",
       "      <td>...</td>\n",
       "      <td>...</td>\n",
       "      <td>...</td>\n",
       "      <td>...</td>\n",
       "      <td>...</td>\n",
       "      <td>...</td>\n",
       "      <td>...</td>\n",
       "      <td>...</td>\n",
       "      <td>...</td>\n",
       "      <td>...</td>\n",
       "      <td>...</td>\n",
       "      <td>...</td>\n",
       "      <td>...</td>\n",
       "      <td>...</td>\n",
       "      <td>...</td>\n",
       "      <td>...</td>\n",
       "      <td>...</td>\n",
       "    </tr>\n",
       "    <tr>\n",
       "      <th>144258</th>\n",
       "      <td>0xb62cfE1F3E9EF4B43022656173Bf50489D74729a</td>\n",
       "      <td>0.000000</td>\n",
       "      <td>0.000000</td>\n",
       "      <td>0.000000</td>\n",
       "      <td>0.000000</td>\n",
       "      <td>800.006</td>\n",
       "      <td>0.000000</td>\n",
       "      <td>0.000000</td>\n",
       "      <td>0.000000</td>\n",
       "      <td>0.000000</td>\n",
       "      <td>...</td>\n",
       "      <td>0.000000</td>\n",
       "      <td>0.00</td>\n",
       "      <td>0.000000</td>\n",
       "      <td>0.000000</td>\n",
       "      <td>0.000000</td>\n",
       "      <td>0.000000</td>\n",
       "      <td>0.000000</td>\n",
       "      <td>1</td>\n",
       "      <td>801.006000</td>\n",
       "      <td>801.006000</td>\n",
       "    </tr>\n",
       "    <tr>\n",
       "      <th>144259</th>\n",
       "      <td>0x0008906cA2e1d42DFb6BbCDA7f9B709A0cFA8dfc</td>\n",
       "      <td>0.000000</td>\n",
       "      <td>0.000000</td>\n",
       "      <td>0.000000</td>\n",
       "      <td>0.000000</td>\n",
       "      <td>2650.000</td>\n",
       "      <td>0.000000</td>\n",
       "      <td>0.000000</td>\n",
       "      <td>0.000000</td>\n",
       "      <td>0.000000</td>\n",
       "      <td>...</td>\n",
       "      <td>0.000000</td>\n",
       "      <td>0.00</td>\n",
       "      <td>0.000000</td>\n",
       "      <td>0.000000</td>\n",
       "      <td>0.000000</td>\n",
       "      <td>0.000000</td>\n",
       "      <td>0.000000</td>\n",
       "      <td>1</td>\n",
       "      <td>2651.000000</td>\n",
       "      <td>2651.000000</td>\n",
       "    </tr>\n",
       "    <tr>\n",
       "      <th>144261</th>\n",
       "      <td>0x297d2B80728966F8B6aadE2f1A0016aD5E479084</td>\n",
       "      <td>0.000000</td>\n",
       "      <td>0.000000</td>\n",
       "      <td>0.000000</td>\n",
       "      <td>0.000000</td>\n",
       "      <td>18181.980</td>\n",
       "      <td>0.000000</td>\n",
       "      <td>0.000000</td>\n",
       "      <td>0.000000</td>\n",
       "      <td>0.000000</td>\n",
       "      <td>...</td>\n",
       "      <td>0.000000</td>\n",
       "      <td>0.00</td>\n",
       "      <td>0.000000</td>\n",
       "      <td>0.000000</td>\n",
       "      <td>0.000000</td>\n",
       "      <td>0.000000</td>\n",
       "      <td>0.000000</td>\n",
       "      <td>1</td>\n",
       "      <td>18182.980000</td>\n",
       "      <td>18182.980000</td>\n",
       "    </tr>\n",
       "    <tr>\n",
       "      <th>144262</th>\n",
       "      <td>0xc68BC30EC0847E856E19a621aA17C485f49e3c13</td>\n",
       "      <td>0.000000</td>\n",
       "      <td>0.000000</td>\n",
       "      <td>0.000000</td>\n",
       "      <td>0.000000</td>\n",
       "      <td>1250.000</td>\n",
       "      <td>0.000000</td>\n",
       "      <td>0.000000</td>\n",
       "      <td>0.000000</td>\n",
       "      <td>0.000000</td>\n",
       "      <td>...</td>\n",
       "      <td>0.000000</td>\n",
       "      <td>0.00</td>\n",
       "      <td>0.000000</td>\n",
       "      <td>0.000000</td>\n",
       "      <td>0.000000</td>\n",
       "      <td>0.000000</td>\n",
       "      <td>0.000000</td>\n",
       "      <td>1</td>\n",
       "      <td>1251.000000</td>\n",
       "      <td>1251.000000</td>\n",
       "    </tr>\n",
       "    <tr>\n",
       "      <th>144263</th>\n",
       "      <td>0x0569A2073A5C573d9D41010f801834ae9848Ca3b</td>\n",
       "      <td>0.000000</td>\n",
       "      <td>0.000000</td>\n",
       "      <td>0.000000</td>\n",
       "      <td>0.000000</td>\n",
       "      <td>2750.000</td>\n",
       "      <td>0.000000</td>\n",
       "      <td>0.000000</td>\n",
       "      <td>0.000000</td>\n",
       "      <td>0.000000</td>\n",
       "      <td>...</td>\n",
       "      <td>0.000000</td>\n",
       "      <td>0.00</td>\n",
       "      <td>0.000000</td>\n",
       "      <td>0.000000</td>\n",
       "      <td>0.000000</td>\n",
       "      <td>0.000000</td>\n",
       "      <td>0.000000</td>\n",
       "      <td>1</td>\n",
       "      <td>2751.000000</td>\n",
       "      <td>2751.000000</td>\n",
       "    </tr>\n",
       "  </tbody>\n",
       "</table>\n",
       "<p>24669 rows × 118 columns</p>\n",
       "</div>"
      ],
      "text/plain": [
       "                                             voter  \\\n",
       "1       0x157F41B3B83A8E41354A2393C4E6AB6702C0e7d9   \n",
       "11      0x1be32718D0e44B0140FaC069bDE714e4aC920d90   \n",
       "31      0x2C2ca72774795929ce84fC6Ffde4A9bf47230895   \n",
       "33      0xd2eb12C78151d6c51932cDcF2462f80b464452CB   \n",
       "35      0x75ddEE33eAddA49758F188E7fa84194e53222A70   \n",
       "...                                            ...   \n",
       "144258  0xb62cfE1F3E9EF4B43022656173Bf50489D74729a   \n",
       "144259  0x0008906cA2e1d42DFb6BbCDA7f9B709A0cFA8dfc   \n",
       "144261  0x297d2B80728966F8B6aadE2f1A0016aD5E479084   \n",
       "144262  0xc68BC30EC0847E856E19a621aA17C485f49e3c13   \n",
       "144263  0x0569A2073A5C573d9D41010f801834ae9848Ca3b   \n",
       "\n",
       "        0xGen STIP Proposal - Round 1  \\\n",
       "1                         1200.045368   \n",
       "11                           0.000000   \n",
       "31                           0.000000   \n",
       "33                           0.000000   \n",
       "35                           0.000000   \n",
       "...                               ...   \n",
       "144258                       0.000000   \n",
       "144259                       0.000000   \n",
       "144261                       0.000000   \n",
       "144262                       0.000000   \n",
       "144263                       0.000000   \n",
       "\n",
       "        AIP 1.05: Return 700M $ARB to the DAO Treasury [REAL]  \\\n",
       "1                                             3999.045368       \n",
       "11                                            1875.000000       \n",
       "31                                            7170.000000       \n",
       "33                                               0.000000       \n",
       "35                                             875.000000       \n",
       "...                                                   ...       \n",
       "144258                                           0.000000       \n",
       "144259                                           0.000000       \n",
       "144261                                           0.000000       \n",
       "144262                                           0.000000       \n",
       "144263                                           0.000000       \n",
       "\n",
       "        AIP-1.1 - Lockup, Budget, Transparency  \\\n",
       "1                                  3999.045368   \n",
       "11                                 1875.000000   \n",
       "31                                 7170.000000   \n",
       "33                                    0.000000   \n",
       "35                                  875.000000   \n",
       "...                                        ...   \n",
       "144258                                0.000000   \n",
       "144259                                0.000000   \n",
       "144261                                0.000000   \n",
       "144262                                0.000000   \n",
       "144263                                0.000000   \n",
       "\n",
       "        AIP-1.2 - Foundation and DAO Governance  \\\n",
       "1                                   3999.045368   \n",
       "11                                  1875.000000   \n",
       "31                                  7170.000000   \n",
       "33                                     0.000000   \n",
       "35                                   875.000000   \n",
       "...                                         ...   \n",
       "144258                                 0.000000   \n",
       "144259                                 0.000000   \n",
       "144261                                 0.000000   \n",
       "144262                                 0.000000   \n",
       "144263                                 0.000000   \n",
       "\n",
       "        AIP-1: Arbitrum Improvement Proposal Framework  \\\n",
       "1                                             3000.000   \n",
       "11                                            1875.000   \n",
       "31                                            3445.000   \n",
       "33                                            2250.000   \n",
       "35                                               0.000   \n",
       "...                                                ...   \n",
       "144258                                         800.006   \n",
       "144259                                        2650.000   \n",
       "144261                                       18181.980   \n",
       "144262                                        1250.000   \n",
       "144263                                        2750.000   \n",
       "\n",
       "        ALAYA STIP Proposal - Round 1  \\\n",
       "1                         1200.045368   \n",
       "11                          48.280000   \n",
       "31                         156.356585   \n",
       "33                           0.000000   \n",
       "35                           0.000000   \n",
       "...                               ...   \n",
       "144258                       0.000000   \n",
       "144259                       0.000000   \n",
       "144261                       0.000000   \n",
       "144262                       0.000000   \n",
       "144263                       0.000000   \n",
       "\n",
       "        Abracadabra DAO STIP Proposal - Round 1  \\\n",
       "1                                   1200.045368   \n",
       "11                                     0.000000   \n",
       "31                                     0.000000   \n",
       "33                                     0.000000   \n",
       "35                                     0.000000   \n",
       "...                                         ...   \n",
       "144258                                 0.000000   \n",
       "144259                                 0.000000   \n",
       "144261                                 0.000000   \n",
       "144262                                 0.000000   \n",
       "144263                                 0.000000   \n",
       "\n",
       "        Accelerating Arbitrum - leveraging Camelot as an ecosystem hub to support native builders  \\\n",
       "1                                             1200.045368                                           \n",
       "11                                              75.780000                                           \n",
       "31                                               0.000000                                           \n",
       "33                                               0.000000                                           \n",
       "35                                             875.000000                                           \n",
       "...                                                   ...                                           \n",
       "144258                                           0.000000                                           \n",
       "144259                                           0.000000                                           \n",
       "144261                                           0.000000                                           \n",
       "144262                                           0.000000                                           \n",
       "144263                                           0.000000                                           \n",
       "\n",
       "        Angle Protocol STIP Proposal - Round 1  ...  \\\n",
       "1                                  1200.045368  ...   \n",
       "11                                   48.280000  ...   \n",
       "31                                  156.356585  ...   \n",
       "33                                    0.000000  ...   \n",
       "35                                    0.000000  ...   \n",
       "...                                        ...  ...   \n",
       "144258                                0.000000  ...   \n",
       "144259                                0.000000  ...   \n",
       "144261                                0.000000  ...   \n",
       "144262                                0.000000  ...   \n",
       "144263                                0.000000  ...   \n",
       "\n",
       "        ZKasino STIP Proposal - Round 1  \\\n",
       "1                           1200.045368   \n",
       "11                            48.280000   \n",
       "31                           156.356585   \n",
       "33                             0.000000   \n",
       "35                             0.000000   \n",
       "...                                 ...   \n",
       "144258                         0.000000   \n",
       "144259                         0.000000   \n",
       "144261                         0.000000   \n",
       "144262                         0.000000   \n",
       "144263                         0.000000   \n",
       "\n",
       "        [Non-Constitutional] Fund the Arbitrum Grants Framework Proposal Milestone 1  \\\n",
       "1                                                    0.00                              \n",
       "11                                                  75.78                              \n",
       "31                                                   0.00                              \n",
       "33                                                   0.00                              \n",
       "35                                                 875.00                              \n",
       "...                                                   ...                              \n",
       "144258                                               0.00                              \n",
       "144259                                               0.00                              \n",
       "144261                                               0.00                              \n",
       "144262                                               0.00                              \n",
       "144263                                               0.00                              \n",
       "\n",
       "        [Non-Constitutional]: Arbitrum Stable Treasury Endowment Program  \\\n",
       "1                                              700.042374                  \n",
       "11                                              48.303907                  \n",
       "31                                               4.352147                  \n",
       "33                                               6.681291                  \n",
       "35                                            1999.961000                  \n",
       "...                                                   ...                  \n",
       "144258                                           0.000000                  \n",
       "144259                                           0.000000                  \n",
       "144261                                           0.000000                  \n",
       "144262                                           0.000000                  \n",
       "144263                                           0.000000                  \n",
       "\n",
       "        dForce STIP Proposal - Round 1  iZUMi STIP Proposal - Round 1  \\\n",
       "1                          1200.045368                    1200.045368   \n",
       "11                            0.000000                      48.280000   \n",
       "31                          156.356585                     156.356585   \n",
       "33                            0.000000                       0.000000   \n",
       "35                            0.000000                       0.000000   \n",
       "...                                ...                            ...   \n",
       "144258                        0.000000                       0.000000   \n",
       "144259                        0.000000                       0.000000   \n",
       "144261                        0.000000                       0.000000   \n",
       "144262                        0.000000                       0.000000   \n",
       "144263                        0.000000                       0.000000   \n",
       "\n",
       "        tBTC STIP Proposal - Round 1  unshETH STIP Proposal - Round 1  \\\n",
       "1                        1200.045368                      1200.045368   \n",
       "11                         48.280000                         0.000000   \n",
       "31                        156.356585                         0.000000   \n",
       "33                          0.000000                         0.000000   \n",
       "35                          0.000000                         0.000000   \n",
       "...                              ...                              ...   \n",
       "144258                      0.000000                         0.000000   \n",
       "144259                      0.000000                         0.000000   \n",
       "144261                      0.000000                         0.000000   \n",
       "144262                      0.000000                         0.000000   \n",
       "144263                      0.000000                         0.000000   \n",
       "\n",
       "        proposals_voted_for  total_voting_power  average_voting_power  \n",
       "1                       112       144214.023925           1287.625214  \n",
       "11                       83        11599.655629            139.754887  \n",
       "31                       65        34204.034073            526.215909  \n",
       "33                        2         2258.681291           1129.340646  \n",
       "35                       13        14762.883000           1135.606385  \n",
       "...                     ...                 ...                   ...  \n",
       "144258                    1          801.006000            801.006000  \n",
       "144259                    1         2651.000000           2651.000000  \n",
       "144261                    1        18182.980000          18182.980000  \n",
       "144262                    1         1251.000000           1251.000000  \n",
       "144263                    1         2751.000000           2751.000000  \n",
       "\n",
       "[24669 rows x 118 columns]"
      ]
     },
     "execution_count": 20,
     "metadata": {},
     "output_type": "execute_result"
    }
   ],
   "source": [
    "# Calculate quartiles and IQR\n",
    "Q1 = result_df['average_voting_power'].quantile(0.25)\n",
    "Q3 = result_df['average_voting_power'].quantile(0.75)\n",
    "IQR = Q3 - Q1\n",
    "\n",
    "# Define outlier threshold\n",
    "threshold = 1.5 * IQR\n",
    "\n",
    "# Identify outliers\n",
    "outliers = result_df[(result_df['average_voting_power'] < (Q1 - threshold)) | (result_df['average_voting_power'] > (Q3 + threshold))]\n",
    "\n",
    "print(\"Identified Outliers:\")\n",
    "outliers"
   ]
  },
  {
   "cell_type": "markdown",
   "metadata": {},
   "source": [
    "## Distribution of voters based on different ranges of voting power:"
   ]
  },
  {
   "cell_type": "markdown",
   "metadata": {},
   "source": [
    "### Bar Chart"
   ]
  },
  {
   "cell_type": "code",
   "execution_count": 21,
   "metadata": {},
   "outputs": [
    {
     "data": {
      "application/vnd.plotly.v1+json": {
       "config": {
        "plotlyServerURL": "https://plot.ly"
       },
       "data": [
        {
         "alignmentgroup": "True",
         "hovertemplate": "color=<100<br>Voting Power Range=%{x}<br>Number of Voters=%{y}<br>text=%{text}<extra></extra>",
         "legendgroup": "<100",
         "marker": {
          "color": "#636efa",
          "pattern": {
           "shape": ""
          }
         },
         "name": "<100",
         "offsetgroup": "<100",
         "orientation": "v",
         "showlegend": true,
         "text": [
          "79.09%"
         ],
         "textposition": "outside",
         "type": "bar",
         "x": [
          "<100"
         ],
         "xaxis": "x",
         "y": [
          114104
         ],
         "yaxis": "y"
        },
        {
         "alignmentgroup": "True",
         "hovertemplate": "color=100-500<br>Voting Power Range=%{x}<br>Number of Voters=%{y}<br>text=%{text}<extra></extra>",
         "legendgroup": "100-500",
         "marker": {
          "color": "#EF553B",
          "pattern": {
           "shape": ""
          }
         },
         "name": "100-500",
         "offsetgroup": "100-500",
         "orientation": "v",
         "showlegend": true,
         "text": [
          "9.7%"
         ],
         "textposition": "outside",
         "type": "bar",
         "x": [
          "100-500"
         ],
         "xaxis": "x",
         "y": [
          13995
         ],
         "yaxis": "y"
        },
        {
         "alignmentgroup": "True",
         "hovertemplate": "color=500-1K<br>Voting Power Range=%{x}<br>Number of Voters=%{y}<br>text=%{text}<extra></extra>",
         "legendgroup": "500-1K",
         "marker": {
          "color": "#00cc96",
          "pattern": {
           "shape": ""
          }
         },
         "name": "500-1K",
         "offsetgroup": "500-1K",
         "orientation": "v",
         "showlegend": true,
         "text": [
          "4.65%"
         ],
         "textposition": "outside",
         "type": "bar",
         "x": [
          "500-1K"
         ],
         "xaxis": "x",
         "y": [
          6703
         ],
         "yaxis": "y"
        },
        {
         "alignmentgroup": "True",
         "hovertemplate": "color=1K-10K<br>Voting Power Range=%{x}<br>Number of Voters=%{y}<br>text=%{text}<extra></extra>",
         "legendgroup": "1K-10K",
         "marker": {
          "color": "#ab63fa",
          "pattern": {
           "shape": ""
          }
         },
         "name": "1K-10K",
         "offsetgroup": "1K-10K",
         "orientation": "v",
         "showlegend": true,
         "text": [
          "6.24%"
         ],
         "textposition": "outside",
         "type": "bar",
         "x": [
          "1K-10K"
         ],
         "xaxis": "x",
         "y": [
          9002
         ],
         "yaxis": "y"
        },
        {
         "alignmentgroup": "True",
         "hovertemplate": "color=10K-100K<br>Voting Power Range=%{x}<br>Number of Voters=%{y}<br>text=%{text}<extra></extra>",
         "legendgroup": "10K-100K",
         "marker": {
          "color": "#FFA15A",
          "pattern": {
           "shape": ""
          }
         },
         "name": "10K-100K",
         "offsetgroup": "10K-100K",
         "orientation": "v",
         "showlegend": true,
         "text": [
          "0.23%"
         ],
         "textposition": "outside",
         "type": "bar",
         "x": [
          "10K-100K"
         ],
         "xaxis": "x",
         "y": [
          336
         ],
         "yaxis": "y"
        },
        {
         "alignmentgroup": "True",
         "hovertemplate": "color=100K-1M<br>Voting Power Range=%{x}<br>Number of Voters=%{y}<br>text=%{text}<extra></extra>",
         "legendgroup": "100K-1M",
         "marker": {
          "color": "#19d3f3",
          "pattern": {
           "shape": ""
          }
         },
         "name": "100K-1M",
         "offsetgroup": "100K-1M",
         "orientation": "v",
         "showlegend": true,
         "text": [
          "0.06%"
         ],
         "textposition": "outside",
         "type": "bar",
         "x": [
          "100K-1M"
         ],
         "xaxis": "x",
         "y": [
          84
         ],
         "yaxis": "y"
        },
        {
         "alignmentgroup": "True",
         "hovertemplate": "color=1M-10M<br>Voting Power Range=%{x}<br>Number of Voters=%{y}<br>text=%{text}<extra></extra>",
         "legendgroup": "1M-10M",
         "marker": {
          "color": "#FF6692",
          "pattern": {
           "shape": ""
          }
         },
         "name": "1M-10M",
         "offsetgroup": "1M-10M",
         "orientation": "v",
         "showlegend": true,
         "text": [
          "0.02%"
         ],
         "textposition": "outside",
         "type": "bar",
         "x": [
          "1M-10M"
         ],
         "xaxis": "x",
         "y": [
          34
         ],
         "yaxis": "y"
        },
        {
         "alignmentgroup": "True",
         "hovertemplate": "color=10M-30M<br>Voting Power Range=%{x}<br>Number of Voters=%{y}<br>text=%{text}<extra></extra>",
         "legendgroup": "10M-30M",
         "marker": {
          "color": "#B6E880",
          "pattern": {
           "shape": ""
          }
         },
         "name": "10M-30M",
         "offsetgroup": "10M-30M",
         "orientation": "v",
         "showlegend": true,
         "text": [
          "0.01%"
         ],
         "textposition": "outside",
         "type": "bar",
         "x": [
          "10M-30M"
         ],
         "xaxis": "x",
         "y": [
          8
         ],
         "yaxis": "y"
        }
       ],
       "layout": {
        "barmode": "relative",
        "legend": {
         "title": {
          "text": "color"
         },
         "tracegroupgap": 0
        },
        "template": {
         "data": {
          "bar": [
           {
            "error_x": {
             "color": "#2a3f5f"
            },
            "error_y": {
             "color": "#2a3f5f"
            },
            "marker": {
             "line": {
              "color": "#E5ECF6",
              "width": 0.5
             },
             "pattern": {
              "fillmode": "overlay",
              "size": 10,
              "solidity": 0.2
             }
            },
            "type": "bar"
           }
          ],
          "barpolar": [
           {
            "marker": {
             "line": {
              "color": "#E5ECF6",
              "width": 0.5
             },
             "pattern": {
              "fillmode": "overlay",
              "size": 10,
              "solidity": 0.2
             }
            },
            "type": "barpolar"
           }
          ],
          "carpet": [
           {
            "aaxis": {
             "endlinecolor": "#2a3f5f",
             "gridcolor": "white",
             "linecolor": "white",
             "minorgridcolor": "white",
             "startlinecolor": "#2a3f5f"
            },
            "baxis": {
             "endlinecolor": "#2a3f5f",
             "gridcolor": "white",
             "linecolor": "white",
             "minorgridcolor": "white",
             "startlinecolor": "#2a3f5f"
            },
            "type": "carpet"
           }
          ],
          "choropleth": [
           {
            "colorbar": {
             "outlinewidth": 0,
             "ticks": ""
            },
            "type": "choropleth"
           }
          ],
          "contour": [
           {
            "colorbar": {
             "outlinewidth": 0,
             "ticks": ""
            },
            "colorscale": [
             [
              0,
              "#0d0887"
             ],
             [
              0.1111111111111111,
              "#46039f"
             ],
             [
              0.2222222222222222,
              "#7201a8"
             ],
             [
              0.3333333333333333,
              "#9c179e"
             ],
             [
              0.4444444444444444,
              "#bd3786"
             ],
             [
              0.5555555555555556,
              "#d8576b"
             ],
             [
              0.6666666666666666,
              "#ed7953"
             ],
             [
              0.7777777777777778,
              "#fb9f3a"
             ],
             [
              0.8888888888888888,
              "#fdca26"
             ],
             [
              1,
              "#f0f921"
             ]
            ],
            "type": "contour"
           }
          ],
          "contourcarpet": [
           {
            "colorbar": {
             "outlinewidth": 0,
             "ticks": ""
            },
            "type": "contourcarpet"
           }
          ],
          "heatmap": [
           {
            "colorbar": {
             "outlinewidth": 0,
             "ticks": ""
            },
            "colorscale": [
             [
              0,
              "#0d0887"
             ],
             [
              0.1111111111111111,
              "#46039f"
             ],
             [
              0.2222222222222222,
              "#7201a8"
             ],
             [
              0.3333333333333333,
              "#9c179e"
             ],
             [
              0.4444444444444444,
              "#bd3786"
             ],
             [
              0.5555555555555556,
              "#d8576b"
             ],
             [
              0.6666666666666666,
              "#ed7953"
             ],
             [
              0.7777777777777778,
              "#fb9f3a"
             ],
             [
              0.8888888888888888,
              "#fdca26"
             ],
             [
              1,
              "#f0f921"
             ]
            ],
            "type": "heatmap"
           }
          ],
          "heatmapgl": [
           {
            "colorbar": {
             "outlinewidth": 0,
             "ticks": ""
            },
            "colorscale": [
             [
              0,
              "#0d0887"
             ],
             [
              0.1111111111111111,
              "#46039f"
             ],
             [
              0.2222222222222222,
              "#7201a8"
             ],
             [
              0.3333333333333333,
              "#9c179e"
             ],
             [
              0.4444444444444444,
              "#bd3786"
             ],
             [
              0.5555555555555556,
              "#d8576b"
             ],
             [
              0.6666666666666666,
              "#ed7953"
             ],
             [
              0.7777777777777778,
              "#fb9f3a"
             ],
             [
              0.8888888888888888,
              "#fdca26"
             ],
             [
              1,
              "#f0f921"
             ]
            ],
            "type": "heatmapgl"
           }
          ],
          "histogram": [
           {
            "marker": {
             "pattern": {
              "fillmode": "overlay",
              "size": 10,
              "solidity": 0.2
             }
            },
            "type": "histogram"
           }
          ],
          "histogram2d": [
           {
            "colorbar": {
             "outlinewidth": 0,
             "ticks": ""
            },
            "colorscale": [
             [
              0,
              "#0d0887"
             ],
             [
              0.1111111111111111,
              "#46039f"
             ],
             [
              0.2222222222222222,
              "#7201a8"
             ],
             [
              0.3333333333333333,
              "#9c179e"
             ],
             [
              0.4444444444444444,
              "#bd3786"
             ],
             [
              0.5555555555555556,
              "#d8576b"
             ],
             [
              0.6666666666666666,
              "#ed7953"
             ],
             [
              0.7777777777777778,
              "#fb9f3a"
             ],
             [
              0.8888888888888888,
              "#fdca26"
             ],
             [
              1,
              "#f0f921"
             ]
            ],
            "type": "histogram2d"
           }
          ],
          "histogram2dcontour": [
           {
            "colorbar": {
             "outlinewidth": 0,
             "ticks": ""
            },
            "colorscale": [
             [
              0,
              "#0d0887"
             ],
             [
              0.1111111111111111,
              "#46039f"
             ],
             [
              0.2222222222222222,
              "#7201a8"
             ],
             [
              0.3333333333333333,
              "#9c179e"
             ],
             [
              0.4444444444444444,
              "#bd3786"
             ],
             [
              0.5555555555555556,
              "#d8576b"
             ],
             [
              0.6666666666666666,
              "#ed7953"
             ],
             [
              0.7777777777777778,
              "#fb9f3a"
             ],
             [
              0.8888888888888888,
              "#fdca26"
             ],
             [
              1,
              "#f0f921"
             ]
            ],
            "type": "histogram2dcontour"
           }
          ],
          "mesh3d": [
           {
            "colorbar": {
             "outlinewidth": 0,
             "ticks": ""
            },
            "type": "mesh3d"
           }
          ],
          "parcoords": [
           {
            "line": {
             "colorbar": {
              "outlinewidth": 0,
              "ticks": ""
             }
            },
            "type": "parcoords"
           }
          ],
          "pie": [
           {
            "automargin": true,
            "type": "pie"
           }
          ],
          "scatter": [
           {
            "fillpattern": {
             "fillmode": "overlay",
             "size": 10,
             "solidity": 0.2
            },
            "type": "scatter"
           }
          ],
          "scatter3d": [
           {
            "line": {
             "colorbar": {
              "outlinewidth": 0,
              "ticks": ""
             }
            },
            "marker": {
             "colorbar": {
              "outlinewidth": 0,
              "ticks": ""
             }
            },
            "type": "scatter3d"
           }
          ],
          "scattercarpet": [
           {
            "marker": {
             "colorbar": {
              "outlinewidth": 0,
              "ticks": ""
             }
            },
            "type": "scattercarpet"
           }
          ],
          "scattergeo": [
           {
            "marker": {
             "colorbar": {
              "outlinewidth": 0,
              "ticks": ""
             }
            },
            "type": "scattergeo"
           }
          ],
          "scattergl": [
           {
            "marker": {
             "colorbar": {
              "outlinewidth": 0,
              "ticks": ""
             }
            },
            "type": "scattergl"
           }
          ],
          "scattermapbox": [
           {
            "marker": {
             "colorbar": {
              "outlinewidth": 0,
              "ticks": ""
             }
            },
            "type": "scattermapbox"
           }
          ],
          "scatterpolar": [
           {
            "marker": {
             "colorbar": {
              "outlinewidth": 0,
              "ticks": ""
             }
            },
            "type": "scatterpolar"
           }
          ],
          "scatterpolargl": [
           {
            "marker": {
             "colorbar": {
              "outlinewidth": 0,
              "ticks": ""
             }
            },
            "type": "scatterpolargl"
           }
          ],
          "scatterternary": [
           {
            "marker": {
             "colorbar": {
              "outlinewidth": 0,
              "ticks": ""
             }
            },
            "type": "scatterternary"
           }
          ],
          "surface": [
           {
            "colorbar": {
             "outlinewidth": 0,
             "ticks": ""
            },
            "colorscale": [
             [
              0,
              "#0d0887"
             ],
             [
              0.1111111111111111,
              "#46039f"
             ],
             [
              0.2222222222222222,
              "#7201a8"
             ],
             [
              0.3333333333333333,
              "#9c179e"
             ],
             [
              0.4444444444444444,
              "#bd3786"
             ],
             [
              0.5555555555555556,
              "#d8576b"
             ],
             [
              0.6666666666666666,
              "#ed7953"
             ],
             [
              0.7777777777777778,
              "#fb9f3a"
             ],
             [
              0.8888888888888888,
              "#fdca26"
             ],
             [
              1,
              "#f0f921"
             ]
            ],
            "type": "surface"
           }
          ],
          "table": [
           {
            "cells": {
             "fill": {
              "color": "#EBF0F8"
             },
             "line": {
              "color": "white"
             }
            },
            "header": {
             "fill": {
              "color": "#C8D4E3"
             },
             "line": {
              "color": "white"
             }
            },
            "type": "table"
           }
          ]
         },
         "layout": {
          "annotationdefaults": {
           "arrowcolor": "#2a3f5f",
           "arrowhead": 0,
           "arrowwidth": 1
          },
          "autotypenumbers": "strict",
          "coloraxis": {
           "colorbar": {
            "outlinewidth": 0,
            "ticks": ""
           }
          },
          "colorscale": {
           "diverging": [
            [
             0,
             "#8e0152"
            ],
            [
             0.1,
             "#c51b7d"
            ],
            [
             0.2,
             "#de77ae"
            ],
            [
             0.3,
             "#f1b6da"
            ],
            [
             0.4,
             "#fde0ef"
            ],
            [
             0.5,
             "#f7f7f7"
            ],
            [
             0.6,
             "#e6f5d0"
            ],
            [
             0.7,
             "#b8e186"
            ],
            [
             0.8,
             "#7fbc41"
            ],
            [
             0.9,
             "#4d9221"
            ],
            [
             1,
             "#276419"
            ]
           ],
           "sequential": [
            [
             0,
             "#0d0887"
            ],
            [
             0.1111111111111111,
             "#46039f"
            ],
            [
             0.2222222222222222,
             "#7201a8"
            ],
            [
             0.3333333333333333,
             "#9c179e"
            ],
            [
             0.4444444444444444,
             "#bd3786"
            ],
            [
             0.5555555555555556,
             "#d8576b"
            ],
            [
             0.6666666666666666,
             "#ed7953"
            ],
            [
             0.7777777777777778,
             "#fb9f3a"
            ],
            [
             0.8888888888888888,
             "#fdca26"
            ],
            [
             1,
             "#f0f921"
            ]
           ],
           "sequentialminus": [
            [
             0,
             "#0d0887"
            ],
            [
             0.1111111111111111,
             "#46039f"
            ],
            [
             0.2222222222222222,
             "#7201a8"
            ],
            [
             0.3333333333333333,
             "#9c179e"
            ],
            [
             0.4444444444444444,
             "#bd3786"
            ],
            [
             0.5555555555555556,
             "#d8576b"
            ],
            [
             0.6666666666666666,
             "#ed7953"
            ],
            [
             0.7777777777777778,
             "#fb9f3a"
            ],
            [
             0.8888888888888888,
             "#fdca26"
            ],
            [
             1,
             "#f0f921"
            ]
           ]
          },
          "colorway": [
           "#636efa",
           "#EF553B",
           "#00cc96",
           "#ab63fa",
           "#FFA15A",
           "#19d3f3",
           "#FF6692",
           "#B6E880",
           "#FF97FF",
           "#FECB52"
          ],
          "font": {
           "color": "#2a3f5f"
          },
          "geo": {
           "bgcolor": "white",
           "lakecolor": "white",
           "landcolor": "#E5ECF6",
           "showlakes": true,
           "showland": true,
           "subunitcolor": "white"
          },
          "hoverlabel": {
           "align": "left"
          },
          "hovermode": "closest",
          "mapbox": {
           "style": "light"
          },
          "paper_bgcolor": "white",
          "plot_bgcolor": "#E5ECF6",
          "polar": {
           "angularaxis": {
            "gridcolor": "white",
            "linecolor": "white",
            "ticks": ""
           },
           "bgcolor": "#E5ECF6",
           "radialaxis": {
            "gridcolor": "white",
            "linecolor": "white",
            "ticks": ""
           }
          },
          "scene": {
           "xaxis": {
            "backgroundcolor": "#E5ECF6",
            "gridcolor": "white",
            "gridwidth": 2,
            "linecolor": "white",
            "showbackground": true,
            "ticks": "",
            "zerolinecolor": "white"
           },
           "yaxis": {
            "backgroundcolor": "#E5ECF6",
            "gridcolor": "white",
            "gridwidth": 2,
            "linecolor": "white",
            "showbackground": true,
            "ticks": "",
            "zerolinecolor": "white"
           },
           "zaxis": {
            "backgroundcolor": "#E5ECF6",
            "gridcolor": "white",
            "gridwidth": 2,
            "linecolor": "white",
            "showbackground": true,
            "ticks": "",
            "zerolinecolor": "white"
           }
          },
          "shapedefaults": {
           "line": {
            "color": "#2a3f5f"
           }
          },
          "ternary": {
           "aaxis": {
            "gridcolor": "white",
            "linecolor": "white",
            "ticks": ""
           },
           "baxis": {
            "gridcolor": "white",
            "linecolor": "white",
            "ticks": ""
           },
           "bgcolor": "#E5ECF6",
           "caxis": {
            "gridcolor": "white",
            "linecolor": "white",
            "ticks": ""
           }
          },
          "title": {
           "x": 0.05
          },
          "xaxis": {
           "automargin": true,
           "gridcolor": "white",
           "linecolor": "white",
           "ticks": "",
           "title": {
            "standoff": 15
           },
           "zerolinecolor": "white",
           "zerolinewidth": 2
          },
          "yaxis": {
           "automargin": true,
           "gridcolor": "white",
           "linecolor": "white",
           "ticks": "",
           "title": {
            "standoff": 15
           },
           "zerolinecolor": "white",
           "zerolinewidth": 2
          }
         }
        },
        "title": {
         "text": "Distribution of Voters Based on Voting Power"
        },
        "xaxis": {
         "anchor": "y",
         "categoryorder": "total descending",
         "domain": [
          0,
          1
         ],
         "title": {
          "text": "Voting Power Range"
         }
        },
        "yaxis": {
         "anchor": "x",
         "domain": [
          0,
          1
         ],
         "showgrid": true,
         "title": {
          "text": "Number of Voters"
         }
        }
       }
      }
     },
     "metadata": {},
     "output_type": "display_data"
    }
   ],
   "source": [
    "# Define ranges for voting power bins\n",
    "bins = [0, 100, 500, 1000, 10000, 100000, 1000000, 10000000, 30000000]  # Define bins up to the maximum count of average voting power\n",
    "\n",
    "# Bin voters based on average voting power\n",
    "result_df['voting_power_bin'] = pd.cut(result_df['average_voting_power'], bins=bins, \n",
    "                                       labels=['<100', '100-500', '500-1K', '1K-10K', '10K-100K', '100K-1M', '1M-10M', '10M-30M'])\n",
    "\n",
    "# Count the number of voters in each bin\n",
    "bin_counts = result_df['voting_power_bin'].value_counts().sort_index()\n",
    "\n",
    "# Calculate percentages\n",
    "percentages = (bin_counts / bin_counts.sum()) * 100\n",
    "\n",
    "# Plot an interactive bar chart to visualize the distribution of voters across bins\n",
    "fig = px.bar(x=bin_counts.index, y=bin_counts.values, color=bin_counts.index, labels={'x': 'Voting Power Range', 'y': 'Number of Voters'}, \n",
    "             title='Distribution of Voters Based on Voting Power', text=percentages.round(2).astype(str) + '%')\n",
    "\n",
    "fig.update_traces(textposition='outside')\n",
    "\n",
    "fig.update_layout(xaxis={'categoryorder':'total descending'}, \n",
    "                  yaxis_title='Number of Voters',\n",
    "                  xaxis_title='Voting Power Range',\n",
    "                  yaxis=dict(showgrid=True))\n",
    "\n",
    "fig.show()\n",
    "fig.write_html(r'Graphs\\voting-power-ranges-bar.html')"
   ]
  },
  {
   "cell_type": "markdown",
   "metadata": {},
   "source": [
    "### Pie Chart"
   ]
  },
  {
   "cell_type": "code",
   "execution_count": 22,
   "metadata": {},
   "outputs": [
    {
     "data": {
      "application/vnd.plotly.v1+json": {
       "config": {
        "plotlyServerURL": "https://plot.ly"
       },
       "data": [
        {
         "domain": {
          "x": [
           0,
           1
          ],
          "y": [
           0,
           1
          ]
         },
         "hovertemplate": "label=%{label}<br>value=%{value}<extra></extra>",
         "labels": [
          "<100",
          "100-500",
          "500-1K",
          "1K-10K",
          "10K-100K",
          "100K-1M",
          "1M-30M"
         ],
         "legendgroup": "",
         "name": "",
         "showlegend": true,
         "textinfo": "percent+label",
         "type": "pie",
         "values": [
          114104,
          13995,
          6703,
          9002,
          336,
          84,
          42
         ]
        }
       ],
       "layout": {
        "legend": {
         "tracegroupgap": 0
        },
        "template": {
         "data": {
          "bar": [
           {
            "error_x": {
             "color": "#2a3f5f"
            },
            "error_y": {
             "color": "#2a3f5f"
            },
            "marker": {
             "line": {
              "color": "#E5ECF6",
              "width": 0.5
             },
             "pattern": {
              "fillmode": "overlay",
              "size": 10,
              "solidity": 0.2
             }
            },
            "type": "bar"
           }
          ],
          "barpolar": [
           {
            "marker": {
             "line": {
              "color": "#E5ECF6",
              "width": 0.5
             },
             "pattern": {
              "fillmode": "overlay",
              "size": 10,
              "solidity": 0.2
             }
            },
            "type": "barpolar"
           }
          ],
          "carpet": [
           {
            "aaxis": {
             "endlinecolor": "#2a3f5f",
             "gridcolor": "white",
             "linecolor": "white",
             "minorgridcolor": "white",
             "startlinecolor": "#2a3f5f"
            },
            "baxis": {
             "endlinecolor": "#2a3f5f",
             "gridcolor": "white",
             "linecolor": "white",
             "minorgridcolor": "white",
             "startlinecolor": "#2a3f5f"
            },
            "type": "carpet"
           }
          ],
          "choropleth": [
           {
            "colorbar": {
             "outlinewidth": 0,
             "ticks": ""
            },
            "type": "choropleth"
           }
          ],
          "contour": [
           {
            "colorbar": {
             "outlinewidth": 0,
             "ticks": ""
            },
            "colorscale": [
             [
              0,
              "#0d0887"
             ],
             [
              0.1111111111111111,
              "#46039f"
             ],
             [
              0.2222222222222222,
              "#7201a8"
             ],
             [
              0.3333333333333333,
              "#9c179e"
             ],
             [
              0.4444444444444444,
              "#bd3786"
             ],
             [
              0.5555555555555556,
              "#d8576b"
             ],
             [
              0.6666666666666666,
              "#ed7953"
             ],
             [
              0.7777777777777778,
              "#fb9f3a"
             ],
             [
              0.8888888888888888,
              "#fdca26"
             ],
             [
              1,
              "#f0f921"
             ]
            ],
            "type": "contour"
           }
          ],
          "contourcarpet": [
           {
            "colorbar": {
             "outlinewidth": 0,
             "ticks": ""
            },
            "type": "contourcarpet"
           }
          ],
          "heatmap": [
           {
            "colorbar": {
             "outlinewidth": 0,
             "ticks": ""
            },
            "colorscale": [
             [
              0,
              "#0d0887"
             ],
             [
              0.1111111111111111,
              "#46039f"
             ],
             [
              0.2222222222222222,
              "#7201a8"
             ],
             [
              0.3333333333333333,
              "#9c179e"
             ],
             [
              0.4444444444444444,
              "#bd3786"
             ],
             [
              0.5555555555555556,
              "#d8576b"
             ],
             [
              0.6666666666666666,
              "#ed7953"
             ],
             [
              0.7777777777777778,
              "#fb9f3a"
             ],
             [
              0.8888888888888888,
              "#fdca26"
             ],
             [
              1,
              "#f0f921"
             ]
            ],
            "type": "heatmap"
           }
          ],
          "heatmapgl": [
           {
            "colorbar": {
             "outlinewidth": 0,
             "ticks": ""
            },
            "colorscale": [
             [
              0,
              "#0d0887"
             ],
             [
              0.1111111111111111,
              "#46039f"
             ],
             [
              0.2222222222222222,
              "#7201a8"
             ],
             [
              0.3333333333333333,
              "#9c179e"
             ],
             [
              0.4444444444444444,
              "#bd3786"
             ],
             [
              0.5555555555555556,
              "#d8576b"
             ],
             [
              0.6666666666666666,
              "#ed7953"
             ],
             [
              0.7777777777777778,
              "#fb9f3a"
             ],
             [
              0.8888888888888888,
              "#fdca26"
             ],
             [
              1,
              "#f0f921"
             ]
            ],
            "type": "heatmapgl"
           }
          ],
          "histogram": [
           {
            "marker": {
             "pattern": {
              "fillmode": "overlay",
              "size": 10,
              "solidity": 0.2
             }
            },
            "type": "histogram"
           }
          ],
          "histogram2d": [
           {
            "colorbar": {
             "outlinewidth": 0,
             "ticks": ""
            },
            "colorscale": [
             [
              0,
              "#0d0887"
             ],
             [
              0.1111111111111111,
              "#46039f"
             ],
             [
              0.2222222222222222,
              "#7201a8"
             ],
             [
              0.3333333333333333,
              "#9c179e"
             ],
             [
              0.4444444444444444,
              "#bd3786"
             ],
             [
              0.5555555555555556,
              "#d8576b"
             ],
             [
              0.6666666666666666,
              "#ed7953"
             ],
             [
              0.7777777777777778,
              "#fb9f3a"
             ],
             [
              0.8888888888888888,
              "#fdca26"
             ],
             [
              1,
              "#f0f921"
             ]
            ],
            "type": "histogram2d"
           }
          ],
          "histogram2dcontour": [
           {
            "colorbar": {
             "outlinewidth": 0,
             "ticks": ""
            },
            "colorscale": [
             [
              0,
              "#0d0887"
             ],
             [
              0.1111111111111111,
              "#46039f"
             ],
             [
              0.2222222222222222,
              "#7201a8"
             ],
             [
              0.3333333333333333,
              "#9c179e"
             ],
             [
              0.4444444444444444,
              "#bd3786"
             ],
             [
              0.5555555555555556,
              "#d8576b"
             ],
             [
              0.6666666666666666,
              "#ed7953"
             ],
             [
              0.7777777777777778,
              "#fb9f3a"
             ],
             [
              0.8888888888888888,
              "#fdca26"
             ],
             [
              1,
              "#f0f921"
             ]
            ],
            "type": "histogram2dcontour"
           }
          ],
          "mesh3d": [
           {
            "colorbar": {
             "outlinewidth": 0,
             "ticks": ""
            },
            "type": "mesh3d"
           }
          ],
          "parcoords": [
           {
            "line": {
             "colorbar": {
              "outlinewidth": 0,
              "ticks": ""
             }
            },
            "type": "parcoords"
           }
          ],
          "pie": [
           {
            "automargin": true,
            "type": "pie"
           }
          ],
          "scatter": [
           {
            "fillpattern": {
             "fillmode": "overlay",
             "size": 10,
             "solidity": 0.2
            },
            "type": "scatter"
           }
          ],
          "scatter3d": [
           {
            "line": {
             "colorbar": {
              "outlinewidth": 0,
              "ticks": ""
             }
            },
            "marker": {
             "colorbar": {
              "outlinewidth": 0,
              "ticks": ""
             }
            },
            "type": "scatter3d"
           }
          ],
          "scattercarpet": [
           {
            "marker": {
             "colorbar": {
              "outlinewidth": 0,
              "ticks": ""
             }
            },
            "type": "scattercarpet"
           }
          ],
          "scattergeo": [
           {
            "marker": {
             "colorbar": {
              "outlinewidth": 0,
              "ticks": ""
             }
            },
            "type": "scattergeo"
           }
          ],
          "scattergl": [
           {
            "marker": {
             "colorbar": {
              "outlinewidth": 0,
              "ticks": ""
             }
            },
            "type": "scattergl"
           }
          ],
          "scattermapbox": [
           {
            "marker": {
             "colorbar": {
              "outlinewidth": 0,
              "ticks": ""
             }
            },
            "type": "scattermapbox"
           }
          ],
          "scatterpolar": [
           {
            "marker": {
             "colorbar": {
              "outlinewidth": 0,
              "ticks": ""
             }
            },
            "type": "scatterpolar"
           }
          ],
          "scatterpolargl": [
           {
            "marker": {
             "colorbar": {
              "outlinewidth": 0,
              "ticks": ""
             }
            },
            "type": "scatterpolargl"
           }
          ],
          "scatterternary": [
           {
            "marker": {
             "colorbar": {
              "outlinewidth": 0,
              "ticks": ""
             }
            },
            "type": "scatterternary"
           }
          ],
          "surface": [
           {
            "colorbar": {
             "outlinewidth": 0,
             "ticks": ""
            },
            "colorscale": [
             [
              0,
              "#0d0887"
             ],
             [
              0.1111111111111111,
              "#46039f"
             ],
             [
              0.2222222222222222,
              "#7201a8"
             ],
             [
              0.3333333333333333,
              "#9c179e"
             ],
             [
              0.4444444444444444,
              "#bd3786"
             ],
             [
              0.5555555555555556,
              "#d8576b"
             ],
             [
              0.6666666666666666,
              "#ed7953"
             ],
             [
              0.7777777777777778,
              "#fb9f3a"
             ],
             [
              0.8888888888888888,
              "#fdca26"
             ],
             [
              1,
              "#f0f921"
             ]
            ],
            "type": "surface"
           }
          ],
          "table": [
           {
            "cells": {
             "fill": {
              "color": "#EBF0F8"
             },
             "line": {
              "color": "white"
             }
            },
            "header": {
             "fill": {
              "color": "#C8D4E3"
             },
             "line": {
              "color": "white"
             }
            },
            "type": "table"
           }
          ]
         },
         "layout": {
          "annotationdefaults": {
           "arrowcolor": "#2a3f5f",
           "arrowhead": 0,
           "arrowwidth": 1
          },
          "autotypenumbers": "strict",
          "coloraxis": {
           "colorbar": {
            "outlinewidth": 0,
            "ticks": ""
           }
          },
          "colorscale": {
           "diverging": [
            [
             0,
             "#8e0152"
            ],
            [
             0.1,
             "#c51b7d"
            ],
            [
             0.2,
             "#de77ae"
            ],
            [
             0.3,
             "#f1b6da"
            ],
            [
             0.4,
             "#fde0ef"
            ],
            [
             0.5,
             "#f7f7f7"
            ],
            [
             0.6,
             "#e6f5d0"
            ],
            [
             0.7,
             "#b8e186"
            ],
            [
             0.8,
             "#7fbc41"
            ],
            [
             0.9,
             "#4d9221"
            ],
            [
             1,
             "#276419"
            ]
           ],
           "sequential": [
            [
             0,
             "#0d0887"
            ],
            [
             0.1111111111111111,
             "#46039f"
            ],
            [
             0.2222222222222222,
             "#7201a8"
            ],
            [
             0.3333333333333333,
             "#9c179e"
            ],
            [
             0.4444444444444444,
             "#bd3786"
            ],
            [
             0.5555555555555556,
             "#d8576b"
            ],
            [
             0.6666666666666666,
             "#ed7953"
            ],
            [
             0.7777777777777778,
             "#fb9f3a"
            ],
            [
             0.8888888888888888,
             "#fdca26"
            ],
            [
             1,
             "#f0f921"
            ]
           ],
           "sequentialminus": [
            [
             0,
             "#0d0887"
            ],
            [
             0.1111111111111111,
             "#46039f"
            ],
            [
             0.2222222222222222,
             "#7201a8"
            ],
            [
             0.3333333333333333,
             "#9c179e"
            ],
            [
             0.4444444444444444,
             "#bd3786"
            ],
            [
             0.5555555555555556,
             "#d8576b"
            ],
            [
             0.6666666666666666,
             "#ed7953"
            ],
            [
             0.7777777777777778,
             "#fb9f3a"
            ],
            [
             0.8888888888888888,
             "#fdca26"
            ],
            [
             1,
             "#f0f921"
            ]
           ]
          },
          "colorway": [
           "#636efa",
           "#EF553B",
           "#00cc96",
           "#ab63fa",
           "#FFA15A",
           "#19d3f3",
           "#FF6692",
           "#B6E880",
           "#FF97FF",
           "#FECB52"
          ],
          "font": {
           "color": "#2a3f5f"
          },
          "geo": {
           "bgcolor": "white",
           "lakecolor": "white",
           "landcolor": "#E5ECF6",
           "showlakes": true,
           "showland": true,
           "subunitcolor": "white"
          },
          "hoverlabel": {
           "align": "left"
          },
          "hovermode": "closest",
          "mapbox": {
           "style": "light"
          },
          "paper_bgcolor": "white",
          "plot_bgcolor": "#E5ECF6",
          "polar": {
           "angularaxis": {
            "gridcolor": "white",
            "linecolor": "white",
            "ticks": ""
           },
           "bgcolor": "#E5ECF6",
           "radialaxis": {
            "gridcolor": "white",
            "linecolor": "white",
            "ticks": ""
           }
          },
          "scene": {
           "xaxis": {
            "backgroundcolor": "#E5ECF6",
            "gridcolor": "white",
            "gridwidth": 2,
            "linecolor": "white",
            "showbackground": true,
            "ticks": "",
            "zerolinecolor": "white"
           },
           "yaxis": {
            "backgroundcolor": "#E5ECF6",
            "gridcolor": "white",
            "gridwidth": 2,
            "linecolor": "white",
            "showbackground": true,
            "ticks": "",
            "zerolinecolor": "white"
           },
           "zaxis": {
            "backgroundcolor": "#E5ECF6",
            "gridcolor": "white",
            "gridwidth": 2,
            "linecolor": "white",
            "showbackground": true,
            "ticks": "",
            "zerolinecolor": "white"
           }
          },
          "shapedefaults": {
           "line": {
            "color": "#2a3f5f"
           }
          },
          "ternary": {
           "aaxis": {
            "gridcolor": "white",
            "linecolor": "white",
            "ticks": ""
           },
           "baxis": {
            "gridcolor": "white",
            "linecolor": "white",
            "ticks": ""
           },
           "bgcolor": "#E5ECF6",
           "caxis": {
            "gridcolor": "white",
            "linecolor": "white",
            "ticks": ""
           }
          },
          "title": {
           "x": 0.05
          },
          "xaxis": {
           "automargin": true,
           "gridcolor": "white",
           "linecolor": "white",
           "ticks": "",
           "title": {
            "standoff": 15
           },
           "zerolinecolor": "white",
           "zerolinewidth": 2
          },
          "yaxis": {
           "automargin": true,
           "gridcolor": "white",
           "linecolor": "white",
           "ticks": "",
           "title": {
            "standoff": 15
           },
           "zerolinecolor": "white",
           "zerolinewidth": 2
          }
         }
        },
        "title": {
         "text": "Distribution of Voters Based on Voting Power"
        }
       }
      }
     },
     "metadata": {},
     "output_type": "display_data"
    }
   ],
   "source": [
    "# Define ranges for voting power bins\n",
    "bins = [0, 100, 500, 1000, 10000, 100000, 1000000, 30000000]  # Define bins up to the maximum count of average voting power\n",
    "\n",
    "# Bin voters based on average voting power\n",
    "result_df['voting_power_bin'] = pd.cut(result_df['average_voting_power'], bins=bins, \n",
    "                                       labels=['<100', '100-500', '500-1K', '1K-10K', '10K-100K', '100K-1M', '1M-30M'])\n",
    "\n",
    "# Count the number of voters in each bin\n",
    "bin_counts = result_df['voting_power_bin'].value_counts().sort_index()\n",
    "\n",
    "# Calculate percentages\n",
    "percentages = round((bin_counts / bin_counts.sum()) * 100, 2)\n",
    "\n",
    "# Create a pie chart to visualize the distribution of voters across bins\n",
    "fig_pie = px.pie(names=bin_counts.index, values=bin_counts.values, \n",
    "                 title='Distribution of Voters Based on Voting Power')\n",
    "\n",
    "fig_pie.update_traces(textinfo='percent+label')\n",
    "\n",
    "fig_pie.show()\n",
    "fig_pie.write_html(r'Graphs\\voting-power-ranges-pie.html')"
   ]
  },
  {
   "cell_type": "code",
   "execution_count": 23,
   "metadata": {},
   "outputs": [
    {
     "name": "stdout",
     "output_type": "stream",
     "text": [
      "         Voting Power Range  Number of Voters  Percentage\n",
      "<100                   <100            114104       79.09\n",
      "100-500             100-500             13995        9.70\n",
      "500-1K               500-1K              6703        4.65\n",
      "1K-10K               1K-10K              9002        6.24\n",
      "10K-100K           10K-100K               336        0.23\n",
      "100K-1M             100K-1M                84        0.06\n",
      "1M-30M               1M-30M                42        0.03\n"
     ]
    }
   ],
   "source": [
    "# Create DataFrame to display counts\n",
    "df_counts = pd.DataFrame({'Voting Power Range': bin_counts.index, 'Number of Voters': bin_counts.values, 'Percentage': percentages})\n",
    "\n",
    "print(df_counts)"
   ]
  },
  {
   "cell_type": "code",
   "execution_count": 24,
   "metadata": {},
   "outputs": [
    {
     "data": {
      "application/vnd.plotly.v1+json": {
       "config": {
        "plotlyServerURL": "https://plot.ly"
       },
       "data": [
        {
         "text": [
          "18.05%",
          "32.04%",
          "24.66%",
          "25.25%",
          "0.0%"
         ],
         "type": "bar",
         "x": [
          "Bin 1",
          "Bin 2",
          "Bin 3",
          "Bin 4",
          "Bin 5"
         ],
         "y": [
          26046,
          46218,
          35581,
          36421,
          0
         ]
        }
       ],
       "layout": {
        "template": {
         "data": {
          "bar": [
           {
            "error_x": {
             "color": "#2a3f5f"
            },
            "error_y": {
             "color": "#2a3f5f"
            },
            "marker": {
             "line": {
              "color": "#E5ECF6",
              "width": 0.5
             },
             "pattern": {
              "fillmode": "overlay",
              "size": 10,
              "solidity": 0.2
             }
            },
            "type": "bar"
           }
          ],
          "barpolar": [
           {
            "marker": {
             "line": {
              "color": "#E5ECF6",
              "width": 0.5
             },
             "pattern": {
              "fillmode": "overlay",
              "size": 10,
              "solidity": 0.2
             }
            },
            "type": "barpolar"
           }
          ],
          "carpet": [
           {
            "aaxis": {
             "endlinecolor": "#2a3f5f",
             "gridcolor": "white",
             "linecolor": "white",
             "minorgridcolor": "white",
             "startlinecolor": "#2a3f5f"
            },
            "baxis": {
             "endlinecolor": "#2a3f5f",
             "gridcolor": "white",
             "linecolor": "white",
             "minorgridcolor": "white",
             "startlinecolor": "#2a3f5f"
            },
            "type": "carpet"
           }
          ],
          "choropleth": [
           {
            "colorbar": {
             "outlinewidth": 0,
             "ticks": ""
            },
            "type": "choropleth"
           }
          ],
          "contour": [
           {
            "colorbar": {
             "outlinewidth": 0,
             "ticks": ""
            },
            "colorscale": [
             [
              0,
              "#0d0887"
             ],
             [
              0.1111111111111111,
              "#46039f"
             ],
             [
              0.2222222222222222,
              "#7201a8"
             ],
             [
              0.3333333333333333,
              "#9c179e"
             ],
             [
              0.4444444444444444,
              "#bd3786"
             ],
             [
              0.5555555555555556,
              "#d8576b"
             ],
             [
              0.6666666666666666,
              "#ed7953"
             ],
             [
              0.7777777777777778,
              "#fb9f3a"
             ],
             [
              0.8888888888888888,
              "#fdca26"
             ],
             [
              1,
              "#f0f921"
             ]
            ],
            "type": "contour"
           }
          ],
          "contourcarpet": [
           {
            "colorbar": {
             "outlinewidth": 0,
             "ticks": ""
            },
            "type": "contourcarpet"
           }
          ],
          "heatmap": [
           {
            "colorbar": {
             "outlinewidth": 0,
             "ticks": ""
            },
            "colorscale": [
             [
              0,
              "#0d0887"
             ],
             [
              0.1111111111111111,
              "#46039f"
             ],
             [
              0.2222222222222222,
              "#7201a8"
             ],
             [
              0.3333333333333333,
              "#9c179e"
             ],
             [
              0.4444444444444444,
              "#bd3786"
             ],
             [
              0.5555555555555556,
              "#d8576b"
             ],
             [
              0.6666666666666666,
              "#ed7953"
             ],
             [
              0.7777777777777778,
              "#fb9f3a"
             ],
             [
              0.8888888888888888,
              "#fdca26"
             ],
             [
              1,
              "#f0f921"
             ]
            ],
            "type": "heatmap"
           }
          ],
          "heatmapgl": [
           {
            "colorbar": {
             "outlinewidth": 0,
             "ticks": ""
            },
            "colorscale": [
             [
              0,
              "#0d0887"
             ],
             [
              0.1111111111111111,
              "#46039f"
             ],
             [
              0.2222222222222222,
              "#7201a8"
             ],
             [
              0.3333333333333333,
              "#9c179e"
             ],
             [
              0.4444444444444444,
              "#bd3786"
             ],
             [
              0.5555555555555556,
              "#d8576b"
             ],
             [
              0.6666666666666666,
              "#ed7953"
             ],
             [
              0.7777777777777778,
              "#fb9f3a"
             ],
             [
              0.8888888888888888,
              "#fdca26"
             ],
             [
              1,
              "#f0f921"
             ]
            ],
            "type": "heatmapgl"
           }
          ],
          "histogram": [
           {
            "marker": {
             "pattern": {
              "fillmode": "overlay",
              "size": 10,
              "solidity": 0.2
             }
            },
            "type": "histogram"
           }
          ],
          "histogram2d": [
           {
            "colorbar": {
             "outlinewidth": 0,
             "ticks": ""
            },
            "colorscale": [
             [
              0,
              "#0d0887"
             ],
             [
              0.1111111111111111,
              "#46039f"
             ],
             [
              0.2222222222222222,
              "#7201a8"
             ],
             [
              0.3333333333333333,
              "#9c179e"
             ],
             [
              0.4444444444444444,
              "#bd3786"
             ],
             [
              0.5555555555555556,
              "#d8576b"
             ],
             [
              0.6666666666666666,
              "#ed7953"
             ],
             [
              0.7777777777777778,
              "#fb9f3a"
             ],
             [
              0.8888888888888888,
              "#fdca26"
             ],
             [
              1,
              "#f0f921"
             ]
            ],
            "type": "histogram2d"
           }
          ],
          "histogram2dcontour": [
           {
            "colorbar": {
             "outlinewidth": 0,
             "ticks": ""
            },
            "colorscale": [
             [
              0,
              "#0d0887"
             ],
             [
              0.1111111111111111,
              "#46039f"
             ],
             [
              0.2222222222222222,
              "#7201a8"
             ],
             [
              0.3333333333333333,
              "#9c179e"
             ],
             [
              0.4444444444444444,
              "#bd3786"
             ],
             [
              0.5555555555555556,
              "#d8576b"
             ],
             [
              0.6666666666666666,
              "#ed7953"
             ],
             [
              0.7777777777777778,
              "#fb9f3a"
             ],
             [
              0.8888888888888888,
              "#fdca26"
             ],
             [
              1,
              "#f0f921"
             ]
            ],
            "type": "histogram2dcontour"
           }
          ],
          "mesh3d": [
           {
            "colorbar": {
             "outlinewidth": 0,
             "ticks": ""
            },
            "type": "mesh3d"
           }
          ],
          "parcoords": [
           {
            "line": {
             "colorbar": {
              "outlinewidth": 0,
              "ticks": ""
             }
            },
            "type": "parcoords"
           }
          ],
          "pie": [
           {
            "automargin": true,
            "type": "pie"
           }
          ],
          "scatter": [
           {
            "fillpattern": {
             "fillmode": "overlay",
             "size": 10,
             "solidity": 0.2
            },
            "type": "scatter"
           }
          ],
          "scatter3d": [
           {
            "line": {
             "colorbar": {
              "outlinewidth": 0,
              "ticks": ""
             }
            },
            "marker": {
             "colorbar": {
              "outlinewidth": 0,
              "ticks": ""
             }
            },
            "type": "scatter3d"
           }
          ],
          "scattercarpet": [
           {
            "marker": {
             "colorbar": {
              "outlinewidth": 0,
              "ticks": ""
             }
            },
            "type": "scattercarpet"
           }
          ],
          "scattergeo": [
           {
            "marker": {
             "colorbar": {
              "outlinewidth": 0,
              "ticks": ""
             }
            },
            "type": "scattergeo"
           }
          ],
          "scattergl": [
           {
            "marker": {
             "colorbar": {
              "outlinewidth": 0,
              "ticks": ""
             }
            },
            "type": "scattergl"
           }
          ],
          "scattermapbox": [
           {
            "marker": {
             "colorbar": {
              "outlinewidth": 0,
              "ticks": ""
             }
            },
            "type": "scattermapbox"
           }
          ],
          "scatterpolar": [
           {
            "marker": {
             "colorbar": {
              "outlinewidth": 0,
              "ticks": ""
             }
            },
            "type": "scatterpolar"
           }
          ],
          "scatterpolargl": [
           {
            "marker": {
             "colorbar": {
              "outlinewidth": 0,
              "ticks": ""
             }
            },
            "type": "scatterpolargl"
           }
          ],
          "scatterternary": [
           {
            "marker": {
             "colorbar": {
              "outlinewidth": 0,
              "ticks": ""
             }
            },
            "type": "scatterternary"
           }
          ],
          "surface": [
           {
            "colorbar": {
             "outlinewidth": 0,
             "ticks": ""
            },
            "colorscale": [
             [
              0,
              "#0d0887"
             ],
             [
              0.1111111111111111,
              "#46039f"
             ],
             [
              0.2222222222222222,
              "#7201a8"
             ],
             [
              0.3333333333333333,
              "#9c179e"
             ],
             [
              0.4444444444444444,
              "#bd3786"
             ],
             [
              0.5555555555555556,
              "#d8576b"
             ],
             [
              0.6666666666666666,
              "#ed7953"
             ],
             [
              0.7777777777777778,
              "#fb9f3a"
             ],
             [
              0.8888888888888888,
              "#fdca26"
             ],
             [
              1,
              "#f0f921"
             ]
            ],
            "type": "surface"
           }
          ],
          "table": [
           {
            "cells": {
             "fill": {
              "color": "#EBF0F8"
             },
             "line": {
              "color": "white"
             }
            },
            "header": {
             "fill": {
              "color": "#C8D4E3"
             },
             "line": {
              "color": "white"
             }
            },
            "type": "table"
           }
          ]
         },
         "layout": {
          "annotationdefaults": {
           "arrowcolor": "#2a3f5f",
           "arrowhead": 0,
           "arrowwidth": 1
          },
          "autotypenumbers": "strict",
          "coloraxis": {
           "colorbar": {
            "outlinewidth": 0,
            "ticks": ""
           }
          },
          "colorscale": {
           "diverging": [
            [
             0,
             "#8e0152"
            ],
            [
             0.1,
             "#c51b7d"
            ],
            [
             0.2,
             "#de77ae"
            ],
            [
             0.3,
             "#f1b6da"
            ],
            [
             0.4,
             "#fde0ef"
            ],
            [
             0.5,
             "#f7f7f7"
            ],
            [
             0.6,
             "#e6f5d0"
            ],
            [
             0.7,
             "#b8e186"
            ],
            [
             0.8,
             "#7fbc41"
            ],
            [
             0.9,
             "#4d9221"
            ],
            [
             1,
             "#276419"
            ]
           ],
           "sequential": [
            [
             0,
             "#0d0887"
            ],
            [
             0.1111111111111111,
             "#46039f"
            ],
            [
             0.2222222222222222,
             "#7201a8"
            ],
            [
             0.3333333333333333,
             "#9c179e"
            ],
            [
             0.4444444444444444,
             "#bd3786"
            ],
            [
             0.5555555555555556,
             "#d8576b"
            ],
            [
             0.6666666666666666,
             "#ed7953"
            ],
            [
             0.7777777777777778,
             "#fb9f3a"
            ],
            [
             0.8888888888888888,
             "#fdca26"
            ],
            [
             1,
             "#f0f921"
            ]
           ],
           "sequentialminus": [
            [
             0,
             "#0d0887"
            ],
            [
             0.1111111111111111,
             "#46039f"
            ],
            [
             0.2222222222222222,
             "#7201a8"
            ],
            [
             0.3333333333333333,
             "#9c179e"
            ],
            [
             0.4444444444444444,
             "#bd3786"
            ],
            [
             0.5555555555555556,
             "#d8576b"
            ],
            [
             0.6666666666666666,
             "#ed7953"
            ],
            [
             0.7777777777777778,
             "#fb9f3a"
            ],
            [
             0.8888888888888888,
             "#fdca26"
            ],
            [
             1,
             "#f0f921"
            ]
           ]
          },
          "colorway": [
           "#636efa",
           "#EF553B",
           "#00cc96",
           "#ab63fa",
           "#FFA15A",
           "#19d3f3",
           "#FF6692",
           "#B6E880",
           "#FF97FF",
           "#FECB52"
          ],
          "font": {
           "color": "#2a3f5f"
          },
          "geo": {
           "bgcolor": "white",
           "lakecolor": "white",
           "landcolor": "#E5ECF6",
           "showlakes": true,
           "showland": true,
           "subunitcolor": "white"
          },
          "hoverlabel": {
           "align": "left"
          },
          "hovermode": "closest",
          "mapbox": {
           "style": "light"
          },
          "paper_bgcolor": "white",
          "plot_bgcolor": "#E5ECF6",
          "polar": {
           "angularaxis": {
            "gridcolor": "white",
            "linecolor": "white",
            "ticks": ""
           },
           "bgcolor": "#E5ECF6",
           "radialaxis": {
            "gridcolor": "white",
            "linecolor": "white",
            "ticks": ""
           }
          },
          "scene": {
           "xaxis": {
            "backgroundcolor": "#E5ECF6",
            "gridcolor": "white",
            "gridwidth": 2,
            "linecolor": "white",
            "showbackground": true,
            "ticks": "",
            "zerolinecolor": "white"
           },
           "yaxis": {
            "backgroundcolor": "#E5ECF6",
            "gridcolor": "white",
            "gridwidth": 2,
            "linecolor": "white",
            "showbackground": true,
            "ticks": "",
            "zerolinecolor": "white"
           },
           "zaxis": {
            "backgroundcolor": "#E5ECF6",
            "gridcolor": "white",
            "gridwidth": 2,
            "linecolor": "white",
            "showbackground": true,
            "ticks": "",
            "zerolinecolor": "white"
           }
          },
          "shapedefaults": {
           "line": {
            "color": "#2a3f5f"
           }
          },
          "ternary": {
           "aaxis": {
            "gridcolor": "white",
            "linecolor": "white",
            "ticks": ""
           },
           "baxis": {
            "gridcolor": "white",
            "linecolor": "white",
            "ticks": ""
           },
           "bgcolor": "#E5ECF6",
           "caxis": {
            "gridcolor": "white",
            "linecolor": "white",
            "ticks": ""
           }
          },
          "title": {
           "x": 0.05
          },
          "xaxis": {
           "automargin": true,
           "gridcolor": "white",
           "linecolor": "white",
           "ticks": "",
           "title": {
            "standoff": 15
           },
           "zerolinecolor": "white",
           "zerolinewidth": 2
          },
          "yaxis": {
           "automargin": true,
           "gridcolor": "white",
           "linecolor": "white",
           "ticks": "",
           "title": {
            "standoff": 15
           },
           "zerolinecolor": "white",
           "zerolinewidth": 2
          }
         }
        },
        "title": {
         "text": "Distribution of Voters Based on Voting Power Ranges"
        },
        "xaxis": {
         "categoryorder": "total descending",
         "title": {
          "text": "Voting Power Range"
         }
        },
        "yaxis": {
         "showgrid": true,
         "title": {
          "text": "Number of Voters"
         }
        }
       }
      }
     },
     "metadata": {},
     "output_type": "display_data"
    }
   ],
   "source": [
    "# Define ranges for voting power bins based on quartiles\n",
    "bins = [0, 2, 6, 51, 27265153.490337253, float('inf')]  # Define bins based on quartiles\n",
    "labels = ['Bin 1', 'Bin 2', 'Bin 3', 'Bin 4', 'Bin 5']  # Labels for the bins\n",
    "\n",
    "# Bin voters based on average voting power\n",
    "result_df['voting_power_bin'] = pd.cut(result_df['average_voting_power'], bins=bins, labels=labels)\n",
    "\n",
    "# Count the number of voters in each bin\n",
    "bin_counts = result_df['voting_power_bin'].value_counts().sort_index()\n",
    "\n",
    "# Calculate percentages\n",
    "percentages = round((bin_counts / bin_counts.sum()) * 100, 2)\n",
    "\n",
    "# Create DataFrame for table\n",
    "table_df = pd.DataFrame({'Voting Power Range': bin_counts.index, 'Number of Voters': bin_counts.values, 'Percentage': percentages})\n",
    "\n",
    "# Create bar chart\n",
    "fig_bar = go.Figure(data=[go.Bar(x=bin_counts.index, y=bin_counts.values, text=percentages.round(2).astype(str) + '%')])\n",
    "fig_bar.update_layout(\n",
    "    title='Distribution of Voters Based on Voting Power Ranges',\n",
    "    xaxis_title='Voting Power Range',\n",
    "    yaxis_title='Number of Voters',\n",
    "    xaxis=dict(categoryorder='total descending'),\n",
    "    yaxis=dict(showgrid=True))\n",
    "\n",
    "fig_bar.show()"
   ]
  },
  {
   "cell_type": "code",
   "execution_count": 25,
   "metadata": {},
   "outputs": [
    {
     "name": "stdout",
     "output_type": "stream",
     "text": [
      "Voting Power Range  Number of Voters  Percentage\n",
      "             Bin 1             26046       18.05\n",
      "             Bin 2             46218       32.04\n",
      "             Bin 3             35581       24.66\n",
      "             Bin 4             36421       25.25\n",
      "             Bin 5                 0        0.00\n"
     ]
    }
   ],
   "source": [
    "# Display table\n",
    "print(table_df.to_string(index=False))\n",
    "# Optionally, you can save the table as an HTML file\n",
    "table_df.to_html('voting_power_table.html', index=False)"
   ]
  },
  {
   "cell_type": "markdown",
   "metadata": {},
   "source": [
    "# Voter Influence Analysis"
   ]
  },
  {
   "cell_type": "markdown",
   "metadata": {},
   "source": [
    "## Clutster of Voters with more than 1M Voting Power"
   ]
  },
  {
   "cell_type": "code",
   "execution_count": 26,
   "metadata": {},
   "outputs": [],
   "source": [
    "# Pivot the DataFrame to create a new DataFrame with voters as rows and proposals as columns\n",
    "voters_proposals = data1.pivot_table(values='voting_power', index='voter', columns='proposal_title', fill_value=0)\n",
    "\n",
    "# Reset the index to make 'voter' a regular column\n",
    "voters_proposals.reset_index(inplace=True)\n",
    "\n",
    "# Create a DataFrame with voter addresses\n",
    "voter = data1['voter'].drop_duplicates()\n",
    "\n",
    "# Merge the two DataFrames based on 'voter'\n",
    "result_df1 = pd.merge(voter, voters_proposals, on='voter')\n",
    "\n",
    "# Rename the columns for better clarity\n",
    "result_df1.columns = ['voter'] + [f'{proposal}' for proposal in result_df1.columns[1:]]"
   ]
  },
  {
   "cell_type": "code",
   "execution_count": 27,
   "metadata": {},
   "outputs": [],
   "source": [
    "# Assuming result_df is your DataFrame\n",
    "voters_with_high_voting_power = result_df1[result_df1.iloc[:, 1:].max(axis=1) > 1000000]\n",
    "\n",
    "# Display the resulting DataFrame\n",
    "voters_with_high_voting_power\n",
    "\n",
    "voters_with_high_voting_power.to_html('53-voters.html', index=False)"
   ]
  },
  {
   "cell_type": "markdown",
   "metadata": {},
   "source": [
    "## Check the influence of voters with more than 1 million voting power on proposal outcomes:"
   ]
  },
  {
   "cell_type": "markdown",
   "metadata": {},
   "source": [
    "### Calculating the total voting power of all the proposals"
   ]
  },
  {
   "cell_type": "code",
   "execution_count": 28,
   "metadata": {},
   "outputs": [
    {
     "data": {
      "text/html": [
       "<div>\n",
       "<style scoped>\n",
       "    .dataframe tbody tr th:only-of-type {\n",
       "        vertical-align: middle;\n",
       "    }\n",
       "\n",
       "    .dataframe tbody tr th {\n",
       "        vertical-align: top;\n",
       "    }\n",
       "\n",
       "    .dataframe thead th {\n",
       "        text-align: right;\n",
       "    }\n",
       "</style>\n",
       "<table border=\"1\" class=\"dataframe\">\n",
       "  <thead>\n",
       "    <tr style=\"text-align: right;\">\n",
       "      <th></th>\n",
       "      <th>proposal_title</th>\n",
       "      <th>voting_power</th>\n",
       "    </tr>\n",
       "  </thead>\n",
       "  <tbody>\n",
       "    <tr>\n",
       "      <th>0</th>\n",
       "      <td>0xGen STIP Proposal - Round 1</td>\n",
       "      <td>1.126770e+08</td>\n",
       "    </tr>\n",
       "    <tr>\n",
       "      <th>1</th>\n",
       "      <td>AIP 1.05: Return 700M $ARB to the DAO Treasury...</td>\n",
       "      <td>1.408547e+08</td>\n",
       "    </tr>\n",
       "    <tr>\n",
       "      <th>2</th>\n",
       "      <td>AIP-1.1 - Lockup, Budget, Transparency</td>\n",
       "      <td>1.396229e+08</td>\n",
       "    </tr>\n",
       "    <tr>\n",
       "      <th>3</th>\n",
       "      <td>AIP-1.2 - Foundation and DAO Governance</td>\n",
       "      <td>1.387616e+08</td>\n",
       "    </tr>\n",
       "    <tr>\n",
       "      <th>4</th>\n",
       "      <td>AIP-1: Arbitrum Improvement Proposal Framework</td>\n",
       "      <td>1.308752e+08</td>\n",
       "    </tr>\n",
       "    <tr>\n",
       "      <th>...</th>\n",
       "      <td>...</td>\n",
       "      <td>...</td>\n",
       "    </tr>\n",
       "    <tr>\n",
       "      <th>109</th>\n",
       "      <td>[Non-Constitutional]: Arbitrum Stable Treasury...</td>\n",
       "      <td>1.327322e+08</td>\n",
       "    </tr>\n",
       "    <tr>\n",
       "      <th>110</th>\n",
       "      <td>dForce STIP Proposal - Round 1</td>\n",
       "      <td>1.395754e+08</td>\n",
       "    </tr>\n",
       "    <tr>\n",
       "      <th>111</th>\n",
       "      <td>iZUMi STIP Proposal - Round 1</td>\n",
       "      <td>1.548327e+08</td>\n",
       "    </tr>\n",
       "    <tr>\n",
       "      <th>112</th>\n",
       "      <td>tBTC STIP Proposal - Round 1</td>\n",
       "      <td>1.106967e+08</td>\n",
       "    </tr>\n",
       "    <tr>\n",
       "      <th>113</th>\n",
       "      <td>unshETH STIP Proposal - Round 1</td>\n",
       "      <td>1.198675e+08</td>\n",
       "    </tr>\n",
       "  </tbody>\n",
       "</table>\n",
       "<p>114 rows × 2 columns</p>\n",
       "</div>"
      ],
      "text/plain": [
       "                                        proposal_title  voting_power\n",
       "0                        0xGen STIP Proposal - Round 1  1.126770e+08\n",
       "1    AIP 1.05: Return 700M $ARB to the DAO Treasury...  1.408547e+08\n",
       "2               AIP-1.1 - Lockup, Budget, Transparency  1.396229e+08\n",
       "3              AIP-1.2 - Foundation and DAO Governance  1.387616e+08\n",
       "4       AIP-1: Arbitrum Improvement Proposal Framework  1.308752e+08\n",
       "..                                                 ...           ...\n",
       "109  [Non-Constitutional]: Arbitrum Stable Treasury...  1.327322e+08\n",
       "110                     dForce STIP Proposal - Round 1  1.395754e+08\n",
       "111                      iZUMi STIP Proposal - Round 1  1.548327e+08\n",
       "112                       tBTC STIP Proposal - Round 1  1.106967e+08\n",
       "113                    unshETH STIP Proposal - Round 1  1.198675e+08\n",
       "\n",
       "[114 rows x 2 columns]"
      ]
     },
     "execution_count": 28,
     "metadata": {},
     "output_type": "execute_result"
    }
   ],
   "source": [
    "# Group by 'proposal_id' and sum up the 'voting_power' for each proposal\n",
    "proposal_voting_power = data1.groupby('proposal_title')['voting_power'].sum()\n",
    "\n",
    "# Reset index to make 'proposal_id' a regular column\n",
    "proposal_voting_power = proposal_voting_power.reset_index()\n",
    "\n",
    "# Display the DataFrame with total voting power for each proposal\n",
    "proposal_voting_power"
   ]
  },
  {
   "cell_type": "code",
   "execution_count": 29,
   "metadata": {},
   "outputs": [],
   "source": [
    "# creating the array of voters with more than 1M voting power\n",
    "voters = np.array(voters_with_high_voting_power['voter'])"
   ]
  },
  {
   "cell_type": "markdown",
   "metadata": {},
   "source": [
    "### calculate the total voting power of voters with more than 1M voting power for each proposals and their percentage"
   ]
  },
  {
   "cell_type": "code",
   "execution_count": 30,
   "metadata": {},
   "outputs": [
    {
     "data": {
      "text/html": [
       "<div>\n",
       "<style scoped>\n",
       "    .dataframe tbody tr th:only-of-type {\n",
       "        vertical-align: middle;\n",
       "    }\n",
       "\n",
       "    .dataframe tbody tr th {\n",
       "        vertical-align: top;\n",
       "    }\n",
       "\n",
       "    .dataframe thead th {\n",
       "        text-align: right;\n",
       "    }\n",
       "</style>\n",
       "<table border=\"1\" class=\"dataframe\">\n",
       "  <thead>\n",
       "    <tr style=\"text-align: right;\">\n",
       "      <th></th>\n",
       "      <th>proposal_title</th>\n",
       "      <th>voting_power</th>\n",
       "      <th>voting_power_53</th>\n",
       "      <th>percentage_voting_power_53</th>\n",
       "    </tr>\n",
       "  </thead>\n",
       "  <tbody>\n",
       "    <tr>\n",
       "      <th>0</th>\n",
       "      <td>0xGen STIP Proposal - Round 1</td>\n",
       "      <td>1.126770e+08</td>\n",
       "      <td>1.049758e+08</td>\n",
       "      <td>93.17</td>\n",
       "    </tr>\n",
       "    <tr>\n",
       "      <th>1</th>\n",
       "      <td>AIP 1.05: Return 700M $ARB to the DAO Treasury...</td>\n",
       "      <td>1.408547e+08</td>\n",
       "      <td>1.042077e+08</td>\n",
       "      <td>73.98</td>\n",
       "    </tr>\n",
       "    <tr>\n",
       "      <th>2</th>\n",
       "      <td>AIP-1.1 - Lockup, Budget, Transparency</td>\n",
       "      <td>1.396229e+08</td>\n",
       "      <td>1.071956e+08</td>\n",
       "      <td>76.78</td>\n",
       "    </tr>\n",
       "    <tr>\n",
       "      <th>3</th>\n",
       "      <td>AIP-1.2 - Foundation and DAO Governance</td>\n",
       "      <td>1.387616e+08</td>\n",
       "      <td>1.064821e+08</td>\n",
       "      <td>76.74</td>\n",
       "    </tr>\n",
       "    <tr>\n",
       "      <th>4</th>\n",
       "      <td>AIP-1: Arbitrum Improvement Proposal Framework</td>\n",
       "      <td>1.308752e+08</td>\n",
       "      <td>9.524569e+07</td>\n",
       "      <td>72.78</td>\n",
       "    </tr>\n",
       "    <tr>\n",
       "      <th>...</th>\n",
       "      <td>...</td>\n",
       "      <td>...</td>\n",
       "      <td>...</td>\n",
       "      <td>...</td>\n",
       "    </tr>\n",
       "    <tr>\n",
       "      <th>109</th>\n",
       "      <td>[Non-Constitutional]: Arbitrum Stable Treasury...</td>\n",
       "      <td>1.327322e+08</td>\n",
       "      <td>1.252640e+08</td>\n",
       "      <td>94.37</td>\n",
       "    </tr>\n",
       "    <tr>\n",
       "      <th>110</th>\n",
       "      <td>dForce STIP Proposal - Round 1</td>\n",
       "      <td>1.395754e+08</td>\n",
       "      <td>1.300511e+08</td>\n",
       "      <td>93.18</td>\n",
       "    </tr>\n",
       "    <tr>\n",
       "      <th>111</th>\n",
       "      <td>iZUMi STIP Proposal - Round 1</td>\n",
       "      <td>1.548327e+08</td>\n",
       "      <td>1.390263e+08</td>\n",
       "      <td>89.79</td>\n",
       "    </tr>\n",
       "    <tr>\n",
       "      <th>112</th>\n",
       "      <td>tBTC STIP Proposal - Round 1</td>\n",
       "      <td>1.106967e+08</td>\n",
       "      <td>1.018666e+08</td>\n",
       "      <td>92.02</td>\n",
       "    </tr>\n",
       "    <tr>\n",
       "      <th>113</th>\n",
       "      <td>unshETH STIP Proposal - Round 1</td>\n",
       "      <td>1.198675e+08</td>\n",
       "      <td>1.099453e+08</td>\n",
       "      <td>91.72</td>\n",
       "    </tr>\n",
       "  </tbody>\n",
       "</table>\n",
       "<p>114 rows × 4 columns</p>\n",
       "</div>"
      ],
      "text/plain": [
       "                                        proposal_title  voting_power  \\\n",
       "0                        0xGen STIP Proposal - Round 1  1.126770e+08   \n",
       "1    AIP 1.05: Return 700M $ARB to the DAO Treasury...  1.408547e+08   \n",
       "2               AIP-1.1 - Lockup, Budget, Transparency  1.396229e+08   \n",
       "3              AIP-1.2 - Foundation and DAO Governance  1.387616e+08   \n",
       "4       AIP-1: Arbitrum Improvement Proposal Framework  1.308752e+08   \n",
       "..                                                 ...           ...   \n",
       "109  [Non-Constitutional]: Arbitrum Stable Treasury...  1.327322e+08   \n",
       "110                     dForce STIP Proposal - Round 1  1.395754e+08   \n",
       "111                      iZUMi STIP Proposal - Round 1  1.548327e+08   \n",
       "112                       tBTC STIP Proposal - Round 1  1.106967e+08   \n",
       "113                    unshETH STIP Proposal - Round 1  1.198675e+08   \n",
       "\n",
       "     voting_power_53  percentage_voting_power_53  \n",
       "0       1.049758e+08                       93.17  \n",
       "1       1.042077e+08                       73.98  \n",
       "2       1.071956e+08                       76.78  \n",
       "3       1.064821e+08                       76.74  \n",
       "4       9.524569e+07                       72.78  \n",
       "..               ...                         ...  \n",
       "109     1.252640e+08                       94.37  \n",
       "110     1.300511e+08                       93.18  \n",
       "111     1.390263e+08                       89.79  \n",
       "112     1.018666e+08                       92.02  \n",
       "113     1.099453e+08                       91.72  \n",
       "\n",
       "[114 rows x 4 columns]"
      ]
     },
     "execution_count": 30,
     "metadata": {},
     "output_type": "execute_result"
    }
   ],
   "source": [
    "# Create an empty list to store the total voting power values\n",
    "total_voting_power_values = []\n",
    "\n",
    "# Iterate over each proposal title in the proposal_voting_power DataFrame\n",
    "for proposal_title in proposal_voting_power['proposal_title']:\n",
    "    # Filter the DataFrame for the current proposal title and voters with high voting power\n",
    "    df1 = data1[(data1['proposal_title'] == proposal_title) & data1['voter'].isin(voters)]\n",
    "\n",
    "    # Calculate the sum of voting power for the filtered DataFrame\n",
    "    total_voting_power = df1['voting_power'].sum()\n",
    "\n",
    "    # Append the total voting power value to the list\n",
    "    total_voting_power_values.append(total_voting_power)\n",
    "\n",
    "# Add a new column 'total_voting_power' to the proposal_voting_power DataFrame\n",
    "proposal_voting_power['voting_power_53'] = total_voting_power_values\n",
    "\n",
    "# Calculate the percentage of voting_power_53 with respect to voting_power\n",
    "proposal_voting_power['percentage_voting_power_53'] = round((proposal_voting_power['voting_power_53'] / proposal_voting_power['voting_power']) * 100, 2)\n",
    "\n",
    "# Display the updated DataFrame\n",
    "proposal_voting_power"
   ]
  },
  {
   "cell_type": "markdown",
   "metadata": {},
   "source": [
    "### filter the voters whose influence is more than 90% for one proposal"
   ]
  },
  {
   "cell_type": "code",
   "execution_count": 31,
   "metadata": {},
   "outputs": [
    {
     "data": {
      "text/html": [
       "<div>\n",
       "<style scoped>\n",
       "    .dataframe tbody tr th:only-of-type {\n",
       "        vertical-align: middle;\n",
       "    }\n",
       "\n",
       "    .dataframe tbody tr th {\n",
       "        vertical-align: top;\n",
       "    }\n",
       "\n",
       "    .dataframe thead th {\n",
       "        text-align: right;\n",
       "    }\n",
       "</style>\n",
       "<table border=\"1\" class=\"dataframe\">\n",
       "  <thead>\n",
       "    <tr style=\"text-align: right;\">\n",
       "      <th></th>\n",
       "      <th>proposal_title</th>\n",
       "      <th>voting_power</th>\n",
       "      <th>voting_power_53</th>\n",
       "      <th>percentage_voting_power_53</th>\n",
       "    </tr>\n",
       "  </thead>\n",
       "  <tbody>\n",
       "    <tr>\n",
       "      <th>0</th>\n",
       "      <td>0xGen STIP Proposal - Round 1</td>\n",
       "      <td>1.126770e+08</td>\n",
       "      <td>1.049758e+08</td>\n",
       "      <td>93.17</td>\n",
       "    </tr>\n",
       "    <tr>\n",
       "      <th>5</th>\n",
       "      <td>ALAYA STIP Proposal - Round 1</td>\n",
       "      <td>1.179721e+08</td>\n",
       "      <td>1.070330e+08</td>\n",
       "      <td>90.73</td>\n",
       "    </tr>\n",
       "    <tr>\n",
       "      <th>6</th>\n",
       "      <td>Abracadabra DAO STIP Proposal - Round 1</td>\n",
       "      <td>2.047985e+08</td>\n",
       "      <td>1.917437e+08</td>\n",
       "      <td>93.63</td>\n",
       "    </tr>\n",
       "    <tr>\n",
       "      <th>7</th>\n",
       "      <td>Accelerating Arbitrum - leveraging Camelot as ...</td>\n",
       "      <td>1.641115e+08</td>\n",
       "      <td>1.488036e+08</td>\n",
       "      <td>90.67</td>\n",
       "    </tr>\n",
       "    <tr>\n",
       "      <th>8</th>\n",
       "      <td>Angle Protocol STIP Proposal - Round 1</td>\n",
       "      <td>1.973346e+08</td>\n",
       "      <td>1.873415e+08</td>\n",
       "      <td>94.94</td>\n",
       "    </tr>\n",
       "    <tr>\n",
       "      <th>...</th>\n",
       "      <td>...</td>\n",
       "      <td>...</td>\n",
       "      <td>...</td>\n",
       "      <td>...</td>\n",
       "    </tr>\n",
       "    <tr>\n",
       "      <th>107</th>\n",
       "      <td>ZKasino STIP Proposal - Round 1</td>\n",
       "      <td>1.306452e+08</td>\n",
       "      <td>1.178242e+08</td>\n",
       "      <td>90.19</td>\n",
       "    </tr>\n",
       "    <tr>\n",
       "      <th>109</th>\n",
       "      <td>[Non-Constitutional]: Arbitrum Stable Treasury...</td>\n",
       "      <td>1.327322e+08</td>\n",
       "      <td>1.252640e+08</td>\n",
       "      <td>94.37</td>\n",
       "    </tr>\n",
       "    <tr>\n",
       "      <th>110</th>\n",
       "      <td>dForce STIP Proposal - Round 1</td>\n",
       "      <td>1.395754e+08</td>\n",
       "      <td>1.300511e+08</td>\n",
       "      <td>93.18</td>\n",
       "    </tr>\n",
       "    <tr>\n",
       "      <th>112</th>\n",
       "      <td>tBTC STIP Proposal - Round 1</td>\n",
       "      <td>1.106967e+08</td>\n",
       "      <td>1.018666e+08</td>\n",
       "      <td>92.02</td>\n",
       "    </tr>\n",
       "    <tr>\n",
       "      <th>113</th>\n",
       "      <td>unshETH STIP Proposal - Round 1</td>\n",
       "      <td>1.198675e+08</td>\n",
       "      <td>1.099453e+08</td>\n",
       "      <td>91.72</td>\n",
       "    </tr>\n",
       "  </tbody>\n",
       "</table>\n",
       "<p>96 rows × 4 columns</p>\n",
       "</div>"
      ],
      "text/plain": [
       "                                        proposal_title  voting_power  \\\n",
       "0                        0xGen STIP Proposal - Round 1  1.126770e+08   \n",
       "5                        ALAYA STIP Proposal - Round 1  1.179721e+08   \n",
       "6              Abracadabra DAO STIP Proposal - Round 1  2.047985e+08   \n",
       "7    Accelerating Arbitrum - leveraging Camelot as ...  1.641115e+08   \n",
       "8               Angle Protocol STIP Proposal - Round 1  1.973346e+08   \n",
       "..                                                 ...           ...   \n",
       "107                    ZKasino STIP Proposal - Round 1  1.306452e+08   \n",
       "109  [Non-Constitutional]: Arbitrum Stable Treasury...  1.327322e+08   \n",
       "110                     dForce STIP Proposal - Round 1  1.395754e+08   \n",
       "112                       tBTC STIP Proposal - Round 1  1.106967e+08   \n",
       "113                    unshETH STIP Proposal - Round 1  1.198675e+08   \n",
       "\n",
       "     voting_power_53  percentage_voting_power_53  \n",
       "0       1.049758e+08                       93.17  \n",
       "5       1.070330e+08                       90.73  \n",
       "6       1.917437e+08                       93.63  \n",
       "7       1.488036e+08                       90.67  \n",
       "8       1.873415e+08                       94.94  \n",
       "..               ...                         ...  \n",
       "107     1.178242e+08                       90.19  \n",
       "109     1.252640e+08                       94.37  \n",
       "110     1.300511e+08                       93.18  \n",
       "112     1.018666e+08                       92.02  \n",
       "113     1.099453e+08                       91.72  \n",
       "\n",
       "[96 rows x 4 columns]"
      ]
     },
     "execution_count": 31,
     "metadata": {},
     "output_type": "execute_result"
    }
   ],
   "source": [
    "# Filter the proposals with percentage_voting_power_53 greater than 90\n",
    "filtered_proposals = proposal_voting_power[proposal_voting_power['percentage_voting_power_53'] > 90]\n",
    "\n",
    "# Display the filtered DataFrame\n",
    "filtered_proposals"
   ]
  },
  {
   "cell_type": "markdown",
   "metadata": {},
   "source": [
    "### How do voters with high voting power influence the decisions of others:"
   ]
  },
  {
   "cell_type": "code",
   "execution_count": 32,
   "metadata": {},
   "outputs": [
    {
     "data": {
      "text/plain": [
       "Index(['vote_id', 'voter', 'voting_power', 'vote_date', 'voting_reason',\n",
       "       'vote_year', 'vote_month', 'vote_day', 'vote_time', 'vote_hour',\n",
       "       'vote_minute', 'vote_year_month', 'voting_power_range', 'proposal_id',\n",
       "       'proposal_title', 'proposal_body', 'proposal_type', 'proposal_created',\n",
       "       'proposal_start_date', 'proposal_end_date', 'proposal_year',\n",
       "       'proposal_month', 'proposal_day', 'proposal_time', 'proposal_choices',\n",
       "       'voting_choice', 'mapped_choice'],\n",
       "      dtype='object')"
      ]
     },
     "execution_count": 32,
     "metadata": {},
     "output_type": "execute_result"
    }
   ],
   "source": [
    "data1.columns"
   ]
  },
  {
   "cell_type": "code",
   "execution_count": 33,
   "metadata": {},
   "outputs": [
    {
     "data": {
      "text/html": [
       "<div>\n",
       "<style scoped>\n",
       "    .dataframe tbody tr th:only-of-type {\n",
       "        vertical-align: middle;\n",
       "    }\n",
       "\n",
       "    .dataframe tbody tr th {\n",
       "        vertical-align: top;\n",
       "    }\n",
       "\n",
       "    .dataframe thead th {\n",
       "        text-align: right;\n",
       "    }\n",
       "</style>\n",
       "<table border=\"1\" class=\"dataframe\">\n",
       "  <thead>\n",
       "    <tr style=\"text-align: right;\">\n",
       "      <th></th>\n",
       "      <th>voter</th>\n",
       "      <th>proposal_title</th>\n",
       "      <th>mapped_choice</th>\n",
       "    </tr>\n",
       "  </thead>\n",
       "  <tbody>\n",
       "    <tr>\n",
       "      <th>227</th>\n",
       "      <td>0xB933AEe47C438f22DE0747D57fc239FE37878Dd1</td>\n",
       "      <td>[Non-Constitutional]: Arbitrum Stable Treasury...</td>\n",
       "      <td>For</td>\n",
       "    </tr>\n",
       "    <tr>\n",
       "      <th>407</th>\n",
       "      <td>0xb5B069370Ef24BC67F114e185D185063CE3479f8</td>\n",
       "      <td>[Non-Constitutional]: Arbitrum Stable Treasury...</td>\n",
       "      <td>For</td>\n",
       "    </tr>\n",
       "    <tr>\n",
       "      <th>934</th>\n",
       "      <td>0x8326D18edfC50B4335113C33b25116ec268FF3fE</td>\n",
       "      <td>[Non-Constitutional]: Arbitrum Stable Treasury...</td>\n",
       "      <td>For</td>\n",
       "    </tr>\n",
       "    <tr>\n",
       "      <th>6258</th>\n",
       "      <td>0x3070FeEAfD678751c29171Bacd0042Fb370DEE00</td>\n",
       "      <td>[Non-Constitutional]: Arbitrum Stable Treasury...</td>\n",
       "      <td>For</td>\n",
       "    </tr>\n",
       "    <tr>\n",
       "      <th>13452</th>\n",
       "      <td>0x978982772b8e4055B921bf9295c0d74eB36Bc54e</td>\n",
       "      <td>[Non-Constitutional]: Arbitrum Stable Treasury...</td>\n",
       "      <td>For</td>\n",
       "    </tr>\n",
       "    <tr>\n",
       "      <th>...</th>\n",
       "      <td>...</td>\n",
       "      <td>...</td>\n",
       "      <td>...</td>\n",
       "    </tr>\n",
       "    <tr>\n",
       "      <th>2635899</th>\n",
       "      <td>0x5aB0Fdc6F0CA9Ea178c95cECCf944A4ce1AedDdD</td>\n",
       "      <td>AIP-1: Arbitrum Improvement Proposal Framework</td>\n",
       "      <td>Abstain</td>\n",
       "    </tr>\n",
       "    <tr>\n",
       "      <th>2636716</th>\n",
       "      <td>0x2e3BEf6830Ae84bb4225D318F9f61B6b88C147bF</td>\n",
       "      <td>AIP-1: Arbitrum Improvement Proposal Framework</td>\n",
       "      <td>Abstain</td>\n",
       "    </tr>\n",
       "    <tr>\n",
       "      <th>2636811</th>\n",
       "      <td>0x1B686eE8E31c5959D9F5BBd8122a58682788eeaD</td>\n",
       "      <td>AIP-1: Arbitrum Improvement Proposal Framework</td>\n",
       "      <td>Abstain</td>\n",
       "    </tr>\n",
       "    <tr>\n",
       "      <th>2636875</th>\n",
       "      <td>0xF92F185AbD9E00F56cb11B0b709029633d1E37B4</td>\n",
       "      <td>AIP-1: Arbitrum Improvement Proposal Framework</td>\n",
       "      <td>Abstain</td>\n",
       "    </tr>\n",
       "    <tr>\n",
       "      <th>2636879</th>\n",
       "      <td>0xd333Bc5c9670C9cEb18f9A2CF02C6E86807a8227</td>\n",
       "      <td>AIP-1: Arbitrum Improvement Proposal Framework</td>\n",
       "      <td>Abstain</td>\n",
       "    </tr>\n",
       "  </tbody>\n",
       "</table>\n",
       "<p>2739 rows × 3 columns</p>\n",
       "</div>"
      ],
      "text/plain": [
       "                                              voter  \\\n",
       "227      0xB933AEe47C438f22DE0747D57fc239FE37878Dd1   \n",
       "407      0xb5B069370Ef24BC67F114e185D185063CE3479f8   \n",
       "934      0x8326D18edfC50B4335113C33b25116ec268FF3fE   \n",
       "6258     0x3070FeEAfD678751c29171Bacd0042Fb370DEE00   \n",
       "13452    0x978982772b8e4055B921bf9295c0d74eB36Bc54e   \n",
       "...                                             ...   \n",
       "2635899  0x5aB0Fdc6F0CA9Ea178c95cECCf944A4ce1AedDdD   \n",
       "2636716  0x2e3BEf6830Ae84bb4225D318F9f61B6b88C147bF   \n",
       "2636811  0x1B686eE8E31c5959D9F5BBd8122a58682788eeaD   \n",
       "2636875  0xF92F185AbD9E00F56cb11B0b709029633d1E37B4   \n",
       "2636879  0xd333Bc5c9670C9cEb18f9A2CF02C6E86807a8227   \n",
       "\n",
       "                                            proposal_title mapped_choice  \n",
       "227      [Non-Constitutional]: Arbitrum Stable Treasury...           For  \n",
       "407      [Non-Constitutional]: Arbitrum Stable Treasury...           For  \n",
       "934      [Non-Constitutional]: Arbitrum Stable Treasury...           For  \n",
       "6258     [Non-Constitutional]: Arbitrum Stable Treasury...           For  \n",
       "13452    [Non-Constitutional]: Arbitrum Stable Treasury...           For  \n",
       "...                                                    ...           ...  \n",
       "2635899     AIP-1: Arbitrum Improvement Proposal Framework       Abstain  \n",
       "2636716     AIP-1: Arbitrum Improvement Proposal Framework       Abstain  \n",
       "2636811     AIP-1: Arbitrum Improvement Proposal Framework       Abstain  \n",
       "2636875     AIP-1: Arbitrum Improvement Proposal Framework       Abstain  \n",
       "2636879     AIP-1: Arbitrum Improvement Proposal Framework       Abstain  \n",
       "\n",
       "[2739 rows x 3 columns]"
      ]
     },
     "execution_count": 33,
     "metadata": {},
     "output_type": "execute_result"
    }
   ],
   "source": [
    "# Filter the data to contain votes only from the 53 voters\n",
    "filtered_data1 = data1[data1['voter'].isin(voters)]\n",
    "\n",
    "# Display the filtered data\n",
    "filtered_data1[['voter','proposal_title','mapped_choice']]"
   ]
  },
  {
   "cell_type": "code",
   "execution_count": 34,
   "metadata": {},
   "outputs": [
    {
     "data": {
      "text/html": [
       "<div>\n",
       "<style scoped>\n",
       "    .dataframe tbody tr th:only-of-type {\n",
       "        vertical-align: middle;\n",
       "    }\n",
       "\n",
       "    .dataframe tbody tr th {\n",
       "        vertical-align: top;\n",
       "    }\n",
       "\n",
       "    .dataframe thead th {\n",
       "        text-align: right;\n",
       "    }\n",
       "</style>\n",
       "<table border=\"1\" class=\"dataframe\">\n",
       "  <thead>\n",
       "    <tr style=\"text-align: right;\">\n",
       "      <th></th>\n",
       "      <th>proposal_title</th>\n",
       "      <th>mapped_choice</th>\n",
       "      <th>vote_count</th>\n",
       "    </tr>\n",
       "  </thead>\n",
       "  <tbody>\n",
       "    <tr>\n",
       "      <th>1</th>\n",
       "      <td>0xGen STIP Proposal - Round 1</td>\n",
       "      <td>Against</td>\n",
       "      <td>15</td>\n",
       "    </tr>\n",
       "    <tr>\n",
       "      <th>2</th>\n",
       "      <td>AIP 1.05: Return 700M $ARB to the DAO Treasury...</td>\n",
       "      <td>Against</td>\n",
       "      <td>31</td>\n",
       "    </tr>\n",
       "    <tr>\n",
       "      <th>4</th>\n",
       "      <td>AIP-1.1 - Lockup, Budget, Transparency</td>\n",
       "      <td>For</td>\n",
       "      <td>34</td>\n",
       "    </tr>\n",
       "    <tr>\n",
       "      <th>5</th>\n",
       "      <td>AIP-1.2 - Foundation and DAO Governance</td>\n",
       "      <td>For</td>\n",
       "      <td>33</td>\n",
       "    </tr>\n",
       "    <tr>\n",
       "      <th>7</th>\n",
       "      <td>AIP-1: Arbitrum Improvement Proposal Framework</td>\n",
       "      <td>Against</td>\n",
       "      <td>25</td>\n",
       "    </tr>\n",
       "    <tr>\n",
       "      <th>...</th>\n",
       "      <td>...</td>\n",
       "      <td>...</td>\n",
       "      <td>...</td>\n",
       "    </tr>\n",
       "    <tr>\n",
       "      <th>286</th>\n",
       "      <td>[Non-Constitutional]: Arbitrum Stable Treasury...</td>\n",
       "      <td>For</td>\n",
       "      <td>23</td>\n",
       "    </tr>\n",
       "    <tr>\n",
       "      <th>289</th>\n",
       "      <td>dForce STIP Proposal - Round 1</td>\n",
       "      <td>For</td>\n",
       "      <td>16</td>\n",
       "    </tr>\n",
       "    <tr>\n",
       "      <th>292</th>\n",
       "      <td>iZUMi STIP Proposal - Round 1</td>\n",
       "      <td>For</td>\n",
       "      <td>16</td>\n",
       "    </tr>\n",
       "    <tr>\n",
       "      <th>294</th>\n",
       "      <td>tBTC STIP Proposal - Round 1</td>\n",
       "      <td>Against</td>\n",
       "      <td>12</td>\n",
       "    </tr>\n",
       "    <tr>\n",
       "      <th>297</th>\n",
       "      <td>unshETH STIP Proposal - Round 1</td>\n",
       "      <td>For</td>\n",
       "      <td>12</td>\n",
       "    </tr>\n",
       "  </tbody>\n",
       "</table>\n",
       "<p>114 rows × 3 columns</p>\n",
       "</div>"
      ],
      "text/plain": [
       "                                        proposal_title mapped_choice  \\\n",
       "1                        0xGen STIP Proposal - Round 1       Against   \n",
       "2    AIP 1.05: Return 700M $ARB to the DAO Treasury...       Against   \n",
       "4               AIP-1.1 - Lockup, Budget, Transparency           For   \n",
       "5              AIP-1.2 - Foundation and DAO Governance           For   \n",
       "7       AIP-1: Arbitrum Improvement Proposal Framework       Against   \n",
       "..                                                 ...           ...   \n",
       "286  [Non-Constitutional]: Arbitrum Stable Treasury...           For   \n",
       "289                     dForce STIP Proposal - Round 1           For   \n",
       "292                      iZUMi STIP Proposal - Round 1           For   \n",
       "294                       tBTC STIP Proposal - Round 1       Against   \n",
       "297                    unshETH STIP Proposal - Round 1           For   \n",
       "\n",
       "     vote_count  \n",
       "1            15  \n",
       "2            31  \n",
       "4            34  \n",
       "5            33  \n",
       "7            25  \n",
       "..          ...  \n",
       "286          23  \n",
       "289          16  \n",
       "292          16  \n",
       "294          12  \n",
       "297          12  \n",
       "\n",
       "[114 rows x 3 columns]"
      ]
     },
     "execution_count": 34,
     "metadata": {},
     "output_type": "execute_result"
    }
   ],
   "source": [
    "# Group the data by 'proposal_title' and 'mapped_choice', and count the occurrences\n",
    "choice_counts = filtered_data1.groupby(['proposal_title', 'mapped_choice']).size().reset_index(name='vote_count')\n",
    "\n",
    "# Find the index of the row with the maximum vote count for each proposal\n",
    "idx = choice_counts.groupby('proposal_title')['vote_count'].idxmax()\n",
    "\n",
    "# Filter the choice_counts DataFrame to get the row with the highest vote count for each proposal\n",
    "result = choice_counts.loc[idx]\n",
    "\n",
    "# Display the result\n",
    "result"
   ]
  },
  {
   "cell_type": "code",
   "execution_count": 35,
   "metadata": {},
   "outputs": [
    {
     "data": {
      "text/html": [
       "<div>\n",
       "<style scoped>\n",
       "    .dataframe tbody tr th:only-of-type {\n",
       "        vertical-align: middle;\n",
       "    }\n",
       "\n",
       "    .dataframe tbody tr th {\n",
       "        vertical-align: top;\n",
       "    }\n",
       "\n",
       "    .dataframe thead th {\n",
       "        text-align: right;\n",
       "    }\n",
       "</style>\n",
       "<table border=\"1\" class=\"dataframe\">\n",
       "  <thead>\n",
       "    <tr style=\"text-align: right;\">\n",
       "      <th></th>\n",
       "      <th>proposal_title</th>\n",
       "      <th>mapped_choice</th>\n",
       "      <th>total_voting_power</th>\n",
       "    </tr>\n",
       "  </thead>\n",
       "  <tbody>\n",
       "    <tr>\n",
       "      <th>1</th>\n",
       "      <td>0xGen STIP Proposal - Round 1</td>\n",
       "      <td>Against</td>\n",
       "      <td>1.032636e+08</td>\n",
       "    </tr>\n",
       "    <tr>\n",
       "      <th>2</th>\n",
       "      <td>AIP 1.05: Return 700M $ARB to the DAO Treasury...</td>\n",
       "      <td>Against</td>\n",
       "      <td>1.019226e+08</td>\n",
       "    </tr>\n",
       "    <tr>\n",
       "      <th>4</th>\n",
       "      <td>AIP-1.1 - Lockup, Budget, Transparency</td>\n",
       "      <td>For</td>\n",
       "      <td>1.071956e+08</td>\n",
       "    </tr>\n",
       "    <tr>\n",
       "      <th>5</th>\n",
       "      <td>AIP-1.2 - Foundation and DAO Governance</td>\n",
       "      <td>For</td>\n",
       "      <td>1.064821e+08</td>\n",
       "    </tr>\n",
       "    <tr>\n",
       "      <th>7</th>\n",
       "      <td>AIP-1: Arbitrum Improvement Proposal Framework</td>\n",
       "      <td>Against</td>\n",
       "      <td>8.097447e+07</td>\n",
       "    </tr>\n",
       "    <tr>\n",
       "      <th>...</th>\n",
       "      <td>...</td>\n",
       "      <td>...</td>\n",
       "      <td>...</td>\n",
       "    </tr>\n",
       "    <tr>\n",
       "      <th>286</th>\n",
       "      <td>[Non-Constitutional]: Arbitrum Stable Treasury...</td>\n",
       "      <td>For</td>\n",
       "      <td>1.252640e+08</td>\n",
       "    </tr>\n",
       "    <tr>\n",
       "      <th>289</th>\n",
       "      <td>dForce STIP Proposal - Round 1</td>\n",
       "      <td>For</td>\n",
       "      <td>9.118759e+07</td>\n",
       "    </tr>\n",
       "    <tr>\n",
       "      <th>290</th>\n",
       "      <td>iZUMi STIP Proposal - Round 1</td>\n",
       "      <td>Abstain</td>\n",
       "      <td>8.468403e+07</td>\n",
       "    </tr>\n",
       "    <tr>\n",
       "      <th>294</th>\n",
       "      <td>tBTC STIP Proposal - Round 1</td>\n",
       "      <td>Against</td>\n",
       "      <td>5.246477e+07</td>\n",
       "    </tr>\n",
       "    <tr>\n",
       "      <th>297</th>\n",
       "      <td>unshETH STIP Proposal - Round 1</td>\n",
       "      <td>For</td>\n",
       "      <td>6.566829e+07</td>\n",
       "    </tr>\n",
       "  </tbody>\n",
       "</table>\n",
       "<p>114 rows × 3 columns</p>\n",
       "</div>"
      ],
      "text/plain": [
       "                                        proposal_title mapped_choice  \\\n",
       "1                        0xGen STIP Proposal - Round 1       Against   \n",
       "2    AIP 1.05: Return 700M $ARB to the DAO Treasury...       Against   \n",
       "4               AIP-1.1 - Lockup, Budget, Transparency           For   \n",
       "5              AIP-1.2 - Foundation and DAO Governance           For   \n",
       "7       AIP-1: Arbitrum Improvement Proposal Framework       Against   \n",
       "..                                                 ...           ...   \n",
       "286  [Non-Constitutional]: Arbitrum Stable Treasury...           For   \n",
       "289                     dForce STIP Proposal - Round 1           For   \n",
       "290                      iZUMi STIP Proposal - Round 1       Abstain   \n",
       "294                       tBTC STIP Proposal - Round 1       Against   \n",
       "297                    unshETH STIP Proposal - Round 1           For   \n",
       "\n",
       "     total_voting_power  \n",
       "1          1.032636e+08  \n",
       "2          1.019226e+08  \n",
       "4          1.071956e+08  \n",
       "5          1.064821e+08  \n",
       "7          8.097447e+07  \n",
       "..                  ...  \n",
       "286        1.252640e+08  \n",
       "289        9.118759e+07  \n",
       "290        8.468403e+07  \n",
       "294        5.246477e+07  \n",
       "297        6.566829e+07  \n",
       "\n",
       "[114 rows x 3 columns]"
      ]
     },
     "execution_count": 35,
     "metadata": {},
     "output_type": "execute_result"
    }
   ],
   "source": [
    "# Group the data by 'proposal_title' and 'mapped_choice', and sum the voting power\n",
    "power_counts = filtered_data1.groupby(['proposal_title', 'mapped_choice'])['voting_power'].sum().reset_index(name='total_voting_power')\n",
    "\n",
    "# Find the index of the row with the maximum total voting power for each proposal\n",
    "idx = power_counts.groupby('proposal_title')['total_voting_power'].idxmax()\n",
    "\n",
    "# Filter the power_counts DataFrame to get the row with the highest total voting power for each proposal\n",
    "result_power = power_counts.loc[idx]\n",
    "\n",
    "# Display the result\n",
    "result_power"
   ]
  },
  {
   "cell_type": "code",
   "execution_count": 36,
   "metadata": {},
   "outputs": [
    {
     "data": {
      "text/html": [
       "<div>\n",
       "<style scoped>\n",
       "    .dataframe tbody tr th:only-of-type {\n",
       "        vertical-align: middle;\n",
       "    }\n",
       "\n",
       "    .dataframe tbody tr th {\n",
       "        vertical-align: top;\n",
       "    }\n",
       "\n",
       "    .dataframe thead th {\n",
       "        text-align: right;\n",
       "    }\n",
       "</style>\n",
       "<table border=\"1\" class=\"dataframe\">\n",
       "  <thead>\n",
       "    <tr style=\"text-align: right;\">\n",
       "      <th></th>\n",
       "      <th>proposal_title</th>\n",
       "      <th>mapped_choice</th>\n",
       "      <th>vote_count</th>\n",
       "    </tr>\n",
       "  </thead>\n",
       "  <tbody>\n",
       "    <tr>\n",
       "      <th>1</th>\n",
       "      <td>0xGen STIP Proposal - Round 1</td>\n",
       "      <td>Against</td>\n",
       "      <td>8444</td>\n",
       "    </tr>\n",
       "    <tr>\n",
       "      <th>5</th>\n",
       "      <td>AIP 1.05: Return 700M $ARB to the DAO Treasury...</td>\n",
       "      <td>For</td>\n",
       "      <td>30832</td>\n",
       "    </tr>\n",
       "    <tr>\n",
       "      <th>8</th>\n",
       "      <td>AIP-1.1 - Lockup, Budget, Transparency</td>\n",
       "      <td>For</td>\n",
       "      <td>41285</td>\n",
       "    </tr>\n",
       "    <tr>\n",
       "      <th>11</th>\n",
       "      <td>AIP-1.2 - Foundation and DAO Governance</td>\n",
       "      <td>For</td>\n",
       "      <td>42547</td>\n",
       "    </tr>\n",
       "    <tr>\n",
       "      <th>14</th>\n",
       "      <td>AIP-1: Arbitrum Improvement Proposal Framework</td>\n",
       "      <td>For</td>\n",
       "      <td>20404</td>\n",
       "    </tr>\n",
       "    <tr>\n",
       "      <th>...</th>\n",
       "      <td>...</td>\n",
       "      <td>...</td>\n",
       "      <td>...</td>\n",
       "    </tr>\n",
       "    <tr>\n",
       "      <th>329</th>\n",
       "      <td>[Non-Constitutional]: Arbitrum Stable Treasury...</td>\n",
       "      <td>For</td>\n",
       "      <td>21973</td>\n",
       "    </tr>\n",
       "    <tr>\n",
       "      <th>332</th>\n",
       "      <td>dForce STIP Proposal - Round 1</td>\n",
       "      <td>For</td>\n",
       "      <td>11764</td>\n",
       "    </tr>\n",
       "    <tr>\n",
       "      <th>335</th>\n",
       "      <td>iZUMi STIP Proposal - Round 1</td>\n",
       "      <td>For</td>\n",
       "      <td>20453</td>\n",
       "    </tr>\n",
       "    <tr>\n",
       "      <th>337</th>\n",
       "      <td>tBTC STIP Proposal - Round 1</td>\n",
       "      <td>Against</td>\n",
       "      <td>8998</td>\n",
       "    </tr>\n",
       "    <tr>\n",
       "      <th>341</th>\n",
       "      <td>unshETH STIP Proposal - Round 1</td>\n",
       "      <td>For</td>\n",
       "      <td>9009</td>\n",
       "    </tr>\n",
       "  </tbody>\n",
       "</table>\n",
       "<p>114 rows × 3 columns</p>\n",
       "</div>"
      ],
      "text/plain": [
       "                                        proposal_title mapped_choice  \\\n",
       "1                        0xGen STIP Proposal - Round 1       Against   \n",
       "5    AIP 1.05: Return 700M $ARB to the DAO Treasury...           For   \n",
       "8               AIP-1.1 - Lockup, Budget, Transparency           For   \n",
       "11             AIP-1.2 - Foundation and DAO Governance           For   \n",
       "14      AIP-1: Arbitrum Improvement Proposal Framework           For   \n",
       "..                                                 ...           ...   \n",
       "329  [Non-Constitutional]: Arbitrum Stable Treasury...           For   \n",
       "332                     dForce STIP Proposal - Round 1           For   \n",
       "335                      iZUMi STIP Proposal - Round 1           For   \n",
       "337                       tBTC STIP Proposal - Round 1       Against   \n",
       "341                    unshETH STIP Proposal - Round 1           For   \n",
       "\n",
       "     vote_count  \n",
       "1          8444  \n",
       "5         30832  \n",
       "8         41285  \n",
       "11        42547  \n",
       "14        20404  \n",
       "..          ...  \n",
       "329       21973  \n",
       "332       11764  \n",
       "335       20453  \n",
       "337        8998  \n",
       "341        9009  \n",
       "\n",
       "[114 rows x 3 columns]"
      ]
     },
     "execution_count": 36,
     "metadata": {},
     "output_type": "execute_result"
    }
   ],
   "source": [
    "# Group the data by 'proposal_title' and 'mapped_choice', and count the occurrences\n",
    "choice_counts = data1.groupby(['proposal_title', 'mapped_choice']).size().reset_index(name='vote_count')\n",
    "\n",
    "# Find the index of the row with the maximum vote count for each proposal\n",
    "idx = choice_counts.groupby('proposal_title')['vote_count'].idxmax()\n",
    "\n",
    "# Filter the choice_counts DataFrame to get the row with the highest vote count for each proposal\n",
    "result1 = choice_counts.loc[idx]\n",
    "\n",
    "# Display the result\n",
    "result1"
   ]
  },
  {
   "cell_type": "code",
   "execution_count": 37,
   "metadata": {},
   "outputs": [
    {
     "data": {
      "text/html": [
       "<div>\n",
       "<style scoped>\n",
       "    .dataframe tbody tr th:only-of-type {\n",
       "        vertical-align: middle;\n",
       "    }\n",
       "\n",
       "    .dataframe tbody tr th {\n",
       "        vertical-align: top;\n",
       "    }\n",
       "\n",
       "    .dataframe thead th {\n",
       "        text-align: right;\n",
       "    }\n",
       "</style>\n",
       "<table border=\"1\" class=\"dataframe\">\n",
       "  <thead>\n",
       "    <tr style=\"text-align: right;\">\n",
       "      <th></th>\n",
       "      <th>proposal_title</th>\n",
       "      <th>mapped_choice</th>\n",
       "      <th>total_voting_power</th>\n",
       "    </tr>\n",
       "  </thead>\n",
       "  <tbody>\n",
       "    <tr>\n",
       "      <th>1</th>\n",
       "      <td>0xGen STIP Proposal - Round 1</td>\n",
       "      <td>Against</td>\n",
       "      <td>1.076870e+08</td>\n",
       "    </tr>\n",
       "    <tr>\n",
       "      <th>4</th>\n",
       "      <td>AIP 1.05: Return 700M $ARB to the DAO Treasury...</td>\n",
       "      <td>Against</td>\n",
       "      <td>1.183344e+08</td>\n",
       "    </tr>\n",
       "    <tr>\n",
       "      <th>8</th>\n",
       "      <td>AIP-1.1 - Lockup, Budget, Transparency</td>\n",
       "      <td>For</td>\n",
       "      <td>1.370077e+08</td>\n",
       "    </tr>\n",
       "    <tr>\n",
       "      <th>11</th>\n",
       "      <td>AIP-1.2 - Foundation and DAO Governance</td>\n",
       "      <td>For</td>\n",
       "      <td>1.375864e+08</td>\n",
       "    </tr>\n",
       "    <tr>\n",
       "      <th>13</th>\n",
       "      <td>AIP-1: Arbitrum Improvement Proposal Framework</td>\n",
       "      <td>Against</td>\n",
       "      <td>1.003430e+08</td>\n",
       "    </tr>\n",
       "    <tr>\n",
       "      <th>...</th>\n",
       "      <td>...</td>\n",
       "      <td>...</td>\n",
       "      <td>...</td>\n",
       "    </tr>\n",
       "    <tr>\n",
       "      <th>329</th>\n",
       "      <td>[Non-Constitutional]: Arbitrum Stable Treasury...</td>\n",
       "      <td>For</td>\n",
       "      <td>1.322536e+08</td>\n",
       "    </tr>\n",
       "    <tr>\n",
       "      <th>332</th>\n",
       "      <td>dForce STIP Proposal - Round 1</td>\n",
       "      <td>For</td>\n",
       "      <td>9.560371e+07</td>\n",
       "    </tr>\n",
       "    <tr>\n",
       "      <th>333</th>\n",
       "      <td>iZUMi STIP Proposal - Round 1</td>\n",
       "      <td>Abstain</td>\n",
       "      <td>8.663047e+07</td>\n",
       "    </tr>\n",
       "    <tr>\n",
       "      <th>337</th>\n",
       "      <td>tBTC STIP Proposal - Round 1</td>\n",
       "      <td>Against</td>\n",
       "      <td>5.911580e+07</td>\n",
       "    </tr>\n",
       "    <tr>\n",
       "      <th>341</th>\n",
       "      <td>unshETH STIP Proposal - Round 1</td>\n",
       "      <td>For</td>\n",
       "      <td>7.141037e+07</td>\n",
       "    </tr>\n",
       "  </tbody>\n",
       "</table>\n",
       "<p>114 rows × 3 columns</p>\n",
       "</div>"
      ],
      "text/plain": [
       "                                        proposal_title mapped_choice  \\\n",
       "1                        0xGen STIP Proposal - Round 1       Against   \n",
       "4    AIP 1.05: Return 700M $ARB to the DAO Treasury...       Against   \n",
       "8               AIP-1.1 - Lockup, Budget, Transparency           For   \n",
       "11             AIP-1.2 - Foundation and DAO Governance           For   \n",
       "13      AIP-1: Arbitrum Improvement Proposal Framework       Against   \n",
       "..                                                 ...           ...   \n",
       "329  [Non-Constitutional]: Arbitrum Stable Treasury...           For   \n",
       "332                     dForce STIP Proposal - Round 1           For   \n",
       "333                      iZUMi STIP Proposal - Round 1       Abstain   \n",
       "337                       tBTC STIP Proposal - Round 1       Against   \n",
       "341                    unshETH STIP Proposal - Round 1           For   \n",
       "\n",
       "     total_voting_power  \n",
       "1          1.076870e+08  \n",
       "4          1.183344e+08  \n",
       "8          1.370077e+08  \n",
       "11         1.375864e+08  \n",
       "13         1.003430e+08  \n",
       "..                  ...  \n",
       "329        1.322536e+08  \n",
       "332        9.560371e+07  \n",
       "333        8.663047e+07  \n",
       "337        5.911580e+07  \n",
       "341        7.141037e+07  \n",
       "\n",
       "[114 rows x 3 columns]"
      ]
     },
     "execution_count": 37,
     "metadata": {},
     "output_type": "execute_result"
    }
   ],
   "source": [
    "# Group the data by 'proposal_title' and 'mapped_choice', and sum the voting power\n",
    "power_counts = data1.groupby(['proposal_title', 'mapped_choice'])['voting_power'].sum().reset_index(name='total_voting_power')\n",
    "\n",
    "# Find the index of the row with the maximum total voting power for each proposal\n",
    "idx = power_counts.groupby('proposal_title')['total_voting_power'].idxmax()\n",
    "\n",
    "# Filter the power_counts DataFrame to get the row with the highest total voting power for each proposal\n",
    "result1_power = power_counts.loc[idx]\n",
    "\n",
    "# Display the result\n",
    "result1_power"
   ]
  },
  {
   "cell_type": "code",
   "execution_count": 38,
   "metadata": {},
   "outputs": [
    {
     "data": {
      "text/html": [
       "<div>\n",
       "<style scoped>\n",
       "    .dataframe tbody tr th:only-of-type {\n",
       "        vertical-align: middle;\n",
       "    }\n",
       "\n",
       "    .dataframe tbody tr th {\n",
       "        vertical-align: top;\n",
       "    }\n",
       "\n",
       "    .dataframe thead th {\n",
       "        text-align: right;\n",
       "    }\n",
       "</style>\n",
       "<table border=\"1\" class=\"dataframe\">\n",
       "  <thead>\n",
       "    <tr style=\"text-align: right;\">\n",
       "      <th></th>\n",
       "      <th>proposal_title</th>\n",
       "      <th>mapped_choice_result</th>\n",
       "      <th>vote_count_result</th>\n",
       "      <th>mapped_choice_result1</th>\n",
       "      <th>vote_count_result1</th>\n",
       "      <th>mapped_choice_same</th>\n",
       "    </tr>\n",
       "  </thead>\n",
       "  <tbody>\n",
       "    <tr>\n",
       "      <th>0</th>\n",
       "      <td>0xGen STIP Proposal - Round 1</td>\n",
       "      <td>Against</td>\n",
       "      <td>15</td>\n",
       "      <td>Against</td>\n",
       "      <td>8444</td>\n",
       "      <td>True</td>\n",
       "    </tr>\n",
       "    <tr>\n",
       "      <th>1</th>\n",
       "      <td>AIP 1.05: Return 700M $ARB to the DAO Treasury...</td>\n",
       "      <td>Against</td>\n",
       "      <td>31</td>\n",
       "      <td>For</td>\n",
       "      <td>30832</td>\n",
       "      <td>False</td>\n",
       "    </tr>\n",
       "    <tr>\n",
       "      <th>2</th>\n",
       "      <td>AIP-1.1 - Lockup, Budget, Transparency</td>\n",
       "      <td>For</td>\n",
       "      <td>34</td>\n",
       "      <td>For</td>\n",
       "      <td>41285</td>\n",
       "      <td>True</td>\n",
       "    </tr>\n",
       "    <tr>\n",
       "      <th>3</th>\n",
       "      <td>AIP-1.2 - Foundation and DAO Governance</td>\n",
       "      <td>For</td>\n",
       "      <td>33</td>\n",
       "      <td>For</td>\n",
       "      <td>42547</td>\n",
       "      <td>True</td>\n",
       "    </tr>\n",
       "    <tr>\n",
       "      <th>4</th>\n",
       "      <td>AIP-1: Arbitrum Improvement Proposal Framework</td>\n",
       "      <td>Against</td>\n",
       "      <td>25</td>\n",
       "      <td>For</td>\n",
       "      <td>20404</td>\n",
       "      <td>False</td>\n",
       "    </tr>\n",
       "    <tr>\n",
       "      <th>...</th>\n",
       "      <td>...</td>\n",
       "      <td>...</td>\n",
       "      <td>...</td>\n",
       "      <td>...</td>\n",
       "      <td>...</td>\n",
       "      <td>...</td>\n",
       "    </tr>\n",
       "    <tr>\n",
       "      <th>109</th>\n",
       "      <td>[Non-Constitutional]: Arbitrum Stable Treasury...</td>\n",
       "      <td>For</td>\n",
       "      <td>23</td>\n",
       "      <td>For</td>\n",
       "      <td>21973</td>\n",
       "      <td>True</td>\n",
       "    </tr>\n",
       "    <tr>\n",
       "      <th>110</th>\n",
       "      <td>dForce STIP Proposal - Round 1</td>\n",
       "      <td>For</td>\n",
       "      <td>16</td>\n",
       "      <td>For</td>\n",
       "      <td>11764</td>\n",
       "      <td>True</td>\n",
       "    </tr>\n",
       "    <tr>\n",
       "      <th>111</th>\n",
       "      <td>iZUMi STIP Proposal - Round 1</td>\n",
       "      <td>For</td>\n",
       "      <td>16</td>\n",
       "      <td>For</td>\n",
       "      <td>20453</td>\n",
       "      <td>True</td>\n",
       "    </tr>\n",
       "    <tr>\n",
       "      <th>112</th>\n",
       "      <td>tBTC STIP Proposal - Round 1</td>\n",
       "      <td>Against</td>\n",
       "      <td>12</td>\n",
       "      <td>Against</td>\n",
       "      <td>8998</td>\n",
       "      <td>True</td>\n",
       "    </tr>\n",
       "    <tr>\n",
       "      <th>113</th>\n",
       "      <td>unshETH STIP Proposal - Round 1</td>\n",
       "      <td>For</td>\n",
       "      <td>12</td>\n",
       "      <td>For</td>\n",
       "      <td>9009</td>\n",
       "      <td>True</td>\n",
       "    </tr>\n",
       "  </tbody>\n",
       "</table>\n",
       "<p>114 rows × 6 columns</p>\n",
       "</div>"
      ],
      "text/plain": [
       "                                        proposal_title mapped_choice_result  \\\n",
       "0                        0xGen STIP Proposal - Round 1              Against   \n",
       "1    AIP 1.05: Return 700M $ARB to the DAO Treasury...              Against   \n",
       "2               AIP-1.1 - Lockup, Budget, Transparency                  For   \n",
       "3              AIP-1.2 - Foundation and DAO Governance                  For   \n",
       "4       AIP-1: Arbitrum Improvement Proposal Framework              Against   \n",
       "..                                                 ...                  ...   \n",
       "109  [Non-Constitutional]: Arbitrum Stable Treasury...                  For   \n",
       "110                     dForce STIP Proposal - Round 1                  For   \n",
       "111                      iZUMi STIP Proposal - Round 1                  For   \n",
       "112                       tBTC STIP Proposal - Round 1              Against   \n",
       "113                    unshETH STIP Proposal - Round 1                  For   \n",
       "\n",
       "     vote_count_result mapped_choice_result1  vote_count_result1  \\\n",
       "0                   15               Against                8444   \n",
       "1                   31                   For               30832   \n",
       "2                   34                   For               41285   \n",
       "3                   33                   For               42547   \n",
       "4                   25                   For               20404   \n",
       "..                 ...                   ...                 ...   \n",
       "109                 23                   For               21973   \n",
       "110                 16                   For               11764   \n",
       "111                 16                   For               20453   \n",
       "112                 12               Against                8998   \n",
       "113                 12                   For                9009   \n",
       "\n",
       "     mapped_choice_same  \n",
       "0                  True  \n",
       "1                 False  \n",
       "2                  True  \n",
       "3                  True  \n",
       "4                 False  \n",
       "..                  ...  \n",
       "109                True  \n",
       "110                True  \n",
       "111                True  \n",
       "112                True  \n",
       "113                True  \n",
       "\n",
       "[114 rows x 6 columns]"
      ]
     },
     "execution_count": 38,
     "metadata": {},
     "output_type": "execute_result"
    }
   ],
   "source": [
    "# Merge result and result1 DataFrames on 'proposal_title'\n",
    "merged_result = pd.merge(result, result1, on='proposal_title', suffixes=('_result', '_result1'))\n",
    "\n",
    "# Check if the mapped choices are the same for each proposal\n",
    "merged_result['mapped_choice_same'] = merged_result['mapped_choice_result'] == merged_result['mapped_choice_result1']\n",
    "\n",
    "# Display the result\n",
    "merged_result"
   ]
  },
  {
   "cell_type": "code",
   "execution_count": 39,
   "metadata": {},
   "outputs": [
    {
     "data": {
      "text/html": [
       "<div>\n",
       "<style scoped>\n",
       "    .dataframe tbody tr th:only-of-type {\n",
       "        vertical-align: middle;\n",
       "    }\n",
       "\n",
       "    .dataframe tbody tr th {\n",
       "        vertical-align: top;\n",
       "    }\n",
       "\n",
       "    .dataframe thead th {\n",
       "        text-align: right;\n",
       "    }\n",
       "</style>\n",
       "<table border=\"1\" class=\"dataframe\">\n",
       "  <thead>\n",
       "    <tr style=\"text-align: right;\">\n",
       "      <th></th>\n",
       "      <th>index</th>\n",
       "      <th>proposal_title</th>\n",
       "      <th>mapped_choice_result</th>\n",
       "      <th>vote_count_result</th>\n",
       "      <th>mapped_choice_result1</th>\n",
       "      <th>vote_count_result1</th>\n",
       "      <th>mapped_choice_same</th>\n",
       "    </tr>\n",
       "  </thead>\n",
       "  <tbody>\n",
       "    <tr>\n",
       "      <th>0</th>\n",
       "      <td>1</td>\n",
       "      <td>AIP 1.05: Return 700M $ARB to the DAO Treasury...</td>\n",
       "      <td>Against</td>\n",
       "      <td>31</td>\n",
       "      <td>For</td>\n",
       "      <td>30832</td>\n",
       "      <td>False</td>\n",
       "    </tr>\n",
       "    <tr>\n",
       "      <th>1</th>\n",
       "      <td>4</td>\n",
       "      <td>AIP-1: Arbitrum Improvement Proposal Framework</td>\n",
       "      <td>Against</td>\n",
       "      <td>25</td>\n",
       "      <td>For</td>\n",
       "      <td>20404</td>\n",
       "      <td>False</td>\n",
       "    </tr>\n",
       "    <tr>\n",
       "      <th>2</th>\n",
       "      <td>7</td>\n",
       "      <td>Accelerating Arbitrum - leveraging Camelot as ...</td>\n",
       "      <td>Against</td>\n",
       "      <td>13</td>\n",
       "      <td>For</td>\n",
       "      <td>28662</td>\n",
       "      <td>False</td>\n",
       "    </tr>\n",
       "    <tr>\n",
       "      <th>3</th>\n",
       "      <td>12</td>\n",
       "      <td>Archi Finance STIP Proposal - Round 1</td>\n",
       "      <td>Abstain</td>\n",
       "      <td>8</td>\n",
       "      <td>Against</td>\n",
       "      <td>7916</td>\n",
       "      <td>False</td>\n",
       "    </tr>\n",
       "    <tr>\n",
       "      <th>4</th>\n",
       "      <td>28</td>\n",
       "      <td>Equilibria STIP Proposal - Round 1</td>\n",
       "      <td>Against</td>\n",
       "      <td>8</td>\n",
       "      <td>For</td>\n",
       "      <td>10651</td>\n",
       "      <td>False</td>\n",
       "    </tr>\n",
       "    <tr>\n",
       "      <th>5</th>\n",
       "      <td>29</td>\n",
       "      <td>Florence Finance STIP Proposal - Round 1</td>\n",
       "      <td>For</td>\n",
       "      <td>6</td>\n",
       "      <td>Against</td>\n",
       "      <td>8303</td>\n",
       "      <td>False</td>\n",
       "    </tr>\n",
       "    <tr>\n",
       "      <th>6</th>\n",
       "      <td>46</td>\n",
       "      <td>Lido STIP Proposal - Round 1</td>\n",
       "      <td>For</td>\n",
       "      <td>14</td>\n",
       "      <td>Against</td>\n",
       "      <td>8295</td>\n",
       "      <td>False</td>\n",
       "    </tr>\n",
       "    <tr>\n",
       "      <th>7</th>\n",
       "      <td>58</td>\n",
       "      <td>Prime Protocol STIP Proposal - Round 1</td>\n",
       "      <td>Against</td>\n",
       "      <td>8</td>\n",
       "      <td>For</td>\n",
       "      <td>8092</td>\n",
       "      <td>False</td>\n",
       "    </tr>\n",
       "    <tr>\n",
       "      <th>8</th>\n",
       "      <td>72</td>\n",
       "      <td>Range Protocol STIP Proposal - Round 1</td>\n",
       "      <td>Abstain</td>\n",
       "      <td>8</td>\n",
       "      <td>For</td>\n",
       "      <td>11418</td>\n",
       "      <td>False</td>\n",
       "    </tr>\n",
       "    <tr>\n",
       "      <th>9</th>\n",
       "      <td>83</td>\n",
       "      <td>StakeDAO STIP Proposal - Round 1</td>\n",
       "      <td>For</td>\n",
       "      <td>9</td>\n",
       "      <td>Against</td>\n",
       "      <td>8976</td>\n",
       "      <td>False</td>\n",
       "    </tr>\n",
       "    <tr>\n",
       "      <th>10</th>\n",
       "      <td>102</td>\n",
       "      <td>Webacy STIP Proposal - Round 1</td>\n",
       "      <td>Against</td>\n",
       "      <td>11</td>\n",
       "      <td>For</td>\n",
       "      <td>8188</td>\n",
       "      <td>False</td>\n",
       "    </tr>\n",
       "    <tr>\n",
       "      <th>11</th>\n",
       "      <td>103</td>\n",
       "      <td>Wombat Exchange STIP Proposal - Round 1</td>\n",
       "      <td>Abstain</td>\n",
       "      <td>8</td>\n",
       "      <td>Against</td>\n",
       "      <td>11181</td>\n",
       "      <td>False</td>\n",
       "    </tr>\n",
       "    <tr>\n",
       "      <th>12</th>\n",
       "      <td>105</td>\n",
       "      <td>Wormhole STIP Proposal - Round 1</td>\n",
       "      <td>Against</td>\n",
       "      <td>13</td>\n",
       "      <td>For</td>\n",
       "      <td>9124</td>\n",
       "      <td>False</td>\n",
       "    </tr>\n",
       "    <tr>\n",
       "      <th>13</th>\n",
       "      <td>106</td>\n",
       "      <td>XY STIP Proposal - Round 1</td>\n",
       "      <td>Against</td>\n",
       "      <td>12</td>\n",
       "      <td>For</td>\n",
       "      <td>8065</td>\n",
       "      <td>False</td>\n",
       "    </tr>\n",
       "    <tr>\n",
       "      <th>14</th>\n",
       "      <td>108</td>\n",
       "      <td>[Non-Constitutional] Fund the Arbitrum Grants ...</td>\n",
       "      <td>Against</td>\n",
       "      <td>9</td>\n",
       "      <td>For</td>\n",
       "      <td>24452</td>\n",
       "      <td>False</td>\n",
       "    </tr>\n",
       "  </tbody>\n",
       "</table>\n",
       "</div>"
      ],
      "text/plain": [
       "    index                                     proposal_title  \\\n",
       "0       1  AIP 1.05: Return 700M $ARB to the DAO Treasury...   \n",
       "1       4     AIP-1: Arbitrum Improvement Proposal Framework   \n",
       "2       7  Accelerating Arbitrum - leveraging Camelot as ...   \n",
       "3      12              Archi Finance STIP Proposal - Round 1   \n",
       "4      28                 Equilibria STIP Proposal - Round 1   \n",
       "5      29           Florence Finance STIP Proposal - Round 1   \n",
       "6      46                       Lido STIP Proposal - Round 1   \n",
       "7      58             Prime Protocol STIP Proposal - Round 1   \n",
       "8      72             Range Protocol STIP Proposal - Round 1   \n",
       "9      83                   StakeDAO STIP Proposal - Round 1   \n",
       "10    102                     Webacy STIP Proposal - Round 1   \n",
       "11    103            Wombat Exchange STIP Proposal - Round 1   \n",
       "12    105                   Wormhole STIP Proposal - Round 1   \n",
       "13    106                         XY STIP Proposal - Round 1   \n",
       "14    108  [Non-Constitutional] Fund the Arbitrum Grants ...   \n",
       "\n",
       "   mapped_choice_result  vote_count_result mapped_choice_result1  \\\n",
       "0               Against                 31                   For   \n",
       "1               Against                 25                   For   \n",
       "2               Against                 13                   For   \n",
       "3               Abstain                  8               Against   \n",
       "4               Against                  8                   For   \n",
       "5                   For                  6               Against   \n",
       "6                   For                 14               Against   \n",
       "7               Against                  8                   For   \n",
       "8               Abstain                  8                   For   \n",
       "9                   For                  9               Against   \n",
       "10              Against                 11                   For   \n",
       "11              Abstain                  8               Against   \n",
       "12              Against                 13                   For   \n",
       "13              Against                 12                   For   \n",
       "14              Against                  9                   For   \n",
       "\n",
       "    vote_count_result1  mapped_choice_same  \n",
       "0                30832               False  \n",
       "1                20404               False  \n",
       "2                28662               False  \n",
       "3                 7916               False  \n",
       "4                10651               False  \n",
       "5                 8303               False  \n",
       "6                 8295               False  \n",
       "7                 8092               False  \n",
       "8                11418               False  \n",
       "9                 8976               False  \n",
       "10                8188               False  \n",
       "11               11181               False  \n",
       "12                9124               False  \n",
       "13                8065               False  \n",
       "14               24452               False  "
      ]
     },
     "execution_count": 39,
     "metadata": {},
     "output_type": "execute_result"
    }
   ],
   "source": [
    "merged_result[merged_result['mapped_choice_same'] == False].reset_index()"
   ]
  },
  {
   "cell_type": "markdown",
   "metadata": {},
   "source": [
    "From the above table it can be seen that the voters with high voting power influence the decision of others."
   ]
  },
  {
   "cell_type": "code",
   "execution_count": 40,
   "metadata": {},
   "outputs": [],
   "source": [
    "# Rename the columns\n",
    "merged_result.rename(columns={ \n",
    "    'mapped_choice_result': 'choice_of_voters_high_voting_power', \n",
    "    'vote_count_result': 'vote_count', \n",
    "    'mapped_choice_result1': 'choice_of_majority', \n",
    "    'vote_count_result1': 'majority_vote_count'\n",
    "}, inplace=True)\n"
   ]
  },
  {
   "cell_type": "code",
   "execution_count": 41,
   "metadata": {},
   "outputs": [],
   "source": [
    "selected_columns = ['proposal_title', 'choice_of_voters_high_voting_power', 'vote_count', 'choice_of_majority', 'majority_vote_count']\n",
    "selected_data = merged_result[merged_result['mapped_choice_same'] == False][selected_columns]\n",
    "# Save to HTML file\n",
    "selected_data.to_html(r'Graphs\\table.html', index=False)"
   ]
  },
  {
   "cell_type": "code",
   "execution_count": 42,
   "metadata": {},
   "outputs": [
    {
     "data": {
      "text/html": [
       "<div>\n",
       "<style scoped>\n",
       "    .dataframe tbody tr th:only-of-type {\n",
       "        vertical-align: middle;\n",
       "    }\n",
       "\n",
       "    .dataframe tbody tr th {\n",
       "        vertical-align: top;\n",
       "    }\n",
       "\n",
       "    .dataframe thead th {\n",
       "        text-align: right;\n",
       "    }\n",
       "</style>\n",
       "<table border=\"1\" class=\"dataframe\">\n",
       "  <thead>\n",
       "    <tr style=\"text-align: right;\">\n",
       "      <th></th>\n",
       "      <th>proposal_title</th>\n",
       "      <th>mapped_choice_result</th>\n",
       "      <th>total_voting_power_result</th>\n",
       "      <th>mapped_choice_result1</th>\n",
       "      <th>total_voting_power_result1</th>\n",
       "      <th>mapped_choice_same</th>\n",
       "    </tr>\n",
       "  </thead>\n",
       "  <tbody>\n",
       "    <tr>\n",
       "      <th>0</th>\n",
       "      <td>0xGen STIP Proposal - Round 1</td>\n",
       "      <td>Against</td>\n",
       "      <td>1.032636e+08</td>\n",
       "      <td>Against</td>\n",
       "      <td>1.076870e+08</td>\n",
       "      <td>True</td>\n",
       "    </tr>\n",
       "    <tr>\n",
       "      <th>1</th>\n",
       "      <td>AIP 1.05: Return 700M $ARB to the DAO Treasury...</td>\n",
       "      <td>Against</td>\n",
       "      <td>1.019226e+08</td>\n",
       "      <td>Against</td>\n",
       "      <td>1.183344e+08</td>\n",
       "      <td>True</td>\n",
       "    </tr>\n",
       "    <tr>\n",
       "      <th>2</th>\n",
       "      <td>AIP-1.1 - Lockup, Budget, Transparency</td>\n",
       "      <td>For</td>\n",
       "      <td>1.071956e+08</td>\n",
       "      <td>For</td>\n",
       "      <td>1.370077e+08</td>\n",
       "      <td>True</td>\n",
       "    </tr>\n",
       "    <tr>\n",
       "      <th>3</th>\n",
       "      <td>AIP-1.2 - Foundation and DAO Governance</td>\n",
       "      <td>For</td>\n",
       "      <td>1.064821e+08</td>\n",
       "      <td>For</td>\n",
       "      <td>1.375864e+08</td>\n",
       "      <td>True</td>\n",
       "    </tr>\n",
       "    <tr>\n",
       "      <th>4</th>\n",
       "      <td>AIP-1: Arbitrum Improvement Proposal Framework</td>\n",
       "      <td>Against</td>\n",
       "      <td>8.097447e+07</td>\n",
       "      <td>Against</td>\n",
       "      <td>1.003430e+08</td>\n",
       "      <td>True</td>\n",
       "    </tr>\n",
       "    <tr>\n",
       "      <th>...</th>\n",
       "      <td>...</td>\n",
       "      <td>...</td>\n",
       "      <td>...</td>\n",
       "      <td>...</td>\n",
       "      <td>...</td>\n",
       "      <td>...</td>\n",
       "    </tr>\n",
       "    <tr>\n",
       "      <th>109</th>\n",
       "      <td>[Non-Constitutional]: Arbitrum Stable Treasury...</td>\n",
       "      <td>For</td>\n",
       "      <td>1.252640e+08</td>\n",
       "      <td>For</td>\n",
       "      <td>1.322536e+08</td>\n",
       "      <td>True</td>\n",
       "    </tr>\n",
       "    <tr>\n",
       "      <th>110</th>\n",
       "      <td>dForce STIP Proposal - Round 1</td>\n",
       "      <td>For</td>\n",
       "      <td>9.118759e+07</td>\n",
       "      <td>For</td>\n",
       "      <td>9.560371e+07</td>\n",
       "      <td>True</td>\n",
       "    </tr>\n",
       "    <tr>\n",
       "      <th>111</th>\n",
       "      <td>iZUMi STIP Proposal - Round 1</td>\n",
       "      <td>Abstain</td>\n",
       "      <td>8.468403e+07</td>\n",
       "      <td>Abstain</td>\n",
       "      <td>8.663047e+07</td>\n",
       "      <td>True</td>\n",
       "    </tr>\n",
       "    <tr>\n",
       "      <th>112</th>\n",
       "      <td>tBTC STIP Proposal - Round 1</td>\n",
       "      <td>Against</td>\n",
       "      <td>5.246477e+07</td>\n",
       "      <td>Against</td>\n",
       "      <td>5.911580e+07</td>\n",
       "      <td>True</td>\n",
       "    </tr>\n",
       "    <tr>\n",
       "      <th>113</th>\n",
       "      <td>unshETH STIP Proposal - Round 1</td>\n",
       "      <td>For</td>\n",
       "      <td>6.566829e+07</td>\n",
       "      <td>For</td>\n",
       "      <td>7.141037e+07</td>\n",
       "      <td>True</td>\n",
       "    </tr>\n",
       "  </tbody>\n",
       "</table>\n",
       "<p>114 rows × 6 columns</p>\n",
       "</div>"
      ],
      "text/plain": [
       "                                        proposal_title mapped_choice_result  \\\n",
       "0                        0xGen STIP Proposal - Round 1              Against   \n",
       "1    AIP 1.05: Return 700M $ARB to the DAO Treasury...              Against   \n",
       "2               AIP-1.1 - Lockup, Budget, Transparency                  For   \n",
       "3              AIP-1.2 - Foundation and DAO Governance                  For   \n",
       "4       AIP-1: Arbitrum Improvement Proposal Framework              Against   \n",
       "..                                                 ...                  ...   \n",
       "109  [Non-Constitutional]: Arbitrum Stable Treasury...                  For   \n",
       "110                     dForce STIP Proposal - Round 1                  For   \n",
       "111                      iZUMi STIP Proposal - Round 1              Abstain   \n",
       "112                       tBTC STIP Proposal - Round 1              Against   \n",
       "113                    unshETH STIP Proposal - Round 1                  For   \n",
       "\n",
       "     total_voting_power_result mapped_choice_result1  \\\n",
       "0                 1.032636e+08               Against   \n",
       "1                 1.019226e+08               Against   \n",
       "2                 1.071956e+08                   For   \n",
       "3                 1.064821e+08                   For   \n",
       "4                 8.097447e+07               Against   \n",
       "..                         ...                   ...   \n",
       "109               1.252640e+08                   For   \n",
       "110               9.118759e+07                   For   \n",
       "111               8.468403e+07               Abstain   \n",
       "112               5.246477e+07               Against   \n",
       "113               6.566829e+07                   For   \n",
       "\n",
       "     total_voting_power_result1  mapped_choice_same  \n",
       "0                  1.076870e+08                True  \n",
       "1                  1.183344e+08                True  \n",
       "2                  1.370077e+08                True  \n",
       "3                  1.375864e+08                True  \n",
       "4                  1.003430e+08                True  \n",
       "..                          ...                 ...  \n",
       "109                1.322536e+08                True  \n",
       "110                9.560371e+07                True  \n",
       "111                8.663047e+07                True  \n",
       "112                5.911580e+07                True  \n",
       "113                7.141037e+07                True  \n",
       "\n",
       "[114 rows x 6 columns]"
      ]
     },
     "execution_count": 42,
     "metadata": {},
     "output_type": "execute_result"
    }
   ],
   "source": [
    "# Merge result and result1 DataFrames on 'proposal_title'\n",
    "merged_result1 = pd.merge(result_power, result1_power, on='proposal_title', suffixes=('_result', '_result1'))\n",
    "\n",
    "# Check if the mapped choices are the same for each proposal\n",
    "merged_result1['mapped_choice_same'] = merged_result1['mapped_choice_result'] == merged_result1['mapped_choice_result1']\n",
    "\n",
    "# Display the result\n",
    "merged_result1"
   ]
  },
  {
   "cell_type": "code",
   "execution_count": 43,
   "metadata": {},
   "outputs": [
    {
     "data": {
      "text/html": [
       "<div>\n",
       "<style scoped>\n",
       "    .dataframe tbody tr th:only-of-type {\n",
       "        vertical-align: middle;\n",
       "    }\n",
       "\n",
       "    .dataframe tbody tr th {\n",
       "        vertical-align: top;\n",
       "    }\n",
       "\n",
       "    .dataframe thead th {\n",
       "        text-align: right;\n",
       "    }\n",
       "</style>\n",
       "<table border=\"1\" class=\"dataframe\">\n",
       "  <thead>\n",
       "    <tr style=\"text-align: right;\">\n",
       "      <th></th>\n",
       "      <th>proposal_title</th>\n",
       "      <th>mapped_choice_result</th>\n",
       "      <th>total_voting_power_result</th>\n",
       "      <th>mapped_choice_result1</th>\n",
       "      <th>total_voting_power_result1</th>\n",
       "      <th>mapped_choice_same</th>\n",
       "      <th>percentage_power</th>\n",
       "    </tr>\n",
       "  </thead>\n",
       "  <tbody>\n",
       "    <tr>\n",
       "      <th>0</th>\n",
       "      <td>0xGen STIP Proposal - Round 1</td>\n",
       "      <td>Against</td>\n",
       "      <td>1.032636e+08</td>\n",
       "      <td>Against</td>\n",
       "      <td>1.076870e+08</td>\n",
       "      <td>True</td>\n",
       "      <td>95.89</td>\n",
       "    </tr>\n",
       "    <tr>\n",
       "      <th>1</th>\n",
       "      <td>AIP 1.05: Return 700M $ARB to the DAO Treasury...</td>\n",
       "      <td>Against</td>\n",
       "      <td>1.019226e+08</td>\n",
       "      <td>Against</td>\n",
       "      <td>1.183344e+08</td>\n",
       "      <td>True</td>\n",
       "      <td>86.13</td>\n",
       "    </tr>\n",
       "    <tr>\n",
       "      <th>2</th>\n",
       "      <td>AIP-1.1 - Lockup, Budget, Transparency</td>\n",
       "      <td>For</td>\n",
       "      <td>1.071956e+08</td>\n",
       "      <td>For</td>\n",
       "      <td>1.370077e+08</td>\n",
       "      <td>True</td>\n",
       "      <td>78.24</td>\n",
       "    </tr>\n",
       "    <tr>\n",
       "      <th>3</th>\n",
       "      <td>AIP-1.2 - Foundation and DAO Governance</td>\n",
       "      <td>For</td>\n",
       "      <td>1.064821e+08</td>\n",
       "      <td>For</td>\n",
       "      <td>1.375864e+08</td>\n",
       "      <td>True</td>\n",
       "      <td>77.39</td>\n",
       "    </tr>\n",
       "    <tr>\n",
       "      <th>4</th>\n",
       "      <td>AIP-1: Arbitrum Improvement Proposal Framework</td>\n",
       "      <td>Against</td>\n",
       "      <td>8.097447e+07</td>\n",
       "      <td>Against</td>\n",
       "      <td>1.003430e+08</td>\n",
       "      <td>True</td>\n",
       "      <td>80.70</td>\n",
       "    </tr>\n",
       "    <tr>\n",
       "      <th>...</th>\n",
       "      <td>...</td>\n",
       "      <td>...</td>\n",
       "      <td>...</td>\n",
       "      <td>...</td>\n",
       "      <td>...</td>\n",
       "      <td>...</td>\n",
       "      <td>...</td>\n",
       "    </tr>\n",
       "    <tr>\n",
       "      <th>109</th>\n",
       "      <td>[Non-Constitutional]: Arbitrum Stable Treasury...</td>\n",
       "      <td>For</td>\n",
       "      <td>1.252640e+08</td>\n",
       "      <td>For</td>\n",
       "      <td>1.322536e+08</td>\n",
       "      <td>True</td>\n",
       "      <td>94.71</td>\n",
       "    </tr>\n",
       "    <tr>\n",
       "      <th>110</th>\n",
       "      <td>dForce STIP Proposal - Round 1</td>\n",
       "      <td>For</td>\n",
       "      <td>9.118759e+07</td>\n",
       "      <td>For</td>\n",
       "      <td>9.560371e+07</td>\n",
       "      <td>True</td>\n",
       "      <td>95.38</td>\n",
       "    </tr>\n",
       "    <tr>\n",
       "      <th>111</th>\n",
       "      <td>iZUMi STIP Proposal - Round 1</td>\n",
       "      <td>Abstain</td>\n",
       "      <td>8.468403e+07</td>\n",
       "      <td>Abstain</td>\n",
       "      <td>8.663047e+07</td>\n",
       "      <td>True</td>\n",
       "      <td>97.75</td>\n",
       "    </tr>\n",
       "    <tr>\n",
       "      <th>112</th>\n",
       "      <td>tBTC STIP Proposal - Round 1</td>\n",
       "      <td>Against</td>\n",
       "      <td>5.246477e+07</td>\n",
       "      <td>Against</td>\n",
       "      <td>5.911580e+07</td>\n",
       "      <td>True</td>\n",
       "      <td>88.75</td>\n",
       "    </tr>\n",
       "    <tr>\n",
       "      <th>113</th>\n",
       "      <td>unshETH STIP Proposal - Round 1</td>\n",
       "      <td>For</td>\n",
       "      <td>6.566829e+07</td>\n",
       "      <td>For</td>\n",
       "      <td>7.141037e+07</td>\n",
       "      <td>True</td>\n",
       "      <td>91.96</td>\n",
       "    </tr>\n",
       "  </tbody>\n",
       "</table>\n",
       "<p>114 rows × 7 columns</p>\n",
       "</div>"
      ],
      "text/plain": [
       "                                        proposal_title mapped_choice_result  \\\n",
       "0                        0xGen STIP Proposal - Round 1              Against   \n",
       "1    AIP 1.05: Return 700M $ARB to the DAO Treasury...              Against   \n",
       "2               AIP-1.1 - Lockup, Budget, Transparency                  For   \n",
       "3              AIP-1.2 - Foundation and DAO Governance                  For   \n",
       "4       AIP-1: Arbitrum Improvement Proposal Framework              Against   \n",
       "..                                                 ...                  ...   \n",
       "109  [Non-Constitutional]: Arbitrum Stable Treasury...                  For   \n",
       "110                     dForce STIP Proposal - Round 1                  For   \n",
       "111                      iZUMi STIP Proposal - Round 1              Abstain   \n",
       "112                       tBTC STIP Proposal - Round 1              Against   \n",
       "113                    unshETH STIP Proposal - Round 1                  For   \n",
       "\n",
       "     total_voting_power_result mapped_choice_result1  \\\n",
       "0                 1.032636e+08               Against   \n",
       "1                 1.019226e+08               Against   \n",
       "2                 1.071956e+08                   For   \n",
       "3                 1.064821e+08                   For   \n",
       "4                 8.097447e+07               Against   \n",
       "..                         ...                   ...   \n",
       "109               1.252640e+08                   For   \n",
       "110               9.118759e+07                   For   \n",
       "111               8.468403e+07               Abstain   \n",
       "112               5.246477e+07               Against   \n",
       "113               6.566829e+07                   For   \n",
       "\n",
       "     total_voting_power_result1  mapped_choice_same  percentage_power  \n",
       "0                  1.076870e+08                True             95.89  \n",
       "1                  1.183344e+08                True             86.13  \n",
       "2                  1.370077e+08                True             78.24  \n",
       "3                  1.375864e+08                True             77.39  \n",
       "4                  1.003430e+08                True             80.70  \n",
       "..                          ...                 ...               ...  \n",
       "109                1.322536e+08                True             94.71  \n",
       "110                9.560371e+07                True             95.38  \n",
       "111                8.663047e+07                True             97.75  \n",
       "112                5.911580e+07                True             88.75  \n",
       "113                7.141037e+07                True             91.96  \n",
       "\n",
       "[114 rows x 7 columns]"
      ]
     },
     "execution_count": 43,
     "metadata": {},
     "output_type": "execute_result"
    }
   ],
   "source": [
    "# Calculate the percentage of total_voting_power_result with respect to total_voting_power_result1\n",
    "merged_result1['percentage_power'] = round((merged_result1['total_voting_power_result'] / merged_result1['total_voting_power_result1']) * 100, 2)\n",
    "\n",
    "# Display the result\n",
    "merged_result1"
   ]
  },
  {
   "cell_type": "markdown",
   "metadata": {},
   "source": [
    "# Proposal Specific Analysis"
   ]
  },
  {
   "cell_type": "code",
   "execution_count": 44,
   "metadata": {},
   "outputs": [
    {
     "data": {
      "text/html": [
       "<div>\n",
       "<style scoped>\n",
       "    .dataframe tbody tr th:only-of-type {\n",
       "        vertical-align: middle;\n",
       "    }\n",
       "\n",
       "    .dataframe tbody tr th {\n",
       "        vertical-align: top;\n",
       "    }\n",
       "\n",
       "    .dataframe thead th {\n",
       "        text-align: right;\n",
       "    }\n",
       "</style>\n",
       "<table border=\"1\" class=\"dataframe\">\n",
       "  <thead>\n",
       "    <tr style=\"text-align: right;\">\n",
       "      <th></th>\n",
       "      <th>proposal_title</th>\n",
       "      <th>total_voting_power</th>\n",
       "    </tr>\n",
       "  </thead>\n",
       "  <tbody>\n",
       "    <tr>\n",
       "      <th>0</th>\n",
       "      <td>0xGen STIP Proposal - Round 1</td>\n",
       "      <td>1.126770e+08</td>\n",
       "    </tr>\n",
       "    <tr>\n",
       "      <th>1</th>\n",
       "      <td>AIP 1.05: Return 700M $ARB to the DAO Treasury...</td>\n",
       "      <td>1.408547e+08</td>\n",
       "    </tr>\n",
       "    <tr>\n",
       "      <th>2</th>\n",
       "      <td>AIP-1.1 - Lockup, Budget, Transparency</td>\n",
       "      <td>1.396229e+08</td>\n",
       "    </tr>\n",
       "    <tr>\n",
       "      <th>3</th>\n",
       "      <td>AIP-1.2 - Foundation and DAO Governance</td>\n",
       "      <td>1.387616e+08</td>\n",
       "    </tr>\n",
       "    <tr>\n",
       "      <th>4</th>\n",
       "      <td>AIP-1: Arbitrum Improvement Proposal Framework</td>\n",
       "      <td>1.308752e+08</td>\n",
       "    </tr>\n",
       "    <tr>\n",
       "      <th>...</th>\n",
       "      <td>...</td>\n",
       "      <td>...</td>\n",
       "    </tr>\n",
       "    <tr>\n",
       "      <th>109</th>\n",
       "      <td>[Non-Constitutional]: Arbitrum Stable Treasury...</td>\n",
       "      <td>1.327322e+08</td>\n",
       "    </tr>\n",
       "    <tr>\n",
       "      <th>110</th>\n",
       "      <td>dForce STIP Proposal - Round 1</td>\n",
       "      <td>1.395754e+08</td>\n",
       "    </tr>\n",
       "    <tr>\n",
       "      <th>111</th>\n",
       "      <td>iZUMi STIP Proposal - Round 1</td>\n",
       "      <td>1.548327e+08</td>\n",
       "    </tr>\n",
       "    <tr>\n",
       "      <th>112</th>\n",
       "      <td>tBTC STIP Proposal - Round 1</td>\n",
       "      <td>1.106967e+08</td>\n",
       "    </tr>\n",
       "    <tr>\n",
       "      <th>113</th>\n",
       "      <td>unshETH STIP Proposal - Round 1</td>\n",
       "      <td>1.198675e+08</td>\n",
       "    </tr>\n",
       "  </tbody>\n",
       "</table>\n",
       "<p>114 rows × 2 columns</p>\n",
       "</div>"
      ],
      "text/plain": [
       "                                        proposal_title  total_voting_power\n",
       "0                        0xGen STIP Proposal - Round 1        1.126770e+08\n",
       "1    AIP 1.05: Return 700M $ARB to the DAO Treasury...        1.408547e+08\n",
       "2               AIP-1.1 - Lockup, Budget, Transparency        1.396229e+08\n",
       "3              AIP-1.2 - Foundation and DAO Governance        1.387616e+08\n",
       "4       AIP-1: Arbitrum Improvement Proposal Framework        1.308752e+08\n",
       "..                                                 ...                 ...\n",
       "109  [Non-Constitutional]: Arbitrum Stable Treasury...        1.327322e+08\n",
       "110                     dForce STIP Proposal - Round 1        1.395754e+08\n",
       "111                      iZUMi STIP Proposal - Round 1        1.548327e+08\n",
       "112                       tBTC STIP Proposal - Round 1        1.106967e+08\n",
       "113                    unshETH STIP Proposal - Round 1        1.198675e+08\n",
       "\n",
       "[114 rows x 2 columns]"
      ]
     },
     "execution_count": 44,
     "metadata": {},
     "output_type": "execute_result"
    }
   ],
   "source": [
    "# Group the data by 'proposal_title' and sum up the 'voting_power' within each group\n",
    "total_voting_power_per_proposal = data1.groupby('proposal_title')['voting_power'].sum().reset_index(name='total_voting_power')\n",
    "\n",
    "# Create a new DataFrame with 'proposal_title' and 'total_voting_power' columns\n",
    "df2 = pd.DataFrame(total_voting_power_per_proposal, columns=['proposal_title', 'total_voting_power'])\n",
    "\n",
    "# Display the new DataFrame\n",
    "df2"
   ]
  },
  {
   "cell_type": "code",
   "execution_count": 45,
   "metadata": {},
   "outputs": [
    {
     "data": {
      "image/png": "[encoded data removed]",
      "text/plain": [
       "<Figure size 1000x600 with 1 Axes>"
      ]
     },
     "metadata": {},
     "output_type": "display_data"
    }
   ],
   "source": [
    "# Create a histogram of the total voting power\n",
    "plt.figure(figsize=(10, 6))\n",
    "sns.histplot(data=df2, x='total_voting_power', kde=True)\n",
    "plt.title('Distribution of Total Voting Power')\n",
    "plt.xlabel('Total Voting Power')\n",
    "plt.ylabel('Frequency')\n",
    "plt.show()"
   ]
  },
  {
   "cell_type": "code",
   "execution_count": 46,
   "metadata": {},
   "outputs": [
    {
     "data": {
      "application/vnd.plotly.v1+json": {
       "config": {
        "plotlyServerURL": "https://plot.ly"
       },
       "data": [
        {
         "customdata": [
          [
           "0xGen STIP Proposal - Round 1"
          ],
          [
           "AIP 1.05: Return 700M $ARB to the DAO Treasury [REAL]"
          ],
          [
           "AIP-1.1 - Lockup, Budget, Transparency"
          ],
          [
           "AIP-1.2 - Foundation and DAO Governance"
          ],
          [
           "AIP-1: Arbitrum Improvement Proposal Framework"
          ],
          [
           "ALAYA STIP Proposal - Round 1"
          ],
          [
           "Abracadabra DAO STIP Proposal - Round 1"
          ],
          [
           "Accelerating Arbitrum - leveraging Camelot as an ecosystem hub to support native builders"
          ],
          [
           "Angle Protocol STIP Proposal - Round 1"
          ],
          [
           "ApolloX STIP Proposal - Round 1"
          ],
          [
           "Arbidex STIP Proposal - Round 1"
          ],
          [
           "Arbitrum DAO Grants - Delegated Domain Allocation by Questbook"
          ],
          [
           "Archi Finance STIP Proposal - Round 1"
          ],
          [
           "Arrakis Finance STIP Proposal - Round 1"
          ],
          [
           "Artichoke Protocol STIP Proposal - Round 1"
          ],
          [
           "Balancer DAO STIP Proposal - Round 1"
          ],
          [
           "Beefy STIP Proposal - Round 1"
          ],
          [
           "CRYPTEX STIP Proposal - Round 1"
          ],
          [
           "CVI STIP Proposal - Round 1"
          ],
          [
           "Camelot STIP Proposal - Round 1"
          ],
          [
           "Chronos Finance STIP Proposal - Round 1"
          ],
          [
           "Cian STIP Proposal - Round 1"
          ],
          [
           "Consolidate Security Proposals into a RFP Process"
          ],
          [
           "Curve STIP Proposal - Round 1"
          ],
          [
           "D2.finance STIP Proposal - Round 1"
          ],
          [
           "DefiEdge STIP Proposal - Round 1"
          ],
          [
           "Dolomite STIP Proposal - Round 1"
          ],
          [
           "Dopex STIP Proposal - Round 1"
          ],
          [
           "Equilibria STIP Proposal - Round 1"
          ],
          [
           "Florence Finance STIP Proposal - Round 1"
          ],
          [
           "Frax Finance STIP Proposal - Round 1"
          ],
          [
           "Furucombo STIP Proposal - Round 1"
          ],
          [
           "GMD Ecosystem STIP Proposal - Round 1"
          ],
          [
           "GMX STIP Proposal - Round 1"
          ],
          [
           "Gains Network STIP Proposal - Round 1"
          ],
          [
           "Galxe STIP Proposal - Round 1"
          ],
          [
           "Gamma STIP Proposal - Round 1"
          ],
          [
           "Good Entry STIP Proposal - Round 1"
          ],
          [
           "Guru Network STIP Proposal - Round 1"
          ],
          [
           "HMX STIP Proposal - Round 1"
          ],
          [
           "JOJO Exchange STIP Proposal - Round 1"
          ],
          [
           "Jones DAO STIP Proposal - Round 1"
          ],
          [
           "KeplerHomes STIP Proposal - Round 1"
          ],
          [
           "KyberSwap STIP Proposal - Round 1"
          ],
          [
           "LODESTAR FINANCE STIP Proposal - Round 1"
          ],
          [
           "LOGX STIP Proposal - Round 1"
          ],
          [
           "Lido STIP Proposal - Round 1"
          ],
          [
           "MUX Protocol STIP Proposal - Round 1"
          ],
          [
           "Magpie, Penpie, Radpie, Campie STIP Proposal - Round 1"
          ],
          [
           "Modular Wallet STIP Proposal - Round 1"
          ],
          [
           "NFTEarth STIP Proposal - Round 1"
          ],
          [
           "Notional STIP Proposal - Round 1"
          ],
          [
           "OmniBTC STIP Proposal - Round 1"
          ],
          [
           "OpenOcean STIP Proposal - Round 1"
          ],
          [
           "PancakeSwap STIP Proposal - Round 1"
          ],
          [
           "Pendle STIP Proposal - Round 1"
          ],
          [
           "Perennial Finance STIP Proposal - Round 1"
          ],
          [
           "Premia STIP Proposal - Round 1"
          ],
          [
           "Prime Protocol STIP Proposal - Round 1"
          ],
          [
           "Procurement Framework | Security : Non-Constitutional Proposal"
          ],
          [
           "Proposal to Backfund Successful STIP Proposals"
          ],
          [
           "Proposal to onboard Matrixed.Link as a validator for Arbitrum"
          ],
          [
           "Proposal: Activate support for account abstraction endpoint on One and Nova"
          ],
          [
           "Proposal: Building the Future of NFTs: The Rarible Protocol - Arbitrum Integration Proposal [REVISED]"
          ],
          [
           "Proposal: Security Council Elections Proposed Implementation Spec"
          ],
          [
           "Proposal: Update Security Council Election Start Date to Ensure Time for Security Audit"
          ],
          [
           "QiDao STIP Proposal - Round 1"
          ],
          [
           "Quadrat STIP Proposal - Round 1"
          ],
          [
           "RADIANT STIP Proposal - Round 1"
          ],
          [
           "RAMSES STIP Proposal - Round 1"
          ],
          [
           "REALM STIP Proposal - Round 1"
          ],
          [
           "RabbitHole STIP Proposal - Round 1"
          ],
          [
           "Range Protocol STIP Proposal - Round 1"
          ],
          [
           "Relay Chain: James Bot STIP Proposal - Round 1"
          ],
          [
           "Rodeo Finance STIP Proposal - Round 1"
          ],
          [
           "Rysk STIP Proposal - Round 1"
          ],
          [
           "Sanko GameCorp STIP Proposal - Round 1"
          ],
          [
           "Savvy STIP Proposal - Round 1"
          ],
          [
           "Shell Protocol STIP Proposal - Round 1"
          ],
          [
           "Silo Finance STIP Proposal - Round 1"
          ],
          [
           "Socket STIP Proposal - Round 1"
          ],
          [
           "Solv Protocol STIP Proposal - Round 1"
          ],
          [
           "SpartaDEX STIP Proposal - Round 1"
          ],
          [
           "StakeDAO STIP Proposal - Round 1"
          ],
          [
           "Stargate Finance STIP Proposal - Round 1"
          ],
          [
           "Stella STIP Proposal - Round 1"
          ],
          [
           "Synapse Protocol STIP Proposal - Round 1"
          ],
          [
           "TIDE STIP Proposal - Round 1"
          ],
          [
           "Tales of Elleria STIP Proposal - Round 1"
          ],
          [
           "Tally STIP Proposal - Round 1"
          ],
          [
           "Thales STIP Proposal - Round 1"
          ],
          [
           "Thetanuts STIP Proposal - Round 1"
          ],
          [
           "Time Management in ArbitrumÃÂÃÂ¢ÃÂÃÂÃÂÃÂs Governance"
          ],
          [
           "Timeswap STIP Proposal - Round 1"
          ],
          [
           "Trader Joe STIP Proposal - Round 1"
          ],
          [
           "Umami STIP Proposal - Round 1"
          ],
          [
           "UniDex STIP Proposal - Round 1"
          ],
          [
           "Vaultka STIP Proposal - Round 1"
          ],
          [
           "Vela Exchange STIP Proposal - Round 1"
          ],
          [
           "Vertex Protocol STIP Proposal - Round 1"
          ],
          [
           "WINR Protocol STIP Proposal - Round 1"
          ],
          [
           "WOOFi STIP Proposal - Round 1"
          ],
          [
           "Webacy STIP Proposal - Round 1"
          ],
          [
           "Wombat Exchange STIP Proposal - Round 1"
          ],
          [
           "Wombex Finance STIP Proposal - Round 1"
          ],
          [
           "Wormhole STIP Proposal - Round 1"
          ],
          [
           "XY STIP Proposal - Round 1"
          ],
          [
           "ZKasino STIP Proposal - Round 1"
          ],
          [
           "[Non-Constitutional] Fund the Arbitrum Grants Framework Proposal Milestone 1"
          ],
          [
           "[Non-Constitutional]: Arbitrum Stable Treasury Endowment Program"
          ],
          [
           "dForce STIP Proposal - Round 1"
          ],
          [
           "iZUMi STIP Proposal - Round 1"
          ],
          [
           "tBTC STIP Proposal - Round 1"
          ],
          [
           "unshETH STIP Proposal - Round 1"
          ]
         ],
         "hovertemplate": "index=%{x}<br>total_voting_power=%{y}<br>proposal_title=%{customdata[0]}<extra></extra>",
         "legendgroup": "",
         "marker": {
          "color": [
           "green",
           "green",
           "green",
           "green",
           "green",
           "green",
           "blue",
           "green",
           "green",
           "green",
           "green",
           "green",
           "green",
           "green",
           "green",
           "green",
           "green",
           "green",
           "green",
           "blue",
           "green",
           "green",
           "green",
           "green",
           "green",
           "green",
           "green",
           "blue",
           "green",
           "green",
           "green",
           "green",
           "green",
           "green",
           "green",
           "green",
           "green",
           "green",
           "green",
           "green",
           "green",
           "blue",
           "green",
           "green",
           "green",
           "green",
           "blue",
           "green",
           "green",
           "green",
           "green",
           "green",
           "green",
           "green",
           "green",
           "green",
           "green",
           "green",
           "green",
           "green",
           "green",
           "red",
           "red",
           "green",
           "red",
           "red",
           "green",
           "green",
           "green",
           "green",
           "green",
           "green",
           "green",
           "green",
           "green",
           "green",
           "green",
           "green",
           "green",
           "green",
           "green",
           "green",
           "green",
           "green",
           "green",
           "green",
           "green",
           "green",
           "green",
           "green",
           "green",
           "green",
           "red",
           "green",
           "green",
           "blue",
           "green",
           "green",
           "green",
           "green",
           "green",
           "green",
           "green",
           "green",
           "green",
           "green",
           "green",
           "green",
           "green",
           "green",
           "green",
           "green",
           "green",
           "green"
          ],
          "symbol": "circle"
         },
         "mode": "markers",
         "name": "",
         "orientation": "v",
         "showlegend": false,
         "type": "scatter",
         "x": [
          0,
          1,
          2,
          3,
          4,
          5,
          6,
          7,
          8,
          9,
          10,
          11,
          12,
          13,
          14,
          15,
          16,
          17,
          18,
          19,
          20,
          21,
          22,
          23,
          24,
          25,
          26,
          27,
          28,
          29,
          30,
          31,
          32,
          33,
          34,
          35,
          36,
          37,
          38,
          39,
          40,
          41,
          42,
          43,
          44,
          45,
          46,
          47,
          48,
          49,
          50,
          51,
          52,
          53,
          54,
          55,
          56,
          57,
          58,
          59,
          60,
          61,
          62,
          63,
          64,
          65,
          66,
          67,
          68,
          69,
          70,
          71,
          72,
          73,
          74,
          75,
          76,
          77,
          78,
          79,
          80,
          81,
          82,
          83,
          84,
          85,
          86,
          87,
          88,
          89,
          90,
          91,
          92,
          93,
          94,
          95,
          96,
          97,
          98,
          99,
          100,
          101,
          102,
          103,
          104,
          105,
          106,
          107,
          108,
          109,
          110,
          111,
          112,
          113
         ],
         "xaxis": "x",
         "y": [
          112676990.84029602,
          140854689.69966462,
          139622932.53392094,
          138761576.04846215,
          130875187.47248265,
          117972120.81044282,
          204798525.79018763,
          164111502.09502,
          197334626.16574234,
          123465555.27393597,
          108764506.92016058,
          104546122.93277307,
          109208439.56152235,
          140750831.22494972,
          114563966.0797099,
          156797346.3206796,
          123362457.62771155,
          126423066.06983139,
          110932739.16946879,
          205129229.34316432,
          116201159.283533,
          108811204.1003708,
          187542830.46657386,
          136328438.41619512,
          117181925.0673964,
          154910763.40363532,
          195375261.21689123,
          200084458.04541928,
          132316740.76709078,
          108415254.2677249,
          184555310.80880395,
          140490669.15438145,
          118925991.13029747,
          195408474.65170863,
          154545450.1415277,
          191788502.0669046,
          179731772.44653803,
          186620015.71681187,
          113171624.78565916,
          116766212.61638033,
          145930219.2846241,
          204106260.10487664,
          119729977.67930399,
          176554459.58876285,
          191672173.85000652,
          120468053.59131736,
          200661734.8507928,
          190307115.53998893,
          164216434.18063366,
          111933319.26547442,
          117091756.51861209,
          137970259.26755473,
          113925936.40530366,
          187703095.56325433,
          157630869.91529134,
          185950489.97308844,
          189497334.60634518,
          168745627.5578237,
          112612775.47054137,
          152019702.08368862,
          195642602.53789034,
          55581551.96232448,
          60704241.58121142,
          120778842.78737979,
          80919647.70003568,
          83548670.83370195,
          121478084.5372416,
          113865020.05484374,
          185511037.19047165,
          138047060.55756795,
          136028016.39913896,
          165920169.53594884,
          117004875.00812407,
          113418759.66888629,
          158408143.01823026,
          184492284.65496287,
          175078759.5680261,
          180591020.40424666,
          117772615.87640452,
          198602752.97652754,
          198265831.475708,
          132360158.34953491,
          109391958.84415126,
          125826836.35555144,
          156564409.61741185,
          183746130.2833174,
          194680095.76119784,
          132463186.95673773,
          165328484.90126377,
          181607278.86287215,
          154008173.38281474,
          153178690.22121534,
          42146519.61599226,
          199456630.11672577,
          193040508.0253101,
          203940725.04477817,
          122522924.73244223,
          123721531.53503788,
          132289471.03744358,
          180883982.5273915,
          184439626.76149315,
          176229340.88399047,
          115845652.45080349,
          117523010.7872953,
          120014281.4197942,
          141324850.60801515,
          109823304.91151872,
          130645223.77539803,
          100708834.77640261,
          132732150.0178691,
          139575423.01366293,
          154832653.0991044,
          110696699.79549637,
          119867534.41904357
         ],
         "yaxis": "y"
        }
       ],
       "layout": {
        "legend": {
         "tracegroupgap": 0
        },
        "template": {
         "data": {
          "bar": [
           {
            "error_x": {
             "color": "#2a3f5f"
            },
            "error_y": {
             "color": "#2a3f5f"
            },
            "marker": {
             "line": {
              "color": "#E5ECF6",
              "width": 0.5
             },
             "pattern": {
              "fillmode": "overlay",
              "size": 10,
              "solidity": 0.2
             }
            },
            "type": "bar"
           }
          ],
          "barpolar": [
           {
            "marker": {
             "line": {
              "color": "#E5ECF6",
              "width": 0.5
             },
             "pattern": {
              "fillmode": "overlay",
              "size": 10,
              "solidity": 0.2
             }
            },
            "type": "barpolar"
           }
          ],
          "carpet": [
           {
            "aaxis": {
             "endlinecolor": "#2a3f5f",
             "gridcolor": "white",
             "linecolor": "white",
             "minorgridcolor": "white",
             "startlinecolor": "#2a3f5f"
            },
            "baxis": {
             "endlinecolor": "#2a3f5f",
             "gridcolor": "white",
             "linecolor": "white",
             "minorgridcolor": "white",
             "startlinecolor": "#2a3f5f"
            },
            "type": "carpet"
           }
          ],
          "choropleth": [
           {
            "colorbar": {
             "outlinewidth": 0,
             "ticks": ""
            },
            "type": "choropleth"
           }
          ],
          "contour": [
           {
            "colorbar": {
             "outlinewidth": 0,
             "ticks": ""
            },
            "colorscale": [
             [
              0,
              "#0d0887"
             ],
             [
              0.1111111111111111,
              "#46039f"
             ],
             [
              0.2222222222222222,
              "#7201a8"
             ],
             [
              0.3333333333333333,
              "#9c179e"
             ],
             [
              0.4444444444444444,
              "#bd3786"
             ],
             [
              0.5555555555555556,
              "#d8576b"
             ],
             [
              0.6666666666666666,
              "#ed7953"
             ],
             [
              0.7777777777777778,
              "#fb9f3a"
             ],
             [
              0.8888888888888888,
              "#fdca26"
             ],
             [
              1,
              "#f0f921"
             ]
            ],
            "type": "contour"
           }
          ],
          "contourcarpet": [
           {
            "colorbar": {
             "outlinewidth": 0,
             "ticks": ""
            },
            "type": "contourcarpet"
           }
          ],
          "heatmap": [
           {
            "colorbar": {
             "outlinewidth": 0,
             "ticks": ""
            },
            "colorscale": [
             [
              0,
              "#0d0887"
             ],
             [
              0.1111111111111111,
              "#46039f"
             ],
             [
              0.2222222222222222,
              "#7201a8"
             ],
             [
              0.3333333333333333,
              "#9c179e"
             ],
             [
              0.4444444444444444,
              "#bd3786"
             ],
             [
              0.5555555555555556,
              "#d8576b"
             ],
             [
              0.6666666666666666,
              "#ed7953"
             ],
             [
              0.7777777777777778,
              "#fb9f3a"
             ],
             [
              0.8888888888888888,
              "#fdca26"
             ],
             [
              1,
              "#f0f921"
             ]
            ],
            "type": "heatmap"
           }
          ],
          "heatmapgl": [
           {
            "colorbar": {
             "outlinewidth": 0,
             "ticks": ""
            },
            "colorscale": [
             [
              0,
              "#0d0887"
             ],
             [
              0.1111111111111111,
              "#46039f"
             ],
             [
              0.2222222222222222,
              "#7201a8"
             ],
             [
              0.3333333333333333,
              "#9c179e"
             ],
             [
              0.4444444444444444,
              "#bd3786"
             ],
             [
              0.5555555555555556,
              "#d8576b"
             ],
             [
              0.6666666666666666,
              "#ed7953"
             ],
             [
              0.7777777777777778,
              "#fb9f3a"
             ],
             [
              0.8888888888888888,
              "#fdca26"
             ],
             [
              1,
              "#f0f921"
             ]
            ],
            "type": "heatmapgl"
           }
          ],
          "histogram": [
           {
            "marker": {
             "pattern": {
              "fillmode": "overlay",
              "size": 10,
              "solidity": 0.2
             }
            },
            "type": "histogram"
           }
          ],
          "histogram2d": [
           {
            "colorbar": {
             "outlinewidth": 0,
             "ticks": ""
            },
            "colorscale": [
             [
              0,
              "#0d0887"
             ],
             [
              0.1111111111111111,
              "#46039f"
             ],
             [
              0.2222222222222222,
              "#7201a8"
             ],
             [
              0.3333333333333333,
              "#9c179e"
             ],
             [
              0.4444444444444444,
              "#bd3786"
             ],
             [
              0.5555555555555556,
              "#d8576b"
             ],
             [
              0.6666666666666666,
              "#ed7953"
             ],
             [
              0.7777777777777778,
              "#fb9f3a"
             ],
             [
              0.8888888888888888,
              "#fdca26"
             ],
             [
              1,
              "#f0f921"
             ]
            ],
            "type": "histogram2d"
           }
          ],
          "histogram2dcontour": [
           {
            "colorbar": {
             "outlinewidth": 0,
             "ticks": ""
            },
            "colorscale": [
             [
              0,
              "#0d0887"
             ],
             [
              0.1111111111111111,
              "#46039f"
             ],
             [
              0.2222222222222222,
              "#7201a8"
             ],
             [
              0.3333333333333333,
              "#9c179e"
             ],
             [
              0.4444444444444444,
              "#bd3786"
             ],
             [
              0.5555555555555556,
              "#d8576b"
             ],
             [
              0.6666666666666666,
              "#ed7953"
             ],
             [
              0.7777777777777778,
              "#fb9f3a"
             ],
             [
              0.8888888888888888,
              "#fdca26"
             ],
             [
              1,
              "#f0f921"
             ]
            ],
            "type": "histogram2dcontour"
           }
          ],
          "mesh3d": [
           {
            "colorbar": {
             "outlinewidth": 0,
             "ticks": ""
            },
            "type": "mesh3d"
           }
          ],
          "parcoords": [
           {
            "line": {
             "colorbar": {
              "outlinewidth": 0,
              "ticks": ""
             }
            },
            "type": "parcoords"
           }
          ],
          "pie": [
           {
            "automargin": true,
            "type": "pie"
           }
          ],
          "scatter": [
           {
            "fillpattern": {
             "fillmode": "overlay",
             "size": 10,
             "solidity": 0.2
            },
            "type": "scatter"
           }
          ],
          "scatter3d": [
           {
            "line": {
             "colorbar": {
              "outlinewidth": 0,
              "ticks": ""
             }
            },
            "marker": {
             "colorbar": {
              "outlinewidth": 0,
              "ticks": ""
             }
            },
            "type": "scatter3d"
           }
          ],
          "scattercarpet": [
           {
            "marker": {
             "colorbar": {
              "outlinewidth": 0,
              "ticks": ""
             }
            },
            "type": "scattercarpet"
           }
          ],
          "scattergeo": [
           {
            "marker": {
             "colorbar": {
              "outlinewidth": 0,
              "ticks": ""
             }
            },
            "type": "scattergeo"
           }
          ],
          "scattergl": [
           {
            "marker": {
             "colorbar": {
              "outlinewidth": 0,
              "ticks": ""
             }
            },
            "type": "scattergl"
           }
          ],
          "scattermapbox": [
           {
            "marker": {
             "colorbar": {
              "outlinewidth": 0,
              "ticks": ""
             }
            },
            "type": "scattermapbox"
           }
          ],
          "scatterpolar": [
           {
            "marker": {
             "colorbar": {
              "outlinewidth": 0,
              "ticks": ""
             }
            },
            "type": "scatterpolar"
           }
          ],
          "scatterpolargl": [
           {
            "marker": {
             "colorbar": {
              "outlinewidth": 0,
              "ticks": ""
             }
            },
            "type": "scatterpolargl"
           }
          ],
          "scatterternary": [
           {
            "marker": {
             "colorbar": {
              "outlinewidth": 0,
              "ticks": ""
             }
            },
            "type": "scatterternary"
           }
          ],
          "surface": [
           {
            "colorbar": {
             "outlinewidth": 0,
             "ticks": ""
            },
            "colorscale": [
             [
              0,
              "#0d0887"
             ],
             [
              0.1111111111111111,
              "#46039f"
             ],
             [
              0.2222222222222222,
              "#7201a8"
             ],
             [
              0.3333333333333333,
              "#9c179e"
             ],
             [
              0.4444444444444444,
              "#bd3786"
             ],
             [
              0.5555555555555556,
              "#d8576b"
             ],
             [
              0.6666666666666666,
              "#ed7953"
             ],
             [
              0.7777777777777778,
              "#fb9f3a"
             ],
             [
              0.8888888888888888,
              "#fdca26"
             ],
             [
              1,
              "#f0f921"
             ]
            ],
            "type": "surface"
           }
          ],
          "table": [
           {
            "cells": {
             "fill": {
              "color": "#EBF0F8"
             },
             "line": {
              "color": "white"
             }
            },
            "header": {
             "fill": {
              "color": "#C8D4E3"
             },
             "line": {
              "color": "white"
             }
            },
            "type": "table"
           }
          ]
         },
         "layout": {
          "annotationdefaults": {
           "arrowcolor": "#2a3f5f",
           "arrowhead": 0,
           "arrowwidth": 1
          },
          "autotypenumbers": "strict",
          "coloraxis": {
           "colorbar": {
            "outlinewidth": 0,
            "ticks": ""
           }
          },
          "colorscale": {
           "diverging": [
            [
             0,
             "#8e0152"
            ],
            [
             0.1,
             "#c51b7d"
            ],
            [
             0.2,
             "#de77ae"
            ],
            [
             0.3,
             "#f1b6da"
            ],
            [
             0.4,
             "#fde0ef"
            ],
            [
             0.5,
             "#f7f7f7"
            ],
            [
             0.6,
             "#e6f5d0"
            ],
            [
             0.7,
             "#b8e186"
            ],
            [
             0.8,
             "#7fbc41"
            ],
            [
             0.9,
             "#4d9221"
            ],
            [
             1,
             "#276419"
            ]
           ],
           "sequential": [
            [
             0,
             "#0d0887"
            ],
            [
             0.1111111111111111,
             "#46039f"
            ],
            [
             0.2222222222222222,
             "#7201a8"
            ],
            [
             0.3333333333333333,
             "#9c179e"
            ],
            [
             0.4444444444444444,
             "#bd3786"
            ],
            [
             0.5555555555555556,
             "#d8576b"
            ],
            [
             0.6666666666666666,
             "#ed7953"
            ],
            [
             0.7777777777777778,
             "#fb9f3a"
            ],
            [
             0.8888888888888888,
             "#fdca26"
            ],
            [
             1,
             "#f0f921"
            ]
           ],
           "sequentialminus": [
            [
             0,
             "#0d0887"
            ],
            [
             0.1111111111111111,
             "#46039f"
            ],
            [
             0.2222222222222222,
             "#7201a8"
            ],
            [
             0.3333333333333333,
             "#9c179e"
            ],
            [
             0.4444444444444444,
             "#bd3786"
            ],
            [
             0.5555555555555556,
             "#d8576b"
            ],
            [
             0.6666666666666666,
             "#ed7953"
            ],
            [
             0.7777777777777778,
             "#fb9f3a"
            ],
            [
             0.8888888888888888,
             "#fdca26"
            ],
            [
             1,
             "#f0f921"
            ]
           ]
          },
          "colorway": [
           "#636efa",
           "#EF553B",
           "#00cc96",
           "#ab63fa",
           "#FFA15A",
           "#19d3f3",
           "#FF6692",
           "#B6E880",
           "#FF97FF",
           "#FECB52"
          ],
          "font": {
           "color": "#2a3f5f"
          },
          "geo": {
           "bgcolor": "white",
           "lakecolor": "white",
           "landcolor": "#E5ECF6",
           "showlakes": true,
           "showland": true,
           "subunitcolor": "white"
          },
          "hoverlabel": {
           "align": "left"
          },
          "hovermode": "closest",
          "mapbox": {
           "style": "light"
          },
          "paper_bgcolor": "white",
          "plot_bgcolor": "#E5ECF6",
          "polar": {
           "angularaxis": {
            "gridcolor": "white",
            "linecolor": "white",
            "ticks": ""
           },
           "bgcolor": "#E5ECF6",
           "radialaxis": {
            "gridcolor": "white",
            "linecolor": "white",
            "ticks": ""
           }
          },
          "scene": {
           "xaxis": {
            "backgroundcolor": "#E5ECF6",
            "gridcolor": "white",
            "gridwidth": 2,
            "linecolor": "white",
            "showbackground": true,
            "ticks": "",
            "zerolinecolor": "white"
           },
           "yaxis": {
            "backgroundcolor": "#E5ECF6",
            "gridcolor": "white",
            "gridwidth": 2,
            "linecolor": "white",
            "showbackground": true,
            "ticks": "",
            "zerolinecolor": "white"
           },
           "zaxis": {
            "backgroundcolor": "#E5ECF6",
            "gridcolor": "white",
            "gridwidth": 2,
            "linecolor": "white",
            "showbackground": true,
            "ticks": "",
            "zerolinecolor": "white"
           }
          },
          "shapedefaults": {
           "line": {
            "color": "#2a3f5f"
           }
          },
          "ternary": {
           "aaxis": {
            "gridcolor": "white",
            "linecolor": "white",
            "ticks": ""
           },
           "baxis": {
            "gridcolor": "white",
            "linecolor": "white",
            "ticks": ""
           },
           "bgcolor": "#E5ECF6",
           "caxis": {
            "gridcolor": "white",
            "linecolor": "white",
            "ticks": ""
           }
          },
          "title": {
           "x": 0.05
          },
          "xaxis": {
           "automargin": true,
           "gridcolor": "white",
           "linecolor": "white",
           "ticks": "",
           "title": {
            "standoff": 15
           },
           "zerolinecolor": "white",
           "zerolinewidth": 2
          },
          "yaxis": {
           "automargin": true,
           "gridcolor": "white",
           "linecolor": "white",
           "ticks": "",
           "title": {
            "standoff": 15
           },
           "zerolinecolor": "white",
           "zerolinewidth": 2
          }
         }
        },
        "title": {
         "text": "Total Voting Power for Each Proposal"
        },
        "xaxis": {
         "anchor": "y",
         "domain": [
          0,
          1
         ],
         "showticklabels": false,
         "title": {
          "text": "index"
         }
        },
        "yaxis": {
         "anchor": "x",
         "domain": [
          0,
          1
         ],
         "tickvals": [
          0,
          20000000,
          40000000,
          60000000,
          80000000,
          100000000,
          120000000,
          140000000,
          160000000,
          180000000,
          200000000,
          220000000
         ],
         "title": {
          "text": "Total Voting Power"
         }
        }
       }
      }
     },
     "metadata": {},
     "output_type": "display_data"
    }
   ],
   "source": [
    "# Create a scatter plot of the total voting power for each proposal\n",
    "fig = px.scatter(df2, y='total_voting_power', title='Total Voting Power for Each Proposal', hover_data={'proposal_title': True})\n",
    "\n",
    "# Conditional coloring for data points with total_voting_power greater than 200M\n",
    "fig.update_traces(marker=dict(color=['blue' if val > 200_000_000 else 'red' if val < 100_000_000 else 'green' for val in df2['total_voting_power']]))\n",
    "\n",
    "fig.update_layout(yaxis_title='Total Voting Power')\n",
    "fig.update_xaxes(showticklabels=False)\n",
    "fig.update_yaxes(tickvals=list(range(0, int(df2['total_voting_power'].max()) + 20_000_000, 20_000_000)))\n",
    "fig.show()\n",
    "fig.write_html(r'Graphs\\scatter-plot-proposals.htmk')"
   ]
  },
  {
   "cell_type": "code",
   "execution_count": 47,
   "metadata": {},
   "outputs": [
    {
     "data": {
      "application/vnd.plotly.v1+json": {
       "config": {
        "plotlyServerURL": "https://plot.ly"
       },
       "data": [
        {
         "customdata": [
          [
           "0xGen STIP Proposal - Round 1"
          ],
          [
           "AIP 1.05: Return 700M $ARB to the DAO Treasury [REAL]"
          ],
          [
           "AIP-1.1 - Lockup, Budget, Transparency"
          ],
          [
           "AIP-1.2 - Foundation and DAO Governance"
          ],
          [
           "AIP-1: Arbitrum Improvement Proposal Framework"
          ],
          [
           "ALAYA STIP Proposal - Round 1"
          ],
          [
           "Abracadabra DAO STIP Proposal - Round 1"
          ],
          [
           "Accelerating Arbitrum - leveraging Camelot as an ecosystem hub to support native builders"
          ],
          [
           "Angle Protocol STIP Proposal - Round 1"
          ],
          [
           "ApolloX STIP Proposal - Round 1"
          ],
          [
           "Arbidex STIP Proposal - Round 1"
          ],
          [
           "Arbitrum DAO Grants - Delegated Domain Allocation by Questbook"
          ],
          [
           "Archi Finance STIP Proposal - Round 1"
          ],
          [
           "Arrakis Finance STIP Proposal - Round 1"
          ],
          [
           "Artichoke Protocol STIP Proposal - Round 1"
          ],
          [
           "Balancer DAO STIP Proposal - Round 1"
          ],
          [
           "Beefy STIP Proposal - Round 1"
          ],
          [
           "CRYPTEX STIP Proposal - Round 1"
          ],
          [
           "CVI STIP Proposal - Round 1"
          ],
          [
           "Camelot STIP Proposal - Round 1"
          ],
          [
           "Chronos Finance STIP Proposal - Round 1"
          ],
          [
           "Cian STIP Proposal - Round 1"
          ],
          [
           "Consolidate Security Proposals into a RFP Process"
          ],
          [
           "Curve STIP Proposal - Round 1"
          ],
          [
           "D2.finance STIP Proposal - Round 1"
          ],
          [
           "DefiEdge STIP Proposal - Round 1"
          ],
          [
           "Dolomite STIP Proposal - Round 1"
          ],
          [
           "Dopex STIP Proposal - Round 1"
          ],
          [
           "Equilibria STIP Proposal - Round 1"
          ],
          [
           "Florence Finance STIP Proposal - Round 1"
          ],
          [
           "Frax Finance STIP Proposal - Round 1"
          ],
          [
           "Furucombo STIP Proposal - Round 1"
          ],
          [
           "GMD Ecosystem STIP Proposal - Round 1"
          ],
          [
           "GMX STIP Proposal - Round 1"
          ],
          [
           "Gains Network STIP Proposal - Round 1"
          ],
          [
           "Galxe STIP Proposal - Round 1"
          ],
          [
           "Gamma STIP Proposal - Round 1"
          ],
          [
           "Good Entry STIP Proposal - Round 1"
          ],
          [
           "Guru Network STIP Proposal - Round 1"
          ],
          [
           "HMX STIP Proposal - Round 1"
          ],
          [
           "JOJO Exchange STIP Proposal - Round 1"
          ],
          [
           "Jones DAO STIP Proposal - Round 1"
          ],
          [
           "KeplerHomes STIP Proposal - Round 1"
          ],
          [
           "KyberSwap STIP Proposal - Round 1"
          ],
          [
           "LODESTAR FINANCE STIP Proposal - Round 1"
          ],
          [
           "LOGX STIP Proposal - Round 1"
          ],
          [
           "Lido STIP Proposal - Round 1"
          ],
          [
           "MUX Protocol STIP Proposal - Round 1"
          ],
          [
           "Magpie, Penpie, Radpie, Campie STIP Proposal - Round 1"
          ],
          [
           "Modular Wallet STIP Proposal - Round 1"
          ],
          [
           "NFTEarth STIP Proposal - Round 1"
          ],
          [
           "Notional STIP Proposal - Round 1"
          ],
          [
           "OmniBTC STIP Proposal - Round 1"
          ],
          [
           "OpenOcean STIP Proposal - Round 1"
          ],
          [
           "PancakeSwap STIP Proposal - Round 1"
          ],
          [
           "Pendle STIP Proposal - Round 1"
          ],
          [
           "Perennial Finance STIP Proposal - Round 1"
          ],
          [
           "Premia STIP Proposal - Round 1"
          ],
          [
           "Prime Protocol STIP Proposal - Round 1"
          ],
          [
           "Procurement Framework | Security : Non-Constitutional Proposal"
          ],
          [
           "Proposal to Backfund Successful STIP Proposals"
          ],
          [
           "Proposal to onboard Matrixed.Link as a validator for Arbitrum"
          ],
          [
           "Proposal: Activate support for account abstraction endpoint on One and Nova"
          ],
          [
           "Proposal: Building the Future of NFTs: The Rarible Protocol - Arbitrum Integration Proposal [REVISED]"
          ],
          [
           "Proposal: Security Council Elections Proposed Implementation Spec"
          ],
          [
           "Proposal: Update Security Council Election Start Date to Ensure Time for Security Audit"
          ],
          [
           "QiDao STIP Proposal - Round 1"
          ],
          [
           "Quadrat STIP Proposal - Round 1"
          ],
          [
           "RADIANT STIP Proposal - Round 1"
          ],
          [
           "RAMSES STIP Proposal - Round 1"
          ],
          [
           "REALM STIP Proposal - Round 1"
          ],
          [
           "RabbitHole STIP Proposal - Round 1"
          ],
          [
           "Range Protocol STIP Proposal - Round 1"
          ],
          [
           "Relay Chain: James Bot STIP Proposal - Round 1"
          ],
          [
           "Rodeo Finance STIP Proposal - Round 1"
          ],
          [
           "Rysk STIP Proposal - Round 1"
          ],
          [
           "Sanko GameCorp STIP Proposal - Round 1"
          ],
          [
           "Savvy STIP Proposal - Round 1"
          ],
          [
           "Shell Protocol STIP Proposal - Round 1"
          ],
          [
           "Silo Finance STIP Proposal - Round 1"
          ],
          [
           "Socket STIP Proposal - Round 1"
          ],
          [
           "Solv Protocol STIP Proposal - Round 1"
          ],
          [
           "SpartaDEX STIP Proposal - Round 1"
          ],
          [
           "StakeDAO STIP Proposal - Round 1"
          ],
          [
           "Stargate Finance STIP Proposal - Round 1"
          ],
          [
           "Stella STIP Proposal - Round 1"
          ],
          [
           "Synapse Protocol STIP Proposal - Round 1"
          ],
          [
           "TIDE STIP Proposal - Round 1"
          ],
          [
           "Tales of Elleria STIP Proposal - Round 1"
          ],
          [
           "Tally STIP Proposal - Round 1"
          ],
          [
           "Thales STIP Proposal - Round 1"
          ],
          [
           "Thetanuts STIP Proposal - Round 1"
          ],
          [
           "Time Management in ArbitrumÃÂÃÂ¢ÃÂÃÂÃÂÃÂs Governance"
          ],
          [
           "Timeswap STIP Proposal - Round 1"
          ],
          [
           "Trader Joe STIP Proposal - Round 1"
          ],
          [
           "Umami STIP Proposal - Round 1"
          ],
          [
           "UniDex STIP Proposal - Round 1"
          ],
          [
           "Vaultka STIP Proposal - Round 1"
          ],
          [
           "Vela Exchange STIP Proposal - Round 1"
          ],
          [
           "Vertex Protocol STIP Proposal - Round 1"
          ],
          [
           "WINR Protocol STIP Proposal - Round 1"
          ],
          [
           "WOOFi STIP Proposal - Round 1"
          ],
          [
           "Webacy STIP Proposal - Round 1"
          ],
          [
           "Wombat Exchange STIP Proposal - Round 1"
          ],
          [
           "Wombex Finance STIP Proposal - Round 1"
          ],
          [
           "Wormhole STIP Proposal - Round 1"
          ],
          [
           "XY STIP Proposal - Round 1"
          ],
          [
           "ZKasino STIP Proposal - Round 1"
          ],
          [
           "[Non-Constitutional] Fund the Arbitrum Grants Framework Proposal Milestone 1"
          ],
          [
           "[Non-Constitutional]: Arbitrum Stable Treasury Endowment Program"
          ],
          [
           "dForce STIP Proposal - Round 1"
          ],
          [
           "iZUMi STIP Proposal - Round 1"
          ],
          [
           "tBTC STIP Proposal - Round 1"
          ],
          [
           "unshETH STIP Proposal - Round 1"
          ]
         ],
         "hovertemplate": "index=%{x}<br>total_voting_power=%{y}<br>proposal_title=%{customdata[0]}<extra></extra>",
         "legendgroup": "",
         "marker": {
          "color": "#636efa",
          "symbol": "circle"
         },
         "mode": "markers",
         "name": "",
         "orientation": "v",
         "showlegend": false,
         "type": "scatter",
         "x": [
          0,
          1,
          2,
          3,
          4,
          5,
          6,
          7,
          8,
          9,
          10,
          11,
          12,
          13,
          14,
          15,
          16,
          17,
          18,
          19,
          20,
          21,
          22,
          23,
          24,
          25,
          26,
          27,
          28,
          29,
          30,
          31,
          32,
          33,
          34,
          35,
          36,
          37,
          38,
          39,
          40,
          41,
          42,
          43,
          44,
          45,
          46,
          47,
          48,
          49,
          50,
          51,
          52,
          53,
          54,
          55,
          56,
          57,
          58,
          59,
          60,
          61,
          62,
          63,
          64,
          65,
          66,
          67,
          68,
          69,
          70,
          71,
          72,
          73,
          74,
          75,
          76,
          77,
          78,
          79,
          80,
          81,
          82,
          83,
          84,
          85,
          86,
          87,
          88,
          89,
          90,
          91,
          92,
          93,
          94,
          95,
          96,
          97,
          98,
          99,
          100,
          101,
          102,
          103,
          104,
          105,
          106,
          107,
          108,
          109,
          110,
          111,
          112,
          113
         ],
         "xaxis": "x",
         "y": [
          112676990.84029602,
          140854689.69966462,
          139622932.53392094,
          138761576.04846215,
          130875187.47248265,
          117972120.81044282,
          204798525.79018763,
          164111502.09502,
          197334626.16574234,
          123465555.27393597,
          108764506.92016058,
          104546122.93277307,
          109208439.56152235,
          140750831.22494972,
          114563966.0797099,
          156797346.3206796,
          123362457.62771155,
          126423066.06983139,
          110932739.16946879,
          205129229.34316432,
          116201159.283533,
          108811204.1003708,
          187542830.46657386,
          136328438.41619512,
          117181925.0673964,
          154910763.40363532,
          195375261.21689123,
          200084458.04541928,
          132316740.76709078,
          108415254.2677249,
          184555310.80880395,
          140490669.15438145,
          118925991.13029747,
          195408474.65170863,
          154545450.1415277,
          191788502.0669046,
          179731772.44653803,
          186620015.71681187,
          113171624.78565916,
          116766212.61638033,
          145930219.2846241,
          204106260.10487664,
          119729977.67930399,
          176554459.58876285,
          191672173.85000652,
          120468053.59131736,
          200661734.8507928,
          190307115.53998893,
          164216434.18063366,
          111933319.26547442,
          117091756.51861209,
          137970259.26755473,
          113925936.40530366,
          187703095.56325433,
          157630869.91529134,
          185950489.97308844,
          189497334.60634518,
          168745627.5578237,
          112612775.47054137,
          152019702.08368862,
          195642602.53789034,
          55581551.96232448,
          60704241.58121142,
          120778842.78737979,
          80919647.70003568,
          83548670.83370195,
          121478084.5372416,
          113865020.05484374,
          185511037.19047165,
          138047060.55756795,
          136028016.39913896,
          165920169.53594884,
          117004875.00812407,
          113418759.66888629,
          158408143.01823026,
          184492284.65496287,
          175078759.5680261,
          180591020.40424666,
          117772615.87640452,
          198602752.97652754,
          198265831.475708,
          132360158.34953491,
          109391958.84415126,
          125826836.35555144,
          156564409.61741185,
          183746130.2833174,
          194680095.76119784,
          132463186.95673773,
          165328484.90126377,
          181607278.86287215,
          154008173.38281474,
          153178690.22121534,
          42146519.61599226,
          199456630.11672577,
          193040508.0253101,
          203940725.04477817,
          122522924.73244223,
          123721531.53503788,
          132289471.03744358,
          180883982.5273915,
          184439626.76149315,
          176229340.88399047,
          115845652.45080349,
          117523010.7872953,
          120014281.4197942,
          141324850.60801515,
          109823304.91151872,
          130645223.77539803,
          100708834.77640261,
          132732150.0178691,
          139575423.01366293,
          154832653.0991044,
          110696699.79549637,
          119867534.41904357
         ],
         "yaxis": "y"
        },
        {
         "legendgroup": "< 100M",
         "marker": {
          "color": "red"
         },
         "mode": "markers",
         "name": "< 100M",
         "type": "scatter",
         "x": [
          61,
          62,
          64,
          65,
          92
         ],
         "y": [
          55581551.96232448,
          60704241.58121142,
          80919647.70003568,
          83548670.83370195,
          42146519.61599226
         ]
        },
        {
         "legendgroup": "> 200M",
         "marker": {
          "color": "green"
         },
         "mode": "markers",
         "name": "> 200M",
         "type": "scatter",
         "x": [
          6,
          19,
          27,
          41,
          46,
          95
         ],
         "y": [
          204798525.79018763,
          205129229.34316432,
          200084458.04541928,
          204106260.10487664,
          200661734.8507928,
          203940725.04477817
         ]
        }
       ],
       "layout": {
        "legend": {
         "title": {
          "text": "Voting Power"
         },
         "tracegroupgap": 0
        },
        "template": {
         "data": {
          "bar": [
           {
            "error_x": {
             "color": "#2a3f5f"
            },
            "error_y": {
             "color": "#2a3f5f"
            },
            "marker": {
             "line": {
              "color": "#E5ECF6",
              "width": 0.5
             },
             "pattern": {
              "fillmode": "overlay",
              "size": 10,
              "solidity": 0.2
             }
            },
            "type": "bar"
           }
          ],
          "barpolar": [
           {
            "marker": {
             "line": {
              "color": "#E5ECF6",
              "width": 0.5
             },
             "pattern": {
              "fillmode": "overlay",
              "size": 10,
              "solidity": 0.2
             }
            },
            "type": "barpolar"
           }
          ],
          "carpet": [
           {
            "aaxis": {
             "endlinecolor": "#2a3f5f",
             "gridcolor": "white",
             "linecolor": "white",
             "minorgridcolor": "white",
             "startlinecolor": "#2a3f5f"
            },
            "baxis": {
             "endlinecolor": "#2a3f5f",
             "gridcolor": "white",
             "linecolor": "white",
             "minorgridcolor": "white",
             "startlinecolor": "#2a3f5f"
            },
            "type": "carpet"
           }
          ],
          "choropleth": [
           {
            "colorbar": {
             "outlinewidth": 0,
             "ticks": ""
            },
            "type": "choropleth"
           }
          ],
          "contour": [
           {
            "colorbar": {
             "outlinewidth": 0,
             "ticks": ""
            },
            "colorscale": [
             [
              0,
              "#0d0887"
             ],
             [
              0.1111111111111111,
              "#46039f"
             ],
             [
              0.2222222222222222,
              "#7201a8"
             ],
             [
              0.3333333333333333,
              "#9c179e"
             ],
             [
              0.4444444444444444,
              "#bd3786"
             ],
             [
              0.5555555555555556,
              "#d8576b"
             ],
             [
              0.6666666666666666,
              "#ed7953"
             ],
             [
              0.7777777777777778,
              "#fb9f3a"
             ],
             [
              0.8888888888888888,
              "#fdca26"
             ],
             [
              1,
              "#f0f921"
             ]
            ],
            "type": "contour"
           }
          ],
          "contourcarpet": [
           {
            "colorbar": {
             "outlinewidth": 0,
             "ticks": ""
            },
            "type": "contourcarpet"
           }
          ],
          "heatmap": [
           {
            "colorbar": {
             "outlinewidth": 0,
             "ticks": ""
            },
            "colorscale": [
             [
              0,
              "#0d0887"
             ],
             [
              0.1111111111111111,
              "#46039f"
             ],
             [
              0.2222222222222222,
              "#7201a8"
             ],
             [
              0.3333333333333333,
              "#9c179e"
             ],
             [
              0.4444444444444444,
              "#bd3786"
             ],
             [
              0.5555555555555556,
              "#d8576b"
             ],
             [
              0.6666666666666666,
              "#ed7953"
             ],
             [
              0.7777777777777778,
              "#fb9f3a"
             ],
             [
              0.8888888888888888,
              "#fdca26"
             ],
             [
              1,
              "#f0f921"
             ]
            ],
            "type": "heatmap"
           }
          ],
          "heatmapgl": [
           {
            "colorbar": {
             "outlinewidth": 0,
             "ticks": ""
            },
            "colorscale": [
             [
              0,
              "#0d0887"
             ],
             [
              0.1111111111111111,
              "#46039f"
             ],
             [
              0.2222222222222222,
              "#7201a8"
             ],
             [
              0.3333333333333333,
              "#9c179e"
             ],
             [
              0.4444444444444444,
              "#bd3786"
             ],
             [
              0.5555555555555556,
              "#d8576b"
             ],
             [
              0.6666666666666666,
              "#ed7953"
             ],
             [
              0.7777777777777778,
              "#fb9f3a"
             ],
             [
              0.8888888888888888,
              "#fdca26"
             ],
             [
              1,
              "#f0f921"
             ]
            ],
            "type": "heatmapgl"
           }
          ],
          "histogram": [
           {
            "marker": {
             "pattern": {
              "fillmode": "overlay",
              "size": 10,
              "solidity": 0.2
             }
            },
            "type": "histogram"
           }
          ],
          "histogram2d": [
           {
            "colorbar": {
             "outlinewidth": 0,
             "ticks": ""
            },
            "colorscale": [
             [
              0,
              "#0d0887"
             ],
             [
              0.1111111111111111,
              "#46039f"
             ],
             [
              0.2222222222222222,
              "#7201a8"
             ],
             [
              0.3333333333333333,
              "#9c179e"
             ],
             [
              0.4444444444444444,
              "#bd3786"
             ],
             [
              0.5555555555555556,
              "#d8576b"
             ],
             [
              0.6666666666666666,
              "#ed7953"
             ],
             [
              0.7777777777777778,
              "#fb9f3a"
             ],
             [
              0.8888888888888888,
              "#fdca26"
             ],
             [
              1,
              "#f0f921"
             ]
            ],
            "type": "histogram2d"
           }
          ],
          "histogram2dcontour": [
           {
            "colorbar": {
             "outlinewidth": 0,
             "ticks": ""
            },
            "colorscale": [
             [
              0,
              "#0d0887"
             ],
             [
              0.1111111111111111,
              "#46039f"
             ],
             [
              0.2222222222222222,
              "#7201a8"
             ],
             [
              0.3333333333333333,
              "#9c179e"
             ],
             [
              0.4444444444444444,
              "#bd3786"
             ],
             [
              0.5555555555555556,
              "#d8576b"
             ],
             [
              0.6666666666666666,
              "#ed7953"
             ],
             [
              0.7777777777777778,
              "#fb9f3a"
             ],
             [
              0.8888888888888888,
              "#fdca26"
             ],
             [
              1,
              "#f0f921"
             ]
            ],
            "type": "histogram2dcontour"
           }
          ],
          "mesh3d": [
           {
            "colorbar": {
             "outlinewidth": 0,
             "ticks": ""
            },
            "type": "mesh3d"
           }
          ],
          "parcoords": [
           {
            "line": {
             "colorbar": {
              "outlinewidth": 0,
              "ticks": ""
             }
            },
            "type": "parcoords"
           }
          ],
          "pie": [
           {
            "automargin": true,
            "type": "pie"
           }
          ],
          "scatter": [
           {
            "fillpattern": {
             "fillmode": "overlay",
             "size": 10,
             "solidity": 0.2
            },
            "type": "scatter"
           }
          ],
          "scatter3d": [
           {
            "line": {
             "colorbar": {
              "outlinewidth": 0,
              "ticks": ""
             }
            },
            "marker": {
             "colorbar": {
              "outlinewidth": 0,
              "ticks": ""
             }
            },
            "type": "scatter3d"
           }
          ],
          "scattercarpet": [
           {
            "marker": {
             "colorbar": {
              "outlinewidth": 0,
              "ticks": ""
             }
            },
            "type": "scattercarpet"
           }
          ],
          "scattergeo": [
           {
            "marker": {
             "colorbar": {
              "outlinewidth": 0,
              "ticks": ""
             }
            },
            "type": "scattergeo"
           }
          ],
          "scattergl": [
           {
            "marker": {
             "colorbar": {
              "outlinewidth": 0,
              "ticks": ""
             }
            },
            "type": "scattergl"
           }
          ],
          "scattermapbox": [
           {
            "marker": {
             "colorbar": {
              "outlinewidth": 0,
              "ticks": ""
             }
            },
            "type": "scattermapbox"
           }
          ],
          "scatterpolar": [
           {
            "marker": {
             "colorbar": {
              "outlinewidth": 0,
              "ticks": ""
             }
            },
            "type": "scatterpolar"
           }
          ],
          "scatterpolargl": [
           {
            "marker": {
             "colorbar": {
              "outlinewidth": 0,
              "ticks": ""
             }
            },
            "type": "scatterpolargl"
           }
          ],
          "scatterternary": [
           {
            "marker": {
             "colorbar": {
              "outlinewidth": 0,
              "ticks": ""
             }
            },
            "type": "scatterternary"
           }
          ],
          "surface": [
           {
            "colorbar": {
             "outlinewidth": 0,
             "ticks": ""
            },
            "colorscale": [
             [
              0,
              "#0d0887"
             ],
             [
              0.1111111111111111,
              "#46039f"
             ],
             [
              0.2222222222222222,
              "#7201a8"
             ],
             [
              0.3333333333333333,
              "#9c179e"
             ],
             [
              0.4444444444444444,
              "#bd3786"
             ],
             [
              0.5555555555555556,
              "#d8576b"
             ],
             [
              0.6666666666666666,
              "#ed7953"
             ],
             [
              0.7777777777777778,
              "#fb9f3a"
             ],
             [
              0.8888888888888888,
              "#fdca26"
             ],
             [
              1,
              "#f0f921"
             ]
            ],
            "type": "surface"
           }
          ],
          "table": [
           {
            "cells": {
             "fill": {
              "color": "#EBF0F8"
             },
             "line": {
              "color": "white"
             }
            },
            "header": {
             "fill": {
              "color": "#C8D4E3"
             },
             "line": {
              "color": "white"
             }
            },
            "type": "table"
           }
          ]
         },
         "layout": {
          "annotationdefaults": {
           "arrowcolor": "#2a3f5f",
           "arrowhead": 0,
           "arrowwidth": 1
          },
          "autotypenumbers": "strict",
          "coloraxis": {
           "colorbar": {
            "outlinewidth": 0,
            "ticks": ""
           }
          },
          "colorscale": {
           "diverging": [
            [
             0,
             "#8e0152"
            ],
            [
             0.1,
             "#c51b7d"
            ],
            [
             0.2,
             "#de77ae"
            ],
            [
             0.3,
             "#f1b6da"
            ],
            [
             0.4,
             "#fde0ef"
            ],
            [
             0.5,
             "#f7f7f7"
            ],
            [
             0.6,
             "#e6f5d0"
            ],
            [
             0.7,
             "#b8e186"
            ],
            [
             0.8,
             "#7fbc41"
            ],
            [
             0.9,
             "#4d9221"
            ],
            [
             1,
             "#276419"
            ]
           ],
           "sequential": [
            [
             0,
             "#0d0887"
            ],
            [
             0.1111111111111111,
             "#46039f"
            ],
            [
             0.2222222222222222,
             "#7201a8"
            ],
            [
             0.3333333333333333,
             "#9c179e"
            ],
            [
             0.4444444444444444,
             "#bd3786"
            ],
            [
             0.5555555555555556,
             "#d8576b"
            ],
            [
             0.6666666666666666,
             "#ed7953"
            ],
            [
             0.7777777777777778,
             "#fb9f3a"
            ],
            [
             0.8888888888888888,
             "#fdca26"
            ],
            [
             1,
             "#f0f921"
            ]
           ],
           "sequentialminus": [
            [
             0,
             "#0d0887"
            ],
            [
             0.1111111111111111,
             "#46039f"
            ],
            [
             0.2222222222222222,
             "#7201a8"
            ],
            [
             0.3333333333333333,
             "#9c179e"
            ],
            [
             0.4444444444444444,
             "#bd3786"
            ],
            [
             0.5555555555555556,
             "#d8576b"
            ],
            [
             0.6666666666666666,
             "#ed7953"
            ],
            [
             0.7777777777777778,
             "#fb9f3a"
            ],
            [
             0.8888888888888888,
             "#fdca26"
            ],
            [
             1,
             "#f0f921"
            ]
           ]
          },
          "colorway": [
           "#636efa",
           "#EF553B",
           "#00cc96",
           "#ab63fa",
           "#FFA15A",
           "#19d3f3",
           "#FF6692",
           "#B6E880",
           "#FF97FF",
           "#FECB52"
          ],
          "font": {
           "color": "#2a3f5f"
          },
          "geo": {
           "bgcolor": "white",
           "lakecolor": "white",
           "landcolor": "#E5ECF6",
           "showlakes": true,
           "showland": true,
           "subunitcolor": "white"
          },
          "hoverlabel": {
           "align": "left"
          },
          "hovermode": "closest",
          "mapbox": {
           "style": "light"
          },
          "paper_bgcolor": "white",
          "plot_bgcolor": "#E5ECF6",
          "polar": {
           "angularaxis": {
            "gridcolor": "white",
            "linecolor": "white",
            "ticks": ""
           },
           "bgcolor": "#E5ECF6",
           "radialaxis": {
            "gridcolor": "white",
            "linecolor": "white",
            "ticks": ""
           }
          },
          "scene": {
           "xaxis": {
            "backgroundcolor": "#E5ECF6",
            "gridcolor": "white",
            "gridwidth": 2,
            "linecolor": "white",
            "showbackground": true,
            "ticks": "",
            "zerolinecolor": "white"
           },
           "yaxis": {
            "backgroundcolor": "#E5ECF6",
            "gridcolor": "white",
            "gridwidth": 2,
            "linecolor": "white",
            "showbackground": true,
            "ticks": "",
            "zerolinecolor": "white"
           },
           "zaxis": {
            "backgroundcolor": "#E5ECF6",
            "gridcolor": "white",
            "gridwidth": 2,
            "linecolor": "white",
            "showbackground": true,
            "ticks": "",
            "zerolinecolor": "white"
           }
          },
          "shapedefaults": {
           "line": {
            "color": "#2a3f5f"
           }
          },
          "ternary": {
           "aaxis": {
            "gridcolor": "white",
            "linecolor": "white",
            "ticks": ""
           },
           "baxis": {
            "gridcolor": "white",
            "linecolor": "white",
            "ticks": ""
           },
           "bgcolor": "#E5ECF6",
           "caxis": {
            "gridcolor": "white",
            "linecolor": "white",
            "ticks": ""
           }
          },
          "title": {
           "x": 0.05
          },
          "xaxis": {
           "automargin": true,
           "gridcolor": "white",
           "linecolor": "white",
           "ticks": "",
           "title": {
            "standoff": 15
           },
           "zerolinecolor": "white",
           "zerolinewidth": 2
          },
          "yaxis": {
           "automargin": true,
           "gridcolor": "white",
           "linecolor": "white",
           "ticks": "",
           "title": {
            "standoff": 15
           },
           "zerolinecolor": "white",
           "zerolinewidth": 2
          }
         }
        },
        "title": {
         "text": "Total Voting Power for Each Proposal"
        },
        "xaxis": {
         "anchor": "y",
         "domain": [
          0,
          1
         ],
         "showticklabels": false,
         "title": {
          "text": "index"
         }
        },
        "yaxis": {
         "anchor": "x",
         "domain": [
          0,
          1
         ],
         "tickvals": [
          0,
          20000000,
          40000000,
          60000000,
          80000000,
          100000000,
          120000000,
          140000000,
          160000000,
          180000000,
          200000000,
          220000000
         ],
         "title": {
          "text": "Total Voting Power"
         }
        }
       }
      }
     },
     "metadata": {},
     "output_type": "display_data"
    }
   ],
   "source": [
    "# Create a scatter plot of the total voting power for each proposal\n",
    "fig = px.scatter(df2, y='total_voting_power', title='Total Voting Power for Each Proposal', hover_data={'proposal_title': True})\n",
    "\n",
    "# Define the legend labels and colors\n",
    "legend_labels = ['< 100M', '> 200M']\n",
    "colors = ['red', 'green']\n",
    "thresholds = [100_000_000, 200_000_000]\n",
    "\n",
    "# Loop through legend labels and colors to create scatter traces\n",
    "for label, color, threshold in zip(legend_labels, colors, thresholds):\n",
    "    if label.startswith('>'):\n",
    "        filtered_data = df2[df2['total_voting_power'] > threshold]\n",
    "    else:\n",
    "        filtered_data = df2[df2['total_voting_power'] < threshold]\n",
    "    fig.add_scatter(x=filtered_data.index, y=filtered_data['total_voting_power'], mode='markers', \n",
    "                    marker=dict(color=color), name=label, legendgroup=label)\n",
    "\n",
    "fig.update_layout(yaxis_title='Total Voting Power',\n",
    "                  legend_title='Voting Power')\n",
    "\n",
    "fig.update_xaxes(showticklabels=False)\n",
    "fig.update_yaxes(tickvals=list(range(0, int(df2['total_voting_power'].max()) + 20_000_000, 20_000_000)))\n",
    "\n",
    "fig.show()\n",
    "fig.write_html(r'Graphs\\scatter-plot-proposals.html')"
   ]
  },
  {
   "cell_type": "markdown",
   "metadata": {},
   "source": [
    "Proposals with total voting power less than 100M"
   ]
  },
  {
   "cell_type": "code",
   "execution_count": 48,
   "metadata": {},
   "outputs": [
    {
     "data": {
      "text/html": [
       "<div>\n",
       "<style scoped>\n",
       "    .dataframe tbody tr th:only-of-type {\n",
       "        vertical-align: middle;\n",
       "    }\n",
       "\n",
       "    .dataframe tbody tr th {\n",
       "        vertical-align: top;\n",
       "    }\n",
       "\n",
       "    .dataframe thead th {\n",
       "        text-align: right;\n",
       "    }\n",
       "</style>\n",
       "<table border=\"1\" class=\"dataframe\">\n",
       "  <thead>\n",
       "    <tr style=\"text-align: right;\">\n",
       "      <th></th>\n",
       "      <th>proposal_title</th>\n",
       "      <th>total_voting_power</th>\n",
       "    </tr>\n",
       "  </thead>\n",
       "  <tbody>\n",
       "    <tr>\n",
       "      <th>61</th>\n",
       "      <td>Proposal to onboard Matrixed.Link as a validat...</td>\n",
       "      <td>5.558155e+07</td>\n",
       "    </tr>\n",
       "    <tr>\n",
       "      <th>62</th>\n",
       "      <td>Proposal: Activate support for account abstrac...</td>\n",
       "      <td>6.070424e+07</td>\n",
       "    </tr>\n",
       "    <tr>\n",
       "      <th>64</th>\n",
       "      <td>Proposal: Security Council Elections Proposed ...</td>\n",
       "      <td>8.091965e+07</td>\n",
       "    </tr>\n",
       "    <tr>\n",
       "      <th>65</th>\n",
       "      <td>Proposal: Update Security Council Election Sta...</td>\n",
       "      <td>8.354867e+07</td>\n",
       "    </tr>\n",
       "    <tr>\n",
       "      <th>92</th>\n",
       "      <td>Time Management in ArbitrumÃÂÃÂ¢ÃÂÃÂÃÂ...</td>\n",
       "      <td>4.214652e+07</td>\n",
       "    </tr>\n",
       "  </tbody>\n",
       "</table>\n",
       "</div>"
      ],
      "text/plain": [
       "                                       proposal_title  total_voting_power\n",
       "61  Proposal to onboard Matrixed.Link as a validat...        5.558155e+07\n",
       "62  Proposal: Activate support for account abstrac...        6.070424e+07\n",
       "64  Proposal: Security Council Elections Proposed ...        8.091965e+07\n",
       "65  Proposal: Update Security Council Election Sta...        8.354867e+07\n",
       "92  Time Management in ArbitrumÃÂÃÂ¢ÃÂÃÂÃÂ...        4.214652e+07"
      ]
     },
     "execution_count": 48,
     "metadata": {},
     "output_type": "execute_result"
    }
   ],
   "source": [
    "df2[df2['total_voting_power'] < 100000000]"
   ]
  },
  {
   "cell_type": "code",
   "execution_count": 49,
   "metadata": {},
   "outputs": [],
   "source": [
    "# Define keywords or patterns for different types of proposals\n",
    "proposal_types = {\n",
    "    'STIP': ['STIP'],\n",
    "    'Governance': ['Governance', 'Foundation', 'DAO'],\n",
    "    'Funding': ['Funding', 'Treasury'],\n",
    "    'Election': ['Election', 'Elections']\n",
    "}\n",
    "\n",
    "# Function to extract proposal type from proposal title\n",
    "def extract_proposal_type(title):\n",
    "    for p_type, keywords in proposal_types.items():\n",
    "        for keyword in keywords:\n",
    "            if keyword.lower() in title.lower():\n",
    "                return p_type\n",
    "    return 'Other'\n",
    "\n",
    "# Apply the function to create a new column for proposal type\n",
    "df2['proposal_type'] = df2['proposal_title'].apply(extract_proposal_type)"
   ]
  },
  {
   "cell_type": "code",
   "execution_count": 50,
   "metadata": {},
   "outputs": [
    {
     "name": "stderr",
     "output_type": "stream",
     "text": [
      "f:\\Lampros\\Analysis of Delegates Voting Patterns in Arbitrum Proposals\\Analysis\\data_analysis\\lib\\site-packages\\ipykernel_launcher.py:3: UserWarning:\n",
      "\n",
      "Dataset has 0 variance; skipping density estimate. Pass `warn_singular=False` to disable this warning.\n",
      "\n"
     ]
    },
    {
     "data": {
      "image/png": "[encoded data removed]",
      "text/plain": [
       "<Figure size 1000x600 with 1 Axes>"
      ]
     },
     "metadata": {},
     "output_type": "display_data"
    }
   ],
   "source": [
    "# Plot the KDE plot\n",
    "plt.figure(figsize=(10, 6))\n",
    "sns.kdeplot(data=df2, x='total_voting_power', hue='proposal_type', fill=True, common_norm=False, legend=True)\n",
    "plt.title('Voting Power Distribution Across Proposal Types')\n",
    "plt.xlabel('Total Voting Power')\n",
    "plt.ylabel('Density')\n",
    "plt.show()"
   ]
  },
  {
   "cell_type": "markdown",
   "metadata": {},
   "source": [
    "From the above graph it can be seen that the distribition of all the different proposal types are very much different from each other."
   ]
  },
  {
   "cell_type": "code",
   "execution_count": 51,
   "metadata": {},
   "outputs": [
    {
     "data": {
      "text/plain": [
       "STIP          98\n",
       "Other          9\n",
       "Governance     4\n",
       "Election       2\n",
       "Funding        1\n",
       "Name: proposal_type, dtype: int64"
      ]
     },
     "execution_count": 51,
     "metadata": {},
     "output_type": "execute_result"
    }
   ],
   "source": [
    "df2['proposal_type'].value_counts()"
   ]
  },
  {
   "cell_type": "code",
   "execution_count": 52,
   "metadata": {},
   "outputs": [
    {
     "data": {
      "image/png": "[encoded data removed]",
      "text/plain": [
       "<Figure size 1000x600 with 1 Axes>"
      ]
     },
     "metadata": {},
     "output_type": "display_data"
    }
   ],
   "source": [
    "# Filter the DataFrame for a specific proposal type (e.g., 'STIP')\n",
    "df_stip = df2[df2['proposal_type'] == 'STIP']\n",
    "\n",
    "# Set the style for seaborn\n",
    "sns.set_style(\"whitegrid\")\n",
    "\n",
    "# Plot the KDE plot for the filtered data\n",
    "plt.figure(figsize=(10, 6))\n",
    "sns.kdeplot(data=df_stip, x='total_voting_power', fill=True)\n",
    "plt.title('Voting Power Distribution for STIP Proposals')\n",
    "plt.xlabel('Total Voting Power')\n",
    "plt.ylabel('Density')\n",
    "plt.show()"
   ]
  },
  {
   "cell_type": "code",
   "execution_count": 53,
   "metadata": {},
   "outputs": [
    {
     "data": {
      "text/html": [
       "<div>\n",
       "<style scoped>\n",
       "    .dataframe tbody tr th:only-of-type {\n",
       "        vertical-align: middle;\n",
       "    }\n",
       "\n",
       "    .dataframe tbody tr th {\n",
       "        vertical-align: top;\n",
       "    }\n",
       "\n",
       "    .dataframe thead th {\n",
       "        text-align: right;\n",
       "    }\n",
       "</style>\n",
       "<table border=\"1\" class=\"dataframe\">\n",
       "  <thead>\n",
       "    <tr style=\"text-align: right;\">\n",
       "      <th></th>\n",
       "      <th>proposal_title</th>\n",
       "      <th>total_voting_power</th>\n",
       "      <th>proposal_type</th>\n",
       "    </tr>\n",
       "  </thead>\n",
       "  <tbody>\n",
       "    <tr>\n",
       "      <th>109</th>\n",
       "      <td>[Non-Constitutional]: Arbitrum Stable Treasury...</td>\n",
       "      <td>1.327322e+08</td>\n",
       "      <td>Funding</td>\n",
       "    </tr>\n",
       "  </tbody>\n",
       "</table>\n",
       "</div>"
      ],
      "text/plain": [
       "                                        proposal_title  total_voting_power  \\\n",
       "109  [Non-Constitutional]: Arbitrum Stable Treasury...        1.327322e+08   \n",
       "\n",
       "    proposal_type  \n",
       "109       Funding  "
      ]
     },
     "execution_count": 53,
     "metadata": {},
     "output_type": "execute_result"
    }
   ],
   "source": [
    "df2[df2['proposal_type'] == 'Funding']"
   ]
  },
  {
   "cell_type": "code",
   "execution_count": 54,
   "metadata": {},
   "outputs": [
    {
     "data": {
      "text/plain": [
       "Index(['vote_id', 'voter', 'voting_power', 'vote_date', 'voting_reason',\n",
       "       'vote_year', 'vote_month', 'vote_day', 'vote_time', 'vote_hour',\n",
       "       'vote_minute', 'vote_year_month', 'voting_power_range', 'proposal_id',\n",
       "       'proposal_title', 'proposal_body', 'proposal_type', 'proposal_created',\n",
       "       'proposal_start_date', 'proposal_end_date', 'proposal_year',\n",
       "       'proposal_month', 'proposal_day', 'proposal_time', 'proposal_choices',\n",
       "       'voting_choice', 'mapped_choice'],\n",
       "      dtype='object')"
      ]
     },
     "execution_count": 54,
     "metadata": {},
     "output_type": "execute_result"
    }
   ],
   "source": [
    "data1.columns"
   ]
  },
  {
   "cell_type": "code",
   "execution_count": 55,
   "metadata": {},
   "outputs": [],
   "source": [
    "voting_power = pd.read_csv(r'voting_power_per_day.csv')"
   ]
  },
  {
   "cell_type": "code",
   "execution_count": 56,
   "metadata": {},
   "outputs": [
    {
     "data": {
      "text/plain": [
       "Index(['proposal_title', 'day1', 'day2', 'day3', 'day4', 'day5', 'day6',\n",
       "       'day7', 'total_voting_power'],\n",
       "      dtype='object')"
      ]
     },
     "execution_count": 56,
     "metadata": {},
     "output_type": "execute_result"
    }
   ],
   "source": [
    "voting_power.columns"
   ]
  },
  {
   "cell_type": "code",
   "execution_count": 57,
   "metadata": {},
   "outputs": [
    {
     "data": {
      "text/html": [
       "<div>\n",
       "<style scoped>\n",
       "    .dataframe tbody tr th:only-of-type {\n",
       "        vertical-align: middle;\n",
       "    }\n",
       "\n",
       "    .dataframe tbody tr th {\n",
       "        vertical-align: top;\n",
       "    }\n",
       "\n",
       "    .dataframe thead th {\n",
       "        text-align: right;\n",
       "    }\n",
       "</style>\n",
       "<table border=\"1\" class=\"dataframe\">\n",
       "  <thead>\n",
       "    <tr style=\"text-align: right;\">\n",
       "      <th></th>\n",
       "      <th>proposal_title</th>\n",
       "      <th>hourly_timestamp</th>\n",
       "      <th>voting_power</th>\n",
       "    </tr>\n",
       "  </thead>\n",
       "  <tbody>\n",
       "    <tr>\n",
       "      <th>0</th>\n",
       "      <td>0xGen STIP Proposal - Round 1</td>\n",
       "      <td>2023-10-06 02:00:00</td>\n",
       "      <td>1.320774e+02</td>\n",
       "    </tr>\n",
       "    <tr>\n",
       "      <th>1</th>\n",
       "      <td>0xGen STIP Proposal - Round 1</td>\n",
       "      <td>2023-10-06 03:00:00</td>\n",
       "      <td>1.026296e+04</td>\n",
       "    </tr>\n",
       "    <tr>\n",
       "      <th>2</th>\n",
       "      <td>0xGen STIP Proposal - Round 1</td>\n",
       "      <td>2023-10-06 04:00:00</td>\n",
       "      <td>4.456380e+04</td>\n",
       "    </tr>\n",
       "    <tr>\n",
       "      <th>3</th>\n",
       "      <td>0xGen STIP Proposal - Round 1</td>\n",
       "      <td>2023-10-06 05:00:00</td>\n",
       "      <td>1.793468e+04</td>\n",
       "    </tr>\n",
       "    <tr>\n",
       "      <th>4</th>\n",
       "      <td>0xGen STIP Proposal - Round 1</td>\n",
       "      <td>2023-10-06 06:00:00</td>\n",
       "      <td>8.993829e+03</td>\n",
       "    </tr>\n",
       "    <tr>\n",
       "      <th>...</th>\n",
       "      <td>...</td>\n",
       "      <td>...</td>\n",
       "      <td>...</td>\n",
       "    </tr>\n",
       "    <tr>\n",
       "      <th>19261</th>\n",
       "      <td>unshETH STIP Proposal - Round 1</td>\n",
       "      <td>2023-10-12 22:00:00</td>\n",
       "      <td>2.802519e+05</td>\n",
       "    </tr>\n",
       "    <tr>\n",
       "      <th>19262</th>\n",
       "      <td>unshETH STIP Proposal - Round 1</td>\n",
       "      <td>2023-10-12 23:00:00</td>\n",
       "      <td>2.516479e+07</td>\n",
       "    </tr>\n",
       "    <tr>\n",
       "      <th>19263</th>\n",
       "      <td>unshETH STIP Proposal - Round 1</td>\n",
       "      <td>2023-10-13 00:00:00</td>\n",
       "      <td>1.288717e+04</td>\n",
       "    </tr>\n",
       "    <tr>\n",
       "      <th>19264</th>\n",
       "      <td>unshETH STIP Proposal - Round 1</td>\n",
       "      <td>2023-10-13 01:00:00</td>\n",
       "      <td>5.391375e+05</td>\n",
       "    </tr>\n",
       "    <tr>\n",
       "      <th>19265</th>\n",
       "      <td>unshETH STIP Proposal - Round 1</td>\n",
       "      <td>2023-10-13 02:00:00</td>\n",
       "      <td>0.000000e+00</td>\n",
       "    </tr>\n",
       "  </tbody>\n",
       "</table>\n",
       "<p>19266 rows × 3 columns</p>\n",
       "</div>"
      ],
      "text/plain": [
       "                        proposal_title    hourly_timestamp  voting_power\n",
       "0        0xGen STIP Proposal - Round 1 2023-10-06 02:00:00  1.320774e+02\n",
       "1        0xGen STIP Proposal - Round 1 2023-10-06 03:00:00  1.026296e+04\n",
       "2        0xGen STIP Proposal - Round 1 2023-10-06 04:00:00  4.456380e+04\n",
       "3        0xGen STIP Proposal - Round 1 2023-10-06 05:00:00  1.793468e+04\n",
       "4        0xGen STIP Proposal - Round 1 2023-10-06 06:00:00  8.993829e+03\n",
       "...                                ...                 ...           ...\n",
       "19261  unshETH STIP Proposal - Round 1 2023-10-12 22:00:00  2.802519e+05\n",
       "19262  unshETH STIP Proposal - Round 1 2023-10-12 23:00:00  2.516479e+07\n",
       "19263  unshETH STIP Proposal - Round 1 2023-10-13 00:00:00  1.288717e+04\n",
       "19264  unshETH STIP Proposal - Round 1 2023-10-13 01:00:00  5.391375e+05\n",
       "19265  unshETH STIP Proposal - Round 1 2023-10-13 02:00:00  0.000000e+00\n",
       "\n",
       "[19266 rows x 3 columns]"
      ]
     },
     "execution_count": 57,
     "metadata": {},
     "output_type": "execute_result"
    }
   ],
   "source": [
    "# Convert 'vote_date' and 'proposal_start_date' columns to datetime\n",
    "data1['vote_date'] = pd.to_datetime(data1['vote_date'])\n",
    "data1['proposal_start_date'] = pd.to_datetime(data1['proposal_start_date'])\n",
    "\n",
    "# Create an empty DataFrame to store hourly voting power data\n",
    "hourly_voting_power = pd.DataFrame()\n",
    "\n",
    "# Iterate over each proposal\n",
    "for proposal_title, proposal_group in data1.groupby('proposal_title'):\n",
    "    # Generate hourly timestamps from proposal start date to end date\n",
    "    hourly_timestamps = pd.date_range(start=proposal_group['proposal_start_date'].iloc[0], \n",
    "                                       end=proposal_group['proposal_end_date'].iloc[0], \n",
    "                                       freq='H')\n",
    "    # Calculate voting power for each proposal within each hour\n",
    "    hourly_voting_power_list = []\n",
    "    for timestamp in hourly_timestamps:\n",
    "        hour_votes = proposal_group[(proposal_group['vote_date'] >= timestamp) & \n",
    "                                    (proposal_group['vote_date'] < timestamp + pd.Timedelta(hours=1))]\n",
    "        hour_voting_power = hour_votes['voting_power'].sum()\n",
    "        hourly_voting_power_list.append(hour_voting_power)\n",
    "    \n",
    "    # Create a DataFrame for hourly voting power for the current proposal\n",
    "    proposal_hourly_power = pd.DataFrame({'proposal_title': proposal_title,\n",
    "                                          'hourly_timestamp': hourly_timestamps,\n",
    "                                          'voting_power': hourly_voting_power_list})\n",
    "    \n",
    "    # Append the proposal's hourly data to the main DataFrame\n",
    "    hourly_voting_power = pd.concat([hourly_voting_power, proposal_hourly_power], ignore_index=True)\n",
    "\n",
    "# Display the resulting DataFrame\n",
    "hourly_voting_power"
   ]
  },
  {
   "cell_type": "code",
   "execution_count": 58,
   "metadata": {},
   "outputs": [
    {
     "name": "stderr",
     "output_type": "stream",
     "text": [
      "f:\\Lampros\\Analysis of Delegates Voting Patterns in Arbitrum Proposals\\Analysis\\data_analysis\\lib\\site-packages\\ipykernel_launcher.py:11: FutureWarning:\n",
      "\n",
      "Dropping of nuisance columns in DataFrame reductions (with 'numeric_only=None') is deprecated; in a future version this will raise TypeError.  Select only valid columns before calling the reduction.\n",
      "\n"
     ]
    },
    {
     "data": {
      "text/html": [
       "<div>\n",
       "<style scoped>\n",
       "    .dataframe tbody tr th:only-of-type {\n",
       "        vertical-align: middle;\n",
       "    }\n",
       "\n",
       "    .dataframe tbody tr th {\n",
       "        vertical-align: top;\n",
       "    }\n",
       "\n",
       "    .dataframe thead th {\n",
       "        text-align: right;\n",
       "    }\n",
       "</style>\n",
       "<table border=\"1\" class=\"dataframe\">\n",
       "  <thead>\n",
       "    <tr style=\"text-align: right;\">\n",
       "      <th>hour</th>\n",
       "      <th>proposal_title</th>\n",
       "      <th>0</th>\n",
       "      <th>1</th>\n",
       "      <th>2</th>\n",
       "      <th>3</th>\n",
       "      <th>4</th>\n",
       "      <th>5</th>\n",
       "      <th>6</th>\n",
       "      <th>7</th>\n",
       "      <th>8</th>\n",
       "      <th>...</th>\n",
       "      <th>15</th>\n",
       "      <th>16</th>\n",
       "      <th>17</th>\n",
       "      <th>18</th>\n",
       "      <th>19</th>\n",
       "      <th>20</th>\n",
       "      <th>21</th>\n",
       "      <th>22</th>\n",
       "      <th>23</th>\n",
       "      <th>Total</th>\n",
       "    </tr>\n",
       "  </thead>\n",
       "  <tbody>\n",
       "    <tr>\n",
       "      <th>0</th>\n",
       "      <td>0xGen STIP Proposal - Round 1</td>\n",
       "      <td>8.801792e+05</td>\n",
       "      <td>3.568478e+05</td>\n",
       "      <td>9.720806e+05</td>\n",
       "      <td>5.505071e+05</td>\n",
       "      <td>6.913613e+05</td>\n",
       "      <td>2.882150e+06</td>\n",
       "      <td>3.227453e+05</td>\n",
       "      <td>2.071280e+05</td>\n",
       "      <td>1.096872e+06</td>\n",
       "      <td>...</td>\n",
       "      <td>1.048463e+06</td>\n",
       "      <td>1.113282e+05</td>\n",
       "      <td>1.021087e+06</td>\n",
       "      <td>1.243237e+07</td>\n",
       "      <td>6.022782e+05</td>\n",
       "      <td>5.502533e+07</td>\n",
       "      <td>6.681169e+06</td>\n",
       "      <td>1.043903e+07</td>\n",
       "      <td>7.399111e+04</td>\n",
       "      <td>1.126770e+08</td>\n",
       "    </tr>\n",
       "    <tr>\n",
       "      <th>1</th>\n",
       "      <td>AIP 1.05: Return 700M $ARB to the DAO Treasury...</td>\n",
       "      <td>1.485450e+06</td>\n",
       "      <td>1.873827e+07</td>\n",
       "      <td>1.520239e+06</td>\n",
       "      <td>2.743983e+06</td>\n",
       "      <td>2.447012e+06</td>\n",
       "      <td>5.765240e+06</td>\n",
       "      <td>2.728605e+06</td>\n",
       "      <td>2.457803e+06</td>\n",
       "      <td>1.339348e+06</td>\n",
       "      <td>...</td>\n",
       "      <td>6.137461e+06</td>\n",
       "      <td>7.528334e+06</td>\n",
       "      <td>1.075548e+06</td>\n",
       "      <td>2.798121e+06</td>\n",
       "      <td>2.025317e+07</td>\n",
       "      <td>5.665856e+06</td>\n",
       "      <td>1.511014e+06</td>\n",
       "      <td>2.139129e+06</td>\n",
       "      <td>7.208893e+05</td>\n",
       "      <td>1.408547e+08</td>\n",
       "    </tr>\n",
       "    <tr>\n",
       "      <th>2</th>\n",
       "      <td>AIP-1.1 - Lockup, Budget, Transparency</td>\n",
       "      <td>6.129077e+06</td>\n",
       "      <td>1.220000e+06</td>\n",
       "      <td>1.455507e+07</td>\n",
       "      <td>1.692077e+06</td>\n",
       "      <td>1.443075e+06</td>\n",
       "      <td>1.001496e+06</td>\n",
       "      <td>1.540096e+06</td>\n",
       "      <td>4.824390e+06</td>\n",
       "      <td>2.274200e+06</td>\n",
       "      <td>...</td>\n",
       "      <td>1.052677e+06</td>\n",
       "      <td>7.534155e+06</td>\n",
       "      <td>1.833773e+06</td>\n",
       "      <td>2.651557e+07</td>\n",
       "      <td>3.212991e+06</td>\n",
       "      <td>2.102881e+07</td>\n",
       "      <td>9.263639e+06</td>\n",
       "      <td>2.036270e+06</td>\n",
       "      <td>3.128971e+06</td>\n",
       "      <td>1.396229e+08</td>\n",
       "    </tr>\n",
       "    <tr>\n",
       "      <th>3</th>\n",
       "      <td>AIP-1.2 - Foundation and DAO Governance</td>\n",
       "      <td>6.290567e+06</td>\n",
       "      <td>1.215624e+06</td>\n",
       "      <td>1.456931e+07</td>\n",
       "      <td>1.704946e+06</td>\n",
       "      <td>9.170083e+05</td>\n",
       "      <td>1.583300e+06</td>\n",
       "      <td>1.579573e+06</td>\n",
       "      <td>3.703516e+06</td>\n",
       "      <td>2.272817e+06</td>\n",
       "      <td>...</td>\n",
       "      <td>1.091874e+06</td>\n",
       "      <td>7.543661e+06</td>\n",
       "      <td>1.856808e+06</td>\n",
       "      <td>2.650525e+07</td>\n",
       "      <td>3.196479e+06</td>\n",
       "      <td>2.104909e+07</td>\n",
       "      <td>7.961228e+06</td>\n",
       "      <td>2.722169e+06</td>\n",
       "      <td>2.968355e+06</td>\n",
       "      <td>1.387616e+08</td>\n",
       "    </tr>\n",
       "    <tr>\n",
       "      <th>4</th>\n",
       "      <td>AIP-1: Arbitrum Improvement Proposal Framework</td>\n",
       "      <td>1.957272e+06</td>\n",
       "      <td>3.189060e+06</td>\n",
       "      <td>6.864530e+06</td>\n",
       "      <td>3.723602e+06</td>\n",
       "      <td>3.002297e+06</td>\n",
       "      <td>1.956511e+07</td>\n",
       "      <td>4.335544e+06</td>\n",
       "      <td>1.803871e+06</td>\n",
       "      <td>1.257287e+06</td>\n",
       "      <td>...</td>\n",
       "      <td>1.556301e+07</td>\n",
       "      <td>6.822662e+06</td>\n",
       "      <td>8.741481e+06</td>\n",
       "      <td>7.888369e+06</td>\n",
       "      <td>2.524060e+07</td>\n",
       "      <td>2.434437e+06</td>\n",
       "      <td>3.917275e+06</td>\n",
       "      <td>3.782514e+05</td>\n",
       "      <td>1.310846e+06</td>\n",
       "      <td>1.308752e+08</td>\n",
       "    </tr>\n",
       "    <tr>\n",
       "      <th>...</th>\n",
       "      <td>...</td>\n",
       "      <td>...</td>\n",
       "      <td>...</td>\n",
       "      <td>...</td>\n",
       "      <td>...</td>\n",
       "      <td>...</td>\n",
       "      <td>...</td>\n",
       "      <td>...</td>\n",
       "      <td>...</td>\n",
       "      <td>...</td>\n",
       "      <td>...</td>\n",
       "      <td>...</td>\n",
       "      <td>...</td>\n",
       "      <td>...</td>\n",
       "      <td>...</td>\n",
       "      <td>...</td>\n",
       "      <td>...</td>\n",
       "      <td>...</td>\n",
       "      <td>...</td>\n",
       "      <td>...</td>\n",
       "      <td>...</td>\n",
       "    </tr>\n",
       "    <tr>\n",
       "      <th>109</th>\n",
       "      <td>[Non-Constitutional]: Arbitrum Stable Treasury...</td>\n",
       "      <td>2.137769e+05</td>\n",
       "      <td>4.682595e+06</td>\n",
       "      <td>5.661587e+05</td>\n",
       "      <td>5.444552e+06</td>\n",
       "      <td>8.116986e+04</td>\n",
       "      <td>2.676461e+05</td>\n",
       "      <td>1.384355e+05</td>\n",
       "      <td>1.017910e+05</td>\n",
       "      <td>6.684779e+05</td>\n",
       "      <td>...</td>\n",
       "      <td>2.959170e+07</td>\n",
       "      <td>4.637059e+05</td>\n",
       "      <td>1.305551e+06</td>\n",
       "      <td>1.947764e+05</td>\n",
       "      <td>8.629777e+06</td>\n",
       "      <td>9.580625e+06</td>\n",
       "      <td>1.617490e+05</td>\n",
       "      <td>9.375886e+06</td>\n",
       "      <td>9.823182e+06</td>\n",
       "      <td>1.327322e+08</td>\n",
       "    </tr>\n",
       "    <tr>\n",
       "      <th>110</th>\n",
       "      <td>dForce STIP Proposal - Round 1</td>\n",
       "      <td>8.361941e+05</td>\n",
       "      <td>1.166368e+06</td>\n",
       "      <td>1.015258e+06</td>\n",
       "      <td>1.471808e+07</td>\n",
       "      <td>1.499753e+05</td>\n",
       "      <td>7.248422e+06</td>\n",
       "      <td>3.701413e+06</td>\n",
       "      <td>2.217724e+05</td>\n",
       "      <td>1.002428e+06</td>\n",
       "      <td>...</td>\n",
       "      <td>5.350549e+06</td>\n",
       "      <td>1.481976e+06</td>\n",
       "      <td>9.720102e+05</td>\n",
       "      <td>2.301394e+05</td>\n",
       "      <td>2.060514e+06</td>\n",
       "      <td>2.901149e+07</td>\n",
       "      <td>2.036177e+07</td>\n",
       "      <td>1.304916e+07</td>\n",
       "      <td>8.266283e+04</td>\n",
       "      <td>1.395754e+08</td>\n",
       "    </tr>\n",
       "    <tr>\n",
       "      <th>111</th>\n",
       "      <td>iZUMi STIP Proposal - Round 1</td>\n",
       "      <td>1.026478e+06</td>\n",
       "      <td>5.002438e+06</td>\n",
       "      <td>1.451512e+06</td>\n",
       "      <td>4.364374e+06</td>\n",
       "      <td>8.867364e+05</td>\n",
       "      <td>7.676112e+06</td>\n",
       "      <td>3.552847e+06</td>\n",
       "      <td>3.173746e+06</td>\n",
       "      <td>3.220237e+06</td>\n",
       "      <td>...</td>\n",
       "      <td>1.884411e+06</td>\n",
       "      <td>1.678587e+05</td>\n",
       "      <td>2.743898e+06</td>\n",
       "      <td>2.582254e+06</td>\n",
       "      <td>2.157004e+06</td>\n",
       "      <td>5.854932e+07</td>\n",
       "      <td>1.491928e+05</td>\n",
       "      <td>1.402100e+07</td>\n",
       "      <td>8.232625e+04</td>\n",
       "      <td>1.548327e+08</td>\n",
       "    </tr>\n",
       "    <tr>\n",
       "      <th>112</th>\n",
       "      <td>tBTC STIP Proposal - Round 1</td>\n",
       "      <td>3.234941e+04</td>\n",
       "      <td>1.626642e+06</td>\n",
       "      <td>9.661297e+05</td>\n",
       "      <td>1.277006e+07</td>\n",
       "      <td>1.332331e+05</td>\n",
       "      <td>4.434347e+06</td>\n",
       "      <td>3.138702e+05</td>\n",
       "      <td>3.556563e+06</td>\n",
       "      <td>1.844453e+05</td>\n",
       "      <td>...</td>\n",
       "      <td>6.355507e+05</td>\n",
       "      <td>1.050263e+05</td>\n",
       "      <td>9.658514e+05</td>\n",
       "      <td>2.338338e+05</td>\n",
       "      <td>1.806821e+06</td>\n",
       "      <td>3.155078e+07</td>\n",
       "      <td>1.232046e+07</td>\n",
       "      <td>5.626890e+04</td>\n",
       "      <td>8.630808e+04</td>\n",
       "      <td>1.106967e+08</td>\n",
       "    </tr>\n",
       "    <tr>\n",
       "      <th>113</th>\n",
       "      <td>unshETH STIP Proposal - Round 1</td>\n",
       "      <td>6.229922e+04</td>\n",
       "      <td>5.922625e+05</td>\n",
       "      <td>1.478894e+05</td>\n",
       "      <td>5.647266e+05</td>\n",
       "      <td>6.849771e+05</td>\n",
       "      <td>8.280539e+04</td>\n",
       "      <td>3.040624e+05</td>\n",
       "      <td>3.014911e+06</td>\n",
       "      <td>1.907935e+06</td>\n",
       "      <td>...</td>\n",
       "      <td>1.204831e+06</td>\n",
       "      <td>4.012724e+06</td>\n",
       "      <td>1.383967e+06</td>\n",
       "      <td>2.546645e+05</td>\n",
       "      <td>9.304362e+06</td>\n",
       "      <td>2.350843e+07</td>\n",
       "      <td>3.985180e+07</td>\n",
       "      <td>4.575522e+06</td>\n",
       "      <td>2.519730e+07</td>\n",
       "      <td>1.198675e+08</td>\n",
       "    </tr>\n",
       "  </tbody>\n",
       "</table>\n",
       "<p>114 rows × 26 columns</p>\n",
       "</div>"
      ],
      "text/plain": [
       "hour                                     proposal_title             0  \\\n",
       "0                         0xGen STIP Proposal - Round 1  8.801792e+05   \n",
       "1     AIP 1.05: Return 700M $ARB to the DAO Treasury...  1.485450e+06   \n",
       "2                AIP-1.1 - Lockup, Budget, Transparency  6.129077e+06   \n",
       "3               AIP-1.2 - Foundation and DAO Governance  6.290567e+06   \n",
       "4        AIP-1: Arbitrum Improvement Proposal Framework  1.957272e+06   \n",
       "..                                                  ...           ...   \n",
       "109   [Non-Constitutional]: Arbitrum Stable Treasury...  2.137769e+05   \n",
       "110                      dForce STIP Proposal - Round 1  8.361941e+05   \n",
       "111                       iZUMi STIP Proposal - Round 1  1.026478e+06   \n",
       "112                        tBTC STIP Proposal - Round 1  3.234941e+04   \n",
       "113                     unshETH STIP Proposal - Round 1  6.229922e+04   \n",
       "\n",
       "hour             1             2             3             4             5  \\\n",
       "0     3.568478e+05  9.720806e+05  5.505071e+05  6.913613e+05  2.882150e+06   \n",
       "1     1.873827e+07  1.520239e+06  2.743983e+06  2.447012e+06  5.765240e+06   \n",
       "2     1.220000e+06  1.455507e+07  1.692077e+06  1.443075e+06  1.001496e+06   \n",
       "3     1.215624e+06  1.456931e+07  1.704946e+06  9.170083e+05  1.583300e+06   \n",
       "4     3.189060e+06  6.864530e+06  3.723602e+06  3.002297e+06  1.956511e+07   \n",
       "..             ...           ...           ...           ...           ...   \n",
       "109   4.682595e+06  5.661587e+05  5.444552e+06  8.116986e+04  2.676461e+05   \n",
       "110   1.166368e+06  1.015258e+06  1.471808e+07  1.499753e+05  7.248422e+06   \n",
       "111   5.002438e+06  1.451512e+06  4.364374e+06  8.867364e+05  7.676112e+06   \n",
       "112   1.626642e+06  9.661297e+05  1.277006e+07  1.332331e+05  4.434347e+06   \n",
       "113   5.922625e+05  1.478894e+05  5.647266e+05  6.849771e+05  8.280539e+04   \n",
       "\n",
       "hour             6             7             8  ...            15  \\\n",
       "0     3.227453e+05  2.071280e+05  1.096872e+06  ...  1.048463e+06   \n",
       "1     2.728605e+06  2.457803e+06  1.339348e+06  ...  6.137461e+06   \n",
       "2     1.540096e+06  4.824390e+06  2.274200e+06  ...  1.052677e+06   \n",
       "3     1.579573e+06  3.703516e+06  2.272817e+06  ...  1.091874e+06   \n",
       "4     4.335544e+06  1.803871e+06  1.257287e+06  ...  1.556301e+07   \n",
       "..             ...           ...           ...  ...           ...   \n",
       "109   1.384355e+05  1.017910e+05  6.684779e+05  ...  2.959170e+07   \n",
       "110   3.701413e+06  2.217724e+05  1.002428e+06  ...  5.350549e+06   \n",
       "111   3.552847e+06  3.173746e+06  3.220237e+06  ...  1.884411e+06   \n",
       "112   3.138702e+05  3.556563e+06  1.844453e+05  ...  6.355507e+05   \n",
       "113   3.040624e+05  3.014911e+06  1.907935e+06  ...  1.204831e+06   \n",
       "\n",
       "hour            16            17            18            19            20  \\\n",
       "0     1.113282e+05  1.021087e+06  1.243237e+07  6.022782e+05  5.502533e+07   \n",
       "1     7.528334e+06  1.075548e+06  2.798121e+06  2.025317e+07  5.665856e+06   \n",
       "2     7.534155e+06  1.833773e+06  2.651557e+07  3.212991e+06  2.102881e+07   \n",
       "3     7.543661e+06  1.856808e+06  2.650525e+07  3.196479e+06  2.104909e+07   \n",
       "4     6.822662e+06  8.741481e+06  7.888369e+06  2.524060e+07  2.434437e+06   \n",
       "..             ...           ...           ...           ...           ...   \n",
       "109   4.637059e+05  1.305551e+06  1.947764e+05  8.629777e+06  9.580625e+06   \n",
       "110   1.481976e+06  9.720102e+05  2.301394e+05  2.060514e+06  2.901149e+07   \n",
       "111   1.678587e+05  2.743898e+06  2.582254e+06  2.157004e+06  5.854932e+07   \n",
       "112   1.050263e+05  9.658514e+05  2.338338e+05  1.806821e+06  3.155078e+07   \n",
       "113   4.012724e+06  1.383967e+06  2.546645e+05  9.304362e+06  2.350843e+07   \n",
       "\n",
       "hour            21            22            23         Total  \n",
       "0     6.681169e+06  1.043903e+07  7.399111e+04  1.126770e+08  \n",
       "1     1.511014e+06  2.139129e+06  7.208893e+05  1.408547e+08  \n",
       "2     9.263639e+06  2.036270e+06  3.128971e+06  1.396229e+08  \n",
       "3     7.961228e+06  2.722169e+06  2.968355e+06  1.387616e+08  \n",
       "4     3.917275e+06  3.782514e+05  1.310846e+06  1.308752e+08  \n",
       "..             ...           ...           ...           ...  \n",
       "109   1.617490e+05  9.375886e+06  9.823182e+06  1.327322e+08  \n",
       "110   2.036177e+07  1.304916e+07  8.266283e+04  1.395754e+08  \n",
       "111   1.491928e+05  1.402100e+07  8.232625e+04  1.548327e+08  \n",
       "112   1.232046e+07  5.626890e+04  8.630808e+04  1.106967e+08  \n",
       "113   3.985180e+07  4.575522e+06  2.519730e+07  1.198675e+08  \n",
       "\n",
       "[114 rows x 26 columns]"
      ]
     },
     "execution_count": 58,
     "metadata": {},
     "output_type": "execute_result"
    }
   ],
   "source": [
    "# Extract hour from hourly_timestamp\n",
    "hourly_voting_power['hour'] = hourly_voting_power['hourly_timestamp'].dt.hour\n",
    "\n",
    "# Group data by hour and proposal title, sum voting power\n",
    "hourly_voting_power_agg = hourly_voting_power.groupby(['hour', 'proposal_title']).sum().reset_index()\n",
    "\n",
    "# Pivot the table to have hours as columns and proposal titles as rows\n",
    "hourly_voting_power_pivot = hourly_voting_power_agg.pivot(index='proposal_title', columns='hour', values='voting_power').reset_index()\n",
    "\n",
    "# Add the total for each hour\n",
    "hourly_voting_power_pivot['Total'] = hourly_voting_power_pivot.sum(axis=1)\n",
    "\n",
    "hourly_voting_power_pivot"
   ]
  },
  {
   "cell_type": "code",
   "execution_count": 59,
   "metadata": {},
   "outputs": [
    {
     "data": {
      "text/plain": [
       "Index(['proposal_title',                0,                1,                2,\n",
       "                      3,                4,                5,                6,\n",
       "                      7,                8,                9,               10,\n",
       "                     11,               12,               13,               14,\n",
       "                     15,               16,               17,               18,\n",
       "                     19,               20,               21,               22,\n",
       "                     23,          'Total'],\n",
       "      dtype='object', name='hour')"
      ]
     },
     "execution_count": 59,
     "metadata": {},
     "output_type": "execute_result"
    }
   ],
   "source": [
    "hourly_voting_power_pivot.columns"
   ]
  },
  {
   "cell_type": "code",
   "execution_count": 60,
   "metadata": {},
   "outputs": [
    {
     "data": {
      "application/vnd.plotly.v1+json": {
       "config": {
        "plotlyServerURL": "https://plot.ly"
       },
       "data": [
        {
         "hovertemplate": "Hourly Timestamp=%{x}<br>voting_power=%{y}<extra></extra>",
         "legendgroup": "",
         "line": {
          "color": "#636efa",
          "dash": "solid"
         },
         "marker": {
          "symbol": "circle"
         },
         "mode": "lines",
         "name": "",
         "orientation": "v",
         "showlegend": false,
         "type": "scatter",
         "x": [
          "2023-10-06T02:00:00",
          "2023-10-06T03:00:00",
          "2023-10-06T04:00:00",
          "2023-10-06T05:00:00",
          "2023-10-06T06:00:00",
          "2023-10-06T07:00:00",
          "2023-10-06T08:00:00",
          "2023-10-06T09:00:00",
          "2023-10-06T10:00:00",
          "2023-10-06T11:00:00",
          "2023-10-06T12:00:00",
          "2023-10-06T13:00:00",
          "2023-10-06T14:00:00",
          "2023-10-06T15:00:00",
          "2023-10-06T16:00:00",
          "2023-10-06T17:00:00",
          "2023-10-06T18:00:00",
          "2023-10-06T19:00:00",
          "2023-10-06T20:00:00",
          "2023-10-06T21:00:00",
          "2023-10-06T22:00:00",
          "2023-10-06T23:00:00",
          "2023-10-07T00:00:00",
          "2023-10-07T01:00:00",
          "2023-10-07T02:00:00",
          "2023-10-07T03:00:00",
          "2023-10-07T04:00:00",
          "2023-10-07T05:00:00",
          "2023-10-07T06:00:00",
          "2023-10-07T07:00:00",
          "2023-10-07T08:00:00",
          "2023-10-07T09:00:00",
          "2023-10-07T10:00:00",
          "2023-10-07T11:00:00",
          "2023-10-07T12:00:00",
          "2023-10-07T13:00:00",
          "2023-10-07T14:00:00",
          "2023-10-07T15:00:00",
          "2023-10-07T16:00:00",
          "2023-10-07T17:00:00",
          "2023-10-07T18:00:00",
          "2023-10-07T19:00:00",
          "2023-10-07T20:00:00",
          "2023-10-07T21:00:00",
          "2023-10-07T22:00:00",
          "2023-10-07T23:00:00",
          "2023-10-08T00:00:00",
          "2023-10-08T01:00:00",
          "2023-10-08T02:00:00",
          "2023-10-08T03:00:00",
          "2023-10-08T04:00:00",
          "2023-10-08T05:00:00",
          "2023-10-08T06:00:00",
          "2023-10-08T07:00:00",
          "2023-10-08T08:00:00",
          "2023-10-08T09:00:00",
          "2023-10-08T10:00:00",
          "2023-10-08T11:00:00",
          "2023-10-08T12:00:00",
          "2023-10-08T13:00:00",
          "2023-10-08T14:00:00",
          "2023-10-08T15:00:00",
          "2023-10-08T16:00:00",
          "2023-10-08T17:00:00",
          "2023-10-08T18:00:00",
          "2023-10-08T19:00:00",
          "2023-10-08T20:00:00",
          "2023-10-08T21:00:00",
          "2023-10-08T22:00:00",
          "2023-10-08T23:00:00",
          "2023-10-09T00:00:00",
          "2023-10-09T01:00:00",
          "2023-10-09T02:00:00",
          "2023-10-09T03:00:00",
          "2023-10-09T04:00:00",
          "2023-10-09T05:00:00",
          "2023-10-09T06:00:00",
          "2023-10-09T07:00:00",
          "2023-10-09T08:00:00",
          "2023-10-09T09:00:00",
          "2023-10-09T10:00:00",
          "2023-10-09T11:00:00",
          "2023-10-09T12:00:00",
          "2023-10-09T13:00:00",
          "2023-10-09T14:00:00",
          "2023-10-09T15:00:00",
          "2023-10-09T16:00:00",
          "2023-10-09T17:00:00",
          "2023-10-09T18:00:00",
          "2023-10-09T19:00:00",
          "2023-10-09T20:00:00",
          "2023-10-09T21:00:00",
          "2023-10-09T22:00:00",
          "2023-10-09T23:00:00",
          "2023-10-10T00:00:00",
          "2023-10-10T01:00:00",
          "2023-10-10T02:00:00",
          "2023-10-10T03:00:00",
          "2023-10-10T04:00:00",
          "2023-10-10T05:00:00",
          "2023-10-10T06:00:00",
          "2023-10-10T07:00:00",
          "2023-10-10T08:00:00",
          "2023-10-10T09:00:00",
          "2023-10-10T10:00:00",
          "2023-10-10T11:00:00",
          "2023-10-10T12:00:00",
          "2023-10-10T13:00:00",
          "2023-10-10T14:00:00",
          "2023-10-10T15:00:00",
          "2023-10-10T16:00:00",
          "2023-10-10T17:00:00",
          "2023-10-10T18:00:00",
          "2023-10-10T19:00:00",
          "2023-10-10T20:00:00",
          "2023-10-10T21:00:00",
          "2023-10-10T22:00:00",
          "2023-10-10T23:00:00",
          "2023-10-11T00:00:00",
          "2023-10-11T01:00:00",
          "2023-10-11T02:00:00",
          "2023-10-11T03:00:00",
          "2023-10-11T04:00:00",
          "2023-10-11T05:00:00",
          "2023-10-11T06:00:00",
          "2023-10-11T07:00:00",
          "2023-10-11T08:00:00",
          "2023-10-11T09:00:00",
          "2023-10-11T10:00:00",
          "2023-10-11T11:00:00",
          "2023-10-11T12:00:00",
          "2023-10-11T13:00:00",
          "2023-10-11T14:00:00",
          "2023-10-11T15:00:00",
          "2023-10-11T16:00:00",
          "2023-10-11T17:00:00",
          "2023-10-11T18:00:00",
          "2023-10-11T19:00:00",
          "2023-10-11T20:00:00",
          "2023-10-11T21:00:00",
          "2023-10-11T22:00:00",
          "2023-10-11T23:00:00",
          "2023-10-12T00:00:00",
          "2023-10-12T01:00:00",
          "2023-10-12T02:00:00",
          "2023-10-12T03:00:00",
          "2023-10-12T04:00:00",
          "2023-10-12T05:00:00",
          "2023-10-12T06:00:00",
          "2023-10-12T07:00:00",
          "2023-10-12T08:00:00",
          "2023-10-12T09:00:00",
          "2023-10-12T10:00:00",
          "2023-10-12T11:00:00",
          "2023-10-12T12:00:00",
          "2023-10-12T13:00:00",
          "2023-10-12T14:00:00",
          "2023-10-12T15:00:00",
          "2023-10-12T16:00:00",
          "2023-10-12T17:00:00",
          "2023-10-12T18:00:00",
          "2023-10-12T19:00:00",
          "2023-10-12T20:00:00",
          "2023-10-12T21:00:00",
          "2023-10-12T22:00:00",
          "2023-10-12T23:00:00",
          "2023-10-13T00:00:00",
          "2023-10-13T01:00:00",
          "2023-10-13T02:00:00"
         ],
         "xaxis": "x",
         "y": [
          132.07744126711938,
          10262.95647073169,
          44563.79857961072,
          17934.67866754909,
          8993.828717886296,
          75419.16752348561,
          52622.39274426858,
          85409.697189266,
          26392.85840614257,
          420799.1941195218,
          65956.1844622195,
          31121.084910025114,
          41715.75623709364,
          14322.905361874045,
          31528.325753702786,
          19986.409869150055,
          9451.856320883817,
          13022.552136503795,
          554987.4017742876,
          689747.545907947,
          31665.657387286996,
          9044.786801954775,
          831814.7217992103,
          42454.90488382628,
          941976.9755474197,
          19628.784664307143,
          9182.934837226338,
          26925.346840213,
          199266.33236243884,
          13010.372350650629,
          41561.52162659328,
          32435.40314947549,
          25122.889702439894,
          31915.51920751927,
          73985.75160432594,
          29122.008974638295,
          19193.505820745166,
          27353.995799894088,
          12051.56269553956,
          11116.240450878677,
          6079.153371610112,
          7.848738012569063,
          12559.643729733974,
          14636.686731744754,
          7318.263984828618,
          10635.649407582248,
          5156.035188870823,
          411.4272827102309,
          3877.6631617250505,
          47963.666297477896,
          56970.80591461968,
          4450.343268048884,
          11059.503253671326,
          27358.348103783963,
          954213.0199927564,
          14742.365207921206,
          13659.892537885036,
          7641.682035794715,
          28132.69697637564,
          90978.58123779093,
          13499.197821807886,
          20071.417658889186,
          5309.6066637958065,
          30353.500614339177,
          20454.320930455677,
          11365.157154566508,
          8551.87247053138,
          3440.5110661378976,
          10085.340893311264,
          1628.5553704210954,
          16112.337946147682,
          977.0678030373922,
          10880.20226846586,
          4072.4848532741526,
          1719.009801265309,
          3317.2624004921136,
          50735.833373852,
          20746.371703739576,
          19455.507886444186,
          18842.57170207961,
          5508.751944261881,
          17773.274136240332,
          4648.369077967556,
          17162.216550190933,
          10155.993887545637,
          36266.647885250204,
          10543.030804887148,
          12280.875947658174,
          14490.664610487946,
          514667.25915079645,
          15675.73968427346,
          4233935.069709652,
          1099.4675025070692,
          1587.1411783882795,
          11891.914007615358,
          3227.0601108639494,
          4434.162895568003,
          6036.611118698538,
          570425.4692015194,
          23345.016687666524,
          37095.88415413,
          49373.348053293936,
          11173.617150997448,
          10202.813555067374,
          3391.329729882377,
          5778.417445378587,
          148753.07342984338,
          18573.352546073023,
          13831.11770622386,
          8997.024434687952,
          8944.258190694372,
          48752.48825296826,
          20290.14535842227,
          14532.514290123614,
          4473.876356437948,
          6753.112198230627,
          7430.012912938071,
          3334.450402222466,
          1284.0801981961113,
          5622.940435287358,
          3824.415229788318,
          2770.2174792100404,
          1970.5325234852933,
          7857.587998626017,
          7766.441236837369,
          13741.246462207646,
          10855.58147636074,
          13860.105206637698,
          15571.307198427414,
          121442.15383680824,
          9983.591698778471,
          5975.606258197877,
          6327.03250424191,
          19410.2789936044,
          28749.900137230157,
          876919.0438286372,
          13458.806061461582,
          8157.8797959274825,
          19129.29661243655,
          1718026.0780011485,
          5996.088941149771,
          3366.090072435689,
          3868.654295040642,
          8998.18689545359,
          6955.139085582268,
          459772.40183229063,
          6528.78225470561,
          2798320.216193923,
          7827.516531963485,
          7479.0980750554245,
          6990.584148327262,
          171003.60466264922,
          5646.9257815910405,
          12022.852451403029,
          32052.53636737801,
          295301.42669019103,
          15266445.00404596,
          922041.1364893471,
          14201.48855162006,
          21678.888872819072,
          12348143.456845399,
          40525.02102256383,
          54409949.09858028,
          14630.082709647544,
          10375433.555539867,
          44394.44148122179,
          10051.407745014498,
          295156.1627939507,
          0
         ],
         "yaxis": "y"
        }
       ],
       "layout": {
        "legend": {
         "tracegroupgap": 0
        },
        "template": {
         "data": {
          "bar": [
           {
            "error_x": {
             "color": "#2a3f5f"
            },
            "error_y": {
             "color": "#2a3f5f"
            },
            "marker": {
             "line": {
              "color": "#E5ECF6",
              "width": 0.5
             },
             "pattern": {
              "fillmode": "overlay",
              "size": 10,
              "solidity": 0.2
             }
            },
            "type": "bar"
           }
          ],
          "barpolar": [
           {
            "marker": {
             "line": {
              "color": "#E5ECF6",
              "width": 0.5
             },
             "pattern": {
              "fillmode": "overlay",
              "size": 10,
              "solidity": 0.2
             }
            },
            "type": "barpolar"
           }
          ],
          "carpet": [
           {
            "aaxis": {
             "endlinecolor": "#2a3f5f",
             "gridcolor": "white",
             "linecolor": "white",
             "minorgridcolor": "white",
             "startlinecolor": "#2a3f5f"
            },
            "baxis": {
             "endlinecolor": "#2a3f5f",
             "gridcolor": "white",
             "linecolor": "white",
             "minorgridcolor": "white",
             "startlinecolor": "#2a3f5f"
            },
            "type": "carpet"
           }
          ],
          "choropleth": [
           {
            "colorbar": {
             "outlinewidth": 0,
             "ticks": ""
            },
            "type": "choropleth"
           }
          ],
          "contour": [
           {
            "colorbar": {
             "outlinewidth": 0,
             "ticks": ""
            },
            "colorscale": [
             [
              0,
              "#0d0887"
             ],
             [
              0.1111111111111111,
              "#46039f"
             ],
             [
              0.2222222222222222,
              "#7201a8"
             ],
             [
              0.3333333333333333,
              "#9c179e"
             ],
             [
              0.4444444444444444,
              "#bd3786"
             ],
             [
              0.5555555555555556,
              "#d8576b"
             ],
             [
              0.6666666666666666,
              "#ed7953"
             ],
             [
              0.7777777777777778,
              "#fb9f3a"
             ],
             [
              0.8888888888888888,
              "#fdca26"
             ],
             [
              1,
              "#f0f921"
             ]
            ],
            "type": "contour"
           }
          ],
          "contourcarpet": [
           {
            "colorbar": {
             "outlinewidth": 0,
             "ticks": ""
            },
            "type": "contourcarpet"
           }
          ],
          "heatmap": [
           {
            "colorbar": {
             "outlinewidth": 0,
             "ticks": ""
            },
            "colorscale": [
             [
              0,
              "#0d0887"
             ],
             [
              0.1111111111111111,
              "#46039f"
             ],
             [
              0.2222222222222222,
              "#7201a8"
             ],
             [
              0.3333333333333333,
              "#9c179e"
             ],
             [
              0.4444444444444444,
              "#bd3786"
             ],
             [
              0.5555555555555556,
              "#d8576b"
             ],
             [
              0.6666666666666666,
              "#ed7953"
             ],
             [
              0.7777777777777778,
              "#fb9f3a"
             ],
             [
              0.8888888888888888,
              "#fdca26"
             ],
             [
              1,
              "#f0f921"
             ]
            ],
            "type": "heatmap"
           }
          ],
          "heatmapgl": [
           {
            "colorbar": {
             "outlinewidth": 0,
             "ticks": ""
            },
            "colorscale": [
             [
              0,
              "#0d0887"
             ],
             [
              0.1111111111111111,
              "#46039f"
             ],
             [
              0.2222222222222222,
              "#7201a8"
             ],
             [
              0.3333333333333333,
              "#9c179e"
             ],
             [
              0.4444444444444444,
              "#bd3786"
             ],
             [
              0.5555555555555556,
              "#d8576b"
             ],
             [
              0.6666666666666666,
              "#ed7953"
             ],
             [
              0.7777777777777778,
              "#fb9f3a"
             ],
             [
              0.8888888888888888,
              "#fdca26"
             ],
             [
              1,
              "#f0f921"
             ]
            ],
            "type": "heatmapgl"
           }
          ],
          "histogram": [
           {
            "marker": {
             "pattern": {
              "fillmode": "overlay",
              "size": 10,
              "solidity": 0.2
             }
            },
            "type": "histogram"
           }
          ],
          "histogram2d": [
           {
            "colorbar": {
             "outlinewidth": 0,
             "ticks": ""
            },
            "colorscale": [
             [
              0,
              "#0d0887"
             ],
             [
              0.1111111111111111,
              "#46039f"
             ],
             [
              0.2222222222222222,
              "#7201a8"
             ],
             [
              0.3333333333333333,
              "#9c179e"
             ],
             [
              0.4444444444444444,
              "#bd3786"
             ],
             [
              0.5555555555555556,
              "#d8576b"
             ],
             [
              0.6666666666666666,
              "#ed7953"
             ],
             [
              0.7777777777777778,
              "#fb9f3a"
             ],
             [
              0.8888888888888888,
              "#fdca26"
             ],
             [
              1,
              "#f0f921"
             ]
            ],
            "type": "histogram2d"
           }
          ],
          "histogram2dcontour": [
           {
            "colorbar": {
             "outlinewidth": 0,
             "ticks": ""
            },
            "colorscale": [
             [
              0,
              "#0d0887"
             ],
             [
              0.1111111111111111,
              "#46039f"
             ],
             [
              0.2222222222222222,
              "#7201a8"
             ],
             [
              0.3333333333333333,
              "#9c179e"
             ],
             [
              0.4444444444444444,
              "#bd3786"
             ],
             [
              0.5555555555555556,
              "#d8576b"
             ],
             [
              0.6666666666666666,
              "#ed7953"
             ],
             [
              0.7777777777777778,
              "#fb9f3a"
             ],
             [
              0.8888888888888888,
              "#fdca26"
             ],
             [
              1,
              "#f0f921"
             ]
            ],
            "type": "histogram2dcontour"
           }
          ],
          "mesh3d": [
           {
            "colorbar": {
             "outlinewidth": 0,
             "ticks": ""
            },
            "type": "mesh3d"
           }
          ],
          "parcoords": [
           {
            "line": {
             "colorbar": {
              "outlinewidth": 0,
              "ticks": ""
             }
            },
            "type": "parcoords"
           }
          ],
          "pie": [
           {
            "automargin": true,
            "type": "pie"
           }
          ],
          "scatter": [
           {
            "fillpattern": {
             "fillmode": "overlay",
             "size": 10,
             "solidity": 0.2
            },
            "type": "scatter"
           }
          ],
          "scatter3d": [
           {
            "line": {
             "colorbar": {
              "outlinewidth": 0,
              "ticks": ""
             }
            },
            "marker": {
             "colorbar": {
              "outlinewidth": 0,
              "ticks": ""
             }
            },
            "type": "scatter3d"
           }
          ],
          "scattercarpet": [
           {
            "marker": {
             "colorbar": {
              "outlinewidth": 0,
              "ticks": ""
             }
            },
            "type": "scattercarpet"
           }
          ],
          "scattergeo": [
           {
            "marker": {
             "colorbar": {
              "outlinewidth": 0,
              "ticks": ""
             }
            },
            "type": "scattergeo"
           }
          ],
          "scattergl": [
           {
            "marker": {
             "colorbar": {
              "outlinewidth": 0,
              "ticks": ""
             }
            },
            "type": "scattergl"
           }
          ],
          "scattermapbox": [
           {
            "marker": {
             "colorbar": {
              "outlinewidth": 0,
              "ticks": ""
             }
            },
            "type": "scattermapbox"
           }
          ],
          "scatterpolar": [
           {
            "marker": {
             "colorbar": {
              "outlinewidth": 0,
              "ticks": ""
             }
            },
            "type": "scatterpolar"
           }
          ],
          "scatterpolargl": [
           {
            "marker": {
             "colorbar": {
              "outlinewidth": 0,
              "ticks": ""
             }
            },
            "type": "scatterpolargl"
           }
          ],
          "scatterternary": [
           {
            "marker": {
             "colorbar": {
              "outlinewidth": 0,
              "ticks": ""
             }
            },
            "type": "scatterternary"
           }
          ],
          "surface": [
           {
            "colorbar": {
             "outlinewidth": 0,
             "ticks": ""
            },
            "colorscale": [
             [
              0,
              "#0d0887"
             ],
             [
              0.1111111111111111,
              "#46039f"
             ],
             [
              0.2222222222222222,
              "#7201a8"
             ],
             [
              0.3333333333333333,
              "#9c179e"
             ],
             [
              0.4444444444444444,
              "#bd3786"
             ],
             [
              0.5555555555555556,
              "#d8576b"
             ],
             [
              0.6666666666666666,
              "#ed7953"
             ],
             [
              0.7777777777777778,
              "#fb9f3a"
             ],
             [
              0.8888888888888888,
              "#fdca26"
             ],
             [
              1,
              "#f0f921"
             ]
            ],
            "type": "surface"
           }
          ],
          "table": [
           {
            "cells": {
             "fill": {
              "color": "#EBF0F8"
             },
             "line": {
              "color": "white"
             }
            },
            "header": {
             "fill": {
              "color": "#C8D4E3"
             },
             "line": {
              "color": "white"
             }
            },
            "type": "table"
           }
          ]
         },
         "layout": {
          "annotationdefaults": {
           "arrowcolor": "#2a3f5f",
           "arrowhead": 0,
           "arrowwidth": 1
          },
          "autotypenumbers": "strict",
          "coloraxis": {
           "colorbar": {
            "outlinewidth": 0,
            "ticks": ""
           }
          },
          "colorscale": {
           "diverging": [
            [
             0,
             "#8e0152"
            ],
            [
             0.1,
             "#c51b7d"
            ],
            [
             0.2,
             "#de77ae"
            ],
            [
             0.3,
             "#f1b6da"
            ],
            [
             0.4,
             "#fde0ef"
            ],
            [
             0.5,
             "#f7f7f7"
            ],
            [
             0.6,
             "#e6f5d0"
            ],
            [
             0.7,
             "#b8e186"
            ],
            [
             0.8,
             "#7fbc41"
            ],
            [
             0.9,
             "#4d9221"
            ],
            [
             1,
             "#276419"
            ]
           ],
           "sequential": [
            [
             0,
             "#0d0887"
            ],
            [
             0.1111111111111111,
             "#46039f"
            ],
            [
             0.2222222222222222,
             "#7201a8"
            ],
            [
             0.3333333333333333,
             "#9c179e"
            ],
            [
             0.4444444444444444,
             "#bd3786"
            ],
            [
             0.5555555555555556,
             "#d8576b"
            ],
            [
             0.6666666666666666,
             "#ed7953"
            ],
            [
             0.7777777777777778,
             "#fb9f3a"
            ],
            [
             0.8888888888888888,
             "#fdca26"
            ],
            [
             1,
             "#f0f921"
            ]
           ],
           "sequentialminus": [
            [
             0,
             "#0d0887"
            ],
            [
             0.1111111111111111,
             "#46039f"
            ],
            [
             0.2222222222222222,
             "#7201a8"
            ],
            [
             0.3333333333333333,
             "#9c179e"
            ],
            [
             0.4444444444444444,
             "#bd3786"
            ],
            [
             0.5555555555555556,
             "#d8576b"
            ],
            [
             0.6666666666666666,
             "#ed7953"
            ],
            [
             0.7777777777777778,
             "#fb9f3a"
            ],
            [
             0.8888888888888888,
             "#fdca26"
            ],
            [
             1,
             "#f0f921"
            ]
           ]
          },
          "colorway": [
           "#636efa",
           "#EF553B",
           "#00cc96",
           "#ab63fa",
           "#FFA15A",
           "#19d3f3",
           "#FF6692",
           "#B6E880",
           "#FF97FF",
           "#FECB52"
          ],
          "font": {
           "color": "#2a3f5f"
          },
          "geo": {
           "bgcolor": "white",
           "lakecolor": "white",
           "landcolor": "#E5ECF6",
           "showlakes": true,
           "showland": true,
           "subunitcolor": "white"
          },
          "hoverlabel": {
           "align": "left"
          },
          "hovermode": "closest",
          "mapbox": {
           "style": "light"
          },
          "paper_bgcolor": "white",
          "plot_bgcolor": "#E5ECF6",
          "polar": {
           "angularaxis": {
            "gridcolor": "white",
            "linecolor": "white",
            "ticks": ""
           },
           "bgcolor": "#E5ECF6",
           "radialaxis": {
            "gridcolor": "white",
            "linecolor": "white",
            "ticks": ""
           }
          },
          "scene": {
           "xaxis": {
            "backgroundcolor": "#E5ECF6",
            "gridcolor": "white",
            "gridwidth": 2,
            "linecolor": "white",
            "showbackground": true,
            "ticks": "",
            "zerolinecolor": "white"
           },
           "yaxis": {
            "backgroundcolor": "#E5ECF6",
            "gridcolor": "white",
            "gridwidth": 2,
            "linecolor": "white",
            "showbackground": true,
            "ticks": "",
            "zerolinecolor": "white"
           },
           "zaxis": {
            "backgroundcolor": "#E5ECF6",
            "gridcolor": "white",
            "gridwidth": 2,
            "linecolor": "white",
            "showbackground": true,
            "ticks": "",
            "zerolinecolor": "white"
           }
          },
          "shapedefaults": {
           "line": {
            "color": "#2a3f5f"
           }
          },
          "ternary": {
           "aaxis": {
            "gridcolor": "white",
            "linecolor": "white",
            "ticks": ""
           },
           "baxis": {
            "gridcolor": "white",
            "linecolor": "white",
            "ticks": ""
           },
           "bgcolor": "#E5ECF6",
           "caxis": {
            "gridcolor": "white",
            "linecolor": "white",
            "ticks": ""
           }
          },
          "title": {
           "x": 0.05
          },
          "xaxis": {
           "automargin": true,
           "gridcolor": "white",
           "linecolor": "white",
           "ticks": "",
           "title": {
            "standoff": 15
           },
           "zerolinecolor": "white",
           "zerolinewidth": 2
          },
          "yaxis": {
           "automargin": true,
           "gridcolor": "white",
           "linecolor": "white",
           "ticks": "",
           "title": {
            "standoff": 15
           },
           "zerolinecolor": "white",
           "zerolinewidth": 2
          }
         }
        },
        "title": {
         "text": "Hourly Voting Power for Proposal: 0xGen STIP Proposal - Round 1"
        },
        "xaxis": {
         "anchor": "y",
         "domain": [
          0,
          1
         ],
         "title": {
          "text": "Hourly Timestamp"
         }
        },
        "yaxis": {
         "anchor": "x",
         "domain": [
          0,
          1
         ],
         "title": {
          "text": "voting_power"
         }
        }
       }
      }
     },
     "metadata": {},
     "output_type": "display_data"
    }
   ],
   "source": [
    "# Filter hourly voting power data for a specific proposal\n",
    "proposal_data = hourly_voting_power[hourly_voting_power['proposal_title'] == '0xGen STIP Proposal - Round 1']\n",
    "\n",
    "# Create an interactive line plot\n",
    "fig = px.line(proposal_data, x='hourly_timestamp', y='voting_power', title='Hourly Voting Power for Proposal: 0xGen STIP Proposal - Round 1',\n",
    "              labels={'hourly_timestamp': 'Hourly Timestamp', 'hourly_voting_power': 'Hourly Voting Power'})\n",
    "fig.update_traces(mode='lines')\n",
    "fig.show()"
   ]
  },
  {
   "cell_type": "code",
   "execution_count": 61,
   "metadata": {},
   "outputs": [
    {
     "data": {
      "application/vnd.plotly.v1+json": {
       "config": {
        "plotlyServerURL": "https://plot.ly"
       },
       "data": [
        {
         "name": "0xGen STIP Proposal - Round 1",
         "stackgroup": "one",
         "type": "scatter",
         "x": [
          0,
          1,
          2,
          3,
          4,
          5,
          6,
          7,
          8,
          9,
          10,
          11,
          12,
          13,
          14,
          15,
          16,
          17,
          18,
          19,
          20,
          21,
          22,
          23
         ],
         "y": [
          880179.1511800954,
          356847.7502051295,
          972080.6356298163,
          550507.1227159901,
          691361.3331124324,
          2882150.4520565183,
          322745.33963077934,
          207127.9522722168,
          1096872.225025748,
          346496.56067309657,
          95293.95530063022,
          617373.093232666,
          363512.2036168885,
          488234.2771671072,
          15371167.608023617,
          1048463.406623547,
          111328.17279746989,
          1021087.4478364507,
          12432368.40349872,
          602278.2322884942,
          55025326.92920798,
          6681169.086324508,
          10439028.387161888,
          73991.11471422634,
          112676990.84029602
         ]
        },
        {
         "name": "AIP 1.05: Return 700M $ARB to the DAO Treasury [REAL]",
         "stackgroup": "one",
         "type": "scatter",
         "x": [
          0,
          1,
          2,
          3,
          4,
          5,
          6,
          7,
          8,
          9,
          10,
          11,
          12,
          13,
          14,
          15,
          16,
          17,
          18,
          19,
          20,
          21,
          22,
          23
         ],
         "y": [
          1485449.5219188952,
          18738272.389787868,
          1520238.9248997197,
          2743982.9016516963,
          2447012.447060309,
          5765239.636776051,
          2728605.2949017305,
          2457803.3663699753,
          1339347.5007233643,
          6537212.6186542185,
          2383653.480251025,
          2760739.238994581,
          23238037.52262546,
          1850422.9525466026,
          17029150.559804004,
          6137461.413952433,
          7528333.934287196,
          1075548.498092924,
          2798121.224445028,
          20253168.122845687,
          5665855.51347514,
          1511013.9689253103,
          2139129.372628611,
          720889.2940468093,
          140854689.69966462
         ]
        },
        {
         "name": "AIP-1.1 - Lockup, Budget, Transparency",
         "stackgroup": "one",
         "type": "scatter",
         "x": [
          0,
          1,
          2,
          3,
          4,
          5,
          6,
          7,
          8,
          9,
          10,
          11,
          12,
          13,
          14,
          15,
          16,
          17,
          18,
          19,
          20,
          21,
          22,
          23
         ],
         "y": [
          6129076.805841988,
          1219999.7449071212,
          14555071.549671076,
          1692076.9889780942,
          1443075.1332189688,
          1001496.4570102391,
          1540096.4017408215,
          4824389.778361743,
          2274199.953514956,
          1156710.384220596,
          2812605.546010359,
          2401440.005590442,
          2613920.485369063,
          3049684.9912755988,
          17302230.44234709,
          1052676.5485886396,
          7534154.728172009,
          1833773.3513248055,
          26515567.9501458,
          3212991.135950172,
          21028814.801507022,
          9263638.867832191,
          2036269.5763555546,
          3128970.9059866113,
          139622932.53392097
         ]
        },
        {
         "name": "AIP-1.2 - Foundation and DAO Governance",
         "stackgroup": "one",
         "type": "scatter",
         "x": [
          0,
          1,
          2,
          3,
          4,
          5,
          6,
          7,
          8,
          9,
          10,
          11,
          12,
          13,
          14,
          15,
          16,
          17,
          18,
          19,
          20,
          21,
          22,
          23
         ],
         "y": [
          6290567.340579056,
          1215624.4656447775,
          14569307.819347417,
          1704945.864970071,
          917008.3185057912,
          1583299.8445715124,
          1579573.2758463859,
          3703515.600022953,
          2272817.328804787,
          1166054.7398273577,
          2761660.4102416597,
          1834229.289648585,
          3780771.00558355,
          3241866.26041187,
          17245421.652310945,
          1091873.8791507962,
          7543661.307337662,
          1856807.685126845,
          26505253.49312713,
          3196478.6676780297,
          21049085.176542006,
          7961228.189342886,
          2722169.357877203,
          2968355.0759628937,
          138761576.04846215
         ]
        },
        {
         "name": "AIP-1: Arbitrum Improvement Proposal Framework",
         "stackgroup": "one",
         "type": "scatter",
         "x": [
          0,
          1,
          2,
          3,
          4,
          5,
          6,
          7,
          8,
          9,
          10,
          11,
          12,
          13,
          14,
          15,
          16,
          17,
          18,
          19,
          20,
          21,
          22,
          23
         ],
         "y": [
          1957271.7512431974,
          3189060.0326079903,
          6864529.525363195,
          3723602.2528351233,
          3002297.32643838,
          19565111.75620131,
          4335544.342746992,
          1803871.1810765793,
          1257287.1979672927,
          1643477.643660888,
          2485435.8340744404,
          1159342.680905207,
          3430887.4875807795,
          2345788.9140188973,
          1814745.9246674422,
          15563013.2528243,
          6822661.817234479,
          8741481.041487895,
          7888368.882577786,
          25240599.318202592,
          2434436.9985615476,
          3917274.5552035808,
          378251.3614620069,
          1310846.393540753,
          130875187.4724827
         ]
        },
        {
         "name": "ALAYA STIP Proposal - Round 1",
         "stackgroup": "one",
         "type": "scatter",
         "x": [
          0,
          1,
          2,
          3,
          4,
          5,
          6,
          7,
          8,
          9,
          10,
          11,
          12,
          13,
          14,
          15,
          16,
          17,
          18,
          19,
          20,
          21,
          22,
          23
         ],
         "y": [
          1473272.7055188233,
          5184176.6046489375,
          551517.5227483526,
          927667.4347290255,
          148341.45840934967,
          1095992.8648235989,
          3463150.1779475324,
          426276.7753076938,
          227704.5034711579,
          1686418.0017726698,
          1253719.279045706,
          156490.64774830625,
          383299.8183685033,
          19244078.392891675,
          15016884.76304455,
          732282.7398787265,
          831507.3279489197,
          1030116.2884515894,
          101857.06568689358,
          1133064.4186623665,
          48032835.24305268,
          1580469.2185325457,
          13224156.491242437,
          66841.06651080295,
          117972120.81044285
         ]
        },
        {
         "name": "Abracadabra DAO STIP Proposal - Round 1",
         "stackgroup": "one",
         "type": "scatter",
         "x": [
          0,
          1,
          2,
          3,
          4,
          5,
          6,
          7,
          8,
          9,
          10,
          11,
          12,
          13,
          14,
          15,
          16,
          17,
          18,
          19,
          20,
          21,
          22,
          23
         ],
         "y": [
          7443929.619873647,
          896289.1269699759,
          19644993.82002057,
          3156538.287341606,
          807598.341210147,
          5952553.612187189,
          4476839.340276323,
          6908792.90416635,
          1098943.9124200486,
          389869.38724069373,
          5347013.6563294865,
          14642998.606544686,
          17094793.704895437,
          19096357.862430263,
          150785.89039311142,
          158707.90778053657,
          4842893.279986387,
          20746520.109445114,
          680120.0928474757,
          4279691.8299324345,
          50095831.381156966,
          16739272.76049942,
          54939.70108913041,
          92250.6551506154,
          204798525.79018763
         ]
        },
        {
         "name": "Accelerating Arbitrum - leveraging Camelot as an ecosystem hub to support native builders",
         "stackgroup": "one",
         "type": "scatter",
         "x": [
          0,
          1,
          2,
          3,
          4,
          5,
          6,
          7,
          8,
          9,
          10,
          11,
          12,
          13,
          14,
          15,
          16,
          17,
          18,
          19,
          20,
          21,
          22,
          23
         ],
         "y": [
          130321.73566924216,
          1034106.4924502549,
          7997428.447595303,
          239075.501580246,
          2222236.2090184684,
          256968.61933082255,
          1219363.7913453523,
          2782110.1446097204,
          542151.6912685556,
          579536.3225342175,
          9238032.241339019,
          12699059.23162429,
          1229908.9676042236,
          1400416.7665301634,
          13724659.206267677,
          15254922.883801311,
          5418575.511797777,
          56083936.881000616,
          5660451.78469317,
          8837101.956440238,
          12026937.420674855,
          3574453.4905666797,
          147959.72001661398,
          1811787.077261154,
          164111502.09502
         ]
        },
        {
         "name": "Angle Protocol STIP Proposal - Round 1",
         "stackgroup": "one",
         "type": "scatter",
         "x": [
          0,
          1,
          2,
          3,
          4,
          5,
          6,
          7,
          8,
          9,
          10,
          11,
          12,
          13,
          14,
          15,
          16,
          17,
          18,
          19,
          20,
          21,
          22,
          23
         ],
         "y": [
          554513.8250504595,
          6123052.426724153,
          1141588.4748347127,
          542877.8294095937,
          3222885.7275249045,
          7627476.638228312,
          673447.5740259093,
          8865732.30446157,
          1039281.5970135884,
          1388122.417210774,
          5978251.681022902,
          130419.95550582561,
          15247851.774988892,
          5066947.667818292,
          18821217.820067003,
          186208.124539297,
          1251222.453346756,
          13380379.661737062,
          26240253.435239885,
          2927690.917773704,
          27672476.59621257,
          18910055.933246747,
          14500223.917286105,
          15842447.412473306,
          197334626.16574234
         ]
        },
        {
         "name": "ApolloX STIP Proposal - Round 1",
         "stackgroup": "one",
         "type": "scatter",
         "x": [
          0,
          1,
          2,
          3,
          4,
          5,
          6,
          7,
          8,
          9,
          10,
          11,
          12,
          13,
          14,
          15,
          16,
          17,
          18,
          19,
          20,
          21,
          22,
          23
         ],
         "y": [
          14823314.029975777,
          13095457.234263934,
          39513.56389133733,
          602577.6735346675,
          645111.1915795425,
          10639240.648022905,
          3104360.105109657,
          221239.36330370806,
          1915549.1287245757,
          199086.6892883691,
          112972.89177533168,
          983733.9976829452,
          710786.0354931183,
          944718.8138852875,
          130582.25767000364,
          4381585.3476856975,
          4861875.331078652,
          975660.8050208561,
          140216.33825589812,
          19789036.882848743,
          31514783.473135237,
          982095.4327241133,
          2225555.137540146,
          10426502.90144546,
          123465555.27393596
         ]
        },
        {
         "name": "Arbidex STIP Proposal - Round 1",
         "stackgroup": "one",
         "type": "scatter",
         "x": [
          0,
          1,
          2,
          3,
          4,
          5,
          6,
          7,
          8,
          9,
          10,
          11,
          12,
          13,
          14,
          15,
          16,
          17,
          18,
          19,
          20,
          21,
          22,
          23
         ],
         "y": [
          15116615.227648946,
          400097.5491213176,
          150020.87043064096,
          572589.4833776897,
          1129277.6563656966,
          4383954.6126656765,
          3108040.7910736213,
          222881.4952998422,
          1909097.866488058,
          192509.25184724756,
          110906.78670406752,
          182599.9186199599,
          348437.1093081746,
          230162.09443647414,
          602977.6073305188,
          2088809.2246794966,
          113568.07361398944,
          972187.6751249679,
          12359425.320623646,
          1110196.285202285,
          50181988.34735162,
          1796875.6282557792,
          492680.78307061037,
          10988607.261520248,
          108764506.92016059
         ]
        },
        {
         "name": "Arbitrum DAO Grants - Delegated Domain Allocation by Questbook",
         "stackgroup": "one",
         "type": "scatter",
         "x": [
          0,
          1,
          2,
          3,
          4,
          5,
          6,
          7,
          8,
          9,
          10,
          11,
          12,
          13,
          14,
          15,
          16,
          17,
          18,
          19,
          20,
          21,
          22,
          23
         ],
         "y": [
          233799.28594239455,
          561472.1156514651,
          950072.4516075683,
          5796308.711843953,
          1266332.2477409295,
          5610546.079291823,
          561229.483919605,
          1968873.1246457826,
          372150.0387000035,
          537072.3937450474,
          600865.788127137,
          421040.568990721,
          1654280.4360110178,
          541215.1488399497,
          8868471.226243299,
          1829958.2368171092,
          16588286.441205462,
          1792129.1268807645,
          18905201.378500156,
          3510587.495597079,
          15316271.707743075,
          194343.59354892588,
          15132216.701245047,
          1333399.1499347442,
          104546122.93277305
         ]
        },
        {
         "name": "Archi Finance STIP Proposal - Round 1",
         "stackgroup": "one",
         "type": "scatter",
         "x": [
          0,
          1,
          2,
          3,
          4,
          5,
          6,
          7,
          8,
          9,
          10,
          11,
          12,
          13,
          14,
          15,
          16,
          17,
          18,
          19,
          20,
          21,
          22,
          23
         ],
         "y": [
          14826908.943354333,
          13109152.78033402,
          142167.68903796183,
          566254.3850474476,
          667144.4061308404,
          124272.68551411325,
          322717.5116114651,
          187912.56475094976,
          1933995.750276162,
          354250.7684856127,
          258934.53173574607,
          109451.11303674118,
          759164.4110959278,
          217299.03774593578,
          18798280.293825414,
          522235.6708237451,
          1049085.2087272801,
          997803.7857248486,
          3026707.107420338,
          601771.0078130458,
          32464421.295969494,
          7673299.31800794,
          10434572.15057552,
          60637.1444774593,
          109208439.56152233
         ]
        },
        {
         "name": "Arrakis Finance STIP Proposal - Round 1",
         "stackgroup": "one",
         "type": "scatter",
         "x": [
          0,
          1,
          2,
          3,
          4,
          5,
          6,
          7,
          8,
          9,
          10,
          11,
          12,
          13,
          14,
          15,
          16,
          17,
          18,
          19,
          20,
          21,
          22,
          23
         ],
         "y": [
          32430.444528289183,
          23744013.3189804,
          5276814.084136629,
          560938.4648579897,
          14910854.821939403,
          3321638.8014801024,
          3093298.4707137523,
          6994805.737614173,
          6400867.8770567225,
          5361172.872767714,
          1171065.5248558263,
          1284822.5646868856,
          661298.8085225982,
          18850947.266902972,
          184654.65283482347,
          3366917.0399494413,
          99669.89565769331,
          1663304.5864790687,
          652225.0750160974,
          1117843.9949702846,
          1045319.4983570904,
          33440254.623513173,
          7422563.687775972,
          93109.11135262833,
          140750831.22494972
         ]
        },
        {
         "name": "Artichoke Protocol STIP Proposal - Round 1",
         "stackgroup": "one",
         "type": "scatter",
         "x": [
          0,
          1,
          2,
          3,
          4,
          5,
          6,
          7,
          8,
          9,
          10,
          11,
          12,
          13,
          14,
          15,
          16,
          17,
          18,
          19,
          20,
          21,
          22,
          23
         ],
         "y": [
          12261278.27683155,
          1163617.5314035288,
          108789.97569954791,
          535266.7589361385,
          155939.37814081728,
          4121463.205710535,
          3456045.5919304905,
          400907.2651105136,
          1025543.1445473307,
          1210353.1615751584,
          1067547.107606188,
          752929.1050153925,
          423865.16048885847,
          199983.54944793927,
          15449440.935418438,
          1085892.9193300556,
          802216.8175388554,
          1013735.6599104806,
          95884.14244311399,
          1099143.7691027252,
          51378353.35991481,
          16460434.083555738,
          63231.20831819426,
          232103.97173349684,
          114563966.07970989
         ]
        },
        {
         "name": "Balancer DAO STIP Proposal - Round 1",
         "stackgroup": "one",
         "type": "scatter",
         "x": [
          0,
          1,
          2,
          3,
          4,
          5,
          6,
          7,
          8,
          9,
          10,
          11,
          12,
          13,
          14,
          15,
          16,
          17,
          18,
          19,
          20,
          21,
          22,
          23
         ],
         "y": [
          166574.16579698125,
          1445647.800477932,
          11499800.557963157,
          3066237.7447560253,
          4438428.8566249,
          3194931.562404644,
          873141.4137168222,
          230035.1206184851,
          701962.9020400111,
          1158468.5234366981,
          1273452.2826935584,
          682647.6266253284,
          31805364.202655375,
          15967960.697297078,
          1524115.9823981205,
          189370.58336669314,
          35559056.24129651,
          8370281.205545957,
          3024118.6448642975,
          5189760.648797751,
          2633028.620623991,
          18048464.873381518,
          1423620.7641069754,
          4330875.299190816,
          156797346.32067963
         ]
        },
        {
         "name": "Beefy STIP Proposal - Round 1",
         "stackgroup": "one",
         "type": "scatter",
         "x": [
          0,
          1,
          2,
          3,
          4,
          5,
          6,
          7,
          8,
          9,
          10,
          11,
          12,
          13,
          14,
          15,
          16,
          17,
          18,
          19,
          20,
          21,
          22,
          23
         ],
         "y": [
          743563.4981378454,
          4981672.161980397,
          1206933.5647957292,
          3643801.508403961,
          15038094.405309279,
          1079407.3876848451,
          677088.0208387508,
          428162.08647755475,
          220684.86139850784,
          1357530.5833688956,
          1592741.6012850618,
          252704.71054830635,
          20047254.70454491,
          609697.4145829646,
          1440260.7275050073,
          729962.5853536364,
          1680885.7525274951,
          545611.4098675996,
          13370913.65459394,
          3594978.7009466034,
          32065007.954330165,
          17917168.107821934,
          57542.207226075945,
          80790.0181820897,
          123362457.62771153
         ]
        },
        {
         "name": "CRYPTEX STIP Proposal - Round 1",
         "stackgroup": "one",
         "type": "scatter",
         "x": [
          0,
          1,
          2,
          3,
          4,
          5,
          6,
          7,
          8,
          9,
          10,
          11,
          12,
          13,
          14,
          15,
          16,
          17,
          18,
          19,
          20,
          21,
          22,
          23
         ],
         "y": [
          13097483.81390867,
          4742164.749651574,
          962981.5438718756,
          1130605.6170397052,
          692269.8484765919,
          88281.36488350446,
          3115751.0702735162,
          209594.45113014677,
          1096653.9727843138,
          487861.43980030215,
          126379.04529145182,
          623039.0752299876,
          478149.5821220728,
          19095597.05361113,
          16256727.21433912,
          3326716.5045792283,
          110201.45780929498,
          1443777.0302502345,
          220006.68161836598,
          1503760.726309145,
          31545087.231866054,
          25921247.69267864,
          79802.33827100431,
          68926.56403545581,
          126423066.06983142
         ]
        },
        {
         "name": "CVI STIP Proposal - Round 1",
         "stackgroup": "one",
         "type": "scatter",
         "x": [
          0,
          1,
          2,
          3,
          4,
          5,
          6,
          7,
          8,
          9,
          10,
          11,
          12,
          13,
          14,
          15,
          16,
          17,
          18,
          19,
          20,
          21,
          22,
          23
         ],
         "y": [
          54650.194773187395,
          1160002.298417883,
          108446.41937991412,
          534646.492421705,
          602563.8552671602,
          1052886.3760504331,
          3455198.9123871676,
          399023.85433627927,
          1023310.276724876,
          1334870.942338176,
          1058398.9789305988,
          760673.9894041754,
          411120.563405026,
          226215.3929993206,
          14997428.9915247,
          1098455.8561683197,
          792412.6976376527,
          997958.187296505,
          94021.25091726797,
          1121986.7351486345,
          51078305.412121266,
          28278615.55043613,
          57744.276658612944,
          233801.66472381592,
          110932739.1694688
         ]
        },
        {
         "name": "Camelot STIP Proposal - Round 1",
         "stackgroup": "one",
         "type": "scatter",
         "x": [
          0,
          1,
          2,
          3,
          4,
          5,
          6,
          7,
          8,
          9,
          10,
          11,
          12,
          13,
          14,
          15,
          16,
          17,
          18,
          19,
          20,
          21,
          22,
          23
         ],
         "y": [
          840622.7084398299,
          29986952.844249,
          15832094.67393796,
          4968045.434707825,
          259445.2309966315,
          7377491.375242286,
          16063777.661895461,
          1550371.1206529464,
          1298731.3553975674,
          2457372.750644455,
          1956077.2686298946,
          18910529.1539906,
          13441618.79048977,
          361020.2457158947,
          8542800.188016167,
          6877231.173405315,
          7111758.622503727,
          616766.3120772266,
          7456219.320374953,
          12504331.341855599,
          9773676.31118587,
          16950350.226236828,
          15647104.146313407,
          4344841.086205116,
          205129229.34316432
         ]
        },
        {
         "name": "Chronos Finance STIP Proposal - Round 1",
         "stackgroup": "one",
         "type": "scatter",
         "x": [
          0,
          1,
          2,
          3,
          4,
          5,
          6,
          7,
          8,
          9,
          10,
          11,
          12,
          13,
          14,
          15,
          16,
          17,
          18,
          19,
          20,
          21,
          22,
          23
         ],
         "y": [
          15653234.445916524,
          351636.50905666745,
          3692098.5875258083,
          549403.4659127226,
          691336.7272905508,
          3152376.0403292663,
          3116220.180260421,
          203955.25497437132,
          1107322.2308762714,
          190363.64185864956,
          258540.06644843685,
          641950.9210713776,
          392088.1044326071,
          428546.49896697316,
          1227638.3123921182,
          142872.38402219073,
          261980.04493780824,
          13220461.253374906,
          91731.99981534542,
          19758407.32002431,
          31536015.94978564,
          17931590.372973293,
          962699.273261859,
          638689.6980249033,
          116201159.28353302
         ]
        },
        {
         "name": "Cian STIP Proposal - Round 1",
         "stackgroup": "one",
         "type": "scatter",
         "x": [
          0,
          1,
          2,
          3,
          4,
          5,
          6,
          7,
          8,
          9,
          10,
          11,
          12,
          13,
          14,
          15,
          16,
          17,
          18,
          19,
          20,
          21,
          22,
          23
         ],
         "y": [
          14827816.946675707,
          13102514.479925372,
          38683.61456601384,
          564812.7496099549,
          660977.838844311,
          123679.57225892767,
          3111933.8594549643,
          190264.79628062277,
          2387113.271714594,
          349724.74336803524,
          84952.5047304398,
          123742.69715434918,
          750499.6299068222,
          216600.23941563632,
          131048.7277213256,
          998280.6764754637,
          1057508.8153508108,
          996879.7569535677,
          101517.05796452361,
          606262.7009303923,
          54489478.27136043,
          2696611.764788159,
          11143095.892102174,
          57203.4928181906,
          108811204.10037081
         ]
        },
        {
         "name": "Consolidate Security Proposals into a RFP Process",
         "stackgroup": "one",
         "type": "scatter",
         "x": [
          0,
          1,
          2,
          3,
          4,
          5,
          6,
          7,
          8,
          9,
          10,
          11,
          12,
          13,
          14,
          15,
          16,
          17,
          18,
          19,
          20,
          21,
          22,
          23
         ],
         "y": [
          460688.1985526986,
          1172791.780221419,
          15354363.666738283,
          246645.94019472803,
          6864608.971095337,
          354489.32671416906,
          538675.2048548539,
          1139083.9251612492,
          550556.0228366803,
          21927119.61361728,
          215960.58829829647,
          19288912.625441305,
          8386056.777180988,
          28876013.911988232,
          14597453.972562544,
          1043438.3964974722,
          1928758.948703335,
          16953059.054880094,
          9071886.525407497,
          380638.6527107988,
          13128751.54226168,
          15548561.091262182,
          9280264.65352389,
          234051.07586882613,
          187542830.46657383
         ]
        },
        {
         "name": "Curve STIP Proposal - Round 1",
         "stackgroup": "one",
         "type": "scatter",
         "x": [
          0,
          1,
          2,
          3,
          4,
          5,
          6,
          7,
          8,
          9,
          10,
          11,
          12,
          13,
          14,
          15,
          16,
          17,
          18,
          19,
          20,
          21,
          22,
          23
         ],
         "y": [
          877697.525939494,
          1383370.4744920242,
          1330035.8953511612,
          1376855.6924014646,
          4557140.43505228,
          4151476.471875471,
          676900.3636663681,
          424125.1154369159,
          1189607.596700506,
          1975692.0494300053,
          1286229.8521776777,
          4403407.127971928,
          19165640.498640154,
          1180416.5085534374,
          23852547.9425826,
          345177.8595337537,
          1088293.2647976542,
          1063204.5079442437,
          3026174.150819694,
          4315656.070696076,
          12469635.40966829,
          31588285.386742596,
          14534865.275120858,
          66002.94060049171,
          136328438.41619512
         ]
        },
        {
         "name": "D2.finance STIP Proposal - Round 1",
         "stackgroup": "one",
         "type": "scatter",
         "x": [
          0,
          1,
          2,
          3,
          4,
          5,
          6,
          7,
          8,
          9,
          10,
          11,
          12,
          13,
          14,
          15,
          16,
          17,
          18,
          19,
          20,
          21,
          22,
          23
         ],
         "y": [
          920373.8316127905,
          5968033.974501513,
          1443019.1446552025,
          261797.47243808943,
          167754.50342227938,
          1143859.1170812387,
          3716820.691762089,
          425953.24548620346,
          1625294.04615251,
          2272198.22231696,
          458041.36046244984,
          273597.1131250443,
          525123.4768022181,
          2308224.1447620164,
          15510583.825994777,
          372230.66093461233,
          859051.4077694435,
          128211.56354843249,
          1011523.8891464971,
          1193281.0919215186,
          58613094.485690586,
          4459416.094427312,
          13112981.404522473,
          411460.2988601371,
          117181925.0673964
         ]
        },
        {
         "name": "DefiEdge STIP Proposal - Round 1",
         "stackgroup": "one",
         "type": "scatter",
         "x": [
          0,
          1,
          2,
          3,
          4,
          5,
          6,
          7,
          8,
          9,
          10,
          11,
          12,
          13,
          14,
          15,
          16,
          17,
          18,
          19,
          20,
          21,
          22,
          23
         ],
         "y": [
          1134379.5997399588,
          500066.6335304892,
          549355.6548680661,
          538187.0896020515,
          14925237.879935157,
          1063728.720885941,
          6171691.109770989,
          2135783.20346376,
          1034567.7867882822,
          1457411.289460874,
          967184.8384102589,
          4674904.533527478,
          4791005.61965891,
          2770642.854269615,
          13993060.185686741,
          1104640.7864031391,
          5145405.78604136,
          8908757.113588959,
          10570588.040075468,
          2038437.8884854442,
          50626216.88360561,
          7471884.5771119,
          12267777.163817115,
          69848.16490778473,
          154910763.40363535
         ]
        },
        {
         "name": "Dolomite STIP Proposal - Round 1",
         "stackgroup": "one",
         "type": "scatter",
         "x": [
          0,
          1,
          2,
          3,
          4,
          5,
          6,
          7,
          8,
          9,
          10,
          11,
          12,
          13,
          14,
          15,
          16,
          17,
          18,
          19,
          20,
          21,
          22,
          23
         ],
         "y": [
          7942970.041906754,
          5794705.42011058,
          17930114.110578764,
          13340552.481605828,
          148333.8332163549,
          4291422.807905111,
          705245.7288436086,
          6672065.506189855,
          577251.5629489264,
          1715770.7173235666,
          1284474.2883378349,
          13101313.327896222,
          486551.0757803782,
          20224592.45730446,
          1218014.3811170503,
          292479.5515081768,
          6146297.633447674,
          19545311.736469056,
          5556269.026307412,
          4531769.68564907,
          49165177.29722193,
          1016403.1094250475,
          10887164.671061752,
          2801010.7647358244,
          195375261.21689123
         ]
        },
        {
         "name": "Dopex STIP Proposal - Round 1",
         "stackgroup": "one",
         "type": "scatter",
         "x": [
          0,
          1,
          2,
          3,
          4,
          5,
          6,
          7,
          8,
          9,
          10,
          11,
          12,
          13,
          14,
          15,
          16,
          17,
          18,
          19,
          20,
          21,
          22,
          23
         ],
         "y": [
          43543.77563949213,
          1185142.4543024863,
          15545050.172849052,
          618184.3709262542,
          5001696.673658901,
          3324619.281891101,
          17226574.120939035,
          5085048.973090173,
          1533232.637097065,
          1035266.6141755572,
          6208241.962211881,
          4472570.11410411,
          13984590.735440707,
          20711033.243742045,
          833832.3875503264,
          8490110.099467844,
          33400602.632386196,
          10387031.8636931,
          16365553.532397717,
          17499191.609817233,
          1940945.4249540453,
          2810217.5673436522,
          12286464.08587399,
          95713.71186732475,
          200084458.0454193
         ]
        },
        {
         "name": "Equilibria STIP Proposal - Round 1",
         "stackgroup": "one",
         "type": "scatter",
         "x": [
          0,
          1,
          2,
          3,
          4,
          5,
          6,
          7,
          8,
          9,
          10,
          11,
          12,
          13,
          14,
          15,
          16,
          17,
          18,
          19,
          20,
          21,
          22,
          23
         ],
         "y": [
          42934.69776518109,
          1171297.3017144364,
          5313874.961237574,
          14702163.688434653,
          135834.07094051258,
          135133.6003452785,
          7721262.041699277,
          672595.2228730549,
          177958.45071663894,
          1042299.7993637883,
          1164149.4360842416,
          523373.33712725126,
          391945.23652735335,
          780828.6714474376,
          34054545.180683985,
          179907.30663197036,
          89920.63750700916,
          982306.6730755791,
          226752.02829816478,
          4205046.038305024,
          28376817.46093341,
          29300715.266448546,
          842190.9266506878,
          82888.73227973297,
          132316740.76709078
         ]
        },
        {
         "name": "Florence Finance STIP Proposal - Round 1",
         "stackgroup": "one",
         "type": "scatter",
         "x": [
          0,
          1,
          2,
          3,
          4,
          5,
          6,
          7,
          8,
          9,
          10,
          11,
          12,
          13,
          14,
          15,
          16,
          17,
          18,
          19,
          20,
          21,
          22,
          23
         ],
         "y": [
          15651663.623247018,
          12569269.271290485,
          972173.9762871427,
          549296.423315305,
          692295.8887652688,
          90307.79413934475,
          3108606.7110247263,
          205045.31774450195,
          1095683.499961069,
          194073.3602050046,
          101311.17620556272,
          291988.9309207364,
          819655.9948572763,
          441640.29529184144,
          1046580.6993149546,
          131563.44031834623,
          277759.4979664618,
          1019125.8732247001,
          91689.64652677278,
          1286589.8470691545,
          46765130.89147248,
          10499355.30918513,
          10440235.154872347,
          74211.64451924895,
          108415254.26772486
         ]
        },
        {
         "name": "Frax Finance STIP Proposal - Round 1",
         "stackgroup": "one",
         "type": "scatter",
         "x": [
          0,
          1,
          2,
          3,
          4,
          5,
          6,
          7,
          8,
          9,
          10,
          11,
          12,
          13,
          14,
          15,
          16,
          17,
          18,
          19,
          20,
          21,
          22,
          23
         ],
         "y": [
          1334609.5214379332,
          4423116.797233445,
          8589215.084752113,
          608555.435343133,
          2978372.3052233346,
          103722.28566046165,
          3201102.1525892895,
          7712559.533935451,
          1110402.3369765878,
          193713.453530219,
          4556974.350053588,
          585826.1529298149,
          19151430.7425044,
          15657486.12434873,
          9037573.549991362,
          6829722.977887413,
          34134964.84806549,
          10903505.302704697,
          14571659.532762066,
          1102110.9166331156,
          2598859.221100397,
          7257213.784720206,
          27817336.84430004,
          95277.55412066713,
          184555310.80880395
         ]
        },
        {
         "name": "Furucombo STIP Proposal - Round 1",
         "stackgroup": "one",
         "type": "scatter",
         "x": [
          0,
          1,
          2,
          3,
          4,
          5,
          6,
          7,
          8,
          9,
          10,
          11,
          12,
          13,
          14,
          15,
          16,
          17,
          18,
          19,
          20,
          21,
          22,
          23
         ],
         "y": [
          772165.6421448758,
          5717479.997960212,
          1261401.9412607213,
          220313.9119565744,
          15614672.0061549,
          1103017.748467499,
          8770047.156176794,
          1522664.6431474998,
          220384.75466383132,
          2061869.271239027,
          1278925.311090488,
          154288.02975677536,
          447361.8325657912,
          664658.7890213459,
          40671947.2999926,
          308699.7077515314,
          812155.2327193808,
          1043285.9068729087,
          224878.1821382503,
          2091868.9791017391,
          38185549.98608785,
          4039647.2379443124,
          13235181.758350195,
          68203.82781634433,
          140490669.15438142
         ]
        },
        {
         "name": "GMD Ecosystem STIP Proposal - Round 1",
         "stackgroup": "one",
         "type": "scatter",
         "x": [
          0,
          1,
          2,
          3,
          4,
          5,
          6,
          7,
          8,
          9,
          10,
          11,
          12,
          13,
          14,
          15,
          16,
          17,
          18,
          19,
          20,
          21,
          22,
          23
         ],
         "y": [
          770063.6643908519,
          18883468.902059816,
          1572713.8255992397,
          229096.52778057632,
          147823.93017704005,
          1229758.5182196815,
          909851.1148602132,
          379104.4388244954,
          1523424.440291066,
          1632510.0103689856,
          1294754.0050120135,
          188243.36105453392,
          19037167.160426382,
          628266.2075799812,
          17830278.06776961,
          907834.4589957182,
          139228.54860379416,
          122381.05376122272,
          1114315.9022211228,
          1169909.6359491071,
          43784457.533906646,
          4571438.450525511,
          98419.32072974864,
          761482.0511901007,
          118925991.13029745
         ]
        },
        {
         "name": "GMX STIP Proposal - Round 1",
         "stackgroup": "one",
         "type": "scatter",
         "x": [
          0,
          1,
          2,
          3,
          4,
          5,
          6,
          7,
          8,
          9,
          10,
          11,
          12,
          13,
          14,
          15,
          16,
          17,
          18,
          19,
          20,
          21,
          22,
          23
         ],
         "y": [
          43017.78137792535,
          41713003.11521989,
          1219924.5344461543,
          7620675.077139809,
          841068.9415373879,
          7258813.222676512,
          395629.41640877037,
          675360.828845213,
          1833475.8140777866,
          2326932.7166444478,
          5580660.667466748,
          19869734.13838417,
          13062751.877540834,
          1937141.4448285177,
          8925421.54181486,
          6786834.937825721,
          17005923.93407267,
          9090541.844725534,
          4076063.5309561603,
          4978316.534652075,
          2638518.97174082,
          2809252.875313924,
          28968644.737853367,
          5750766.166159344,
          195408474.65170863
         ]
        },
        {
         "name": "Gains Network STIP Proposal - Round 1",
         "stackgroup": "one",
         "type": "scatter",
         "x": [
          0,
          1,
          2,
          3,
          4,
          5,
          6,
          7,
          8,
          9,
          10,
          11,
          12,
          13,
          14,
          15,
          16,
          17,
          18,
          19,
          20,
          21,
          22,
          23
         ],
         "y": [
          3115186.8878928376,
          1992190.3588042874,
          4114789.5819374546,
          559450.3107777949,
          770381.1935129686,
          3184579.5210275785,
          5661813.0544575695,
          687266.0613535256,
          6064345.827644129,
          843481.4102633726,
          521854.2052179783,
          23495853.88532325,
          1990566.5593536978,
          5531075.618484661,
          15005019.350818211,
          2972571.920962573,
          1748243.3638936065,
          17945930.038597785,
          12450393.211001305,
          612365.8273818519,
          8583882.910156192,
          31826710.207593355,
          4793236.685762159,
          74262.14930955641,
          154545450.14152768
         ]
        },
        {
         "name": "Galxe STIP Proposal - Round 1",
         "stackgroup": "one",
         "type": "scatter",
         "x": [
          0,
          1,
          2,
          3,
          4,
          5,
          6,
          7,
          8,
          9,
          10,
          11,
          12,
          13,
          14,
          15,
          16,
          17,
          18,
          19,
          20,
          21,
          22,
          23
         ],
         "y": [
          7442534.531138509,
          19443571.139035463,
          9715309.69123158,
          14725137.030856833,
          279511.5610365459,
          12807314.512384262,
          3475143.16918469,
          6795730.216008702,
          1038182.1843522355,
          393341.39532536967,
          6574714.689774563,
          1123930.423024667,
          917590.5166428171,
          3535783.936939101,
          175373.47700030278,
          1076757.9079254814,
          42292401.57102139,
          561628.5327692452,
          3686707.8149367203,
          6954047.015913867,
          20375959.291507244,
          13173396.170515537,
          14653190.209313575,
          571245.0790659133,
          191788502.06690463
         ]
        },
        {
         "name": "Gamma STIP Proposal - Round 1",
         "stackgroup": "one",
         "type": "scatter",
         "x": [
          0,
          1,
          2,
          3,
          4,
          5,
          6,
          7,
          8,
          9,
          10,
          11,
          12,
          13,
          14,
          15,
          16,
          17,
          18,
          19,
          20,
          21,
          22,
          23
         ],
         "y": [
          631319.1390013628,
          11002459.38701039,
          113828.80242379065,
          990826.7244825198,
          147931.0126758048,
          1055436.4395271996,
          637528.8748512255,
          4784224.530043238,
          1030026.5596707597,
          1362620.3360627189,
          1079086.3813295723,
          807855.6352722228,
          4777429.4985887185,
          2745932.765954258,
          23920373.341229625,
          15053592.025992107,
          31765399.43223381,
          11513135.058768516,
          3036517.280129469,
          17696412.93826972,
          141335.27137916585,
          10184128.08697871,
          13365134.958771337,
          21889237.965891816,
          179731772.44653803
         ]
        },
        {
         "name": "Good Entry STIP Proposal - Round 1",
         "stackgroup": "one",
         "type": "scatter",
         "x": [
          0,
          1,
          2,
          3,
          4,
          5,
          6,
          7,
          8,
          9,
          10,
          11,
          12,
          13,
          14,
          15,
          16,
          17,
          18,
          19,
          20,
          21,
          22,
          23
         ],
         "y": [
          8070695.585741472,
          1086252.1981755097,
          11045566.470126696,
          294180.4373680867,
          15076340.31725302,
          8625505.408019599,
          3806987.3283646544,
          4433592.030596165,
          780482.5168157027,
          2314145.590777951,
          4909628.100484851,
          7706207.564034621,
          575864.7691044873,
          2326103.4742747447,
          738385.4633653418,
          3684475.0031727105,
          27731508.30214447,
          2249831.493696695,
          1099801.278578461,
          10498747.779948927,
          44313894.087646484,
          134890.13257134677,
          12336308.32248417,
          12780622.062065693,
          186620015.71681184
         ]
        },
        {
         "name": "Guru Network STIP Proposal - Round 1",
         "stackgroup": "one",
         "type": "scatter",
         "x": [
          0,
          1,
          2,
          3,
          4,
          5,
          6,
          7,
          8,
          9,
          10,
          11,
          12,
          13,
          14,
          15,
          16,
          17,
          18,
          19,
          20,
          21,
          22,
          23
         ],
         "y": [
          294136.8484821767,
          883736.6295789272,
          36355.15391103694,
          564542.0947438024,
          684598.6151243346,
          3199347.8629073333,
          3086803.7758451286,
          679366.4937123731,
          1918514.079386499,
          190746.0960138926,
          263263.6235866135,
          120229.61691125228,
          698180.1364856705,
          1129021.9037192236,
          15378785.049207853,
          1177227.2105567756,
          120535.66759652007,
          980911.385369465,
          949174.3316133299,
          611145.6164704553,
          54498385.348318994,
          14001857.686039476,
          1275551.8474683492,
          10429207.712609692,
          113171624.78565918
         ]
        },
        {
         "name": "HMX STIP Proposal - Round 1",
         "stackgroup": "one",
         "type": "scatter",
         "x": [
          0,
          1,
          2,
          3,
          4,
          5,
          6,
          7,
          8,
          9,
          10,
          11,
          12,
          13,
          14,
          15,
          16,
          17,
          18,
          19,
          20,
          21,
          22,
          23
         ],
         "y": [
          52521.5716166838,
          6264230.302253618,
          228485.91365320192,
          534342.173594221,
          949734.5491292779,
          1067192.3078563488,
          3448289.5484854104,
          409651.1350944153,
          1457571.0225363085,
          1221802.861603489,
          661767.9501863562,
          907879.132715567,
          19152992.829348803,
          208703.83224198534,
          14985512.48937701,
          143878.92405670974,
          796618.7330362943,
          1039740.3471275489,
          225894.73527153,
          1100862.9663853268,
          37232740.38524733,
          12164722.366035135,
          12299538.319180228,
          211538.22034755402,
          116766212.61638033
         ]
        },
        {
         "name": "JOJO Exchange STIP Proposal - Round 1",
         "stackgroup": "one",
         "type": "scatter",
         "x": [
          0,
          1,
          2,
          3,
          4,
          5,
          6,
          7,
          8,
          9,
          10,
          11,
          12,
          13,
          14,
          15,
          16,
          17,
          18,
          19,
          20,
          21,
          22,
          23
         ],
         "y": [
          7348798.807456537,
          6666608.660953035,
          1308963.945236551,
          3748604.0514840633,
          146300.29448426256,
          1118450.3811060495,
          1620272.7067703423,
          3160540.9727835306,
          1522638.1097508348,
          2257504.9578996757,
          4728645.517633296,
          189319.35783467704,
          8785643.468596837,
          633634.7870552209,
          740377.3049145327,
          3050482.7994570266,
          1523913.1495366078,
          126961.0734017934,
          15772125.574126102,
          2092618.5400251672,
          62848357.55531638,
          4173103.1115991413,
          12306739.893171316,
          59614.26403112157,
          145930219.2846241
         ]
        },
        {
         "name": "Jones DAO STIP Proposal - Round 1",
         "stackgroup": "one",
         "type": "scatter",
         "x": [
          0,
          1,
          2,
          3,
          4,
          5,
          6,
          7,
          8,
          9,
          10,
          11,
          12,
          13,
          14,
          15,
          16,
          17,
          18,
          19,
          20,
          21,
          22,
          23
         ],
         "y": [
          1521830.891862277,
          1073806.0798476967,
          15995220.554042276,
          3237320.9712665128,
          4592517.05868707,
          4165911.1064161584,
          13916118.971849257,
          7362626.8331311485,
          616554.1962700014,
          1813176.237999614,
          1572152.8105971874,
          33895019.424001604,
          14325104.786950037,
          946271.1743758793,
          347448.6747261247,
          8614476.678309461,
          37477237.8937201,
          14301806.44011373,
          7556876.125734721,
          16396393.414965043,
          1007134.8171784291,
          132736.47928366764,
          13133437.621324817,
          105080.86222384,
          204106260.1048766
         ]
        },
        {
         "name": "KeplerHomes STIP Proposal - Round 1",
         "stackgroup": "one",
         "type": "scatter",
         "x": [
          0,
          1,
          2,
          3,
          4,
          5,
          6,
          7,
          8,
          9,
          10,
          11,
          12,
          13,
          14,
          15,
          16,
          17,
          18,
          19,
          20,
          21,
          22,
          23
         ],
         "y": [
          275661.07849304855,
          13107829.567623423,
          976103.7261728554,
          547303.8775719237,
          697903.250044197,
          94804.59312188736,
          344573.0239068899,
          7049848.018258778,
          1098099.0741271388,
          1035698.9928096368,
          240746.1238130363,
          166791.18822065412,
          715925.9247687077,
          19098139.894914884,
          15379085.04796218,
          147908.69744919718,
          877363.3017175742,
          1464305.616084157,
          232900.941788118,
          1783471.7648535,
          9180115.548572756,
          39735275.153886184,
          5400282.175180801,
          79841.09796245926,
          119729977.67930399
         ]
        },
        {
         "name": "KyberSwap STIP Proposal - Round 1",
         "stackgroup": "one",
         "type": "scatter",
         "x": [
          0,
          1,
          2,
          3,
          4,
          5,
          6,
          7,
          8,
          9,
          10,
          11,
          12,
          13,
          14,
          15,
          16,
          17,
          18,
          19,
          20,
          21,
          22,
          23
         ],
         "y": [
          299559.6831627223,
          615640.849767216,
          5371755.469951407,
          13651605.352198971,
          14008060.765463542,
          7497575.665914663,
          7557768.9739592755,
          2980774.609046882,
          6586707.441240424,
          850016.5671856522,
          5312341.901267405,
          21830841.71649136,
          13613444.484433543,
          227034.70764138555,
          1664440.5429648575,
          537321.3128091664,
          31857383.360814527,
          137615.20587435187,
          1665493.1273135485,
          1475435.0528162885,
          18105733.21769773,
          6598476.60093202,
          13546071.47759967,
          563361.5022162312,
          176554459.5887629
         ]
        },
        {
         "name": "LODESTAR FINANCE STIP Proposal - Round 1",
         "stackgroup": "one",
         "type": "scatter",
         "x": [
          0,
          1,
          2,
          3,
          4,
          5,
          6,
          7,
          8,
          9,
          10,
          11,
          12,
          13,
          14,
          15,
          16,
          17,
          18,
          19,
          20,
          21,
          22,
          23
         ],
         "y": [
          8858844.801004913,
          16640254.973080376,
          15387154.338534396,
          5876133.904957514,
          5000173.719868548,
          6349185.366698867,
          347121.7231674119,
          668806.3034899828,
          1120706.4121233807,
          1028923.7229126025,
          123135.1344404004,
          574364.3504791072,
          13966571.715206381,
          1693151.9673000872,
          50374212.36570023,
          1493784.4684936707,
          27927337.116641317,
          9315692.236064559,
          237165.6307596999,
          12149426.77476257,
          2600090.0552972946,
          5868785.640087223,
          3982754.2117060865,
          88396.91722988879,
          191672173.85000646
         ]
        },
        {
         "name": "LOGX STIP Proposal - Round 1",
         "stackgroup": "one",
         "type": "scatter",
         "x": [
          0,
          1,
          2,
          3,
          4,
          5,
          6,
          7,
          8,
          9,
          10,
          11,
          12,
          13,
          14,
          15,
          16,
          17,
          18,
          19,
          20,
          21,
          22,
          23
         ],
         "y": [
          15639819.465162659,
          6007958.426726414,
          3687406.4049177095,
          548887.6704030992,
          691938.5751040817,
          7451322.6861871015,
          342744.58371855516,
          2983488.1237083245,
          1102452.7892511035,
          191899.32044672576,
          104120.27827132057,
          504385.158009761,
          382843.14869356115,
          459514.1658395906,
          19408556.748149943,
          606895.939567058,
          375287.7593100083,
          1000886.7059329462,
          12440315.135999512,
          1997347.9226350104,
          32222149.532346923,
          12178713.546292668,
          58080.34950313259,
          81039.15514014434,
          120468053.59131733
         ]
        },
        {
         "name": "Lido STIP Proposal - Round 1",
         "stackgroup": "one",
         "type": "scatter",
         "x": [
          0,
          1,
          2,
          3,
          4,
          5,
          6,
          7,
          8,
          9,
          10,
          11,
          12,
          13,
          14,
          15,
          16,
          17,
          18,
          19,
          20,
          21,
          22,
          23
         ],
         "y": [
          41777.33031581318,
          26681575.651936058,
          15883692.885603383,
          15365855.991712041,
          4467539.944034138,
          1325096.8102652258,
          4372107.092702674,
          3563712.8790996955,
          942543.6835379284,
          5898641.975465224,
          1463333.5648526838,
          19180636.680773497,
          556429.8487800653,
          13411074.704981511,
          9898867.138839867,
          162870.38794720639,
          3292330.88191631,
          523602.0081684461,
          24277936.297460888,
          2923263.219783024,
          33453386.37855505,
          6729376.403530503,
          6160323.960692237,
          85759.12983931988,
          200661734.85079283
         ]
        },
        {
         "name": "MUX Protocol STIP Proposal - Round 1",
         "stackgroup": "one",
         "type": "scatter",
         "x": [
          0,
          1,
          2,
          3,
          4,
          5,
          6,
          7,
          8,
          9,
          10,
          11,
          12,
          13,
          14,
          15,
          16,
          17,
          18,
          19,
          20,
          21,
          22,
          23
         ],
         "y": [
          6613255.89982938,
          15931032.357863113,
          38905244.1890736,
          617065.9209023197,
          2399105.7406556467,
          3184640.6534246174,
          303866.4811231046,
          256717.09580597564,
          6161164.471492834,
          5089085.669464551,
          5417857.291702858,
          19822022.558825534,
          15341820.796655593,
          563833.9718035845,
          11255051.093179595,
          31229139.65614042,
          8182412.108121756,
          3599818.0906331423,
          246489.43576522413,
          2649375.813382778,
          4387178.032282455,
          2264599.563663406,
          4733476.731953586,
          1152861.9162438596,
          190307115.53998893
         ]
        },
        {
         "name": "Magpie, Penpie, Radpie, Campie STIP Proposal - Round 1",
         "stackgroup": "one",
         "type": "scatter",
         "x": [
          0,
          1,
          2,
          3,
          4,
          5,
          6,
          7,
          8,
          9,
          10,
          11,
          12,
          13,
          14,
          15,
          16,
          17,
          18,
          19,
          20,
          21,
          22,
          23
         ],
         "y": [
          56161.940341130976,
          13358806.70566867,
          15214054.535678655,
          549769.3872078465,
          2870863.8929767,
          7486787.324988203,
          684350.4685400145,
          3204539.1903792275,
          1051715.849784035,
          1464893.1846246538,
          4594408.960880681,
          19825253.286320463,
          407509.7871107847,
          694996.4699764075,
          16104638.442234807,
          4443252.712093631,
          791068.8571324329,
          11940362.536226163,
          23428152.289417155,
          2835749.224772156,
          31305087.00357125,
          1777924.2798599706,
          56285.19707488439,
          69802.65377372032,
          164216434.18063366
         ]
        },
        {
         "name": "Modular Wallet STIP Proposal - Round 1",
         "stackgroup": "one",
         "type": "scatter",
         "x": [
          0,
          1,
          2,
          3,
          4,
          5,
          6,
          7,
          8,
          9,
          10,
          11,
          12,
          13,
          14,
          15,
          16,
          17,
          18,
          19,
          20,
          21,
          22,
          23
         ],
         "y": [
          15069990.610515483,
          888414.9293721411,
          38222.42885998886,
          12775333.834735492,
          8019875.565569826,
          114372.88030855986,
          325234.1909757178,
          2979728.440079598,
          1924318.098227818,
          351629.11311981024,
          246692.47081298614,
          124292.91719526779,
          410616.63291936263,
          223838.32804479095,
          598159.213425345,
          1447318.1250712587,
          1051880.082094225,
          1303589.1764630617,
          254989.33755776435,
          603461.0681084215,
          50194917.069271676,
          1789840.961945275,
          11138397.225389924,
          58206.56541061803,
          111933319.26547442
         ]
        },
        {
         "name": "NFTEarth STIP Proposal - Round 1",
         "stackgroup": "one",
         "type": "scatter",
         "x": [
          0,
          1,
          2,
          3,
          4,
          5,
          6,
          7,
          8,
          9,
          10,
          11,
          12,
          13,
          14,
          15,
          16,
          17,
          18,
          19,
          20,
          21,
          22,
          23
         ],
         "y": [
          4426452.315585921,
          878087.3494251017,
          155354.7740673861,
          618428.6066766244,
          4944127.226723925,
          3277890.8053373275,
          318447.260289443,
          3007206.338468572,
          2173102.3185417787,
          190677.56922510316,
          129151.52248020253,
          539054.7270072253,
          428217.1672641465,
          210746.67185534904,
          14907605.83757105,
          1646785.1202778555,
          121676.04954076043,
          1675873.1968038906,
          12477537.599658381,
          1138468.6154306002,
          52792979.77905581,
          92698.82092503802,
          511261.61305338686,
          10429925.233347196,
          117091756.51861206
         ]
        },
        {
         "name": "Notional STIP Proposal - Round 1",
         "stackgroup": "one",
         "type": "scatter",
         "x": [
          0,
          1,
          2,
          3,
          4,
          5,
          6,
          7,
          8,
          9,
          10,
          11,
          12,
          13,
          14,
          15,
          16,
          17,
          18,
          19,
          20,
          21,
          22,
          23
         ],
         "y": [
          878043.4485223425,
          13528969.175103541,
          51248.390342500876,
          10918407.968917927,
          658499.8424546672,
          123535.36111174898,
          330680.65961312945,
          7362304.721565448,
          2212407.1581334984,
          281410.2914903555,
          254131.49351036636,
          507254.3109299507,
          1208615.7346272867,
          622520.9092041915,
          16116568.2238424,
          233683.95455288215,
          31936289.705867138,
          552760.2510681159,
          103277.14277300342,
          2026279.013883243,
          18750119.827483,
          10662303.026923709,
          11655525.896179695,
          6995422.759454587,
          137970259.26755473
         ]
        },
        {
         "name": "OmniBTC STIP Proposal - Round 1",
         "stackgroup": "one",
         "type": "scatter",
         "x": [
          0,
          1,
          2,
          3,
          4,
          5,
          6,
          7,
          8,
          9,
          10,
          11,
          12,
          13,
          14,
          15,
          16,
          17,
          18,
          19,
          20,
          21,
          22,
          23
         ],
         "y": [
          56194.627001375135,
          1885255.7682506861,
          1139611.7124506421,
          12744241.414078047,
          4456641.089983465,
          3322220.402975739,
          684706.783804821,
          414506.83746877854,
          1024793.1471972908,
          1215560.7365654833,
          734879.250638054,
          756657.6869283706,
          423147.06437920645,
          182070.48100054642,
          15405184.205185307,
          1069187.893176317,
          794215.4014330456,
          997326.5398671366,
          2993061.251845461,
          1127108.0696942369,
          50219678.22030138,
          12153527.33353224,
          55791.61231377943,
          70368.87523224652,
          113925936.40530366
         ]
        },
        {
         "name": "OpenOcean STIP Proposal - Round 1",
         "stackgroup": "one",
         "type": "scatter",
         "x": [
          0,
          1,
          2,
          3,
          4,
          5,
          6,
          7,
          8,
          9,
          10,
          11,
          12,
          13,
          14,
          15,
          16,
          17,
          18,
          19,
          20,
          21,
          22,
          23
         ],
         "y": [
          16260886.39886565,
          5266344.90796149,
          13180448.680895664,
          13630644.557427865,
          3759905.1682587718,
          97897.16841956892,
          330880.0522473994,
          7514695.237257888,
          1096169.5243162208,
          187284.37386097448,
          106124.29241056972,
          4691463.150307126,
          25758607.684405558,
          3892965.676735701,
          18139397.35768423,
          132852.0067939719,
          36289772.52223639,
          879442.5119906826,
          224307.26385328625,
          2377118.541323465,
          23977557.610010058,
          4992918.288015056,
          3265808.9892561734,
          1649603.5987205561,
          187703095.56325433
         ]
        },
        {
         "name": "PancakeSwap STIP Proposal - Round 1",
         "stackgroup": "one",
         "type": "scatter",
         "x": [
          0,
          1,
          2,
          3,
          4,
          5,
          6,
          7,
          8,
          9,
          10,
          11,
          12,
          13,
          14,
          15,
          16,
          17,
          18,
          19,
          20,
          21,
          22,
          23
         ],
         "y": [
          7857574.560560603,
          1361234.636633251,
          12774202.356634162,
          1399331.3984632865,
          14927047.422837371,
          16990461.072352722,
          683569.4534961276,
          4491093.143092206,
          232389.764331854,
          1096756.2683301414,
          2665344.2556251534,
          994266.6785345718,
          372558.1829381186,
          7830786.805809786,
          251393.44877044,
          303988.1621929592,
          28629223.339503396,
          581759.417265479,
          23344844.437861897,
          21596434.376103066,
          228000.92889851736,
          6731428.342446694,
          1757219.4798737685,
          529961.9827357535,
          157630869.9152913
         ]
        },
        {
         "name": "Pendle STIP Proposal - Round 1",
         "stackgroup": "one",
         "type": "scatter",
         "x": [
          0,
          1,
          2,
          3,
          4,
          5,
          6,
          7,
          8,
          9,
          10,
          11,
          12,
          13,
          14,
          15,
          16,
          17,
          18,
          19,
          20,
          21,
          22,
          23
         ],
         "y": [
          63162.496479818365,
          890464.7442378809,
          26567649.770677388,
          13297996.122661525,
          4966420.804851989,
          115689.11080427059,
          13189048.93315909,
          6026591.439828242,
          2374242.554708117,
          221842.84206876825,
          263990.55509418156,
          18881576.003539085,
          783969.3027253917,
          2866698.4818546735,
          9103555.639240531,
          1954716.2110361403,
          33725532.0257445,
          9302450.035645325,
          3060219.5638689613,
          5383813.600939617,
          15807506.869086381,
          80591.06418646025,
          1733444.311435084,
          15289317.48921502,
          185950489.97308847
         ]
        },
        {
         "name": "Perennial Finance STIP Proposal - Round 1",
         "stackgroup": "one",
         "type": "scatter",
         "x": [
          0,
          1,
          2,
          3,
          4,
          5,
          6,
          7,
          8,
          9,
          10,
          11,
          12,
          13,
          14,
          15,
          16,
          17,
          18,
          19,
          20,
          21,
          22,
          23
         ],
         "y": [
          974160.6651172158,
          634786.8265565727,
          13680255.508532258,
          86328.1361171507,
          160164.30193523876,
          7630805.959233202,
          669308.8999983253,
          4632260.004441055,
          1020870.5827093509,
          1450418.6171914523,
          300793.7410783284,
          3359775.943347662,
          418095.1733220593,
          919664.639701304,
          65058241.936750054,
          7149649.778916381,
          793257.854277472,
          5678343.416464284,
          24381440.381868146,
          2963091.922153676,
          1238305.3494426196,
          8880849.77094266,
          11020180.177288655,
          26396285.018960044,
          189497334.60634518
         ]
        },
        {
         "name": "Premia STIP Proposal - Round 1",
         "stackgroup": "one",
         "type": "scatter",
         "x": [
          0,
          1,
          2,
          3,
          4,
          5,
          6,
          7,
          8,
          9,
          10,
          11,
          12,
          13,
          14,
          15,
          16,
          17,
          18,
          19,
          20,
          21,
          22,
          23
         ],
         "y": [
          776316.2693640372,
          591576.8815357581,
          12268602.841853946,
          3169911.9954731283,
          696047.157148545,
          7571286.336525703,
          308333.0795528296,
          7394454.335893923,
          2803641.6901913863,
          191014.52408959562,
          146392.09228967168,
          402004.7867738329,
          837242.1915546638,
          19669913.968554497,
          1869255.1634077171,
          16027606.047707655,
          47579484.31203853,
          8485987.747935586,
          157898.94480815806,
          27147341.663260963,
          1023606.5814407186,
          4311469.0168683175,
          2537286.01400852,
          2778953.9155460093,
          168745627.55782372
         ]
        },
        {
         "name": "Prime Protocol STIP Proposal - Round 1",
         "stackgroup": "one",
         "type": "scatter",
         "x": [
          0,
          1,
          2,
          3,
          4,
          5,
          6,
          7,
          8,
          9,
          10,
          11,
          12,
          13,
          14,
          15,
          16,
          17,
          18,
          19,
          20,
          21,
          22,
          23
         ],
         "y": [
          39298.420383973986,
          4751627.037293786,
          13177944.884361831,
          560659.7437047379,
          694953.8250320044,
          98854.94929375606,
          342326.05745048774,
          204348.34938210342,
          1102346.683400356,
          1272165.4166954001,
          853624.4891754014,
          509277.568898224,
          391821.3964933945,
          821885.8775631995,
          15983695.592481019,
          1073703.7785219122,
          373327.76946712215,
          997133.972444878,
          246488.3688500222,
          1778277.4921728992,
          18738019.20026285,
          48447013.727645755,
          74095.43013960846,
          79885.4394266503,
          112612775.47054136
         ]
        },
        {
         "name": "Procurement Framework | Security : Non-Constitutional Proposal",
         "stackgroup": "one",
         "type": "scatter",
         "x": [
          0,
          1,
          2,
          3,
          4,
          5,
          6,
          7,
          8,
          9,
          10,
          11,
          12,
          13,
          14,
          15,
          16,
          17,
          18,
          19,
          20,
          21,
          22,
          23
         ],
         "y": [
          2768145.2593746185,
          6715820.953575492,
          378621.9483077486,
          161807.34497887245,
          16484351.213585038,
          327027.5818421841,
          1224869.5104398842,
          1411453.591889671,
          355893.0554007042,
          375670.2074156065,
          374515.93849576893,
          1364486.8036445403,
          3031200.719359983,
          954396.1902394914,
          350740.68194385734,
          1376380.1756411432,
          34538923.66506392,
          20806885.033472434,
          33437147.639272578,
          532470.0869416301,
          14170102.725907754,
          3986365.296676857,
          6682333.5661978815,
          210092.89402093805,
          152019702.08368856
         ]
        },
        {
         "name": "Proposal to Backfund Successful STIP Proposals",
         "stackgroup": "one",
         "type": "scatter",
         "x": [
          0,
          1,
          2,
          3,
          4,
          5,
          6,
          7,
          8,
          9,
          10,
          11,
          12,
          13,
          14,
          15,
          16,
          17,
          18,
          19,
          20,
          21,
          22,
          23
         ],
         "y": [
          1885215.1941451314,
          36702184.85296314,
          2592700.561492429,
          7865720.898223488,
          2991843.6154385917,
          13062787.523961399,
          21592037.17216257,
          4181546.594735684,
          14550588.988748234,
          3246389.2176905284,
          310838.15418263164,
          3962106.2913834387,
          3622957.944654869,
          4646889.634113397,
          13179175.582795179,
          644883.2504000802,
          732218.3961427808,
          2536401.1594583727,
          10811572.866673894,
          1475329.0236673418,
          23882857.66886956,
          12525422.568637218,
          4041695.6989205685,
          4599239.678429814,
          195642602.53789032
         ]
        },
        {
         "name": "Proposal to onboard Matrixed.Link as a validator for Arbitrum",
         "stackgroup": "one",
         "type": "scatter",
         "x": [
          0,
          1,
          2,
          3,
          4,
          5,
          6,
          7,
          8,
          9,
          10,
          11,
          12,
          13,
          14,
          15,
          16,
          17,
          18,
          19,
          20,
          21,
          22,
          23
         ],
         "y": [
          201146.15452457516,
          261313.6123852097,
          386152.6287978053,
          191289.42233515382,
          177823.45253898963,
          1256787.1466116097,
          280361.3072718061,
          407843.929097052,
          502599.12010031415,
          326927.92735654605,
          283954.93866515247,
          1107632.5754997933,
          905378.8481676632,
          19027128.449208517,
          1078233.2031091633,
          8712396.95940218,
          1534079.36962657,
          2940069.8838184876,
          617383.5980311476,
          161458.55261498762,
          3409795.5964236064,
          760910.8491498791,
          249844.53812745665,
          10801039.899460815,
          55581551.96232447
         ]
        },
        {
         "name": "Proposal: Activate support for account abstraction endpoint on One and Nova",
         "stackgroup": "one",
         "type": "scatter",
         "x": [
          0,
          1,
          2,
          3,
          4,
          5,
          6,
          7,
          8,
          9,
          10,
          11,
          12,
          13,
          14,
          15,
          16,
          17,
          18,
          19,
          20,
          21,
          22,
          23
         ],
         "y": [
          5608178.243753645,
          1652229.8327852895,
          755525.7170097311,
          3027554.9028198225,
          742271.126551875,
          335462.846472906,
          1111624.579122115,
          854682.7314628572,
          1777730.4213403307,
          526073.6865095042,
          830236.8231818995,
          423164.48879886983,
          485093.0636209613,
          475965.6765687725,
          8847321.548776489,
          16102625.763186771,
          428788.0448959584,
          1068127.1731320121,
          1190239.8250541147,
          192705.44248449456,
          12224263.058892747,
          128409.28276691546,
          1724765.3158669702,
          191201.98615636924,
          60704241.58121143
         ]
        },
        {
         "name": "Proposal: Building the Future of NFTs: The Rarible Protocol - Arbitrum Integration Proposal [REVISED]",
         "stackgroup": "one",
         "type": "scatter",
         "x": [
          0,
          1,
          2,
          3,
          4,
          5,
          6,
          7,
          8,
          9,
          10,
          11,
          12,
          13,
          14,
          15,
          16,
          17,
          18,
          19,
          20,
          21,
          22,
          23
         ],
         "y": [
          520361.64305119216,
          284480.44910076004,
          402973.2406738488,
          4887407.83420417,
          207666.68184068677,
          181021.47074809382,
          429100.48371801525,
          344892.04609378945,
          488985.5308099645,
          311433.93967392726,
          491301.3860295403,
          5550973.312203198,
          609702.9817537788,
          273935.6924399214,
          12583180.794738654,
          36424749.65031798,
          28012848.211295452,
          304004.38010341744,
          1274178.8270562796,
          1942997.1608033697,
          3006445.1377416276,
          11217326.425469095,
          4336005.74858878,
          6692869.758924241,
          120778842.7873798
         ]
        },
        {
         "name": "Proposal: Security Council Elections Proposed Implementation Spec",
         "stackgroup": "one",
         "type": "scatter",
         "x": [
          0,
          1,
          2,
          3,
          4,
          5,
          6,
          7,
          8,
          9,
          10,
          11,
          12,
          13,
          14,
          15,
          16,
          17,
          18,
          19,
          20,
          21,
          22,
          23
         ],
         "y": [
          347933.44900936435,
          1299820.3876127603,
          647665.4225182771,
          260087.9951307723,
          211617.15957027068,
          6014733.214394759,
          455283.4137969539,
          335063.19012419455,
          531013.130386994,
          425916.36637852754,
          1309026.3573332184,
          270685.6828163282,
          3356340.987011435,
          929735.2368123817,
          1130207.7516666907,
          8874619.55850706,
          344605.6672507975,
          383115.569945696,
          369105.82680001814,
          14160371.612382395,
          7885218.522008624,
          15612489.085256731,
          5020081.088767422,
          10744911.024554001,
          80919647.70003566
         ]
        },
        {
         "name": "Proposal: Update Security Council Election Start Date to Ensure Time for Security Audit",
         "stackgroup": "one",
         "type": "scatter",
         "x": [
          0,
          1,
          2,
          3,
          4,
          5,
          6,
          7,
          8,
          9,
          10,
          11,
          12,
          13,
          14,
          15,
          16,
          17,
          18,
          19,
          20,
          21,
          22,
          23
         ],
         "y": [
          1619176.143841744,
          237055.99104735063,
          265345.85598703864,
          1153050.7121472654,
          210960.89286682132,
          3446679.898825547,
          8395751.717874637,
          573499.5977101809,
          553612.7218104578,
          8824567.441092119,
          389059.9487461817,
          324877.64992091,
          1378405.5664978328,
          571080.9605687788,
          1805704.503859346,
          14960409.495890237,
          29129457.988568787,
          1572832.3373359342,
          388076.5910681163,
          459401.11120068224,
          5277651.485507271,
          798015.7218537496,
          1106953.8852189872,
          107042.61426198631,
          83548670.83370194
         ]
        },
        {
         "name": "QiDao STIP Proposal - Round 1",
         "stackgroup": "one",
         "type": "scatter",
         "x": [
          0,
          1,
          2,
          3,
          4,
          5,
          6,
          7,
          8,
          9,
          10,
          11,
          12,
          13,
          14,
          15,
          16,
          17,
          18,
          19,
          20,
          21,
          22,
          23
         ],
         "y": [
          562114.8561396631,
          1743396.74979261,
          11622957.611271882,
          16545219.283626955,
          149079.02104542655,
          1066521.2739855263,
          675020.7719743703,
          3214177.355184461,
          198339.08162361776,
          1371127.1356017506,
          1847474.5315278764,
          138215.02602195845,
          515704.61170974444,
          18857058.84040386,
          15494055.154528355,
          176484.0425276587,
          5033720.774203634,
          1009981.7773736445,
          89466.09510991155,
          2835540.2207791964,
          28564961.262742743,
          8281539.36783776,
          1411701.2574558677,
          74228.4347731261,
          121478084.5372416
         ]
        },
        {
         "name": "Quadrat STIP Proposal - Round 1",
         "stackgroup": "one",
         "type": "scatter",
         "x": [
          0,
          1,
          2,
          3,
          4,
          5,
          6,
          7,
          8,
          9,
          10,
          11,
          12,
          13,
          14,
          15,
          16,
          17,
          18,
          19,
          20,
          21,
          22,
          23
         ],
         "y": [
          54181.92741782568,
          1157644.4665913563,
          107147.6609980312,
          12737046.828043273,
          162665.676304164,
          4121845.687387793,
          664587.4383444035,
          3649617.4352258937,
          1030599.8026426696,
          281656.8644478629,
          2002680.7504261252,
          768407.203017952,
          415362.5698103999,
          18858455.014404505,
          15000084.795564348,
          652129.856348846,
          792320.8772095273,
          998249.6622098946,
          991958.976677194,
          1109017.8488783524,
          31555323.29031781,
          16466441.240283253,
          61994.89602991399,
          225599.2862623458,
          113865020.05484375
         ]
        },
        {
         "name": "RADIANT STIP Proposal - Round 1",
         "stackgroup": "one",
         "type": "scatter",
         "x": [
          0,
          1,
          2,
          3,
          4,
          5,
          6,
          7,
          8,
          9,
          10,
          11,
          12,
          13,
          14,
          15,
          16,
          17,
          18,
          19,
          20,
          21,
          22,
          23
         ],
         "y": [
          1050686.6865833644,
          5407583.2806311045,
          12482637.534459682,
          17853922.989290386,
          1343648.7874156537,
          102091.65450721681,
          13177993.649578836,
          1128783.7673908235,
          2217885.5756514445,
          195962.35991039145,
          4385545.442614711,
          18938518.157146066,
          13471188.703607148,
          1050774.6851012814,
          10363382.479594877,
          28760607.148314435,
          193012.00426705013,
          13672878.622089867,
          3076351.33887305,
          27536266.62858468,
          1016702.7690749746,
          2805537.05684487,
          3583703.1272052904,
          1695372.7417344488,
          185511037.19047165
         ]
        },
        {
         "name": "RAMSES STIP Proposal - Round 1",
         "stackgroup": "one",
         "type": "scatter",
         "x": [
          0,
          1,
          2,
          3,
          4,
          5,
          6,
          7,
          8,
          9,
          10,
          11,
          12,
          13,
          14,
          15,
          16,
          17,
          18,
          19,
          20,
          21,
          22,
          23
         ],
         "y": [
          2267638.8172864397,
          2793045.943116907,
          38269.75405434554,
          562178.6736070274,
          689374.6300012418,
          3200853.306656081,
          336582.4829866902,
          191787.51813815685,
          1934009.6979480735,
          192343.0346635006,
          256101.72508992866,
          4015932.5471375333,
          32083425.95344314,
          220938.5022625284,
          15005670.799627015,
          5242916.008384988,
          3841314.4684473844,
          963241.3479250232,
          2928800.9511592607,
          611940.384332175,
          27887552.23951631,
          6810040.279609893,
          1756183.8727515698,
          24216917.619422726,
          138047060.55756792
         ]
        },
        {
         "name": "REALM STIP Proposal - Round 1",
         "stackgroup": "one",
         "type": "scatter",
         "x": [
          0,
          1,
          2,
          3,
          4,
          5,
          6,
          7,
          8,
          9,
          10,
          11,
          12,
          13,
          14,
          15,
          16,
          17,
          18,
          19,
          20,
          21,
          22,
          23
         ],
         "y": [
          48924.078068899034,
          17262898.084877014,
          15210562.754183147,
          545524.9997387978,
          158090.06029304623,
          14932079.910946565,
          673337.4143831916,
          7589242.216769932,
          1031523.6441586848,
          1223092.3411230803,
          4619810.78745398,
          1061801.6235950077,
          546945.8104425309,
          158116.16023051107,
          618046.595076397,
          174796.67660901792,
          101098.4754658163,
          2561204.9235714963,
          27746214.040480074,
          20521742.07638456,
          1747893.865333729,
          17353079.95522448,
          62762.53772268929,
          79227.36700631354,
          136028016.39913896
         ]
        },
        {
         "name": "RabbitHole STIP Proposal - Round 1",
         "stackgroup": "one",
         "type": "scatter",
         "x": [
          0,
          1,
          2,
          3,
          4,
          5,
          6,
          7,
          8,
          9,
          10,
          11,
          12,
          13,
          14,
          15,
          16,
          17,
          18,
          19,
          20,
          21,
          22,
          23
         ],
         "y": [
          879485.2281884232,
          14840630.566574952,
          20083932.350277726,
          640877.0079314965,
          694058.3476355185,
          103439.01135965096,
          2859040.826399859,
          7685238.259000547,
          1913531.8527732948,
          310066.0318642652,
          280103.30720618705,
          205550.91814164052,
          794166.2168627733,
          19710110.819581535,
          8405248.560268119,
          21506412.343636714,
          33002864.135171372,
          157301.83488927686,
          283051.8001754271,
          1120869.8387325036,
          2519046.070098562,
          7605638.378942725,
          8348753.735677198,
          11970752.094559077,
          165920169.5359488
         ]
        },
        {
         "name": "Range Protocol STIP Proposal - Round 1",
         "stackgroup": "one",
         "type": "scatter",
         "x": [
          0,
          1,
          2,
          3,
          4,
          5,
          6,
          7,
          8,
          9,
          10,
          11,
          12,
          13,
          14,
          15,
          16,
          17,
          18,
          19,
          20,
          21,
          22,
          23
         ],
         "y": [
          15638569.186512878,
          13100300.344797442,
          977291.9133849124,
          548934.9396872992,
          696876.5048498417,
          97840.25097681362,
          330209.78954998293,
          3741788.030906316,
          3818659.244426854,
          4252077.571803509,
          117392.09305117528,
          514905.90885980736,
          389088.96872534015,
          431867.2096915967,
          1218358.5813876996,
          1055149.6548973368,
          366405.56360361364,
          1008246.8502349531,
          122329.04599439466,
          1099229.287602673,
          51282886.2428651,
          16050147.7746013,
          62574.45916183325,
          83745.5905513877,
          117004875.00812405
         ]
        },
        {
         "name": "Relay Chain: James Bot STIP Proposal - Round 1",
         "stackgroup": "one",
         "type": "scatter",
         "x": [
          0,
          1,
          2,
          3,
          4,
          5,
          6,
          7,
          8,
          9,
          10,
          11,
          12,
          13,
          14,
          15,
          16,
          17,
          18,
          19,
          20,
          21,
          22,
          23
         ],
         "y": [
          562792.70882288,
          635729.2489212541,
          1016459.9734026082,
          12726654.950139996,
          4432885.954264176,
          3318880.091056769,
          868337.7344122974,
          3908880.986399751,
          178264.5922079621,
          1097819.404532466,
          1323918.997186223,
          1070471.1266630094,
          391735.60822920944,
          253412.26280117576,
          15387078.988111842,
          193119.2645049956,
          92899.144286641,
          977515.0313663045,
          219474.30854391155,
          1027153.977672229,
          50223923.805160746,
          12593806.658621054,
          837923.5026157028,
          79621.34896307252,
          113418759.66888627
         ]
        },
        {
         "name": "Rodeo Finance STIP Proposal - Round 1",
         "stackgroup": "one",
         "type": "scatter",
         "x": [
          0,
          1,
          2,
          3,
          4,
          5,
          6,
          7,
          8,
          9,
          10,
          11,
          12,
          13,
          14,
          15,
          16,
          17,
          18,
          19,
          20,
          21,
          22,
          23
         ],
         "y": [
          1357929.9890063992,
          6225861.221201148,
          13595317.001781272,
          675748.184221434,
          19218472.57189676,
          1133754.5374200847,
          740319.9604324404,
          3403798.9318202576,
          636544.6959825716,
          1619154.5513167724,
          1444344.270208963,
          164910.8878558389,
          13036419.914360203,
          3918910.4101397526,
          231034.60805936047,
          200337.6520849383,
          29183424.537132617,
          8048783.746058396,
          233445.62023084634,
          2954138.3533478957,
          31927226.21118493,
          17514085.80014997,
          868779.5963135869,
          75399.76602383095,
          158408143.0182303
         ]
        },
        {
         "name": "Rysk STIP Proposal - Round 1",
         "stackgroup": "one",
         "type": "scatter",
         "x": [
          0,
          1,
          2,
          3,
          4,
          5,
          6,
          7,
          8,
          9,
          10,
          11,
          12,
          13,
          14,
          15,
          16,
          17,
          18,
          19,
          20,
          21,
          22,
          23
         ],
         "y": [
          529099.1992787711,
          10011117.688189102,
          17789466.71379171,
          3229824.2666242523,
          14927876.274562245,
          187424.5631804883,
          688215.5593357248,
          5105158.498512922,
          254931.13390722655,
          1966191.6353314845,
          5524360.824342623,
          242384.18449516868,
          5625982.701415861,
          600758.3034080472,
          1165260.8727471165,
          15174116.350884043,
          41242930.1676925,
          16450950.993291017,
          684198.8268745613,
          17806482.53534002,
          1020850.986522624,
          22824832.811385833,
          885601.4388310723,
          554268.1250184707,
          184492284.65496284
         ]
        },
        {
         "name": "Sanko GameCorp STIP Proposal - Round 1",
         "stackgroup": "one",
         "type": "scatter",
         "x": [
          0,
          1,
          2,
          3,
          4,
          5,
          6,
          7,
          8,
          9,
          10,
          11,
          12,
          13,
          14,
          15,
          16,
          17,
          18,
          19,
          20,
          21,
          22,
          23
         ],
         "y": [
          1292680.725614082,
          1035304.9520212513,
          6813709.528808748,
          12432423.137047654,
          19224010.31334833,
          7356788.929624792,
          673509.8022792396,
          1065029.8963763595,
          1037874.3043092793,
          1623211.0622304757,
          859179.9287468058,
          188951.61975058675,
          26050320.520656392,
          621396.3436863571,
          4485760.603096278,
          309265.179893252,
          7526290.740781582,
          4290882.0689465115,
          2901087.8599252417,
          29502825.89501884,
          41130807.993867174,
          4499341.293870216,
          95566.72777551276,
          62540.14035114944,
          175078759.5680261
         ]
        },
        {
         "name": "Savvy STIP Proposal - Round 1",
         "stackgroup": "one",
         "type": "scatter",
         "x": [
          0,
          1,
          2,
          3,
          4,
          5,
          6,
          7,
          8,
          9,
          10,
          11,
          12,
          13,
          14,
          15,
          16,
          17,
          18,
          19,
          20,
          21,
          22,
          23
         ],
         "y": [
          5460976.213238177,
          6220803.79521044,
          38888.42214455817,
          5316680.959379796,
          659789.9835795125,
          119387.9053248819,
          327046.83614709676,
          7037144.5893704435,
          1914635.0282893954,
          1103991.634905883,
          245549.2000173253,
          143549.9180710292,
          17283536.926519267,
          5276594.315045321,
          16562505.779268589,
          532776.2582825961,
          2221004.470257407,
          17295274.66462514,
          7264593.221837699,
          5441910.698913947,
          19739366.810499977,
          33684865.33451815,
          1567672.814875982,
          25132474.623924043,
          180591020.40424666
         ]
        },
        {
         "name": "Shell Protocol STIP Proposal - Round 1",
         "stackgroup": "one",
         "type": "scatter",
         "x": [
          0,
          1,
          2,
          3,
          4,
          5,
          6,
          7,
          8,
          9,
          10,
          11,
          12,
          13,
          14,
          15,
          16,
          17,
          18,
          19,
          20,
          21,
          22,
          23
         ],
         "y": [
          155297.59168268988,
          13093334.875661427,
          2871331.340522625,
          573913.4874634757,
          690822.1339524556,
          4438339.075886725,
          305213.6822494013,
          224524.5984567437,
          1935176.6379469116,
          353468.65972275246,
          102766.10870661016,
          361682.0840329835,
          710919.7998544548,
          300495.5179273919,
          34645309.735927925,
          1937960.1459142258,
          27685988.57675154,
          1003470.6936540965,
          149964.50611393774,
          516046.9429036887,
          117984.5332400005,
          5696351.7736560805,
          2896064.3556008977,
          17006189.01857549,
          117772615.87640452
         ]
        },
        {
         "name": "Silo Finance STIP Proposal - Round 1",
         "stackgroup": "one",
         "type": "scatter",
         "x": [
          0,
          1,
          2,
          3,
          4,
          5,
          6,
          7,
          8,
          9,
          10,
          11,
          12,
          13,
          14,
          15,
          16,
          17,
          18,
          19,
          20,
          21,
          22,
          23
         ],
         "y": [
          810788.2087434451,
          18807269.613672446,
          1310903.9731656327,
          14888198.353181828,
          14922316.935523866,
          5421276.288264425,
          957823.3047002312,
          6471552.701507909,
          626810.8214998094,
          2261980.636019635,
          848666.2889253245,
          345527.25924028445,
          17464255.827217285,
          20138538.009580363,
          4240208.932234126,
          3102260.044626461,
          33719291.83283492,
          8202422.504171364,
          7785645.347251119,
          15658841.634216694,
          13130143.313916985,
          7308990.577801711,
          101014.4831495309,
          78026.08508214088,
          198602752.9765275
         ]
        },
        {
         "name": "Socket STIP Proposal - Round 1",
         "stackgroup": "one",
         "type": "scatter",
         "x": [
          0,
          1,
          2,
          3,
          4,
          5,
          6,
          7,
          8,
          9,
          10,
          11,
          12,
          13,
          14,
          15,
          16,
          17,
          18,
          19,
          20,
          21,
          22,
          23
         ],
         "y": [
          86507.87616369175,
          5358145.744039811,
          27370303.69580627,
          3095081.8019569395,
          4436726.611137795,
          3314438.827302151,
          320043.4961963333,
          1263373.035077419,
          180558.85588598403,
          1082851.3168829086,
          6362512.838022379,
          13380293.258492792,
          22996042.963469923,
          1629531.3832445217,
          9734720.450186322,
          6783860.568997288,
          28942689.06589038,
          5481326.084750409,
          2919702.8411585744,
          2736378.78550374,
          2702641.73696297,
          13770932.918832773,
          15665971.567269418,
          18651195.75247721,
          198265831.475708
         ]
        },
        {
         "name": "Solv Protocol STIP Proposal - Round 1",
         "stackgroup": "one",
         "type": "scatter",
         "x": [
          0,
          1,
          2,
          3,
          4,
          5,
          6,
          7,
          8,
          9,
          10,
          11,
          12,
          13,
          14,
          15,
          16,
          17,
          18,
          19,
          20,
          21,
          22,
          23
         ],
         "y": [
          840311.5395912856,
          2842060.2731468375,
          1676436.0264657093,
          550017.8372255892,
          14928854.857328711,
          128914.95998302195,
          3121863.8187866756,
          3996234.314153348,
          1025419.9488340659,
          290042.28435309394,
          1452850.2097313758,
          1072842.8204573223,
          539671.5352861916,
          1070907.934912053,
          13489012.268925266,
          430813.887449538,
          104868.68544080154,
          1678457.1275530842,
          4166050.4401324405,
          1132621.913934953,
          23066921.200406767,
          42414853.54513587,
          12269035.060876423,
          71095.85942449918,
          132360158.34953493
         ]
        },
        {
         "name": "SpartaDEX STIP Proposal - Round 1",
         "stackgroup": "one",
         "type": "scatter",
         "x": [
          0,
          1,
          2,
          3,
          4,
          5,
          6,
          7,
          8,
          9,
          10,
          11,
          12,
          13,
          14,
          15,
          16,
          17,
          18,
          19,
          20,
          21,
          22,
          23
         ],
         "y": [
          581764.0418634025,
          362072.27267241885,
          45013.70981097419,
          606580.2551211537,
          642902.0054847115,
          99883.48946850726,
          326343.5351694815,
          3005330.065328061,
          1939846.7800090876,
          193401.68668374093,
          140473.24578937783,
          265508.23172126163,
          735872.5749123977,
          210373.81141298637,
          34974647.29988571,
          1271465.6163076288,
          136621.540863431,
          975271.0752175142,
          356433.6951737454,
          1025556.9537809164,
          31553774.905865315,
          6096760.200956304,
          1210994.0874487811,
          22635067.76320435,
          109391958.84415126
         ]
        },
        {
         "name": "StakeDAO STIP Proposal - Round 1",
         "stackgroup": "one",
         "type": "scatter",
         "x": [
          0,
          1,
          2,
          3,
          4,
          5,
          6,
          7,
          8,
          9,
          10,
          11,
          12,
          13,
          14,
          15,
          16,
          17,
          18,
          19,
          20,
          21,
          22,
          23
         ],
         "y": [
          360686.21497894055,
          1598749.0203591073,
          667613.788327704,
          15310134.67387198,
          155845.2799320545,
          1056634.0958421526,
          660759.4983032548,
          409399.8506262865,
          1040698.9326844213,
          2221066.733027564,
          944455.032224743,
          2691537.380982602,
          430613.3565382208,
          237489.0203143837,
          812465.0185949525,
          187784.93226675366,
          5824573.902459049,
          2603361.926555449,
          3010888.1270735445,
          13325553.288918355,
          50640892.96689327,
          12166216.802437147,
          1756557.2525792392,
          7712859.2597602615,
          125826836.35555144
         ]
        },
        {
         "name": "Stargate Finance STIP Proposal - Round 1",
         "stackgroup": "one",
         "type": "scatter",
         "x": [
          0,
          1,
          2,
          3,
          4,
          5,
          6,
          7,
          8,
          9,
          10,
          11,
          12,
          13,
          14,
          15,
          16,
          17,
          18,
          19,
          20,
          21,
          22,
          23
         ],
         "y": [
          56099.58944340174,
          5672081.444209956,
          1636898.0704940662,
          12773196.924753297,
          4904493.496318859,
          137977.65106925616,
          312982.02135713917,
          802764.0755901727,
          734953.4565988416,
          1043374.9140813284,
          6478960.386943483,
          23703674.79866253,
          861234.648713035,
          990365.694206354,
          44557498.64769898,
          212015.9909683764,
          5480224.69070741,
          997218.5676274131,
          3057148.3333297763,
          15375844.226106593,
          2623696.930002409,
          4691729.799298477,
          91658.32185232869,
          19368316.937378384,
          156564409.61741188
         ]
        },
        {
         "name": "Stella STIP Proposal - Round 1",
         "stackgroup": "one",
         "type": "scatter",
         "x": [
          0,
          1,
          2,
          3,
          4,
          5,
          6,
          7,
          8,
          9,
          10,
          11,
          12,
          13,
          14,
          15,
          16,
          17,
          18,
          19,
          20,
          21,
          22,
          23
         ],
         "y": [
          1415054.4875158942,
          5684653.215346539,
          14229826.46932945,
          13462628.903185476,
          19524098.9638277,
          4388073.97485703,
          330947.206285709,
          3888404.914647228,
          3972873.4638526216,
          185364.52708271806,
          4349770.727934595,
          618930.2922467568,
          13198128.389758643,
          1296322.922043449,
          12996510.245156487,
          4364176.529442884,
          33197434.373831972,
          1463308.9150363933,
          656399.2311917843,
          603592.4304483961,
          20136156.065863393,
          4060417.020689431,
          862153.7351248406,
          18860903.278617986,
          183746130.28331736
         ]
        },
        {
         "name": "Synapse Protocol STIP Proposal - Round 1",
         "stackgroup": "one",
         "type": "scatter",
         "x": [
          0,
          1,
          2,
          3,
          4,
          5,
          6,
          7,
          8,
          9,
          10,
          11,
          12,
          13,
          14,
          15,
          16,
          17,
          18,
          19,
          20,
          21,
          22,
          23
         ],
         "y": [
          1361947.6512078058,
          5028687.697335727,
          1327072.7287678958,
          12868394.14801425,
          4481308.503915143,
          1106790.2559085353,
          1028209.2325229753,
          7227172.358001003,
          1482526.2525675693,
          2441529.584665737,
          4873521.754544276,
          4303213.043212834,
          32329990.949616242,
          10247632.191984788,
          15878853.711968625,
          1964262.2061094984,
          155708.8960049281,
          7743189.588184146,
          1117145.8321087565,
          15697319.715995964,
          33616408.47454166,
          130201.38734808427,
          2848549.790460043,
          25420459.806211326,
          194680095.7611978
         ]
        },
        {
         "name": "TIDE STIP Proposal - Round 1",
         "stackgroup": "one",
         "type": "scatter",
         "x": [
          0,
          1,
          2,
          3,
          4,
          5,
          6,
          7,
          8,
          9,
          10,
          11,
          12,
          13,
          14,
          15,
          16,
          17,
          18,
          19,
          20,
          21,
          22,
          23
         ],
         "y": [
          1408706.4559384005,
          358472.14275862905,
          12249331.0101217,
          4938379.867900734,
          15437812.442701856,
          7607040.823625632,
          327676.1195539118,
          2983216.3694927557,
          1262994.0697984872,
          186461.9520295928,
          99248.71357168206,
          504807.20821100037,
          527513.4742484658,
          6925792.700488204,
          13018817.223376866,
          317038.9500906365,
          1047180.9222394505,
          998781.1529446178,
          232574.0077378459,
          609581.0914515862,
          46757369.62623822,
          3359454.441806626,
          11236831.12659081,
          68105.06382002641,
          132463186.95673771
         ]
        },
        {
         "name": "Tales of Elleria STIP Proposal - Round 1",
         "stackgroup": "one",
         "type": "scatter",
         "x": [
          0,
          1,
          2,
          3,
          4,
          5,
          6,
          7,
          8,
          9,
          10,
          11,
          12,
          13,
          14,
          15,
          16,
          17,
          18,
          19,
          20,
          21,
          22,
          23
         ],
         "y": [
          66294.36844272123,
          12573935.483702136,
          14265062.04911205,
          4970950.111897194,
          2236870.830004653,
          3274145.3685616446,
          334062.59862993995,
          3493043.1066449555,
          1930705.7489211615,
          232344.92981709976,
          5175128.966867788,
          226483.1471947134,
          759725.6357284526,
          6760724.88108337,
          23931179.30303935,
          5400449.976965002,
          134971.92850552438,
          1090901.9665793884,
          28719662.650508866,
          1025280.1331662091,
          34271784.085660405,
          1103563.1406607868,
          2919570.4674873305,
          10431644.022083044,
          165328484.9012638
         ]
        },
        {
         "name": "Tally STIP Proposal - Round 1",
         "stackgroup": "one",
         "type": "scatter",
         "x": [
          0,
          1,
          2,
          3,
          4,
          5,
          6,
          7,
          8,
          9,
          10,
          11,
          12,
          13,
          14,
          15,
          16,
          17,
          18,
          19,
          20,
          21,
          22,
          23
         ],
         "y": [
          579974.8275613345,
          971840.9599594872,
          27384597.33449041,
          4914767.194191348,
          3768417.7010382465,
          126129.21952740515,
          304977.4864365475,
          676906.5759282608,
          1202142.8224170564,
          1132887.7597778626,
          240959.70751900514,
          791513.7078764564,
          464830.6626851937,
          2732661.5244136844,
          25515039.185360484,
          500642.7169844656,
          46138168.402963355,
          6718545.04938605,
          4374083.300031948,
          15332577.433762493,
          19720218.507349916,
          2594419.4516351055,
          14834497.135429293,
          586480.196146738,
          181607278.86287212
         ]
        },
        {
         "name": "Thales STIP Proposal - Round 1",
         "stackgroup": "one",
         "type": "scatter",
         "x": [
          0,
          1,
          2,
          3,
          4,
          5,
          6,
          7,
          8,
          9,
          10,
          11,
          12,
          13,
          14,
          15,
          16,
          17,
          18,
          19,
          20,
          21,
          22,
          23
         ],
         "y": [
          797260.1625316855,
          1588052.9101861017,
          2164580.9061988466,
          3397845.246554957,
          150897.40114726475,
          1103603.6077937088,
          735288.9948841964,
          591535.6828586762,
          612152.2546221435,
          1732817.3094170424,
          1291578.2215805382,
          172271.35690690298,
          525173.9269525748,
          16924687.44343237,
          243752.8429718571,
          7396724.187873583,
          36721860.94293115,
          23751334.891988896,
          16118680.194768775,
          21654486.83285686,
          276019.5689271735,
          10182895.245552653,
          5792892.292273399,
          81780.95760336798,
          154008173.3828147
         ]
        },
        {
         "name": "Thetanuts STIP Proposal - Round 1",
         "stackgroup": "one",
         "type": "scatter",
         "x": [
          0,
          1,
          2,
          3,
          4,
          5,
          6,
          7,
          8,
          9,
          10,
          11,
          12,
          13,
          14,
          15,
          16,
          17,
          18,
          19,
          20,
          21,
          22,
          23
         ],
         "y": [
          7010171.110582936,
          896562.0204008517,
          3268501.244972003,
          13130999.516595816,
          151727.96010059013,
          18321013.424914353,
          673656.3401505548,
          7271350.7780782925,
          5356454.278872,
          1384030.2787328013,
          1579158.2747738683,
          351107.1685163223,
          4642416.774258202,
          1368807.6069191494,
          15444519.457399184,
          285610.9960850604,
          960993.2827543033,
          1044209.7091892116,
          215533.3893417173,
          1861589.2781161242,
          21054227.526363995,
          46222890.87985895,
          54086.65559035324,
          629072.2686486996,
          153178690.22121534
         ]
        },
        {
         "name": "Time Management in ArbitrumÃÂÃÂ¢ÃÂÃÂÃÂÃÂs Governance",
         "stackgroup": "one",
         "type": "scatter",
         "x": [
          0,
          1,
          2,
          3,
          4,
          5,
          6,
          7,
          8,
          9,
          10,
          11,
          12,
          13,
          14,
          15,
          16,
          17,
          18,
          19,
          20,
          21,
          22,
          23
         ],
         "y": [
          124636.68858796112,
          3534724.3132075197,
          1069916.7654562003,
          816957.9809191831,
          213390.82154659813,
          180392.6785902258,
          401183.68197863695,
          406894.601518914,
          403140.2095694597,
          401824.46731357125,
          1297067.933572456,
          368185.3539360608,
          818155.5852538274,
          3662972.7255332265,
          2039249.0251247534,
          944738.8913290985,
          204716.3828693853,
          3157478.140784818,
          1740451.6889346754,
          609852.15942148,
          231465.08498466632,
          18048739.695307754,
          1359506.603736213,
          110878.13651558169,
          42146519.61599227
         ]
        },
        {
         "name": "Timeswap STIP Proposal - Round 1",
         "stackgroup": "one",
         "type": "scatter",
         "x": [
          0,
          1,
          2,
          3,
          4,
          5,
          6,
          7,
          8,
          9,
          10,
          11,
          12,
          13,
          14,
          15,
          16,
          17,
          18,
          19,
          20,
          21,
          22,
          23
         ],
         "y": [
          1207311.104486593,
          99902.08243520909,
          12766844.26629602,
          3646058.593388012,
          4561570.80524336,
          4275398.779216453,
          669122.6061354203,
          5390164.507482585,
          519446.9318781545,
          5608174.140148692,
          1393048.7649257095,
          174989.56642160277,
          7944568.796032048,
          13741588.907876592,
          2609750.2188324807,
          5825130.84903874,
          28710178.648088105,
          14655561.263410673,
          3427979.2270525233,
          2668091.1118151955,
          48095832.91464032,
          21735276.395989694,
          846241.8413959009,
          8884397.79449571,
          199456630.1167258
         ]
        },
        {
         "name": "Trader Joe STIP Proposal - Round 1",
         "stackgroup": "one",
         "type": "scatter",
         "x": [
          0,
          1,
          2,
          3,
          4,
          5,
          6,
          7,
          8,
          9,
          10,
          11,
          12,
          13,
          14,
          15,
          16,
          17,
          18,
          19,
          20,
          21,
          22,
          23
         ],
         "y": [
          3238510.1270815944,
          361554.4187870651,
          368807.1713368396,
          1081708.8832681777,
          5091039.3592593875,
          3184042.828208769,
          17962691.47724226,
          210751.36823857357,
          2357709.9119845843,
          462864.90696483036,
          1183985.8316353236,
          252521.2376313758,
          23504634.274881303,
          1281066.862756437,
          9527880.246590953,
          353346.0791781199,
          9205966.703485174,
          16323311.176711904,
          18451932.815289687,
          16740226.868332695,
          30148296.173414625,
          23162751.565031577,
          1922376.2740659108,
          6662531.463932943,
          193040508.02531013
         ]
        },
        {
         "name": "Umami STIP Proposal - Round 1",
         "stackgroup": "one",
         "type": "scatter",
         "x": [
          0,
          1,
          2,
          3,
          4,
          5,
          6,
          7,
          8,
          9,
          10,
          11,
          12,
          13,
          14,
          15,
          16,
          17,
          18,
          19,
          20,
          21,
          22,
          23
         ],
         "y": [
          1407711.2537960964,
          10714282.766594801,
          18637564.087643962,
          611586.4743336744,
          5559166.057127695,
          1021379.8497980386,
          25869673.31806901,
          4273453.624678414,
          2064436.3790297126,
          198908.8957083047,
          7396887.995823814,
          712701.9278914481,
          1535500.8604618325,
          23002181.666031986,
          1169169.9165333728,
          161052.75824317063,
          3685293.5504908054,
          14801609.789629396,
          5999128.14904183,
          6246319.407549622,
          43106223.15718752,
          2521090.2637620065,
          69723.78700259757,
          23175679.10834906,
          203940725.04477817
         ]
        },
        {
         "name": "UniDex STIP Proposal - Round 1",
         "stackgroup": "one",
         "type": "scatter",
         "x": [
          0,
          1,
          2,
          3,
          4,
          5,
          6,
          7,
          8,
          9,
          10,
          11,
          12,
          13,
          14,
          15,
          16,
          17,
          18,
          19,
          20,
          21,
          22,
          23
         ],
         "y": [
          924717.8566322359,
          5965465.931324784,
          1494255.596679626,
          931518.5213282722,
          4826659.563314645,
          4211470.457080205,
          846781.1766957124,
          434140.2839626978,
          900570.6458588662,
          2315363.7623401294,
          238039.94404197007,
          527148.6863927958,
          446611.2698357963,
          20250363.772920024,
          15642283.153204087,
          990625.8845985311,
          182430.61576087103,
          566744.0668224018,
          1556001.8980208687,
          2869107.789533323,
          43826658.69872466,
          12360246.737376655,
          126683.75499228651,
          89034.66500078919,
          122522924.73244224
         ]
        },
        {
         "name": "Vaultka STIP Proposal - Round 1",
         "stackgroup": "one",
         "type": "scatter",
         "x": [
          0,
          1,
          2,
          3,
          4,
          5,
          6,
          7,
          8,
          9,
          10,
          11,
          12,
          13,
          14,
          15,
          16,
          17,
          18,
          19,
          20,
          21,
          22,
          23
         ],
         "y": [
          498538.37111614516,
          866185.2425101516,
          561167.536997369,
          80157.29990529962,
          260079.2073022709,
          1061202.2432262544,
          665183.8186434837,
          3195573.815557019,
          1053685.7929984706,
          1230023.7319253564,
          2486511.7264915905,
          114613.1905995257,
          13432032.143462745,
          286020.92142612766,
          15028360.439002292,
          656394.7319837464,
          123788.96955869436,
          995198.4909757212,
          89659.4072699716,
          20668337.83507381,
          31566279.278304197,
          16465154.490033075,
          61794.15792620703,
          12275588.692748344,
          123721531.53503786
         ]
        },
        {
         "name": "Vela Exchange STIP Proposal - Round 1",
         "stackgroup": "one",
         "type": "scatter",
         "x": [
          0,
          1,
          2,
          3,
          4,
          5,
          6,
          7,
          8,
          9,
          10,
          11,
          12,
          13,
          14,
          15,
          16,
          17,
          18,
          19,
          20,
          21,
          22,
          23
         ],
         "y": [
          46879.65831899774,
          1169235.2152307741,
          975811.0024537505,
          561324.2435312994,
          263494.4496596337,
          143763.07842214743,
          311395.5264164584,
          4018960.4698978136,
          1582320.3505106699,
          1040740.9814294615,
          1259937.588536056,
          1133479.9007318711,
          4817625.28067853,
          18829652.987508014,
          625126.2034725198,
          213756.9891124501,
          27641397.363454413,
          970402.0684403297,
          250520.47173335677,
          21010579.535920978,
          14869947.738764768,
          25053115.813234784,
          5405241.626912812,
          94762.49307169318,
          132289471.03744358
         ]
        },
        {
         "name": "Vertex Protocol STIP Proposal - Round 1",
         "stackgroup": "one",
         "type": "scatter",
         "x": [
          0,
          1,
          2,
          3,
          4,
          5,
          6,
          7,
          8,
          9,
          10,
          11,
          12,
          13,
          14,
          15,
          16,
          17,
          18,
          19,
          20,
          21,
          22,
          23
         ],
         "y": [
          1574914.6679354203,
          12834277.076550147,
          4929639.425896421,
          936994.4911359067,
          602785.6496820954,
          1106471.516260691,
          726070.1467516313,
          3175743.4759714003,
          499886.29025461565,
          5679835.95643124,
          1457473.2179592126,
          27026452.05042842,
          13100067.054231113,
          3507020.867188825,
          50837472.90640327,
          1151794.0129756923,
          6155515.154931691,
          192032.61790902188,
          10615613.172122618,
          15641359.106793225,
          12743255.802119423,
          362704.0404964035,
          3422739.0638131117,
          2603864.763149878,
          180883982.5273915
         ]
        },
        {
         "name": "WINR Protocol STIP Proposal - Round 1",
         "stackgroup": "one",
         "type": "scatter",
         "x": [
          0,
          1,
          2,
          3,
          4,
          5,
          6,
          7,
          8,
          9,
          10,
          11,
          12,
          13,
          14,
          15,
          16,
          17,
          18,
          19,
          20,
          21,
          22,
          23
         ],
         "y": [
          8947383.420021877,
          600406.8883722201,
          42070.415664067325,
          3321729.9302038434,
          19717435.87559502,
          84662.93199135407,
          316435.69554356934,
          9114230.746757763,
          2355350.2310469863,
          1094807.97935848,
          121985.90958134898,
          246768.6334982241,
          4691767.292972434,
          3502059.6735363863,
          11185985.477682658,
          1187493.4591343019,
          34304336.40132569,
          11948976.297063477,
          13120585.30874374,
          20226292.08603502,
          2394729.460427586,
          88798.19066349504,
          516571.1360122227,
          35308763.320261404,
          184439626.76149315
         ]
        },
        {
         "name": "WOOFi STIP Proposal - Round 1",
         "stackgroup": "one",
         "type": "scatter",
         "x": [
          0,
          1,
          2,
          3,
          4,
          5,
          6,
          7,
          8,
          9,
          10,
          11,
          12,
          13,
          14,
          15,
          16,
          17,
          18,
          19,
          20,
          21,
          22,
          23
         ],
         "y": [
          5535893.706565972,
          11113288.214038033,
          18595864.26986143,
          3559567.944098226,
          4198383.405379929,
          4127940.237952374,
          667347.8977150889,
          4565842.548132066,
          5403229.392250202,
          1227426.0890788285,
          1867141.5458691833,
          7015349.7839707,
          531613.2860663943,
          19688513.707781546,
          16444926.770788092,
          311779.1134191695,
          2532009.875675234,
          144099.96273904364,
          11658780.192732954,
          3153608.5042853593,
          34592822.06370502,
          18914406.227923814,
          144700.97695779576,
          234805.16700400718,
          176229340.8839905
         ]
        },
        {
         "name": "Webacy STIP Proposal - Round 1",
         "stackgroup": "one",
         "type": "scatter",
         "x": [
          0,
          1,
          2,
          3,
          4,
          5,
          6,
          7,
          8,
          9,
          10,
          11,
          12,
          13,
          14,
          15,
          16,
          17,
          18,
          19,
          20,
          21,
          22,
          23
         ],
         "y": [
          884495.7432250085,
          5504534.725646396,
          977483.2524181795,
          1130629.3028004994,
          692787.4725188367,
          98986.96613909054,
          326082.23022962,
          2993622.0411709393,
          1099081.4876224503,
          349678.8123680933,
          100635.13282298707,
          194829.5641793894,
          395819.7431709983,
          19090440.278786063,
          15963907.446926387,
          607989.0646829093,
          216701.02714413125,
          138399.66122162875,
          971757.0706797903,
          1104595.7312349346,
          36732763.343751475,
          25066849.909579918,
          791187.5557936659,
          412394.88669009105,
          115845652.4508035
         ]
        },
        {
         "name": "Wombat Exchange STIP Proposal - Round 1",
         "stackgroup": "one",
         "type": "scatter",
         "x": [
          0,
          1,
          2,
          3,
          4,
          5,
          6,
          7,
          8,
          9,
          10,
          11,
          12,
          13,
          14,
          15,
          16,
          17,
          18,
          19,
          20,
          21,
          22,
          23
         ],
         "y": [
          756840.7865332228,
          2293104.727126176,
          1275588.2037033322,
          674118.4420653565,
          142141.2819415139,
          1112800.4119949653,
          676098.3616691125,
          3402396.495812931,
          580447.4467717237,
          1618101.5616184415,
          1408780.2050723713,
          163490.41407440818,
          311184.2271936845,
          21902571.418924246,
          15486084.564671239,
          1188977.078095696,
          813823.2482690979,
          153243.26512906127,
          258789.23817093766,
          1996596.0657615208,
          43807139.26754869,
          4584852.141136644,
          12296565.8606048,
          619276.0734061346,
          117523010.78729531
         ]
        },
        {
         "name": "Wombex Finance STIP Proposal - Round 1",
         "stackgroup": "one",
         "type": "scatter",
         "x": [
          0,
          1,
          2,
          3,
          4,
          5,
          6,
          7,
          8,
          9,
          10,
          11,
          12,
          13,
          14,
          15,
          16,
          17,
          18,
          19,
          20,
          21,
          22,
          23
         ],
         "y": [
          49977.466958207995,
          5011061.763906396,
          1017189.3927029525,
          531069.7869935052,
          155121.62828449433,
          135091.38267670025,
          677016.2495508352,
          3656795.3695167713,
          1027821.7322292905,
          1254616.177023259,
          388495.54284498526,
          1080927.866625206,
          426034.25720091636,
          2698801.381119516,
          15401879.511019666,
          176337.76207050198,
          4319736.382325631,
          1662161.268018635,
          222039.76833602108,
          1126475.2549908834,
          54508186.57437675,
          12145698.980093613,
          12271697.637083068,
          70048.28384639071,
          120014281.41979419
         ]
        },
        {
         "name": "Wormhole STIP Proposal - Round 1",
         "stackgroup": "one",
         "type": "scatter",
         "x": [
          0,
          1,
          2,
          3,
          4,
          5,
          6,
          7,
          8,
          9,
          10,
          11,
          12,
          13,
          14,
          15,
          16,
          17,
          18,
          19,
          20,
          21,
          22,
          23
         ],
         "y": [
          298690.5898702053,
          1890377.1354432697,
          1025348.8525038388,
          544682.1931702446,
          161887.4248855675,
          4434147.187271602,
          669681.563823806,
          3196725.458046876,
          5239992.548148588,
          1711333.774461899,
          655343.0635392321,
          19468939.835812405,
          406005.4907048623,
          593442.1543616173,
          30237882.43248404,
          174486.68720252227,
          792837.100889698,
          10488089.871045964,
          223461.2736563492,
          5190694.6016079215,
          27685302.939509667,
          6818144.785583071,
          19184255.968359575,
          233097.67563231202,
          141324850.60801512
         ]
        },
        {
         "name": "XY STIP Proposal - Round 1",
         "stackgroup": "one",
         "type": "scatter",
         "x": [
          0,
          1,
          2,
          3,
          4,
          5,
          6,
          7,
          8,
          9,
          10,
          11,
          12,
          13,
          14,
          15,
          16,
          17,
          18,
          19,
          20,
          21,
          22,
          23
         ],
         "y": [
          66944.22995813518,
          878803.9292916582,
          41716.9357892142,
          560504.9693814986,
          667922.28439116,
          119293.15438066336,
          325264.3873083424,
          3928371.921211764,
          1912571.5914587823,
          340447.3711708585,
          92971.56525935425,
          122309.77684629864,
          749612.9075788142,
          234056.51570819906,
          15809759.654810002,
          514940.6372089182,
          1078985.4293861922,
          971977.8632176332,
          140800.02385259315,
          19268455.68770929,
          31545954.492171157,
          6251513.788445811,
          1571006.9715938163,
          22629118.823388577,
          109823304.91151874
         ]
        },
        {
         "name": "ZKasino STIP Proposal - Round 1",
         "stackgroup": "one",
         "type": "scatter",
         "x": [
          0,
          1,
          2,
          3,
          4,
          5,
          6,
          7,
          8,
          9,
          10,
          11,
          12,
          13,
          14,
          15,
          16,
          17,
          18,
          19,
          20,
          21,
          22,
          23
         ],
         "y": [
          845927.7915408106,
          17188079.90683519,
          882355.8351142518,
          4447129.695432674,
          4441520.617799272,
          4261687.929965273,
          1574239.6181915237,
          3267282.613522797,
          649682.6061968367,
          1713829.8895519394,
          1005573.9241703888,
          168545.45189324857,
          507946.71200994705,
          2103949.543192026,
          690844.4791662132,
          269887.23901791655,
          6309740.086886075,
          1450833.080960868,
          97488.93123738025,
          1142393.9038963665,
          58513687.49248966,
          4189928.8971712966,
          14840116.213295968,
          82551.31586010697,
          130645223.77539803
         ]
        },
        {
         "name": "[Non-Constitutional] Fund the Arbitrum Grants Framework Proposal Milestone 1",
         "stackgroup": "one",
         "type": "scatter",
         "x": [
          0,
          1,
          2,
          3,
          4,
          5,
          6,
          7,
          8,
          9,
          10,
          11,
          12,
          13,
          14,
          15,
          16,
          17,
          18,
          19,
          20,
          21,
          22,
          23
         ],
         "y": [
          1308782.9856912312,
          15004937.317302126,
          396142.6423224196,
          299677.2082186495,
          198472.96249891445,
          283391.067309734,
          266623.74935289915,
          511844.4350755852,
          12656544.9592595,
          1479083.234686583,
          268046.9783061548,
          374162.6236756998,
          998483.9650796338,
          3412000.711146001,
          18619723.622511804,
          8613298.96005544,
          7968170.905855344,
          6219832.759322219,
          10582537.017733697,
          1479003.7624101425,
          259169.63513231958,
          2950418.9510051943,
          6375548.062188195,
          182936.2602631255,
          100708834.77640261
         ]
        },
        {
         "name": "[Non-Constitutional]: Arbitrum Stable Treasury Endowment Program",
         "stackgroup": "one",
         "type": "scatter",
         "x": [
          0,
          1,
          2,
          3,
          4,
          5,
          6,
          7,
          8,
          9,
          10,
          11,
          12,
          13,
          14,
          15,
          16,
          17,
          18,
          19,
          20,
          21,
          22,
          23
         ],
         "y": [
          213776.93001742862,
          4682595.448184739,
          566158.730823044,
          5444551.978017059,
          81169.85757458917,
          267646.1237985888,
          138435.48777582616,
          101790.9719172352,
          668477.8972595765,
          14680481.218734195,
          21295163.46019478,
          11900410.191594468,
          166287.93091442416,
          557130.7907790408,
          2841120.5681096846,
          29591699.387801733,
          463705.91704251047,
          1305550.8847716798,
          194776.35270623537,
          8629777.422854804,
          9580624.802624298,
          161748.97549198245,
          9375886.207308205,
          9823182.48157297,
          132732150.0178691
         ]
        },
        {
         "name": "dForce STIP Proposal - Round 1",
         "stackgroup": "one",
         "type": "scatter",
         "x": [
          0,
          1,
          2,
          3,
          4,
          5,
          6,
          7,
          8,
          9,
          10,
          11,
          12,
          13,
          14,
          15,
          16,
          17,
          18,
          19,
          20,
          21,
          22,
          23
         ],
         "y": [
          836194.0956263711,
          1166368.3018860975,
          1015257.5917881791,
          14718077.786757687,
          149975.32267867174,
          7248421.812523102,
          3701413.096567519,
          221772.36608183017,
          1002428.2534899885,
          270819.7380499864,
          1318412.4919361405,
          1070364.6674285773,
          389900.9877160688,
          18927766.85850456,
          14937972.025365662,
          5350549.349266135,
          1481976.3399915828,
          972010.2368145353,
          230139.41043857444,
          2060514.045236285,
          29011489.43738228,
          20361772.078764476,
          13049163.884615535,
          82662.83475309372,
          139575423.01366293
         ]
        },
        {
         "name": "iZUMi STIP Proposal - Round 1",
         "stackgroup": "one",
         "type": "scatter",
         "x": [
          0,
          1,
          2,
          3,
          4,
          5,
          6,
          7,
          8,
          9,
          10,
          11,
          12,
          13,
          14,
          15,
          16,
          17,
          18,
          19,
          20,
          21,
          22,
          23
         ],
         "y": [
          1026477.665733437,
          5002438.137294621,
          1451511.6114181033,
          4364373.570190467,
          886736.4191058163,
          7676112.005796349,
          3552847.253317909,
          3173745.6579505065,
          3220237.4126955806,
          6340131.987027155,
          641419.9752807382,
          4341441.268793972,
          5077785.378463,
          10209747.386634732,
          15530380.27605518,
          1884411.1533469963,
          167858.70670337873,
          2743897.8623730834,
          2582254.167611786,
          2157004.2296247077,
          58549318.66503238,
          149192.80060873544,
          14021003.255087465,
          82326.25295829911,
          154832653.0991044
         ]
        },
        {
         "name": "tBTC STIP Proposal - Round 1",
         "stackgroup": "one",
         "type": "scatter",
         "x": [
          0,
          1,
          2,
          3,
          4,
          5,
          6,
          7,
          8,
          9,
          10,
          11,
          12,
          13,
          14,
          15,
          16,
          17,
          18,
          19,
          20,
          21,
          22,
          23
         ],
         "y": [
          32349.40846256805,
          1626642.3502751943,
          966129.7070751515,
          12770057.800032152,
          133233.10757839069,
          4434347.224068694,
          313870.2288864214,
          3556562.750485641,
          184445.34462266322,
          1031955.225735511,
          1318043.8926583915,
          515097.18478198466,
          1287415.991488819,
          535914.8603749074,
          34229728.926460706,
          635550.6600188297,
          105026.28364836932,
          965851.3709083628,
          233833.75135218742,
          1806821.201793928,
          31550784.843996987,
          12320460.707638536,
          56268.89637728497,
          86308.07677469043,
          110696699.79549636
         ]
        },
        {
         "name": "unshETH STIP Proposal - Round 1",
         "stackgroup": "one",
         "type": "scatter",
         "x": [
          0,
          1,
          2,
          3,
          4,
          5,
          6,
          7,
          8,
          9,
          10,
          11,
          12,
          13,
          14,
          15,
          16,
          17,
          18,
          19,
          20,
          21,
          22,
          23
         ],
         "y": [
          62299.21725782005,
          592262.508261144,
          147889.41715333442,
          564726.603683637,
          684977.1322132462,
          82805.39090456782,
          304062.39890075504,
          3014911.028301929,
          1907935.3538823393,
          189434.21236182255,
          109103.88322426786,
          198488.55697382335,
          693876.0012037535,
          238236.4683924692,
          1782931.7193910442,
          1204831.1428216128,
          4012723.766006771,
          1383967.1881788492,
          254664.4979010377,
          9304362.311363457,
          23508426.624692038,
          39851800.5155348,
          4575521.921319113,
          25197296.559119947,
          119867534.41904357
         ]
        }
       ],
       "layout": {
        "showlegend": false,
        "template": {
         "data": {
          "bar": [
           {
            "error_x": {
             "color": "#2a3f5f"
            },
            "error_y": {
             "color": "#2a3f5f"
            },
            "marker": {
             "line": {
              "color": "#E5ECF6",
              "width": 0.5
             },
             "pattern": {
              "fillmode": "overlay",
              "size": 10,
              "solidity": 0.2
             }
            },
            "type": "bar"
           }
          ],
          "barpolar": [
           {
            "marker": {
             "line": {
              "color": "#E5ECF6",
              "width": 0.5
             },
             "pattern": {
              "fillmode": "overlay",
              "size": 10,
              "solidity": 0.2
             }
            },
            "type": "barpolar"
           }
          ],
          "carpet": [
           {
            "aaxis": {
             "endlinecolor": "#2a3f5f",
             "gridcolor": "white",
             "linecolor": "white",
             "minorgridcolor": "white",
             "startlinecolor": "#2a3f5f"
            },
            "baxis": {
             "endlinecolor": "#2a3f5f",
             "gridcolor": "white",
             "linecolor": "white",
             "minorgridcolor": "white",
             "startlinecolor": "#2a3f5f"
            },
            "type": "carpet"
           }
          ],
          "choropleth": [
           {
            "colorbar": {
             "outlinewidth": 0,
             "ticks": ""
            },
            "type": "choropleth"
           }
          ],
          "contour": [
           {
            "colorbar": {
             "outlinewidth": 0,
             "ticks": ""
            },
            "colorscale": [
             [
              0,
              "#0d0887"
             ],
             [
              0.1111111111111111,
              "#46039f"
             ],
             [
              0.2222222222222222,
              "#7201a8"
             ],
             [
              0.3333333333333333,
              "#9c179e"
             ],
             [
              0.4444444444444444,
              "#bd3786"
             ],
             [
              0.5555555555555556,
              "#d8576b"
             ],
             [
              0.6666666666666666,
              "#ed7953"
             ],
             [
              0.7777777777777778,
              "#fb9f3a"
             ],
             [
              0.8888888888888888,
              "#fdca26"
             ],
             [
              1,
              "#f0f921"
             ]
            ],
            "type": "contour"
           }
          ],
          "contourcarpet": [
           {
            "colorbar": {
             "outlinewidth": 0,
             "ticks": ""
            },
            "type": "contourcarpet"
           }
          ],
          "heatmap": [
           {
            "colorbar": {
             "outlinewidth": 0,
             "ticks": ""
            },
            "colorscale": [
             [
              0,
              "#0d0887"
             ],
             [
              0.1111111111111111,
              "#46039f"
             ],
             [
              0.2222222222222222,
              "#7201a8"
             ],
             [
              0.3333333333333333,
              "#9c179e"
             ],
             [
              0.4444444444444444,
              "#bd3786"
             ],
             [
              0.5555555555555556,
              "#d8576b"
             ],
             [
              0.6666666666666666,
              "#ed7953"
             ],
             [
              0.7777777777777778,
              "#fb9f3a"
             ],
             [
              0.8888888888888888,
              "#fdca26"
             ],
             [
              1,
              "#f0f921"
             ]
            ],
            "type": "heatmap"
           }
          ],
          "heatmapgl": [
           {
            "colorbar": {
             "outlinewidth": 0,
             "ticks": ""
            },
            "colorscale": [
             [
              0,
              "#0d0887"
             ],
             [
              0.1111111111111111,
              "#46039f"
             ],
             [
              0.2222222222222222,
              "#7201a8"
             ],
             [
              0.3333333333333333,
              "#9c179e"
             ],
             [
              0.4444444444444444,
              "#bd3786"
             ],
             [
              0.5555555555555556,
              "#d8576b"
             ],
             [
              0.6666666666666666,
              "#ed7953"
             ],
             [
              0.7777777777777778,
              "#fb9f3a"
             ],
             [
              0.8888888888888888,
              "#fdca26"
             ],
             [
              1,
              "#f0f921"
             ]
            ],
            "type": "heatmapgl"
           }
          ],
          "histogram": [
           {
            "marker": {
             "pattern": {
              "fillmode": "overlay",
              "size": 10,
              "solidity": 0.2
             }
            },
            "type": "histogram"
           }
          ],
          "histogram2d": [
           {
            "colorbar": {
             "outlinewidth": 0,
             "ticks": ""
            },
            "colorscale": [
             [
              0,
              "#0d0887"
             ],
             [
              0.1111111111111111,
              "#46039f"
             ],
             [
              0.2222222222222222,
              "#7201a8"
             ],
             [
              0.3333333333333333,
              "#9c179e"
             ],
             [
              0.4444444444444444,
              "#bd3786"
             ],
             [
              0.5555555555555556,
              "#d8576b"
             ],
             [
              0.6666666666666666,
              "#ed7953"
             ],
             [
              0.7777777777777778,
              "#fb9f3a"
             ],
             [
              0.8888888888888888,
              "#fdca26"
             ],
             [
              1,
              "#f0f921"
             ]
            ],
            "type": "histogram2d"
           }
          ],
          "histogram2dcontour": [
           {
            "colorbar": {
             "outlinewidth": 0,
             "ticks": ""
            },
            "colorscale": [
             [
              0,
              "#0d0887"
             ],
             [
              0.1111111111111111,
              "#46039f"
             ],
             [
              0.2222222222222222,
              "#7201a8"
             ],
             [
              0.3333333333333333,
              "#9c179e"
             ],
             [
              0.4444444444444444,
              "#bd3786"
             ],
             [
              0.5555555555555556,
              "#d8576b"
             ],
             [
              0.6666666666666666,
              "#ed7953"
             ],
             [
              0.7777777777777778,
              "#fb9f3a"
             ],
             [
              0.8888888888888888,
              "#fdca26"
             ],
             [
              1,
              "#f0f921"
             ]
            ],
            "type": "histogram2dcontour"
           }
          ],
          "mesh3d": [
           {
            "colorbar": {
             "outlinewidth": 0,
             "ticks": ""
            },
            "type": "mesh3d"
           }
          ],
          "parcoords": [
           {
            "line": {
             "colorbar": {
              "outlinewidth": 0,
              "ticks": ""
             }
            },
            "type": "parcoords"
           }
          ],
          "pie": [
           {
            "automargin": true,
            "type": "pie"
           }
          ],
          "scatter": [
           {
            "fillpattern": {
             "fillmode": "overlay",
             "size": 10,
             "solidity": 0.2
            },
            "type": "scatter"
           }
          ],
          "scatter3d": [
           {
            "line": {
             "colorbar": {
              "outlinewidth": 0,
              "ticks": ""
             }
            },
            "marker": {
             "colorbar": {
              "outlinewidth": 0,
              "ticks": ""
             }
            },
            "type": "scatter3d"
           }
          ],
          "scattercarpet": [
           {
            "marker": {
             "colorbar": {
              "outlinewidth": 0,
              "ticks": ""
             }
            },
            "type": "scattercarpet"
           }
          ],
          "scattergeo": [
           {
            "marker": {
             "colorbar": {
              "outlinewidth": 0,
              "ticks": ""
             }
            },
            "type": "scattergeo"
           }
          ],
          "scattergl": [
           {
            "marker": {
             "colorbar": {
              "outlinewidth": 0,
              "ticks": ""
             }
            },
            "type": "scattergl"
           }
          ],
          "scattermapbox": [
           {
            "marker": {
             "colorbar": {
              "outlinewidth": 0,
              "ticks": ""
             }
            },
            "type": "scattermapbox"
           }
          ],
          "scatterpolar": [
           {
            "marker": {
             "colorbar": {
              "outlinewidth": 0,
              "ticks": ""
             }
            },
            "type": "scatterpolar"
           }
          ],
          "scatterpolargl": [
           {
            "marker": {
             "colorbar": {
              "outlinewidth": 0,
              "ticks": ""
             }
            },
            "type": "scatterpolargl"
           }
          ],
          "scatterternary": [
           {
            "marker": {
             "colorbar": {
              "outlinewidth": 0,
              "ticks": ""
             }
            },
            "type": "scatterternary"
           }
          ],
          "surface": [
           {
            "colorbar": {
             "outlinewidth": 0,
             "ticks": ""
            },
            "colorscale": [
             [
              0,
              "#0d0887"
             ],
             [
              0.1111111111111111,
              "#46039f"
             ],
             [
              0.2222222222222222,
              "#7201a8"
             ],
             [
              0.3333333333333333,
              "#9c179e"
             ],
             [
              0.4444444444444444,
              "#bd3786"
             ],
             [
              0.5555555555555556,
              "#d8576b"
             ],
             [
              0.6666666666666666,
              "#ed7953"
             ],
             [
              0.7777777777777778,
              "#fb9f3a"
             ],
             [
              0.8888888888888888,
              "#fdca26"
             ],
             [
              1,
              "#f0f921"
             ]
            ],
            "type": "surface"
           }
          ],
          "table": [
           {
            "cells": {
             "fill": {
              "color": "#EBF0F8"
             },
             "line": {
              "color": "white"
             }
            },
            "header": {
             "fill": {
              "color": "#C8D4E3"
             },
             "line": {
              "color": "white"
             }
            },
            "type": "table"
           }
          ]
         },
         "layout": {
          "annotationdefaults": {
           "arrowcolor": "#2a3f5f",
           "arrowhead": 0,
           "arrowwidth": 1
          },
          "autotypenumbers": "strict",
          "coloraxis": {
           "colorbar": {
            "outlinewidth": 0,
            "ticks": ""
           }
          },
          "colorscale": {
           "diverging": [
            [
             0,
             "#8e0152"
            ],
            [
             0.1,
             "#c51b7d"
            ],
            [
             0.2,
             "#de77ae"
            ],
            [
             0.3,
             "#f1b6da"
            ],
            [
             0.4,
             "#fde0ef"
            ],
            [
             0.5,
             "#f7f7f7"
            ],
            [
             0.6,
             "#e6f5d0"
            ],
            [
             0.7,
             "#b8e186"
            ],
            [
             0.8,
             "#7fbc41"
            ],
            [
             0.9,
             "#4d9221"
            ],
            [
             1,
             "#276419"
            ]
           ],
           "sequential": [
            [
             0,
             "#0d0887"
            ],
            [
             0.1111111111111111,
             "#46039f"
            ],
            [
             0.2222222222222222,
             "#7201a8"
            ],
            [
             0.3333333333333333,
             "#9c179e"
            ],
            [
             0.4444444444444444,
             "#bd3786"
            ],
            [
             0.5555555555555556,
             "#d8576b"
            ],
            [
             0.6666666666666666,
             "#ed7953"
            ],
            [
             0.7777777777777778,
             "#fb9f3a"
            ],
            [
             0.8888888888888888,
             "#fdca26"
            ],
            [
             1,
             "#f0f921"
            ]
           ],
           "sequentialminus": [
            [
             0,
             "#0d0887"
            ],
            [
             0.1111111111111111,
             "#46039f"
            ],
            [
             0.2222222222222222,
             "#7201a8"
            ],
            [
             0.3333333333333333,
             "#9c179e"
            ],
            [
             0.4444444444444444,
             "#bd3786"
            ],
            [
             0.5555555555555556,
             "#d8576b"
            ],
            [
             0.6666666666666666,
             "#ed7953"
            ],
            [
             0.7777777777777778,
             "#fb9f3a"
            ],
            [
             0.8888888888888888,
             "#fdca26"
            ],
            [
             1,
             "#f0f921"
            ]
           ]
          },
          "colorway": [
           "#636efa",
           "#EF553B",
           "#00cc96",
           "#ab63fa",
           "#FFA15A",
           "#19d3f3",
           "#FF6692",
           "#B6E880",
           "#FF97FF",
           "#FECB52"
          ],
          "font": {
           "color": "#2a3f5f"
          },
          "geo": {
           "bgcolor": "white",
           "lakecolor": "white",
           "landcolor": "#E5ECF6",
           "showlakes": true,
           "showland": true,
           "subunitcolor": "white"
          },
          "hoverlabel": {
           "align": "left"
          },
          "hovermode": "closest",
          "mapbox": {
           "style": "light"
          },
          "paper_bgcolor": "white",
          "plot_bgcolor": "#E5ECF6",
          "polar": {
           "angularaxis": {
            "gridcolor": "white",
            "linecolor": "white",
            "ticks": ""
           },
           "bgcolor": "#E5ECF6",
           "radialaxis": {
            "gridcolor": "white",
            "linecolor": "white",
            "ticks": ""
           }
          },
          "scene": {
           "xaxis": {
            "backgroundcolor": "#E5ECF6",
            "gridcolor": "white",
            "gridwidth": 2,
            "linecolor": "white",
            "showbackground": true,
            "ticks": "",
            "zerolinecolor": "white"
           },
           "yaxis": {
            "backgroundcolor": "#E5ECF6",
            "gridcolor": "white",
            "gridwidth": 2,
            "linecolor": "white",
            "showbackground": true,
            "ticks": "",
            "zerolinecolor": "white"
           },
           "zaxis": {
            "backgroundcolor": "#E5ECF6",
            "gridcolor": "white",
            "gridwidth": 2,
            "linecolor": "white",
            "showbackground": true,
            "ticks": "",
            "zerolinecolor": "white"
           }
          },
          "shapedefaults": {
           "line": {
            "color": "#2a3f5f"
           }
          },
          "ternary": {
           "aaxis": {
            "gridcolor": "white",
            "linecolor": "white",
            "ticks": ""
           },
           "baxis": {
            "gridcolor": "white",
            "linecolor": "white",
            "ticks": ""
           },
           "bgcolor": "#E5ECF6",
           "caxis": {
            "gridcolor": "white",
            "linecolor": "white",
            "ticks": ""
           }
          },
          "title": {
           "x": 0.05
          },
          "xaxis": {
           "automargin": true,
           "gridcolor": "white",
           "linecolor": "white",
           "ticks": "",
           "title": {
            "standoff": 15
           },
           "zerolinecolor": "white",
           "zerolinewidth": 2
          },
          "yaxis": {
           "automargin": true,
           "gridcolor": "white",
           "linecolor": "white",
           "ticks": "",
           "title": {
            "standoff": 15
           },
           "zerolinecolor": "white",
           "zerolinewidth": 2
          }
         }
        },
        "title": {
         "text": "Stream Graph of Hourly Voting Power for All Proposals"
        },
        "xaxis": {
         "title": {
          "text": "Hour of the Day"
         }
        },
        "yaxis": {
         "title": {
          "text": "Hourly Voting Power"
         }
        }
       }
      }
     },
     "metadata": {},
     "output_type": "display_data"
    }
   ],
   "source": [
    "# Create a list of unique proposal titles\n",
    "proposals = hourly_voting_power_pivot['proposal_title'].unique()\n",
    "\n",
    "# Create a stream graph\n",
    "fig = go.Figure()\n",
    "\n",
    "for proposal in proposals:\n",
    "    fig.add_trace(go.Scatter(\n",
    "        x=hourly_voting_power_pivot.columns[1:-1],  # Exclude 'proposal_title' column\n",
    "        y=hourly_voting_power_pivot[hourly_voting_power_pivot['proposal_title'] == proposal].iloc[:, 1:].values.flatten(),\n",
    "        stackgroup='one',\n",
    "        name=proposal\n",
    "    ))\n",
    "\n",
    "fig.update_layout(title='Stream Graph of Hourly Voting Power for All Proposals',\n",
    "                  xaxis_title='Hour of the Day',\n",
    "                  yaxis_title='Hourly Voting Power')\n",
    "\n",
    "fig.update_layout(showlegend=False)\n",
    "fig.show()\n",
    "fig.write_html(r'Graphs\\stream-hourly-voting-power.html')"
   ]
  },
  {
   "cell_type": "code",
   "execution_count": 62,
   "metadata": {},
   "outputs": [
    {
     "name": "stderr",
     "output_type": "stream",
     "text": [
      "f:\\Lampros\\Analysis of Delegates Voting Patterns in Arbitrum Proposals\\Analysis\\data_analysis\\lib\\site-packages\\ipykernel_launcher.py:14: FutureWarning:\n",
      "\n",
      "Dropping of nuisance columns in DataFrame reductions (with 'numeric_only=None') is deprecated; in a future version this will raise TypeError.  Select only valid columns before calling the reduction.\n",
      "\n"
     ]
    },
    {
     "data": {
      "text/html": [
       "<div>\n",
       "<style scoped>\n",
       "    .dataframe tbody tr th:only-of-type {\n",
       "        vertical-align: middle;\n",
       "    }\n",
       "\n",
       "    .dataframe tbody tr th {\n",
       "        vertical-align: top;\n",
       "    }\n",
       "\n",
       "    .dataframe thead th {\n",
       "        text-align: right;\n",
       "    }\n",
       "</style>\n",
       "<table border=\"1\" class=\"dataframe\">\n",
       "  <thead>\n",
       "    <tr style=\"text-align: right;\">\n",
       "      <th>hour</th>\n",
       "      <th>date</th>\n",
       "      <th>proposal_title</th>\n",
       "      <th>0</th>\n",
       "      <th>1</th>\n",
       "      <th>2</th>\n",
       "      <th>3</th>\n",
       "      <th>4</th>\n",
       "      <th>5</th>\n",
       "      <th>6</th>\n",
       "      <th>7</th>\n",
       "      <th>...</th>\n",
       "      <th>15</th>\n",
       "      <th>16</th>\n",
       "      <th>17</th>\n",
       "      <th>18</th>\n",
       "      <th>19</th>\n",
       "      <th>20</th>\n",
       "      <th>21</th>\n",
       "      <th>22</th>\n",
       "      <th>23</th>\n",
       "      <th>Total</th>\n",
       "    </tr>\n",
       "  </thead>\n",
       "  <tbody>\n",
       "    <tr>\n",
       "      <th>0</th>\n",
       "      <td>2023-03-27</td>\n",
       "      <td>AIP-1: Arbitrum Improvement Proposal Framework</td>\n",
       "      <td>NaN</td>\n",
       "      <td>NaN</td>\n",
       "      <td>NaN</td>\n",
       "      <td>NaN</td>\n",
       "      <td>NaN</td>\n",
       "      <td>NaN</td>\n",
       "      <td>NaN</td>\n",
       "      <td>NaN</td>\n",
       "      <td>...</td>\n",
       "      <td>NaN</td>\n",
       "      <td>NaN</td>\n",
       "      <td>NaN</td>\n",
       "      <td>NaN</td>\n",
       "      <td>NaN</td>\n",
       "      <td>NaN</td>\n",
       "      <td>NaN</td>\n",
       "      <td>0.000000</td>\n",
       "      <td>0.000000e+00</td>\n",
       "      <td>0.000000e+00</td>\n",
       "    </tr>\n",
       "    <tr>\n",
       "      <th>1</th>\n",
       "      <td>2023-03-28</td>\n",
       "      <td>AIP-1: Arbitrum Improvement Proposal Framework</td>\n",
       "      <td>0.000000</td>\n",
       "      <td>0.000000e+00</td>\n",
       "      <td>0.000000</td>\n",
       "      <td>0.000000e+00</td>\n",
       "      <td>0.000000</td>\n",
       "      <td>0.000000</td>\n",
       "      <td>0.000000</td>\n",
       "      <td>0.000000e+00</td>\n",
       "      <td>...</td>\n",
       "      <td>0.000000e+00</td>\n",
       "      <td>0.000000e+00</td>\n",
       "      <td>0.000000</td>\n",
       "      <td>0.000000</td>\n",
       "      <td>0.000000e+00</td>\n",
       "      <td>0.000000e+00</td>\n",
       "      <td>0.000000</td>\n",
       "      <td>0.000000</td>\n",
       "      <td>0.000000e+00</td>\n",
       "      <td>0.000000e+00</td>\n",
       "    </tr>\n",
       "    <tr>\n",
       "      <th>2</th>\n",
       "      <td>2023-03-29</td>\n",
       "      <td>AIP-1: Arbitrum Improvement Proposal Framework</td>\n",
       "      <td>0.000000</td>\n",
       "      <td>0.000000e+00</td>\n",
       "      <td>0.000000</td>\n",
       "      <td>0.000000e+00</td>\n",
       "      <td>0.000000</td>\n",
       "      <td>0.000000</td>\n",
       "      <td>0.000000</td>\n",
       "      <td>0.000000e+00</td>\n",
       "      <td>...</td>\n",
       "      <td>0.000000e+00</td>\n",
       "      <td>0.000000e+00</td>\n",
       "      <td>4.791568</td>\n",
       "      <td>6.603058</td>\n",
       "      <td>0.000000e+00</td>\n",
       "      <td>0.000000e+00</td>\n",
       "      <td>0.000000</td>\n",
       "      <td>0.000000</td>\n",
       "      <td>0.000000e+00</td>\n",
       "      <td>1.139463e+01</td>\n",
       "    </tr>\n",
       "    <tr>\n",
       "      <th>3</th>\n",
       "      <td>2023-03-30</td>\n",
       "      <td>AIP-1: Arbitrum Improvement Proposal Framework</td>\n",
       "      <td>6580.053365</td>\n",
       "      <td>2.348949e+05</td>\n",
       "      <td>937431.918465</td>\n",
       "      <td>7.282673e+05</td>\n",
       "      <td>705013.045709</td>\n",
       "      <td>570957.200386</td>\n",
       "      <td>601473.006286</td>\n",
       "      <td>1.048590e+06</td>\n",
       "      <td>...</td>\n",
       "      <td>4.027248e+05</td>\n",
       "      <td>2.443937e+05</td>\n",
       "      <td>322862.335104</td>\n",
       "      <td>160366.650980</td>\n",
       "      <td>1.008695e+05</td>\n",
       "      <td>1.301815e+05</td>\n",
       "      <td>94661.438925</td>\n",
       "      <td>122756.710479</td>\n",
       "      <td>5.920254e+04</td>\n",
       "      <td>1.002818e+07</td>\n",
       "    </tr>\n",
       "    <tr>\n",
       "      <th>4</th>\n",
       "      <td>2023-03-31</td>\n",
       "      <td>AIP-1: Arbitrum Improvement Proposal Framework</td>\n",
       "      <td>156705.739765</td>\n",
       "      <td>2.154558e+05</td>\n",
       "      <td>321311.087445</td>\n",
       "      <td>1.998486e+05</td>\n",
       "      <td>122702.476201</td>\n",
       "      <td>135168.005455</td>\n",
       "      <td>128371.130134</td>\n",
       "      <td>1.037739e+05</td>\n",
       "      <td>...</td>\n",
       "      <td>1.099875e+05</td>\n",
       "      <td>2.289850e+06</td>\n",
       "      <td>61219.221320</td>\n",
       "      <td>46491.735942</td>\n",
       "      <td>1.425958e+05</td>\n",
       "      <td>6.299895e+04</td>\n",
       "      <td>216886.177572</td>\n",
       "      <td>26325.795069</td>\n",
       "      <td>4.454298e+04</td>\n",
       "      <td>5.250821e+06</td>\n",
       "    </tr>\n",
       "    <tr>\n",
       "      <th>...</th>\n",
       "      <td>...</td>\n",
       "      <td>...</td>\n",
       "      <td>...</td>\n",
       "      <td>...</td>\n",
       "      <td>...</td>\n",
       "      <td>...</td>\n",
       "      <td>...</td>\n",
       "      <td>...</td>\n",
       "      <td>...</td>\n",
       "      <td>...</td>\n",
       "      <td>...</td>\n",
       "      <td>...</td>\n",
       "      <td>...</td>\n",
       "      <td>...</td>\n",
       "      <td>...</td>\n",
       "      <td>...</td>\n",
       "      <td>...</td>\n",
       "      <td>...</td>\n",
       "      <td>...</td>\n",
       "      <td>...</td>\n",
       "      <td>...</td>\n",
       "    </tr>\n",
       "    <tr>\n",
       "      <th>907</th>\n",
       "      <td>2024-02-03</td>\n",
       "      <td>[Non-Constitutional]: Arbitrum Stable Treasury...</td>\n",
       "      <td>37389.883203</td>\n",
       "      <td>2.864643e+03</td>\n",
       "      <td>511293.539440</td>\n",
       "      <td>3.113840e+06</td>\n",
       "      <td>4708.758742</td>\n",
       "      <td>4250.395402</td>\n",
       "      <td>12468.911688</td>\n",
       "      <td>1.065362e+04</td>\n",
       "      <td>...</td>\n",
       "      <td>1.851853e+04</td>\n",
       "      <td>1.476738e+04</td>\n",
       "      <td>79132.201763</td>\n",
       "      <td>5209.581565</td>\n",
       "      <td>9.976265e+03</td>\n",
       "      <td>1.168177e+04</td>\n",
       "      <td>18085.153467</td>\n",
       "      <td>9608.381907</td>\n",
       "      <td>2.745324e+03</td>\n",
       "      <td>5.083385e+06</td>\n",
       "    </tr>\n",
       "    <tr>\n",
       "      <th>908</th>\n",
       "      <td>2024-02-04</td>\n",
       "      <td>[Non-Constitutional]: Arbitrum Stable Treasury...</td>\n",
       "      <td>4410.777209</td>\n",
       "      <td>9.832006e+02</td>\n",
       "      <td>908.712552</td>\n",
       "      <td>5.516018e+03</td>\n",
       "      <td>8638.740654</td>\n",
       "      <td>177917.446734</td>\n",
       "      <td>34415.118592</td>\n",
       "      <td>1.829215e+04</td>\n",
       "      <td>...</td>\n",
       "      <td>6.808985e+03</td>\n",
       "      <td>1.366625e+04</td>\n",
       "      <td>13702.597464</td>\n",
       "      <td>11790.741276</td>\n",
       "      <td>9.764326e+03</td>\n",
       "      <td>1.101606e+06</td>\n",
       "      <td>22316.423295</td>\n",
       "      <td>7366.280756</td>\n",
       "      <td>1.498834e+04</td>\n",
       "      <td>1.626393e+06</td>\n",
       "    </tr>\n",
       "    <tr>\n",
       "      <th>909</th>\n",
       "      <td>2024-02-05</td>\n",
       "      <td>[Non-Constitutional]: Arbitrum Stable Treasury...</td>\n",
       "      <td>4351.829901</td>\n",
       "      <td>1.636269e+03</td>\n",
       "      <td>3028.441041</td>\n",
       "      <td>3.160498e+03</td>\n",
       "      <td>19374.354443</td>\n",
       "      <td>47000.301944</td>\n",
       "      <td>3344.453392</td>\n",
       "      <td>9.756917e+03</td>\n",
       "      <td>...</td>\n",
       "      <td>4.442998e+04</td>\n",
       "      <td>1.712937e+04</td>\n",
       "      <td>911683.588497</td>\n",
       "      <td>5628.503504</td>\n",
       "      <td>5.838505e+03</td>\n",
       "      <td>2.024561e+04</td>\n",
       "      <td>9605.175323</td>\n",
       "      <td>4835.155146</td>\n",
       "      <td>7.313733e+02</td>\n",
       "      <td>3.717402e+06</td>\n",
       "    </tr>\n",
       "    <tr>\n",
       "      <th>910</th>\n",
       "      <td>2024-02-06</td>\n",
       "      <td>[Non-Constitutional]: Arbitrum Stable Treasury...</td>\n",
       "      <td>4597.087954</td>\n",
       "      <td>1.768286e+01</td>\n",
       "      <td>4772.835003</td>\n",
       "      <td>1.557604e+03</td>\n",
       "      <td>3417.703306</td>\n",
       "      <td>11893.867703</td>\n",
       "      <td>949.937706</td>\n",
       "      <td>3.282754e+03</td>\n",
       "      <td>...</td>\n",
       "      <td>2.279098e+07</td>\n",
       "      <td>3.370172e+05</td>\n",
       "      <td>40100.842840</td>\n",
       "      <td>4731.443836</td>\n",
       "      <td>1.061320e+04</td>\n",
       "      <td>1.271179e+03</td>\n",
       "      <td>3898.166050</td>\n",
       "      <td>527534.010654</td>\n",
       "      <td>2.740770e+06</td>\n",
       "      <td>2.691478e+07</td>\n",
       "    </tr>\n",
       "    <tr>\n",
       "      <th>911</th>\n",
       "      <td>2024-02-07</td>\n",
       "      <td>[Non-Constitutional]: Arbitrum Stable Treasury...</td>\n",
       "      <td>4242.943534</td>\n",
       "      <td>4.658448e+06</td>\n",
       "      <td>1338.737715</td>\n",
       "      <td>4.249114e+03</td>\n",
       "      <td>11094.852398</td>\n",
       "      <td>3649.426200</td>\n",
       "      <td>8785.104804</td>\n",
       "      <td>9.323014e+03</td>\n",
       "      <td>...</td>\n",
       "      <td>3.268892e+06</td>\n",
       "      <td>3.397176e+04</td>\n",
       "      <td>859.554860</td>\n",
       "      <td>14435.188975</td>\n",
       "      <td>4.298015e+06</td>\n",
       "      <td>8.347951e+06</td>\n",
       "      <td>0.000000</td>\n",
       "      <td>NaN</td>\n",
       "      <td>NaN</td>\n",
       "      <td>6.736251e+07</td>\n",
       "    </tr>\n",
       "  </tbody>\n",
       "</table>\n",
       "<p>912 rows × 27 columns</p>\n",
       "</div>"
      ],
      "text/plain": [
       "hour        date                                     proposal_title  \\\n",
       "0     2023-03-27     AIP-1: Arbitrum Improvement Proposal Framework   \n",
       "1     2023-03-28     AIP-1: Arbitrum Improvement Proposal Framework   \n",
       "2     2023-03-29     AIP-1: Arbitrum Improvement Proposal Framework   \n",
       "3     2023-03-30     AIP-1: Arbitrum Improvement Proposal Framework   \n",
       "4     2023-03-31     AIP-1: Arbitrum Improvement Proposal Framework   \n",
       "..           ...                                                ...   \n",
       "907   2024-02-03  [Non-Constitutional]: Arbitrum Stable Treasury...   \n",
       "908   2024-02-04  [Non-Constitutional]: Arbitrum Stable Treasury...   \n",
       "909   2024-02-05  [Non-Constitutional]: Arbitrum Stable Treasury...   \n",
       "910   2024-02-06  [Non-Constitutional]: Arbitrum Stable Treasury...   \n",
       "911   2024-02-07  [Non-Constitutional]: Arbitrum Stable Treasury...   \n",
       "\n",
       "hour              0             1              2             3              4  \\\n",
       "0               NaN           NaN            NaN           NaN            NaN   \n",
       "1          0.000000  0.000000e+00       0.000000  0.000000e+00       0.000000   \n",
       "2          0.000000  0.000000e+00       0.000000  0.000000e+00       0.000000   \n",
       "3       6580.053365  2.348949e+05  937431.918465  7.282673e+05  705013.045709   \n",
       "4     156705.739765  2.154558e+05  321311.087445  1.998486e+05  122702.476201   \n",
       "..              ...           ...            ...           ...            ...   \n",
       "907    37389.883203  2.864643e+03  511293.539440  3.113840e+06    4708.758742   \n",
       "908     4410.777209  9.832006e+02     908.712552  5.516018e+03    8638.740654   \n",
       "909     4351.829901  1.636269e+03    3028.441041  3.160498e+03   19374.354443   \n",
       "910     4597.087954  1.768286e+01    4772.835003  1.557604e+03    3417.703306   \n",
       "911     4242.943534  4.658448e+06    1338.737715  4.249114e+03   11094.852398   \n",
       "\n",
       "hour              5              6             7  ...            15  \\\n",
       "0               NaN            NaN           NaN  ...           NaN   \n",
       "1          0.000000       0.000000  0.000000e+00  ...  0.000000e+00   \n",
       "2          0.000000       0.000000  0.000000e+00  ...  0.000000e+00   \n",
       "3     570957.200386  601473.006286  1.048590e+06  ...  4.027248e+05   \n",
       "4     135168.005455  128371.130134  1.037739e+05  ...  1.099875e+05   \n",
       "..              ...            ...           ...  ...           ...   \n",
       "907     4250.395402   12468.911688  1.065362e+04  ...  1.851853e+04   \n",
       "908   177917.446734   34415.118592  1.829215e+04  ...  6.808985e+03   \n",
       "909    47000.301944    3344.453392  9.756917e+03  ...  4.442998e+04   \n",
       "910    11893.867703     949.937706  3.282754e+03  ...  2.279098e+07   \n",
       "911     3649.426200    8785.104804  9.323014e+03  ...  3.268892e+06   \n",
       "\n",
       "hour            16             17             18            19            20  \\\n",
       "0              NaN            NaN            NaN           NaN           NaN   \n",
       "1     0.000000e+00       0.000000       0.000000  0.000000e+00  0.000000e+00   \n",
       "2     0.000000e+00       4.791568       6.603058  0.000000e+00  0.000000e+00   \n",
       "3     2.443937e+05  322862.335104  160366.650980  1.008695e+05  1.301815e+05   \n",
       "4     2.289850e+06   61219.221320   46491.735942  1.425958e+05  6.299895e+04   \n",
       "..             ...            ...            ...           ...           ...   \n",
       "907   1.476738e+04   79132.201763    5209.581565  9.976265e+03  1.168177e+04   \n",
       "908   1.366625e+04   13702.597464   11790.741276  9.764326e+03  1.101606e+06   \n",
       "909   1.712937e+04  911683.588497    5628.503504  5.838505e+03  2.024561e+04   \n",
       "910   3.370172e+05   40100.842840    4731.443836  1.061320e+04  1.271179e+03   \n",
       "911   3.397176e+04     859.554860   14435.188975  4.298015e+06  8.347951e+06   \n",
       "\n",
       "hour             21             22            23         Total  \n",
       "0               NaN       0.000000  0.000000e+00  0.000000e+00  \n",
       "1          0.000000       0.000000  0.000000e+00  0.000000e+00  \n",
       "2          0.000000       0.000000  0.000000e+00  1.139463e+01  \n",
       "3      94661.438925  122756.710479  5.920254e+04  1.002818e+07  \n",
       "4     216886.177572   26325.795069  4.454298e+04  5.250821e+06  \n",
       "..              ...            ...           ...           ...  \n",
       "907    18085.153467    9608.381907  2.745324e+03  5.083385e+06  \n",
       "908    22316.423295    7366.280756  1.498834e+04  1.626393e+06  \n",
       "909     9605.175323    4835.155146  7.313733e+02  3.717402e+06  \n",
       "910     3898.166050  527534.010654  2.740770e+06  2.691478e+07  \n",
       "911        0.000000            NaN           NaN  6.736251e+07  \n",
       "\n",
       "[912 rows x 27 columns]"
      ]
     },
     "execution_count": 62,
     "metadata": {},
     "output_type": "execute_result"
    }
   ],
   "source": [
    "# Extract hour from hourly_timestamp\n",
    "hourly_voting_power['hour'] = hourly_voting_power['hourly_timestamp'].dt.hour\n",
    "\n",
    "# Extract date from hourly_timestamp\n",
    "hourly_voting_power['date'] = hourly_voting_power['hourly_timestamp'].dt.date\n",
    "\n",
    "# Group data by hour, date, and proposal title, sum voting power\n",
    "hourly_voting_power_agg = hourly_voting_power.groupby(['hour', 'date', 'proposal_title']).sum().reset_index()\n",
    "\n",
    "# Pivot the table to have hours as columns, dates as rows, and proposal titles as values\n",
    "hourly_voting_power_pivot = hourly_voting_power_agg.pivot_table(index=['date', 'proposal_title'], columns='hour', values='voting_power', aggfunc='sum').reset_index()\n",
    "\n",
    "# Add the total for each day\n",
    "hourly_voting_power_pivot['Total'] = hourly_voting_power_pivot.sum(axis=1)\n",
    "\n",
    "hourly_voting_power_pivot"
   ]
  },
  {
   "cell_type": "code",
   "execution_count": 63,
   "metadata": {},
   "outputs": [],
   "source": [
    "hourly_voting_power_pivot['date'] = pd.to_datetime(hourly_voting_power_pivot['date'])"
   ]
  },
  {
   "cell_type": "code",
   "execution_count": 64,
   "metadata": {},
   "outputs": [
    {
     "name": "stdout",
     "output_type": "stream",
     "text": [
      "<class 'pandas.core.frame.DataFrame'>\n",
      "RangeIndex: 912 entries, 0 to 911\n",
      "Data columns (total 27 columns):\n",
      " #   Column          Non-Null Count  Dtype         \n",
      "---  ------          --------------  -----         \n",
      " 0   date            912 non-null    datetime64[ns]\n",
      " 1   proposal_title  912 non-null    object        \n",
      " 2   0               799 non-null    float64       \n",
      " 3   1               799 non-null    float64       \n",
      " 4   2               895 non-null    float64       \n",
      " 5   3               798 non-null    float64       \n",
      " 6   4               799 non-null    float64       \n",
      " 7   5               798 non-null    float64       \n",
      " 8   6               798 non-null    float64       \n",
      " 9   7               798 non-null    float64       \n",
      " 10  8               798 non-null    float64       \n",
      " 11  9               798 non-null    float64       \n",
      " 12  10              798 non-null    float64       \n",
      " 13  11              798 non-null    float64       \n",
      " 14  12              798 non-null    float64       \n",
      " 15  13              798 non-null    float64       \n",
      " 16  14              799 non-null    float64       \n",
      " 17  15              798 non-null    float64       \n",
      " 18  16              800 non-null    float64       \n",
      " 19  17              798 non-null    float64       \n",
      " 20  18              803 non-null    float64       \n",
      " 21  19              800 non-null    float64       \n",
      " 22  20              799 non-null    float64       \n",
      " 23  21              799 non-null    float64       \n",
      " 24  22              800 non-null    float64       \n",
      " 25  23              798 non-null    float64       \n",
      " 26  Total           912 non-null    float64       \n",
      "dtypes: datetime64[ns](1), float64(25), object(1)\n",
      "memory usage: 192.5+ KB\n"
     ]
    }
   ],
   "source": [
    "hourly_voting_power_pivot.info()"
   ]
  },
  {
   "cell_type": "markdown",
   "metadata": {},
   "source": [
    "## Do voters with higher voting power tend to vote more frequently or actively participate in the voting process?"
   ]
  },
  {
   "cell_type": "code",
   "execution_count": 66,
   "metadata": {},
   "outputs": [
    {
     "data": {
      "text/plain": [
       "(53, 115)"
      ]
     },
     "execution_count": 66,
     "metadata": {},
     "output_type": "execute_result"
    }
   ],
   "source": [
    "voters_with_high_voting_power.shape"
   ]
  },
  {
   "cell_type": "code",
   "execution_count": 73,
   "metadata": {},
   "outputs": [],
   "source": [
    "voters = voters_with_high_voting_power['voter'].to_list()"
   ]
  },
  {
   "cell_type": "code",
   "execution_count": 67,
   "metadata": {},
   "outputs": [
    {
     "data": {
      "text/plain": [
       "Index(['vote_id', 'voter', 'voting_power', 'vote_date', 'voting_reason',\n",
       "       'vote_year', 'vote_month', 'vote_day', 'vote_time', 'vote_hour',\n",
       "       'vote_minute', 'vote_year_month', 'voting_power_range', 'proposal_id',\n",
       "       'proposal_title', 'proposal_body', 'proposal_type', 'proposal_created',\n",
       "       'proposal_start_date', 'proposal_end_date', 'proposal_year',\n",
       "       'proposal_month', 'proposal_day', 'proposal_time', 'proposal_choices',\n",
       "       'voting_choice', 'mapped_choice'],\n",
       "      dtype='object')"
      ]
     },
     "execution_count": 67,
     "metadata": {},
     "output_type": "execute_result"
    }
   ],
   "source": [
    "data1.columns"
   ]
  },
  {
   "cell_type": "code",
   "execution_count": 70,
   "metadata": {},
   "outputs": [],
   "source": [
    "# Group the data by 'voter' and count the total votes for each voter\n",
    "vote_counts = data1.groupby('voter')['proposal_title'].count().reset_index(name='total_proposals_participated')"
   ]
  },
  {
   "cell_type": "code",
   "execution_count": 72,
   "metadata": {},
   "outputs": [
    {
     "data": {
      "text/plain": [
       "Index(['voter', 'total_proposals_participated'], dtype='object')"
      ]
     },
     "execution_count": 72,
     "metadata": {},
     "output_type": "execute_result"
    }
   ],
   "source": [
    "vote_counts.columns"
   ]
  },
  {
   "cell_type": "code",
   "execution_count": 75,
   "metadata": {},
   "outputs": [],
   "source": [
    "# Convert 'voters' list to set for faster lookup\n",
    "voters = set(voters)\n",
    "\n",
    "# Filter the data for high power voters\n",
    "filtered_data = vote_counts[vote_counts['voter'].isin(voters)]"
   ]
  },
  {
   "cell_type": "code",
   "execution_count": 76,
   "metadata": {},
   "outputs": [
    {
     "data": {
      "text/plain": [
       "(53, 2)"
      ]
     },
     "execution_count": 76,
     "metadata": {},
     "output_type": "execute_result"
    }
   ],
   "source": [
    "filtered_data.shape"
   ]
  },
  {
   "cell_type": "code",
   "execution_count": 77,
   "metadata": {},
   "outputs": [
    {
     "data": {
      "text/html": [
       "<div>\n",
       "<style scoped>\n",
       "    .dataframe tbody tr th:only-of-type {\n",
       "        vertical-align: middle;\n",
       "    }\n",
       "\n",
       "    .dataframe tbody tr th {\n",
       "        vertical-align: top;\n",
       "    }\n",
       "\n",
       "    .dataframe thead th {\n",
       "        text-align: right;\n",
       "    }\n",
       "</style>\n",
       "<table border=\"1\" class=\"dataframe\">\n",
       "  <thead>\n",
       "    <tr style=\"text-align: right;\">\n",
       "      <th></th>\n",
       "      <th>voter</th>\n",
       "      <th>total_proposals_participated</th>\n",
       "    </tr>\n",
       "  </thead>\n",
       "  <tbody>\n",
       "    <tr>\n",
       "      <th>5497</th>\n",
       "      <td>0x09D4083fFD20D21ACb9118465aD7C52Ac8B548f7</td>\n",
       "      <td>1</td>\n",
       "    </tr>\n",
       "    <tr>\n",
       "      <th>9107</th>\n",
       "      <td>0x0eB5B03c0303f2F47cD81d7BE4275AF8Ed347576</td>\n",
       "      <td>108</td>\n",
       "    </tr>\n",
       "    <tr>\n",
       "      <th>10898</th>\n",
       "      <td>0x11cd09a0c5B1dc674615783b0772a9bFD53e3A8F</td>\n",
       "      <td>4</td>\n",
       "    </tr>\n",
       "    <tr>\n",
       "      <th>12009</th>\n",
       "      <td>0x13BDaE8c5F0fC40231F0E6A4ad70196F59138548</td>\n",
       "      <td>56</td>\n",
       "    </tr>\n",
       "    <tr>\n",
       "      <th>14840</th>\n",
       "      <td>0x18BF1a97744539a348304E9d266aAc7d446a1582</td>\n",
       "      <td>104</td>\n",
       "    </tr>\n",
       "    <tr>\n",
       "      <th>15036</th>\n",
       "      <td>0x190473B3071946df65306989972706A4c006A561</td>\n",
       "      <td>105</td>\n",
       "    </tr>\n",
       "    <tr>\n",
       "      <th>15972</th>\n",
       "      <td>0x1B686eE8E31c5959D9F5BBd8122a58682788eeaD</td>\n",
       "      <td>111</td>\n",
       "    </tr>\n",
       "    <tr>\n",
       "      <th>17773</th>\n",
       "      <td>0x1be2655C587C39610751176ce3C6f3c7018D61c1</td>\n",
       "      <td>3</td>\n",
       "    </tr>\n",
       "    <tr>\n",
       "      <th>20572</th>\n",
       "      <td>0x22aA1F4173b826451763EbfCE22cf54A0603163c</td>\n",
       "      <td>85</td>\n",
       "    </tr>\n",
       "    <tr>\n",
       "      <th>27342</th>\n",
       "      <td>0x2e3BEf6830Ae84bb4225D318F9f61B6b88C147bF</td>\n",
       "      <td>39</td>\n",
       "    </tr>\n",
       "    <tr>\n",
       "      <th>27556</th>\n",
       "      <td>0x2ef27b114917dD53f8633440A7C0328fef132e2F</td>\n",
       "      <td>24</td>\n",
       "    </tr>\n",
       "    <tr>\n",
       "      <th>28089</th>\n",
       "      <td>0x3070FeEAfD678751c29171Bacd0042Fb370DEE00</td>\n",
       "      <td>57</td>\n",
       "    </tr>\n",
       "    <tr>\n",
       "      <th>30352</th>\n",
       "      <td>0x3471884f189FD7C63fe8C83601D28cE0Cc1B3853</td>\n",
       "      <td>3</td>\n",
       "    </tr>\n",
       "    <tr>\n",
       "      <th>31466</th>\n",
       "      <td>0x367894907D569a9554aFC4533E183073252362C3</td>\n",
       "      <td>3</td>\n",
       "    </tr>\n",
       "    <tr>\n",
       "      <th>33336</th>\n",
       "      <td>0x39F7253a370e7D07E70DD60Fc6a7D51806C0bda8</td>\n",
       "      <td>10</td>\n",
       "    </tr>\n",
       "    <tr>\n",
       "      <th>34313</th>\n",
       "      <td>0x3D1846ea60001A3Bc21438d76f3958422fe89adB</td>\n",
       "      <td>106</td>\n",
       "    </tr>\n",
       "    <tr>\n",
       "      <th>35807</th>\n",
       "      <td>0x3c5Aac016EF2F178e8699D6208796A2D67557fe2</td>\n",
       "      <td>96</td>\n",
       "    </tr>\n",
       "    <tr>\n",
       "      <th>41259</th>\n",
       "      <td>0x47E98aA12dB2017295d33e94002521820442F827</td>\n",
       "      <td>89</td>\n",
       "    </tr>\n",
       "    <tr>\n",
       "      <th>47807</th>\n",
       "      <td>0x5318f07A3a20A2f8bb0DDf14F1DD58C517a76508</td>\n",
       "      <td>56</td>\n",
       "    </tr>\n",
       "    <tr>\n",
       "      <th>48090</th>\n",
       "      <td>0x539629494be6b004d33d290E6243806750A3A2f4</td>\n",
       "      <td>54</td>\n",
       "    </tr>\n",
       "    <tr>\n",
       "      <th>51846</th>\n",
       "      <td>0x5AaAEF91F93bE4dE932b8e7324aBBF9f26DAa706</td>\n",
       "      <td>1</td>\n",
       "    </tr>\n",
       "    <tr>\n",
       "      <th>52145</th>\n",
       "      <td>0x5Be0feE0f748c1737793172D42c14E4810D2038E</td>\n",
       "      <td>36</td>\n",
       "    </tr>\n",
       "    <tr>\n",
       "      <th>53494</th>\n",
       "      <td>0x5aB0Fdc6F0CA9Ea178c95cECCf944A4ce1AedDdD</td>\n",
       "      <td>68</td>\n",
       "    </tr>\n",
       "    <tr>\n",
       "      <th>53626</th>\n",
       "      <td>0x5b39C3907Bd9db69B435A6cbf485915135FfFfd6</td>\n",
       "      <td>4</td>\n",
       "    </tr>\n",
       "    <tr>\n",
       "      <th>54768</th>\n",
       "      <td>0x5f5ec4F83AcCC5bA176064Dbfa67D6ac74c03af2</td>\n",
       "      <td>2</td>\n",
       "    </tr>\n",
       "    <tr>\n",
       "      <th>62030</th>\n",
       "      <td>0x6a26afb01Ff57e827079658238858d55774cA2D5</td>\n",
       "      <td>10</td>\n",
       "    </tr>\n",
       "    <tr>\n",
       "      <th>69132</th>\n",
       "      <td>0x79C4213a328E3B4F1D87b4953C14759399dB25E2</td>\n",
       "      <td>64</td>\n",
       "    </tr>\n",
       "    <tr>\n",
       "      <th>72356</th>\n",
       "      <td>0x7f1156aa350982560653fed03ef0e285ef878B75</td>\n",
       "      <td>103</td>\n",
       "    </tr>\n",
       "    <tr>\n",
       "      <th>74385</th>\n",
       "      <td>0x8326D18edfC50B4335113C33b25116ec268FF3fE</td>\n",
       "      <td>4</td>\n",
       "    </tr>\n",
       "    <tr>\n",
       "      <th>74626</th>\n",
       "      <td>0x839395e20bbB182fa440d08F850E6c7A8f6F0780</td>\n",
       "      <td>111</td>\n",
       "    </tr>\n",
       "    <tr>\n",
       "      <th>79824</th>\n",
       "      <td>0x8F73bE66CA8c79382f72139be03746343Bf5Faa0</td>\n",
       "      <td>17</td>\n",
       "    </tr>\n",
       "    <tr>\n",
       "      <th>85891</th>\n",
       "      <td>0x978982772b8e4055B921bf9295c0d74eB36Bc54e</td>\n",
       "      <td>36</td>\n",
       "    </tr>\n",
       "    <tr>\n",
       "      <th>86164</th>\n",
       "      <td>0x9808E45C613eBA00bA18fB3D314dC4d4712c4A85</td>\n",
       "      <td>38</td>\n",
       "    </tr>\n",
       "    <tr>\n",
       "      <th>92283</th>\n",
       "      <td>0xA5dF0cf3F95C6cd97d998b9D990a86864095d9b0</td>\n",
       "      <td>42</td>\n",
       "    </tr>\n",
       "    <tr>\n",
       "      <th>93892</th>\n",
       "      <td>0xAD16ebE6FfC7d96624A380F394cD64395B0C6144</td>\n",
       "      <td>107</td>\n",
       "    </tr>\n",
       "    <tr>\n",
       "      <th>94517</th>\n",
       "      <td>0xAbAbE91A907fAdff921720C43ABe4098e7245E99</td>\n",
       "      <td>111</td>\n",
       "    </tr>\n",
       "    <tr>\n",
       "      <th>97657</th>\n",
       "      <td>0xB933AEe47C438f22DE0747D57fc239FE37878Dd1</td>\n",
       "      <td>12</td>\n",
       "    </tr>\n",
       "    <tr>\n",
       "      <th>98923</th>\n",
       "      <td>0xBbE98D590d7eB99F4a236587f2441826396053d3</td>\n",
       "      <td>40</td>\n",
       "    </tr>\n",
       "    <tr>\n",
       "      <th>109746</th>\n",
       "      <td>0xE48C655276C23F1534AE2a87A2bf8A8A6585Df70</td>\n",
       "      <td>9</td>\n",
       "    </tr>\n",
       "    <tr>\n",
       "      <th>111052</th>\n",
       "      <td>0xE93D59CC0bcECFD4ac204827eF67c5266079E2b5</td>\n",
       "      <td>112</td>\n",
       "    </tr>\n",
       "    <tr>\n",
       "      <th>113173</th>\n",
       "      <td>0xF0ea58b65c82c48ce69f0ABD68D178e7764C4bA2</td>\n",
       "      <td>113</td>\n",
       "    </tr>\n",
       "    <tr>\n",
       "      <th>114135</th>\n",
       "      <td>0xF4B0556B9B6F53E00A1FDD2b0478Ce841991D8fA</td>\n",
       "      <td>111</td>\n",
       "    </tr>\n",
       "    <tr>\n",
       "      <th>115315</th>\n",
       "      <td>0xF8E93a7D954F7d31D5Fa54Bc0Eb0E384412a158d</td>\n",
       "      <td>18</td>\n",
       "    </tr>\n",
       "    <tr>\n",
       "      <th>115429</th>\n",
       "      <td>0xF92F185AbD9E00F56cb11B0b709029633d1E37B4</td>\n",
       "      <td>48</td>\n",
       "    </tr>\n",
       "    <tr>\n",
       "      <th>122493</th>\n",
       "      <td>0xb29A655f3D67B2B6724Fb22B2C2303cB660c946B</td>\n",
       "      <td>48</td>\n",
       "    </tr>\n",
       "    <tr>\n",
       "      <th>123334</th>\n",
       "      <td>0xb5B069370Ef24BC67F114e185D185063CE3479f8</td>\n",
       "      <td>50</td>\n",
       "    </tr>\n",
       "    <tr>\n",
       "      <th>130783</th>\n",
       "      <td>0xd035dfE329F35946Edd486Ce51B383133F6b2f5a</td>\n",
       "      <td>15</td>\n",
       "    </tr>\n",
       "    <tr>\n",
       "      <th>131627</th>\n",
       "      <td>0xd333Bc5c9670C9cEb18f9A2CF02C6E86807a8227</td>\n",
       "      <td>34</td>\n",
       "    </tr>\n",
       "    <tr>\n",
       "      <th>134572</th>\n",
       "      <td>0xdb5781a835b60110298fF7205D8ef9678Ff1f800</td>\n",
       "      <td>4</td>\n",
       "    </tr>\n",
       "    <tr>\n",
       "      <th>137594</th>\n",
       "      <td>0xe876a94EBAa0d8D2dA4142766d8C803a7C1D8ED8</td>\n",
       "      <td>45</td>\n",
       "    </tr>\n",
       "    <tr>\n",
       "      <th>140805</th>\n",
       "      <td>0xf3FE8c6c75bE4afB2F8200Fc77339abE4D7CFF33</td>\n",
       "      <td>110</td>\n",
       "    </tr>\n",
       "    <tr>\n",
       "      <th>142422</th>\n",
       "      <td>0xf9551c66995eD3Ff9bb05C9Fd7ff148Bd75dc99a</td>\n",
       "      <td>86</td>\n",
       "    </tr>\n",
       "    <tr>\n",
       "      <th>143735</th>\n",
       "      <td>0xfc7A6e0b80b2cfcABBa789ef1565Af9BC5d00aa0</td>\n",
       "      <td>16</td>\n",
       "    </tr>\n",
       "  </tbody>\n",
       "</table>\n",
       "</div>"
      ],
      "text/plain": [
       "                                             voter  \\\n",
       "5497    0x09D4083fFD20D21ACb9118465aD7C52Ac8B548f7   \n",
       "9107    0x0eB5B03c0303f2F47cD81d7BE4275AF8Ed347576   \n",
       "10898   0x11cd09a0c5B1dc674615783b0772a9bFD53e3A8F   \n",
       "12009   0x13BDaE8c5F0fC40231F0E6A4ad70196F59138548   \n",
       "14840   0x18BF1a97744539a348304E9d266aAc7d446a1582   \n",
       "15036   0x190473B3071946df65306989972706A4c006A561   \n",
       "15972   0x1B686eE8E31c5959D9F5BBd8122a58682788eeaD   \n",
       "17773   0x1be2655C587C39610751176ce3C6f3c7018D61c1   \n",
       "20572   0x22aA1F4173b826451763EbfCE22cf54A0603163c   \n",
       "27342   0x2e3BEf6830Ae84bb4225D318F9f61B6b88C147bF   \n",
       "27556   0x2ef27b114917dD53f8633440A7C0328fef132e2F   \n",
       "28089   0x3070FeEAfD678751c29171Bacd0042Fb370DEE00   \n",
       "30352   0x3471884f189FD7C63fe8C83601D28cE0Cc1B3853   \n",
       "31466   0x367894907D569a9554aFC4533E183073252362C3   \n",
       "33336   0x39F7253a370e7D07E70DD60Fc6a7D51806C0bda8   \n",
       "34313   0x3D1846ea60001A3Bc21438d76f3958422fe89adB   \n",
       "35807   0x3c5Aac016EF2F178e8699D6208796A2D67557fe2   \n",
       "41259   0x47E98aA12dB2017295d33e94002521820442F827   \n",
       "47807   0x5318f07A3a20A2f8bb0DDf14F1DD58C517a76508   \n",
       "48090   0x539629494be6b004d33d290E6243806750A3A2f4   \n",
       "51846   0x5AaAEF91F93bE4dE932b8e7324aBBF9f26DAa706   \n",
       "52145   0x5Be0feE0f748c1737793172D42c14E4810D2038E   \n",
       "53494   0x5aB0Fdc6F0CA9Ea178c95cECCf944A4ce1AedDdD   \n",
       "53626   0x5b39C3907Bd9db69B435A6cbf485915135FfFfd6   \n",
       "54768   0x5f5ec4F83AcCC5bA176064Dbfa67D6ac74c03af2   \n",
       "62030   0x6a26afb01Ff57e827079658238858d55774cA2D5   \n",
       "69132   0x79C4213a328E3B4F1D87b4953C14759399dB25E2   \n",
       "72356   0x7f1156aa350982560653fed03ef0e285ef878B75   \n",
       "74385   0x8326D18edfC50B4335113C33b25116ec268FF3fE   \n",
       "74626   0x839395e20bbB182fa440d08F850E6c7A8f6F0780   \n",
       "79824   0x8F73bE66CA8c79382f72139be03746343Bf5Faa0   \n",
       "85891   0x978982772b8e4055B921bf9295c0d74eB36Bc54e   \n",
       "86164   0x9808E45C613eBA00bA18fB3D314dC4d4712c4A85   \n",
       "92283   0xA5dF0cf3F95C6cd97d998b9D990a86864095d9b0   \n",
       "93892   0xAD16ebE6FfC7d96624A380F394cD64395B0C6144   \n",
       "94517   0xAbAbE91A907fAdff921720C43ABe4098e7245E99   \n",
       "97657   0xB933AEe47C438f22DE0747D57fc239FE37878Dd1   \n",
       "98923   0xBbE98D590d7eB99F4a236587f2441826396053d3   \n",
       "109746  0xE48C655276C23F1534AE2a87A2bf8A8A6585Df70   \n",
       "111052  0xE93D59CC0bcECFD4ac204827eF67c5266079E2b5   \n",
       "113173  0xF0ea58b65c82c48ce69f0ABD68D178e7764C4bA2   \n",
       "114135  0xF4B0556B9B6F53E00A1FDD2b0478Ce841991D8fA   \n",
       "115315  0xF8E93a7D954F7d31D5Fa54Bc0Eb0E384412a158d   \n",
       "115429  0xF92F185AbD9E00F56cb11B0b709029633d1E37B4   \n",
       "122493  0xb29A655f3D67B2B6724Fb22B2C2303cB660c946B   \n",
       "123334  0xb5B069370Ef24BC67F114e185D185063CE3479f8   \n",
       "130783  0xd035dfE329F35946Edd486Ce51B383133F6b2f5a   \n",
       "131627  0xd333Bc5c9670C9cEb18f9A2CF02C6E86807a8227   \n",
       "134572  0xdb5781a835b60110298fF7205D8ef9678Ff1f800   \n",
       "137594  0xe876a94EBAa0d8D2dA4142766d8C803a7C1D8ED8   \n",
       "140805  0xf3FE8c6c75bE4afB2F8200Fc77339abE4D7CFF33   \n",
       "142422  0xf9551c66995eD3Ff9bb05C9Fd7ff148Bd75dc99a   \n",
       "143735  0xfc7A6e0b80b2cfcABBa789ef1565Af9BC5d00aa0   \n",
       "\n",
       "        total_proposals_participated  \n",
       "5497                               1  \n",
       "9107                             108  \n",
       "10898                              4  \n",
       "12009                             56  \n",
       "14840                            104  \n",
       "15036                            105  \n",
       "15972                            111  \n",
       "17773                              3  \n",
       "20572                             85  \n",
       "27342                             39  \n",
       "27556                             24  \n",
       "28089                             57  \n",
       "30352                              3  \n",
       "31466                              3  \n",
       "33336                             10  \n",
       "34313                            106  \n",
       "35807                             96  \n",
       "41259                             89  \n",
       "47807                             56  \n",
       "48090                             54  \n",
       "51846                              1  \n",
       "52145                             36  \n",
       "53494                             68  \n",
       "53626                              4  \n",
       "54768                              2  \n",
       "62030                             10  \n",
       "69132                             64  \n",
       "72356                            103  \n",
       "74385                              4  \n",
       "74626                            111  \n",
       "79824                             17  \n",
       "85891                             36  \n",
       "86164                             38  \n",
       "92283                             42  \n",
       "93892                            107  \n",
       "94517                            111  \n",
       "97657                             12  \n",
       "98923                             40  \n",
       "109746                             9  \n",
       "111052                           112  \n",
       "113173                           113  \n",
       "114135                           111  \n",
       "115315                            18  \n",
       "115429                            48  \n",
       "122493                            48  \n",
       "123334                            50  \n",
       "130783                            15  \n",
       "131627                            34  \n",
       "134572                             4  \n",
       "137594                            45  \n",
       "140805                           110  \n",
       "142422                            86  \n",
       "143735                            16  "
      ]
     },
     "execution_count": 77,
     "metadata": {},
     "output_type": "execute_result"
    }
   ],
   "source": [
    "filtered_data"
   ]
  },
  {
   "cell_type": "code",
   "execution_count": 86,
   "metadata": {},
   "outputs": [
    {
     "name": "stderr",
     "output_type": "stream",
     "text": [
      "f:\\Lampros\\Analysis of Delegates Voting Patterns in Arbitrum Proposals\\Analysis\\data_analysis\\lib\\site-packages\\ipykernel_launcher.py:1: SettingWithCopyWarning:\n",
      "\n",
      "\n",
      "A value is trying to be set on a copy of a slice from a DataFrame.\n",
      "Try using .loc[row_indexer,col_indexer] = value instead\n",
      "\n",
      "See the caveats in the documentation: https://pandas.pydata.org/pandas-docs/stable/user_guide/indexing.html#returning-a-view-versus-a-copy\n",
      "\n"
     ]
    }
   ],
   "source": [
    "filtered_data['votes%'] = round((filtered_data['total_proposals_participated'] / 114) * 100, 2)"
   ]
  },
  {
   "cell_type": "code",
   "execution_count": 87,
   "metadata": {},
   "outputs": [
    {
     "data": {
      "text/html": [
       "<div>\n",
       "<style scoped>\n",
       "    .dataframe tbody tr th:only-of-type {\n",
       "        vertical-align: middle;\n",
       "    }\n",
       "\n",
       "    .dataframe tbody tr th {\n",
       "        vertical-align: top;\n",
       "    }\n",
       "\n",
       "    .dataframe thead th {\n",
       "        text-align: right;\n",
       "    }\n",
       "</style>\n",
       "<table border=\"1\" class=\"dataframe\">\n",
       "  <thead>\n",
       "    <tr style=\"text-align: right;\">\n",
       "      <th></th>\n",
       "      <th>voter</th>\n",
       "      <th>total_proposals_participated</th>\n",
       "      <th>votes%</th>\n",
       "    </tr>\n",
       "  </thead>\n",
       "  <tbody>\n",
       "    <tr>\n",
       "      <th>5497</th>\n",
       "      <td>0x09D4083fFD20D21ACb9118465aD7C52Ac8B548f7</td>\n",
       "      <td>1</td>\n",
       "      <td>0.88</td>\n",
       "    </tr>\n",
       "    <tr>\n",
       "      <th>9107</th>\n",
       "      <td>0x0eB5B03c0303f2F47cD81d7BE4275AF8Ed347576</td>\n",
       "      <td>108</td>\n",
       "      <td>94.74</td>\n",
       "    </tr>\n",
       "    <tr>\n",
       "      <th>10898</th>\n",
       "      <td>0x11cd09a0c5B1dc674615783b0772a9bFD53e3A8F</td>\n",
       "      <td>4</td>\n",
       "      <td>3.51</td>\n",
       "    </tr>\n",
       "    <tr>\n",
       "      <th>12009</th>\n",
       "      <td>0x13BDaE8c5F0fC40231F0E6A4ad70196F59138548</td>\n",
       "      <td>56</td>\n",
       "      <td>49.12</td>\n",
       "    </tr>\n",
       "    <tr>\n",
       "      <th>14840</th>\n",
       "      <td>0x18BF1a97744539a348304E9d266aAc7d446a1582</td>\n",
       "      <td>104</td>\n",
       "      <td>91.23</td>\n",
       "    </tr>\n",
       "    <tr>\n",
       "      <th>15036</th>\n",
       "      <td>0x190473B3071946df65306989972706A4c006A561</td>\n",
       "      <td>105</td>\n",
       "      <td>92.11</td>\n",
       "    </tr>\n",
       "    <tr>\n",
       "      <th>15972</th>\n",
       "      <td>0x1B686eE8E31c5959D9F5BBd8122a58682788eeaD</td>\n",
       "      <td>111</td>\n",
       "      <td>97.37</td>\n",
       "    </tr>\n",
       "    <tr>\n",
       "      <th>17773</th>\n",
       "      <td>0x1be2655C587C39610751176ce3C6f3c7018D61c1</td>\n",
       "      <td>3</td>\n",
       "      <td>2.63</td>\n",
       "    </tr>\n",
       "    <tr>\n",
       "      <th>20572</th>\n",
       "      <td>0x22aA1F4173b826451763EbfCE22cf54A0603163c</td>\n",
       "      <td>85</td>\n",
       "      <td>74.56</td>\n",
       "    </tr>\n",
       "    <tr>\n",
       "      <th>27342</th>\n",
       "      <td>0x2e3BEf6830Ae84bb4225D318F9f61B6b88C147bF</td>\n",
       "      <td>39</td>\n",
       "      <td>34.21</td>\n",
       "    </tr>\n",
       "    <tr>\n",
       "      <th>27556</th>\n",
       "      <td>0x2ef27b114917dD53f8633440A7C0328fef132e2F</td>\n",
       "      <td>24</td>\n",
       "      <td>21.05</td>\n",
       "    </tr>\n",
       "    <tr>\n",
       "      <th>28089</th>\n",
       "      <td>0x3070FeEAfD678751c29171Bacd0042Fb370DEE00</td>\n",
       "      <td>57</td>\n",
       "      <td>50.00</td>\n",
       "    </tr>\n",
       "    <tr>\n",
       "      <th>30352</th>\n",
       "      <td>0x3471884f189FD7C63fe8C83601D28cE0Cc1B3853</td>\n",
       "      <td>3</td>\n",
       "      <td>2.63</td>\n",
       "    </tr>\n",
       "    <tr>\n",
       "      <th>31466</th>\n",
       "      <td>0x367894907D569a9554aFC4533E183073252362C3</td>\n",
       "      <td>3</td>\n",
       "      <td>2.63</td>\n",
       "    </tr>\n",
       "    <tr>\n",
       "      <th>33336</th>\n",
       "      <td>0x39F7253a370e7D07E70DD60Fc6a7D51806C0bda8</td>\n",
       "      <td>10</td>\n",
       "      <td>8.77</td>\n",
       "    </tr>\n",
       "    <tr>\n",
       "      <th>34313</th>\n",
       "      <td>0x3D1846ea60001A3Bc21438d76f3958422fe89adB</td>\n",
       "      <td>106</td>\n",
       "      <td>92.98</td>\n",
       "    </tr>\n",
       "    <tr>\n",
       "      <th>35807</th>\n",
       "      <td>0x3c5Aac016EF2F178e8699D6208796A2D67557fe2</td>\n",
       "      <td>96</td>\n",
       "      <td>84.21</td>\n",
       "    </tr>\n",
       "    <tr>\n",
       "      <th>41259</th>\n",
       "      <td>0x47E98aA12dB2017295d33e94002521820442F827</td>\n",
       "      <td>89</td>\n",
       "      <td>78.07</td>\n",
       "    </tr>\n",
       "    <tr>\n",
       "      <th>47807</th>\n",
       "      <td>0x5318f07A3a20A2f8bb0DDf14F1DD58C517a76508</td>\n",
       "      <td>56</td>\n",
       "      <td>49.12</td>\n",
       "    </tr>\n",
       "    <tr>\n",
       "      <th>48090</th>\n",
       "      <td>0x539629494be6b004d33d290E6243806750A3A2f4</td>\n",
       "      <td>54</td>\n",
       "      <td>47.37</td>\n",
       "    </tr>\n",
       "    <tr>\n",
       "      <th>51846</th>\n",
       "      <td>0x5AaAEF91F93bE4dE932b8e7324aBBF9f26DAa706</td>\n",
       "      <td>1</td>\n",
       "      <td>0.88</td>\n",
       "    </tr>\n",
       "    <tr>\n",
       "      <th>52145</th>\n",
       "      <td>0x5Be0feE0f748c1737793172D42c14E4810D2038E</td>\n",
       "      <td>36</td>\n",
       "      <td>31.58</td>\n",
       "    </tr>\n",
       "    <tr>\n",
       "      <th>53494</th>\n",
       "      <td>0x5aB0Fdc6F0CA9Ea178c95cECCf944A4ce1AedDdD</td>\n",
       "      <td>68</td>\n",
       "      <td>59.65</td>\n",
       "    </tr>\n",
       "    <tr>\n",
       "      <th>53626</th>\n",
       "      <td>0x5b39C3907Bd9db69B435A6cbf485915135FfFfd6</td>\n",
       "      <td>4</td>\n",
       "      <td>3.51</td>\n",
       "    </tr>\n",
       "    <tr>\n",
       "      <th>54768</th>\n",
       "      <td>0x5f5ec4F83AcCC5bA176064Dbfa67D6ac74c03af2</td>\n",
       "      <td>2</td>\n",
       "      <td>1.75</td>\n",
       "    </tr>\n",
       "    <tr>\n",
       "      <th>62030</th>\n",
       "      <td>0x6a26afb01Ff57e827079658238858d55774cA2D5</td>\n",
       "      <td>10</td>\n",
       "      <td>8.77</td>\n",
       "    </tr>\n",
       "    <tr>\n",
       "      <th>69132</th>\n",
       "      <td>0x79C4213a328E3B4F1D87b4953C14759399dB25E2</td>\n",
       "      <td>64</td>\n",
       "      <td>56.14</td>\n",
       "    </tr>\n",
       "    <tr>\n",
       "      <th>72356</th>\n",
       "      <td>0x7f1156aa350982560653fed03ef0e285ef878B75</td>\n",
       "      <td>103</td>\n",
       "      <td>90.35</td>\n",
       "    </tr>\n",
       "    <tr>\n",
       "      <th>74385</th>\n",
       "      <td>0x8326D18edfC50B4335113C33b25116ec268FF3fE</td>\n",
       "      <td>4</td>\n",
       "      <td>3.51</td>\n",
       "    </tr>\n",
       "    <tr>\n",
       "      <th>74626</th>\n",
       "      <td>0x839395e20bbB182fa440d08F850E6c7A8f6F0780</td>\n",
       "      <td>111</td>\n",
       "      <td>97.37</td>\n",
       "    </tr>\n",
       "    <tr>\n",
       "      <th>79824</th>\n",
       "      <td>0x8F73bE66CA8c79382f72139be03746343Bf5Faa0</td>\n",
       "      <td>17</td>\n",
       "      <td>14.91</td>\n",
       "    </tr>\n",
       "    <tr>\n",
       "      <th>85891</th>\n",
       "      <td>0x978982772b8e4055B921bf9295c0d74eB36Bc54e</td>\n",
       "      <td>36</td>\n",
       "      <td>31.58</td>\n",
       "    </tr>\n",
       "    <tr>\n",
       "      <th>86164</th>\n",
       "      <td>0x9808E45C613eBA00bA18fB3D314dC4d4712c4A85</td>\n",
       "      <td>38</td>\n",
       "      <td>33.33</td>\n",
       "    </tr>\n",
       "    <tr>\n",
       "      <th>92283</th>\n",
       "      <td>0xA5dF0cf3F95C6cd97d998b9D990a86864095d9b0</td>\n",
       "      <td>42</td>\n",
       "      <td>36.84</td>\n",
       "    </tr>\n",
       "    <tr>\n",
       "      <th>93892</th>\n",
       "      <td>0xAD16ebE6FfC7d96624A380F394cD64395B0C6144</td>\n",
       "      <td>107</td>\n",
       "      <td>93.86</td>\n",
       "    </tr>\n",
       "    <tr>\n",
       "      <th>94517</th>\n",
       "      <td>0xAbAbE91A907fAdff921720C43ABe4098e7245E99</td>\n",
       "      <td>111</td>\n",
       "      <td>97.37</td>\n",
       "    </tr>\n",
       "    <tr>\n",
       "      <th>97657</th>\n",
       "      <td>0xB933AEe47C438f22DE0747D57fc239FE37878Dd1</td>\n",
       "      <td>12</td>\n",
       "      <td>10.53</td>\n",
       "    </tr>\n",
       "    <tr>\n",
       "      <th>98923</th>\n",
       "      <td>0xBbE98D590d7eB99F4a236587f2441826396053d3</td>\n",
       "      <td>40</td>\n",
       "      <td>35.09</td>\n",
       "    </tr>\n",
       "    <tr>\n",
       "      <th>109746</th>\n",
       "      <td>0xE48C655276C23F1534AE2a87A2bf8A8A6585Df70</td>\n",
       "      <td>9</td>\n",
       "      <td>7.89</td>\n",
       "    </tr>\n",
       "    <tr>\n",
       "      <th>111052</th>\n",
       "      <td>0xE93D59CC0bcECFD4ac204827eF67c5266079E2b5</td>\n",
       "      <td>112</td>\n",
       "      <td>98.25</td>\n",
       "    </tr>\n",
       "    <tr>\n",
       "      <th>113173</th>\n",
       "      <td>0xF0ea58b65c82c48ce69f0ABD68D178e7764C4bA2</td>\n",
       "      <td>113</td>\n",
       "      <td>99.12</td>\n",
       "    </tr>\n",
       "    <tr>\n",
       "      <th>114135</th>\n",
       "      <td>0xF4B0556B9B6F53E00A1FDD2b0478Ce841991D8fA</td>\n",
       "      <td>111</td>\n",
       "      <td>97.37</td>\n",
       "    </tr>\n",
       "    <tr>\n",
       "      <th>115315</th>\n",
       "      <td>0xF8E93a7D954F7d31D5Fa54Bc0Eb0E384412a158d</td>\n",
       "      <td>18</td>\n",
       "      <td>15.79</td>\n",
       "    </tr>\n",
       "    <tr>\n",
       "      <th>115429</th>\n",
       "      <td>0xF92F185AbD9E00F56cb11B0b709029633d1E37B4</td>\n",
       "      <td>48</td>\n",
       "      <td>42.11</td>\n",
       "    </tr>\n",
       "    <tr>\n",
       "      <th>122493</th>\n",
       "      <td>0xb29A655f3D67B2B6724Fb22B2C2303cB660c946B</td>\n",
       "      <td>48</td>\n",
       "      <td>42.11</td>\n",
       "    </tr>\n",
       "    <tr>\n",
       "      <th>123334</th>\n",
       "      <td>0xb5B069370Ef24BC67F114e185D185063CE3479f8</td>\n",
       "      <td>50</td>\n",
       "      <td>43.86</td>\n",
       "    </tr>\n",
       "    <tr>\n",
       "      <th>130783</th>\n",
       "      <td>0xd035dfE329F35946Edd486Ce51B383133F6b2f5a</td>\n",
       "      <td>15</td>\n",
       "      <td>13.16</td>\n",
       "    </tr>\n",
       "    <tr>\n",
       "      <th>131627</th>\n",
       "      <td>0xd333Bc5c9670C9cEb18f9A2CF02C6E86807a8227</td>\n",
       "      <td>34</td>\n",
       "      <td>29.82</td>\n",
       "    </tr>\n",
       "    <tr>\n",
       "      <th>134572</th>\n",
       "      <td>0xdb5781a835b60110298fF7205D8ef9678Ff1f800</td>\n",
       "      <td>4</td>\n",
       "      <td>3.51</td>\n",
       "    </tr>\n",
       "    <tr>\n",
       "      <th>137594</th>\n",
       "      <td>0xe876a94EBAa0d8D2dA4142766d8C803a7C1D8ED8</td>\n",
       "      <td>45</td>\n",
       "      <td>39.47</td>\n",
       "    </tr>\n",
       "    <tr>\n",
       "      <th>140805</th>\n",
       "      <td>0xf3FE8c6c75bE4afB2F8200Fc77339abE4D7CFF33</td>\n",
       "      <td>110</td>\n",
       "      <td>96.49</td>\n",
       "    </tr>\n",
       "    <tr>\n",
       "      <th>142422</th>\n",
       "      <td>0xf9551c66995eD3Ff9bb05C9Fd7ff148Bd75dc99a</td>\n",
       "      <td>86</td>\n",
       "      <td>75.44</td>\n",
       "    </tr>\n",
       "    <tr>\n",
       "      <th>143735</th>\n",
       "      <td>0xfc7A6e0b80b2cfcABBa789ef1565Af9BC5d00aa0</td>\n",
       "      <td>16</td>\n",
       "      <td>14.04</td>\n",
       "    </tr>\n",
       "  </tbody>\n",
       "</table>\n",
       "</div>"
      ],
      "text/plain": [
       "                                             voter  \\\n",
       "5497    0x09D4083fFD20D21ACb9118465aD7C52Ac8B548f7   \n",
       "9107    0x0eB5B03c0303f2F47cD81d7BE4275AF8Ed347576   \n",
       "10898   0x11cd09a0c5B1dc674615783b0772a9bFD53e3A8F   \n",
       "12009   0x13BDaE8c5F0fC40231F0E6A4ad70196F59138548   \n",
       "14840   0x18BF1a97744539a348304E9d266aAc7d446a1582   \n",
       "15036   0x190473B3071946df65306989972706A4c006A561   \n",
       "15972   0x1B686eE8E31c5959D9F5BBd8122a58682788eeaD   \n",
       "17773   0x1be2655C587C39610751176ce3C6f3c7018D61c1   \n",
       "20572   0x22aA1F4173b826451763EbfCE22cf54A0603163c   \n",
       "27342   0x2e3BEf6830Ae84bb4225D318F9f61B6b88C147bF   \n",
       "27556   0x2ef27b114917dD53f8633440A7C0328fef132e2F   \n",
       "28089   0x3070FeEAfD678751c29171Bacd0042Fb370DEE00   \n",
       "30352   0x3471884f189FD7C63fe8C83601D28cE0Cc1B3853   \n",
       "31466   0x367894907D569a9554aFC4533E183073252362C3   \n",
       "33336   0x39F7253a370e7D07E70DD60Fc6a7D51806C0bda8   \n",
       "34313   0x3D1846ea60001A3Bc21438d76f3958422fe89adB   \n",
       "35807   0x3c5Aac016EF2F178e8699D6208796A2D67557fe2   \n",
       "41259   0x47E98aA12dB2017295d33e94002521820442F827   \n",
       "47807   0x5318f07A3a20A2f8bb0DDf14F1DD58C517a76508   \n",
       "48090   0x539629494be6b004d33d290E6243806750A3A2f4   \n",
       "51846   0x5AaAEF91F93bE4dE932b8e7324aBBF9f26DAa706   \n",
       "52145   0x5Be0feE0f748c1737793172D42c14E4810D2038E   \n",
       "53494   0x5aB0Fdc6F0CA9Ea178c95cECCf944A4ce1AedDdD   \n",
       "53626   0x5b39C3907Bd9db69B435A6cbf485915135FfFfd6   \n",
       "54768   0x5f5ec4F83AcCC5bA176064Dbfa67D6ac74c03af2   \n",
       "62030   0x6a26afb01Ff57e827079658238858d55774cA2D5   \n",
       "69132   0x79C4213a328E3B4F1D87b4953C14759399dB25E2   \n",
       "72356   0x7f1156aa350982560653fed03ef0e285ef878B75   \n",
       "74385   0x8326D18edfC50B4335113C33b25116ec268FF3fE   \n",
       "74626   0x839395e20bbB182fa440d08F850E6c7A8f6F0780   \n",
       "79824   0x8F73bE66CA8c79382f72139be03746343Bf5Faa0   \n",
       "85891   0x978982772b8e4055B921bf9295c0d74eB36Bc54e   \n",
       "86164   0x9808E45C613eBA00bA18fB3D314dC4d4712c4A85   \n",
       "92283   0xA5dF0cf3F95C6cd97d998b9D990a86864095d9b0   \n",
       "93892   0xAD16ebE6FfC7d96624A380F394cD64395B0C6144   \n",
       "94517   0xAbAbE91A907fAdff921720C43ABe4098e7245E99   \n",
       "97657   0xB933AEe47C438f22DE0747D57fc239FE37878Dd1   \n",
       "98923   0xBbE98D590d7eB99F4a236587f2441826396053d3   \n",
       "109746  0xE48C655276C23F1534AE2a87A2bf8A8A6585Df70   \n",
       "111052  0xE93D59CC0bcECFD4ac204827eF67c5266079E2b5   \n",
       "113173  0xF0ea58b65c82c48ce69f0ABD68D178e7764C4bA2   \n",
       "114135  0xF4B0556B9B6F53E00A1FDD2b0478Ce841991D8fA   \n",
       "115315  0xF8E93a7D954F7d31D5Fa54Bc0Eb0E384412a158d   \n",
       "115429  0xF92F185AbD9E00F56cb11B0b709029633d1E37B4   \n",
       "122493  0xb29A655f3D67B2B6724Fb22B2C2303cB660c946B   \n",
       "123334  0xb5B069370Ef24BC67F114e185D185063CE3479f8   \n",
       "130783  0xd035dfE329F35946Edd486Ce51B383133F6b2f5a   \n",
       "131627  0xd333Bc5c9670C9cEb18f9A2CF02C6E86807a8227   \n",
       "134572  0xdb5781a835b60110298fF7205D8ef9678Ff1f800   \n",
       "137594  0xe876a94EBAa0d8D2dA4142766d8C803a7C1D8ED8   \n",
       "140805  0xf3FE8c6c75bE4afB2F8200Fc77339abE4D7CFF33   \n",
       "142422  0xf9551c66995eD3Ff9bb05C9Fd7ff148Bd75dc99a   \n",
       "143735  0xfc7A6e0b80b2cfcABBa789ef1565Af9BC5d00aa0   \n",
       "\n",
       "        total_proposals_participated  votes%  \n",
       "5497                               1    0.88  \n",
       "9107                             108   94.74  \n",
       "10898                              4    3.51  \n",
       "12009                             56   49.12  \n",
       "14840                            104   91.23  \n",
       "15036                            105   92.11  \n",
       "15972                            111   97.37  \n",
       "17773                              3    2.63  \n",
       "20572                             85   74.56  \n",
       "27342                             39   34.21  \n",
       "27556                             24   21.05  \n",
       "28089                             57   50.00  \n",
       "30352                              3    2.63  \n",
       "31466                              3    2.63  \n",
       "33336                             10    8.77  \n",
       "34313                            106   92.98  \n",
       "35807                             96   84.21  \n",
       "41259                             89   78.07  \n",
       "47807                             56   49.12  \n",
       "48090                             54   47.37  \n",
       "51846                              1    0.88  \n",
       "52145                             36   31.58  \n",
       "53494                             68   59.65  \n",
       "53626                              4    3.51  \n",
       "54768                              2    1.75  \n",
       "62030                             10    8.77  \n",
       "69132                             64   56.14  \n",
       "72356                            103   90.35  \n",
       "74385                              4    3.51  \n",
       "74626                            111   97.37  \n",
       "79824                             17   14.91  \n",
       "85891                             36   31.58  \n",
       "86164                             38   33.33  \n",
       "92283                             42   36.84  \n",
       "93892                            107   93.86  \n",
       "94517                            111   97.37  \n",
       "97657                             12   10.53  \n",
       "98923                             40   35.09  \n",
       "109746                             9    7.89  \n",
       "111052                           112   98.25  \n",
       "113173                           113   99.12  \n",
       "114135                           111   97.37  \n",
       "115315                            18   15.79  \n",
       "115429                            48   42.11  \n",
       "122493                            48   42.11  \n",
       "123334                            50   43.86  \n",
       "130783                            15   13.16  \n",
       "131627                            34   29.82  \n",
       "134572                             4    3.51  \n",
       "137594                            45   39.47  \n",
       "140805                           110   96.49  \n",
       "142422                            86   75.44  \n",
       "143735                            16   14.04  "
      ]
     },
     "execution_count": 87,
     "metadata": {},
     "output_type": "execute_result"
    }
   ],
   "source": [
    "filtered_data"
   ]
  },
  {
   "cell_type": "code",
   "execution_count": 88,
   "metadata": {},
   "outputs": [
    {
     "data": {
      "text/plain": [
       "Index(['voter', 'total_proposals_participated', 'votes%'], dtype='object')"
      ]
     },
     "execution_count": 88,
     "metadata": {},
     "output_type": "execute_result"
    }
   ],
   "source": [
    "filtered_data.columns"
   ]
  },
  {
   "cell_type": "code",
   "execution_count": 98,
   "metadata": {},
   "outputs": [
    {
     "data": {
      "image/png": "[encoded data removed]",
      "text/plain": [
       "<Figure size 1000x500 with 1 Axes>"
      ]
     },
     "metadata": {},
     "output_type": "display_data"
    }
   ],
   "source": [
    "# Visualize the distribution\n",
    "plt.figure(figsize=(10, 5))\n",
    "sns.histplot(data=filtered_data, \n",
    "             x='total_proposals_participated', bins=20, kde=True)\n",
    "plt.title('Distribution of Voters on Total Proposals Participated')\n",
    "plt.xlabel('Total Proposals Participated')\n",
    "plt.ylabel('Frequency')\n",
    "\n",
    "plt.tight_layout()\n",
    "plt.show()"
   ]
  },
  {
   "cell_type": "code",
   "execution_count": 102,
   "metadata": {},
   "outputs": [
    {
     "data": {
      "application/vnd.plotly.v1+json": {
       "config": {
        "plotlyServerURL": "https://plot.ly"
       },
       "data": [
        {
         "alignmentgroup": "True",
         "hovertemplate": "Voter=%{x}<br>Total Proposals Participated=%{marker.color}<extra></extra>",
         "legendgroup": "",
         "marker": {
          "color": [
           113,
           112,
           111,
           111,
           111,
           111,
           110,
           108,
           107,
           106,
           105,
           104,
           103,
           96,
           89,
           86,
           85,
           68,
           64,
           57,
           56,
           56,
           54,
           50,
           48,
           48,
           45,
           42,
           40,
           39,
           38,
           36,
           36,
           34,
           24,
           18,
           17,
           16,
           15,
           12,
           10,
           10,
           9,
           4,
           4,
           4,
           4,
           3,
           3,
           3,
           2,
           1,
           1
          ],
          "coloraxis": "coloraxis",
          "pattern": {
           "shape": ""
          }
         },
         "name": "",
         "offsetgroup": "",
         "orientation": "v",
         "showlegend": false,
         "textposition": "auto",
         "type": "bar",
         "x": [
          "0xF0ea58b65c82c48ce69f0ABD68D178e7764C4bA2",
          "0xE93D59CC0bcECFD4ac204827eF67c5266079E2b5",
          "0x839395e20bbB182fa440d08F850E6c7A8f6F0780",
          "0xF4B0556B9B6F53E00A1FDD2b0478Ce841991D8fA",
          "0xAbAbE91A907fAdff921720C43ABe4098e7245E99",
          "0x1B686eE8E31c5959D9F5BBd8122a58682788eeaD",
          "0xf3FE8c6c75bE4afB2F8200Fc77339abE4D7CFF33",
          "0x0eB5B03c0303f2F47cD81d7BE4275AF8Ed347576",
          "0xAD16ebE6FfC7d96624A380F394cD64395B0C6144",
          "0x3D1846ea60001A3Bc21438d76f3958422fe89adB",
          "0x190473B3071946df65306989972706A4c006A561",
          "0x18BF1a97744539a348304E9d266aAc7d446a1582",
          "0x7f1156aa350982560653fed03ef0e285ef878B75",
          "0x3c5Aac016EF2F178e8699D6208796A2D67557fe2",
          "0x47E98aA12dB2017295d33e94002521820442F827",
          "0xf9551c66995eD3Ff9bb05C9Fd7ff148Bd75dc99a",
          "0x22aA1F4173b826451763EbfCE22cf54A0603163c",
          "0x5aB0Fdc6F0CA9Ea178c95cECCf944A4ce1AedDdD",
          "0x79C4213a328E3B4F1D87b4953C14759399dB25E2",
          "0x3070FeEAfD678751c29171Bacd0042Fb370DEE00",
          "0x13BDaE8c5F0fC40231F0E6A4ad70196F59138548",
          "0x5318f07A3a20A2f8bb0DDf14F1DD58C517a76508",
          "0x539629494be6b004d33d290E6243806750A3A2f4",
          "0xb5B069370Ef24BC67F114e185D185063CE3479f8",
          "0xF92F185AbD9E00F56cb11B0b709029633d1E37B4",
          "0xb29A655f3D67B2B6724Fb22B2C2303cB660c946B",
          "0xe876a94EBAa0d8D2dA4142766d8C803a7C1D8ED8",
          "0xA5dF0cf3F95C6cd97d998b9D990a86864095d9b0",
          "0xBbE98D590d7eB99F4a236587f2441826396053d3",
          "0x2e3BEf6830Ae84bb4225D318F9f61B6b88C147bF",
          "0x9808E45C613eBA00bA18fB3D314dC4d4712c4A85",
          "0x978982772b8e4055B921bf9295c0d74eB36Bc54e",
          "0x5Be0feE0f748c1737793172D42c14E4810D2038E",
          "0xd333Bc5c9670C9cEb18f9A2CF02C6E86807a8227",
          "0x2ef27b114917dD53f8633440A7C0328fef132e2F",
          "0xF8E93a7D954F7d31D5Fa54Bc0Eb0E384412a158d",
          "0x8F73bE66CA8c79382f72139be03746343Bf5Faa0",
          "0xfc7A6e0b80b2cfcABBa789ef1565Af9BC5d00aa0",
          "0xd035dfE329F35946Edd486Ce51B383133F6b2f5a",
          "0xB933AEe47C438f22DE0747D57fc239FE37878Dd1",
          "0x6a26afb01Ff57e827079658238858d55774cA2D5",
          "0x39F7253a370e7D07E70DD60Fc6a7D51806C0bda8",
          "0xE48C655276C23F1534AE2a87A2bf8A8A6585Df70",
          "0x8326D18edfC50B4335113C33b25116ec268FF3fE",
          "0x5b39C3907Bd9db69B435A6cbf485915135FfFfd6",
          "0xdb5781a835b60110298fF7205D8ef9678Ff1f800",
          "0x11cd09a0c5B1dc674615783b0772a9bFD53e3A8F",
          "0x367894907D569a9554aFC4533E183073252362C3",
          "0x3471884f189FD7C63fe8C83601D28cE0Cc1B3853",
          "0x1be2655C587C39610751176ce3C6f3c7018D61c1",
          "0x5f5ec4F83AcCC5bA176064Dbfa67D6ac74c03af2",
          "0x5AaAEF91F93bE4dE932b8e7324aBBF9f26DAa706",
          "0x09D4083fFD20D21ACb9118465aD7C52Ac8B548f7"
         ],
         "xaxis": "x",
         "y": [
          113,
          112,
          111,
          111,
          111,
          111,
          110,
          108,
          107,
          106,
          105,
          104,
          103,
          96,
          89,
          86,
          85,
          68,
          64,
          57,
          56,
          56,
          54,
          50,
          48,
          48,
          45,
          42,
          40,
          39,
          38,
          36,
          36,
          34,
          24,
          18,
          17,
          16,
          15,
          12,
          10,
          10,
          9,
          4,
          4,
          4,
          4,
          3,
          3,
          3,
          2,
          1,
          1
         ],
         "yaxis": "y"
        }
       ],
       "layout": {
        "barmode": "relative",
        "coloraxis": {
         "colorbar": {
          "title": {
           "text": "Total Proposals Participated"
          }
         },
         "colorscale": [
          [
           0,
           "#0d0887"
          ],
          [
           0.1111111111111111,
           "#46039f"
          ],
          [
           0.2222222222222222,
           "#7201a8"
          ],
          [
           0.3333333333333333,
           "#9c179e"
          ],
          [
           0.4444444444444444,
           "#bd3786"
          ],
          [
           0.5555555555555556,
           "#d8576b"
          ],
          [
           0.6666666666666666,
           "#ed7953"
          ],
          [
           0.7777777777777778,
           "#fb9f3a"
          ],
          [
           0.8888888888888888,
           "#fdca26"
          ],
          [
           1,
           "#f0f921"
          ]
         ]
        },
        "legend": {
         "tracegroupgap": 0
        },
        "template": {
         "data": {
          "bar": [
           {
            "error_x": {
             "color": "#2a3f5f"
            },
            "error_y": {
             "color": "#2a3f5f"
            },
            "marker": {
             "line": {
              "color": "#E5ECF6",
              "width": 0.5
             },
             "pattern": {
              "fillmode": "overlay",
              "size": 10,
              "solidity": 0.2
             }
            },
            "type": "bar"
           }
          ],
          "barpolar": [
           {
            "marker": {
             "line": {
              "color": "#E5ECF6",
              "width": 0.5
             },
             "pattern": {
              "fillmode": "overlay",
              "size": 10,
              "solidity": 0.2
             }
            },
            "type": "barpolar"
           }
          ],
          "carpet": [
           {
            "aaxis": {
             "endlinecolor": "#2a3f5f",
             "gridcolor": "white",
             "linecolor": "white",
             "minorgridcolor": "white",
             "startlinecolor": "#2a3f5f"
            },
            "baxis": {
             "endlinecolor": "#2a3f5f",
             "gridcolor": "white",
             "linecolor": "white",
             "minorgridcolor": "white",
             "startlinecolor": "#2a3f5f"
            },
            "type": "carpet"
           }
          ],
          "choropleth": [
           {
            "colorbar": {
             "outlinewidth": 0,
             "ticks": ""
            },
            "type": "choropleth"
           }
          ],
          "contour": [
           {
            "colorbar": {
             "outlinewidth": 0,
             "ticks": ""
            },
            "colorscale": [
             [
              0,
              "#0d0887"
             ],
             [
              0.1111111111111111,
              "#46039f"
             ],
             [
              0.2222222222222222,
              "#7201a8"
             ],
             [
              0.3333333333333333,
              "#9c179e"
             ],
             [
              0.4444444444444444,
              "#bd3786"
             ],
             [
              0.5555555555555556,
              "#d8576b"
             ],
             [
              0.6666666666666666,
              "#ed7953"
             ],
             [
              0.7777777777777778,
              "#fb9f3a"
             ],
             [
              0.8888888888888888,
              "#fdca26"
             ],
             [
              1,
              "#f0f921"
             ]
            ],
            "type": "contour"
           }
          ],
          "contourcarpet": [
           {
            "colorbar": {
             "outlinewidth": 0,
             "ticks": ""
            },
            "type": "contourcarpet"
           }
          ],
          "heatmap": [
           {
            "colorbar": {
             "outlinewidth": 0,
             "ticks": ""
            },
            "colorscale": [
             [
              0,
              "#0d0887"
             ],
             [
              0.1111111111111111,
              "#46039f"
             ],
             [
              0.2222222222222222,
              "#7201a8"
             ],
             [
              0.3333333333333333,
              "#9c179e"
             ],
             [
              0.4444444444444444,
              "#bd3786"
             ],
             [
              0.5555555555555556,
              "#d8576b"
             ],
             [
              0.6666666666666666,
              "#ed7953"
             ],
             [
              0.7777777777777778,
              "#fb9f3a"
             ],
             [
              0.8888888888888888,
              "#fdca26"
             ],
             [
              1,
              "#f0f921"
             ]
            ],
            "type": "heatmap"
           }
          ],
          "heatmapgl": [
           {
            "colorbar": {
             "outlinewidth": 0,
             "ticks": ""
            },
            "colorscale": [
             [
              0,
              "#0d0887"
             ],
             [
              0.1111111111111111,
              "#46039f"
             ],
             [
              0.2222222222222222,
              "#7201a8"
             ],
             [
              0.3333333333333333,
              "#9c179e"
             ],
             [
              0.4444444444444444,
              "#bd3786"
             ],
             [
              0.5555555555555556,
              "#d8576b"
             ],
             [
              0.6666666666666666,
              "#ed7953"
             ],
             [
              0.7777777777777778,
              "#fb9f3a"
             ],
             [
              0.8888888888888888,
              "#fdca26"
             ],
             [
              1,
              "#f0f921"
             ]
            ],
            "type": "heatmapgl"
           }
          ],
          "histogram": [
           {
            "marker": {
             "pattern": {
              "fillmode": "overlay",
              "size": 10,
              "solidity": 0.2
             }
            },
            "type": "histogram"
           }
          ],
          "histogram2d": [
           {
            "colorbar": {
             "outlinewidth": 0,
             "ticks": ""
            },
            "colorscale": [
             [
              0,
              "#0d0887"
             ],
             [
              0.1111111111111111,
              "#46039f"
             ],
             [
              0.2222222222222222,
              "#7201a8"
             ],
             [
              0.3333333333333333,
              "#9c179e"
             ],
             [
              0.4444444444444444,
              "#bd3786"
             ],
             [
              0.5555555555555556,
              "#d8576b"
             ],
             [
              0.6666666666666666,
              "#ed7953"
             ],
             [
              0.7777777777777778,
              "#fb9f3a"
             ],
             [
              0.8888888888888888,
              "#fdca26"
             ],
             [
              1,
              "#f0f921"
             ]
            ],
            "type": "histogram2d"
           }
          ],
          "histogram2dcontour": [
           {
            "colorbar": {
             "outlinewidth": 0,
             "ticks": ""
            },
            "colorscale": [
             [
              0,
              "#0d0887"
             ],
             [
              0.1111111111111111,
              "#46039f"
             ],
             [
              0.2222222222222222,
              "#7201a8"
             ],
             [
              0.3333333333333333,
              "#9c179e"
             ],
             [
              0.4444444444444444,
              "#bd3786"
             ],
             [
              0.5555555555555556,
              "#d8576b"
             ],
             [
              0.6666666666666666,
              "#ed7953"
             ],
             [
              0.7777777777777778,
              "#fb9f3a"
             ],
             [
              0.8888888888888888,
              "#fdca26"
             ],
             [
              1,
              "#f0f921"
             ]
            ],
            "type": "histogram2dcontour"
           }
          ],
          "mesh3d": [
           {
            "colorbar": {
             "outlinewidth": 0,
             "ticks": ""
            },
            "type": "mesh3d"
           }
          ],
          "parcoords": [
           {
            "line": {
             "colorbar": {
              "outlinewidth": 0,
              "ticks": ""
             }
            },
            "type": "parcoords"
           }
          ],
          "pie": [
           {
            "automargin": true,
            "type": "pie"
           }
          ],
          "scatter": [
           {
            "fillpattern": {
             "fillmode": "overlay",
             "size": 10,
             "solidity": 0.2
            },
            "type": "scatter"
           }
          ],
          "scatter3d": [
           {
            "line": {
             "colorbar": {
              "outlinewidth": 0,
              "ticks": ""
             }
            },
            "marker": {
             "colorbar": {
              "outlinewidth": 0,
              "ticks": ""
             }
            },
            "type": "scatter3d"
           }
          ],
          "scattercarpet": [
           {
            "marker": {
             "colorbar": {
              "outlinewidth": 0,
              "ticks": ""
             }
            },
            "type": "scattercarpet"
           }
          ],
          "scattergeo": [
           {
            "marker": {
             "colorbar": {
              "outlinewidth": 0,
              "ticks": ""
             }
            },
            "type": "scattergeo"
           }
          ],
          "scattergl": [
           {
            "marker": {
             "colorbar": {
              "outlinewidth": 0,
              "ticks": ""
             }
            },
            "type": "scattergl"
           }
          ],
          "scattermapbox": [
           {
            "marker": {
             "colorbar": {
              "outlinewidth": 0,
              "ticks": ""
             }
            },
            "type": "scattermapbox"
           }
          ],
          "scatterpolar": [
           {
            "marker": {
             "colorbar": {
              "outlinewidth": 0,
              "ticks": ""
             }
            },
            "type": "scatterpolar"
           }
          ],
          "scatterpolargl": [
           {
            "marker": {
             "colorbar": {
              "outlinewidth": 0,
              "ticks": ""
             }
            },
            "type": "scatterpolargl"
           }
          ],
          "scatterternary": [
           {
            "marker": {
             "colorbar": {
              "outlinewidth": 0,
              "ticks": ""
             }
            },
            "type": "scatterternary"
           }
          ],
          "surface": [
           {
            "colorbar": {
             "outlinewidth": 0,
             "ticks": ""
            },
            "colorscale": [
             [
              0,
              "#0d0887"
             ],
             [
              0.1111111111111111,
              "#46039f"
             ],
             [
              0.2222222222222222,
              "#7201a8"
             ],
             [
              0.3333333333333333,
              "#9c179e"
             ],
             [
              0.4444444444444444,
              "#bd3786"
             ],
             [
              0.5555555555555556,
              "#d8576b"
             ],
             [
              0.6666666666666666,
              "#ed7953"
             ],
             [
              0.7777777777777778,
              "#fb9f3a"
             ],
             [
              0.8888888888888888,
              "#fdca26"
             ],
             [
              1,
              "#f0f921"
             ]
            ],
            "type": "surface"
           }
          ],
          "table": [
           {
            "cells": {
             "fill": {
              "color": "#EBF0F8"
             },
             "line": {
              "color": "white"
             }
            },
            "header": {
             "fill": {
              "color": "#C8D4E3"
             },
             "line": {
              "color": "white"
             }
            },
            "type": "table"
           }
          ]
         },
         "layout": {
          "annotationdefaults": {
           "arrowcolor": "#2a3f5f",
           "arrowhead": 0,
           "arrowwidth": 1
          },
          "autotypenumbers": "strict",
          "coloraxis": {
           "colorbar": {
            "outlinewidth": 0,
            "ticks": ""
           }
          },
          "colorscale": {
           "diverging": [
            [
             0,
             "#8e0152"
            ],
            [
             0.1,
             "#c51b7d"
            ],
            [
             0.2,
             "#de77ae"
            ],
            [
             0.3,
             "#f1b6da"
            ],
            [
             0.4,
             "#fde0ef"
            ],
            [
             0.5,
             "#f7f7f7"
            ],
            [
             0.6,
             "#e6f5d0"
            ],
            [
             0.7,
             "#b8e186"
            ],
            [
             0.8,
             "#7fbc41"
            ],
            [
             0.9,
             "#4d9221"
            ],
            [
             1,
             "#276419"
            ]
           ],
           "sequential": [
            [
             0,
             "#0d0887"
            ],
            [
             0.1111111111111111,
             "#46039f"
            ],
            [
             0.2222222222222222,
             "#7201a8"
            ],
            [
             0.3333333333333333,
             "#9c179e"
            ],
            [
             0.4444444444444444,
             "#bd3786"
            ],
            [
             0.5555555555555556,
             "#d8576b"
            ],
            [
             0.6666666666666666,
             "#ed7953"
            ],
            [
             0.7777777777777778,
             "#fb9f3a"
            ],
            [
             0.8888888888888888,
             "#fdca26"
            ],
            [
             1,
             "#f0f921"
            ]
           ],
           "sequentialminus": [
            [
             0,
             "#0d0887"
            ],
            [
             0.1111111111111111,
             "#46039f"
            ],
            [
             0.2222222222222222,
             "#7201a8"
            ],
            [
             0.3333333333333333,
             "#9c179e"
            ],
            [
             0.4444444444444444,
             "#bd3786"
            ],
            [
             0.5555555555555556,
             "#d8576b"
            ],
            [
             0.6666666666666666,
             "#ed7953"
            ],
            [
             0.7777777777777778,
             "#fb9f3a"
            ],
            [
             0.8888888888888888,
             "#fdca26"
            ],
            [
             1,
             "#f0f921"
            ]
           ]
          },
          "colorway": [
           "#636efa",
           "#EF553B",
           "#00cc96",
           "#ab63fa",
           "#FFA15A",
           "#19d3f3",
           "#FF6692",
           "#B6E880",
           "#FF97FF",
           "#FECB52"
          ],
          "font": {
           "color": "#2a3f5f"
          },
          "geo": {
           "bgcolor": "white",
           "lakecolor": "white",
           "landcolor": "#E5ECF6",
           "showlakes": true,
           "showland": true,
           "subunitcolor": "white"
          },
          "hoverlabel": {
           "align": "left"
          },
          "hovermode": "closest",
          "mapbox": {
           "style": "light"
          },
          "paper_bgcolor": "white",
          "plot_bgcolor": "#E5ECF6",
          "polar": {
           "angularaxis": {
            "gridcolor": "white",
            "linecolor": "white",
            "ticks": ""
           },
           "bgcolor": "#E5ECF6",
           "radialaxis": {
            "gridcolor": "white",
            "linecolor": "white",
            "ticks": ""
           }
          },
          "scene": {
           "xaxis": {
            "backgroundcolor": "#E5ECF6",
            "gridcolor": "white",
            "gridwidth": 2,
            "linecolor": "white",
            "showbackground": true,
            "ticks": "",
            "zerolinecolor": "white"
           },
           "yaxis": {
            "backgroundcolor": "#E5ECF6",
            "gridcolor": "white",
            "gridwidth": 2,
            "linecolor": "white",
            "showbackground": true,
            "ticks": "",
            "zerolinecolor": "white"
           },
           "zaxis": {
            "backgroundcolor": "#E5ECF6",
            "gridcolor": "white",
            "gridwidth": 2,
            "linecolor": "white",
            "showbackground": true,
            "ticks": "",
            "zerolinecolor": "white"
           }
          },
          "shapedefaults": {
           "line": {
            "color": "#2a3f5f"
           }
          },
          "ternary": {
           "aaxis": {
            "gridcolor": "white",
            "linecolor": "white",
            "ticks": ""
           },
           "baxis": {
            "gridcolor": "white",
            "linecolor": "white",
            "ticks": ""
           },
           "bgcolor": "#E5ECF6",
           "caxis": {
            "gridcolor": "white",
            "linecolor": "white",
            "ticks": ""
           }
          },
          "title": {
           "x": 0.05
          },
          "xaxis": {
           "automargin": true,
           "gridcolor": "white",
           "linecolor": "white",
           "ticks": "",
           "title": {
            "standoff": 15
           },
           "zerolinecolor": "white",
           "zerolinewidth": 2
          },
          "yaxis": {
           "automargin": true,
           "gridcolor": "white",
           "linecolor": "white",
           "ticks": "",
           "title": {
            "standoff": 15
           },
           "zerolinecolor": "white",
           "zerolinewidth": 2
          }
         }
        },
        "title": {
         "text": "Number of Proposals Participated by Each Voter with High Voting Power"
        },
        "xaxis": {
         "anchor": "y",
         "domain": [
          0,
          1
         ],
         "showticklabels": false,
         "title": {
          "text": "Voter"
         }
        },
        "yaxis": {
         "anchor": "x",
         "domain": [
          0,
          1
         ],
         "title": {
          "text": "Total Proposals Participated"
         }
        }
       }
      }
     },
     "metadata": {},
     "output_type": "display_data"
    }
   ],
   "source": [
    "# Sort the dataframe by 'total_proposals_participated' in descending order\n",
    "df_sorted = filtered_data.sort_values(by='total_proposals_participated', ascending=False)\n",
    "\n",
    "# Create the bar chart using Plotly\n",
    "fig = px.bar(df_sorted, x='voter', y='total_proposals_participated', color='total_proposals_participated',\n",
    "             labels={'voter': 'Voter', 'total_proposals_participated': 'Total Proposals Participated'},\n",
    "             title='Number of Proposals Participated by Each Voter with High Voting Power')\n",
    "\n",
    "# Remove x-ticks\n",
    "fig.update_xaxes(showticklabels=False)\n",
    "\n",
    "# Show the interactive plot\n",
    "fig.show()\n",
    "fig.write_html(r'Graphs\\voter-engagement.html')"
   ]
  },
  {
   "cell_type": "code",
   "execution_count": 106,
   "metadata": {},
   "outputs": [
    {
     "data": {
      "application/vnd.plotly.v1+json": {
       "config": {
        "plotlyServerURL": "https://plot.ly"
       },
       "data": [
        {
         "alignmentgroup": "True",
         "hovertemplate": "Voter=%{x}<br>Total Proposals Participated=%{marker.color}<extra></extra>",
         "legendgroup": "",
         "marker": {
          "color": [
           113,
           112,
           111,
           111,
           111,
           111,
           110,
           108,
           107,
           106,
           105,
           104,
           103,
           96,
           89,
           86,
           85,
           68,
           64,
           57,
           56,
           56,
           54,
           50,
           48,
           48,
           45,
           42,
           40,
           39,
           38,
           36,
           36,
           34,
           24,
           18,
           17,
           16,
           15,
           12,
           10,
           10,
           9,
           4,
           4,
           4,
           4,
           3,
           3,
           3,
           2,
           1,
           1
          ],
          "coloraxis": "coloraxis",
          "pattern": {
           "shape": ""
          }
         },
         "name": "",
         "offsetgroup": "",
         "orientation": "v",
         "showlegend": false,
         "textposition": "auto",
         "type": "bar",
         "x": [
          "0xF0ea58b65c82c48ce69f0ABD68D178e7764C4bA2",
          "0xE93D59CC0bcECFD4ac204827eF67c5266079E2b5",
          "0x839395e20bbB182fa440d08F850E6c7A8f6F0780",
          "0xF4B0556B9B6F53E00A1FDD2b0478Ce841991D8fA",
          "0xAbAbE91A907fAdff921720C43ABe4098e7245E99",
          "0x1B686eE8E31c5959D9F5BBd8122a58682788eeaD",
          "0xf3FE8c6c75bE4afB2F8200Fc77339abE4D7CFF33",
          "0x0eB5B03c0303f2F47cD81d7BE4275AF8Ed347576",
          "0xAD16ebE6FfC7d96624A380F394cD64395B0C6144",
          "0x3D1846ea60001A3Bc21438d76f3958422fe89adB",
          "0x190473B3071946df65306989972706A4c006A561",
          "0x18BF1a97744539a348304E9d266aAc7d446a1582",
          "0x7f1156aa350982560653fed03ef0e285ef878B75",
          "0x3c5Aac016EF2F178e8699D6208796A2D67557fe2",
          "0x47E98aA12dB2017295d33e94002521820442F827",
          "0xf9551c66995eD3Ff9bb05C9Fd7ff148Bd75dc99a",
          "0x22aA1F4173b826451763EbfCE22cf54A0603163c",
          "0x5aB0Fdc6F0CA9Ea178c95cECCf944A4ce1AedDdD",
          "0x79C4213a328E3B4F1D87b4953C14759399dB25E2",
          "0x3070FeEAfD678751c29171Bacd0042Fb370DEE00",
          "0x13BDaE8c5F0fC40231F0E6A4ad70196F59138548",
          "0x5318f07A3a20A2f8bb0DDf14F1DD58C517a76508",
          "0x539629494be6b004d33d290E6243806750A3A2f4",
          "0xb5B069370Ef24BC67F114e185D185063CE3479f8",
          "0xF92F185AbD9E00F56cb11B0b709029633d1E37B4",
          "0xb29A655f3D67B2B6724Fb22B2C2303cB660c946B",
          "0xe876a94EBAa0d8D2dA4142766d8C803a7C1D8ED8",
          "0xA5dF0cf3F95C6cd97d998b9D990a86864095d9b0",
          "0xBbE98D590d7eB99F4a236587f2441826396053d3",
          "0x2e3BEf6830Ae84bb4225D318F9f61B6b88C147bF",
          "0x9808E45C613eBA00bA18fB3D314dC4d4712c4A85",
          "0x978982772b8e4055B921bf9295c0d74eB36Bc54e",
          "0x5Be0feE0f748c1737793172D42c14E4810D2038E",
          "0xd333Bc5c9670C9cEb18f9A2CF02C6E86807a8227",
          "0x2ef27b114917dD53f8633440A7C0328fef132e2F",
          "0xF8E93a7D954F7d31D5Fa54Bc0Eb0E384412a158d",
          "0x8F73bE66CA8c79382f72139be03746343Bf5Faa0",
          "0xfc7A6e0b80b2cfcABBa789ef1565Af9BC5d00aa0",
          "0xd035dfE329F35946Edd486Ce51B383133F6b2f5a",
          "0xB933AEe47C438f22DE0747D57fc239FE37878Dd1",
          "0x6a26afb01Ff57e827079658238858d55774cA2D5",
          "0x39F7253a370e7D07E70DD60Fc6a7D51806C0bda8",
          "0xE48C655276C23F1534AE2a87A2bf8A8A6585Df70",
          "0x8326D18edfC50B4335113C33b25116ec268FF3fE",
          "0x5b39C3907Bd9db69B435A6cbf485915135FfFfd6",
          "0xdb5781a835b60110298fF7205D8ef9678Ff1f800",
          "0x11cd09a0c5B1dc674615783b0772a9bFD53e3A8F",
          "0x367894907D569a9554aFC4533E183073252362C3",
          "0x3471884f189FD7C63fe8C83601D28cE0Cc1B3853",
          "0x1be2655C587C39610751176ce3C6f3c7018D61c1",
          "0x5f5ec4F83AcCC5bA176064Dbfa67D6ac74c03af2",
          "0x5AaAEF91F93bE4dE932b8e7324aBBF9f26DAa706",
          "0x09D4083fFD20D21ACb9118465aD7C52Ac8B548f7"
         ],
         "xaxis": "x",
         "y": [
          113,
          112,
          111,
          111,
          111,
          111,
          110,
          108,
          107,
          106,
          105,
          104,
          103,
          96,
          89,
          86,
          85,
          68,
          64,
          57,
          56,
          56,
          54,
          50,
          48,
          48,
          45,
          42,
          40,
          39,
          38,
          36,
          36,
          34,
          24,
          18,
          17,
          16,
          15,
          12,
          10,
          10,
          9,
          4,
          4,
          4,
          4,
          3,
          3,
          3,
          2,
          1,
          1
         ],
         "yaxis": "y"
        },
        {
         "hoverinfo": "skip",
         "line": {
          "color": "red",
          "dash": "dash"
         },
         "mode": "lines",
         "name": "Mean",
         "showlegend": false,
         "text": [
          "Mean: 51.68",
          "Mean: 51.68",
          "Mean: 51.68",
          "Mean: 51.68",
          "Mean: 51.68",
          "Mean: 51.68",
          "Mean: 51.68",
          "Mean: 51.68",
          "Mean: 51.68",
          "Mean: 51.68",
          "Mean: 51.68",
          "Mean: 51.68",
          "Mean: 51.68",
          "Mean: 51.68",
          "Mean: 51.68",
          "Mean: 51.68",
          "Mean: 51.68",
          "Mean: 51.68",
          "Mean: 51.68",
          "Mean: 51.68",
          "Mean: 51.68",
          "Mean: 51.68",
          "Mean: 51.68",
          "Mean: 51.68",
          "Mean: 51.68",
          "Mean: 51.68",
          "Mean: 51.68",
          "Mean: 51.68",
          "Mean: 51.68",
          "Mean: 51.68",
          "Mean: 51.68",
          "Mean: 51.68",
          "Mean: 51.68",
          "Mean: 51.68",
          "Mean: 51.68",
          "Mean: 51.68",
          "Mean: 51.68",
          "Mean: 51.68",
          "Mean: 51.68",
          "Mean: 51.68",
          "Mean: 51.68",
          "Mean: 51.68",
          "Mean: 51.68",
          "Mean: 51.68",
          "Mean: 51.68",
          "Mean: 51.68",
          "Mean: 51.68",
          "Mean: 51.68",
          "Mean: 51.68",
          "Mean: 51.68",
          "Mean: 51.68",
          "Mean: 51.68",
          "Mean: 51.68"
         ],
         "type": "scatter",
         "x": [
          "0xF0ea58b65c82c48ce69f0ABD68D178e7764C4bA2",
          "0xE93D59CC0bcECFD4ac204827eF67c5266079E2b5",
          "0x839395e20bbB182fa440d08F850E6c7A8f6F0780",
          "0xF4B0556B9B6F53E00A1FDD2b0478Ce841991D8fA",
          "0xAbAbE91A907fAdff921720C43ABe4098e7245E99",
          "0x1B686eE8E31c5959D9F5BBd8122a58682788eeaD",
          "0xf3FE8c6c75bE4afB2F8200Fc77339abE4D7CFF33",
          "0x0eB5B03c0303f2F47cD81d7BE4275AF8Ed347576",
          "0xAD16ebE6FfC7d96624A380F394cD64395B0C6144",
          "0x3D1846ea60001A3Bc21438d76f3958422fe89adB",
          "0x190473B3071946df65306989972706A4c006A561",
          "0x18BF1a97744539a348304E9d266aAc7d446a1582",
          "0x7f1156aa350982560653fed03ef0e285ef878B75",
          "0x3c5Aac016EF2F178e8699D6208796A2D67557fe2",
          "0x47E98aA12dB2017295d33e94002521820442F827",
          "0xf9551c66995eD3Ff9bb05C9Fd7ff148Bd75dc99a",
          "0x22aA1F4173b826451763EbfCE22cf54A0603163c",
          "0x5aB0Fdc6F0CA9Ea178c95cECCf944A4ce1AedDdD",
          "0x79C4213a328E3B4F1D87b4953C14759399dB25E2",
          "0x3070FeEAfD678751c29171Bacd0042Fb370DEE00",
          "0x13BDaE8c5F0fC40231F0E6A4ad70196F59138548",
          "0x5318f07A3a20A2f8bb0DDf14F1DD58C517a76508",
          "0x539629494be6b004d33d290E6243806750A3A2f4",
          "0xb5B069370Ef24BC67F114e185D185063CE3479f8",
          "0xF92F185AbD9E00F56cb11B0b709029633d1E37B4",
          "0xb29A655f3D67B2B6724Fb22B2C2303cB660c946B",
          "0xe876a94EBAa0d8D2dA4142766d8C803a7C1D8ED8",
          "0xA5dF0cf3F95C6cd97d998b9D990a86864095d9b0",
          "0xBbE98D590d7eB99F4a236587f2441826396053d3",
          "0x2e3BEf6830Ae84bb4225D318F9f61B6b88C147bF",
          "0x9808E45C613eBA00bA18fB3D314dC4d4712c4A85",
          "0x978982772b8e4055B921bf9295c0d74eB36Bc54e",
          "0x5Be0feE0f748c1737793172D42c14E4810D2038E",
          "0xd333Bc5c9670C9cEb18f9A2CF02C6E86807a8227",
          "0x2ef27b114917dD53f8633440A7C0328fef132e2F",
          "0xF8E93a7D954F7d31D5Fa54Bc0Eb0E384412a158d",
          "0x8F73bE66CA8c79382f72139be03746343Bf5Faa0",
          "0xfc7A6e0b80b2cfcABBa789ef1565Af9BC5d00aa0",
          "0xd035dfE329F35946Edd486Ce51B383133F6b2f5a",
          "0xB933AEe47C438f22DE0747D57fc239FE37878Dd1",
          "0x6a26afb01Ff57e827079658238858d55774cA2D5",
          "0x39F7253a370e7D07E70DD60Fc6a7D51806C0bda8",
          "0xE48C655276C23F1534AE2a87A2bf8A8A6585Df70",
          "0x8326D18edfC50B4335113C33b25116ec268FF3fE",
          "0x5b39C3907Bd9db69B435A6cbf485915135FfFfd6",
          "0xdb5781a835b60110298fF7205D8ef9678Ff1f800",
          "0x11cd09a0c5B1dc674615783b0772a9bFD53e3A8F",
          "0x367894907D569a9554aFC4533E183073252362C3",
          "0x3471884f189FD7C63fe8C83601D28cE0Cc1B3853",
          "0x1be2655C587C39610751176ce3C6f3c7018D61c1",
          "0x5f5ec4F83AcCC5bA176064Dbfa67D6ac74c03af2",
          "0x5AaAEF91F93bE4dE932b8e7324aBBF9f26DAa706",
          "0x09D4083fFD20D21ACb9118465aD7C52Ac8B548f7"
         ],
         "y": [
          51.679245283018865,
          51.679245283018865,
          51.679245283018865,
          51.679245283018865,
          51.679245283018865,
          51.679245283018865,
          51.679245283018865,
          51.679245283018865,
          51.679245283018865,
          51.679245283018865,
          51.679245283018865,
          51.679245283018865,
          51.679245283018865,
          51.679245283018865,
          51.679245283018865,
          51.679245283018865,
          51.679245283018865,
          51.679245283018865,
          51.679245283018865,
          51.679245283018865,
          51.679245283018865,
          51.679245283018865,
          51.679245283018865,
          51.679245283018865,
          51.679245283018865,
          51.679245283018865,
          51.679245283018865,
          51.679245283018865,
          51.679245283018865,
          51.679245283018865,
          51.679245283018865,
          51.679245283018865,
          51.679245283018865,
          51.679245283018865,
          51.679245283018865,
          51.679245283018865,
          51.679245283018865,
          51.679245283018865,
          51.679245283018865,
          51.679245283018865,
          51.679245283018865,
          51.679245283018865,
          51.679245283018865,
          51.679245283018865,
          51.679245283018865,
          51.679245283018865,
          51.679245283018865,
          51.679245283018865,
          51.679245283018865,
          51.679245283018865,
          51.679245283018865,
          51.679245283018865,
          51.679245283018865
         ]
        }
       ],
       "layout": {
        "barmode": "relative",
        "coloraxis": {
         "colorbar": {
          "title": {
           "text": "Total Proposals Participated"
          }
         },
         "colorscale": [
          [
           0,
           "#0d0887"
          ],
          [
           0.1111111111111111,
           "#46039f"
          ],
          [
           0.2222222222222222,
           "#7201a8"
          ],
          [
           0.3333333333333333,
           "#9c179e"
          ],
          [
           0.4444444444444444,
           "#bd3786"
          ],
          [
           0.5555555555555556,
           "#d8576b"
          ],
          [
           0.6666666666666666,
           "#ed7953"
          ],
          [
           0.7777777777777778,
           "#fb9f3a"
          ],
          [
           0.8888888888888888,
           "#fdca26"
          ],
          [
           1,
           "#f0f921"
          ]
         ]
        },
        "legend": {
         "tracegroupgap": 0
        },
        "template": {
         "data": {
          "bar": [
           {
            "error_x": {
             "color": "#2a3f5f"
            },
            "error_y": {
             "color": "#2a3f5f"
            },
            "marker": {
             "line": {
              "color": "#E5ECF6",
              "width": 0.5
             },
             "pattern": {
              "fillmode": "overlay",
              "size": 10,
              "solidity": 0.2
             }
            },
            "type": "bar"
           }
          ],
          "barpolar": [
           {
            "marker": {
             "line": {
              "color": "#E5ECF6",
              "width": 0.5
             },
             "pattern": {
              "fillmode": "overlay",
              "size": 10,
              "solidity": 0.2
             }
            },
            "type": "barpolar"
           }
          ],
          "carpet": [
           {
            "aaxis": {
             "endlinecolor": "#2a3f5f",
             "gridcolor": "white",
             "linecolor": "white",
             "minorgridcolor": "white",
             "startlinecolor": "#2a3f5f"
            },
            "baxis": {
             "endlinecolor": "#2a3f5f",
             "gridcolor": "white",
             "linecolor": "white",
             "minorgridcolor": "white",
             "startlinecolor": "#2a3f5f"
            },
            "type": "carpet"
           }
          ],
          "choropleth": [
           {
            "colorbar": {
             "outlinewidth": 0,
             "ticks": ""
            },
            "type": "choropleth"
           }
          ],
          "contour": [
           {
            "colorbar": {
             "outlinewidth": 0,
             "ticks": ""
            },
            "colorscale": [
             [
              0,
              "#0d0887"
             ],
             [
              0.1111111111111111,
              "#46039f"
             ],
             [
              0.2222222222222222,
              "#7201a8"
             ],
             [
              0.3333333333333333,
              "#9c179e"
             ],
             [
              0.4444444444444444,
              "#bd3786"
             ],
             [
              0.5555555555555556,
              "#d8576b"
             ],
             [
              0.6666666666666666,
              "#ed7953"
             ],
             [
              0.7777777777777778,
              "#fb9f3a"
             ],
             [
              0.8888888888888888,
              "#fdca26"
             ],
             [
              1,
              "#f0f921"
             ]
            ],
            "type": "contour"
           }
          ],
          "contourcarpet": [
           {
            "colorbar": {
             "outlinewidth": 0,
             "ticks": ""
            },
            "type": "contourcarpet"
           }
          ],
          "heatmap": [
           {
            "colorbar": {
             "outlinewidth": 0,
             "ticks": ""
            },
            "colorscale": [
             [
              0,
              "#0d0887"
             ],
             [
              0.1111111111111111,
              "#46039f"
             ],
             [
              0.2222222222222222,
              "#7201a8"
             ],
             [
              0.3333333333333333,
              "#9c179e"
             ],
             [
              0.4444444444444444,
              "#bd3786"
             ],
             [
              0.5555555555555556,
              "#d8576b"
             ],
             [
              0.6666666666666666,
              "#ed7953"
             ],
             [
              0.7777777777777778,
              "#fb9f3a"
             ],
             [
              0.8888888888888888,
              "#fdca26"
             ],
             [
              1,
              "#f0f921"
             ]
            ],
            "type": "heatmap"
           }
          ],
          "heatmapgl": [
           {
            "colorbar": {
             "outlinewidth": 0,
             "ticks": ""
            },
            "colorscale": [
             [
              0,
              "#0d0887"
             ],
             [
              0.1111111111111111,
              "#46039f"
             ],
             [
              0.2222222222222222,
              "#7201a8"
             ],
             [
              0.3333333333333333,
              "#9c179e"
             ],
             [
              0.4444444444444444,
              "#bd3786"
             ],
             [
              0.5555555555555556,
              "#d8576b"
             ],
             [
              0.6666666666666666,
              "#ed7953"
             ],
             [
              0.7777777777777778,
              "#fb9f3a"
             ],
             [
              0.8888888888888888,
              "#fdca26"
             ],
             [
              1,
              "#f0f921"
             ]
            ],
            "type": "heatmapgl"
           }
          ],
          "histogram": [
           {
            "marker": {
             "pattern": {
              "fillmode": "overlay",
              "size": 10,
              "solidity": 0.2
             }
            },
            "type": "histogram"
           }
          ],
          "histogram2d": [
           {
            "colorbar": {
             "outlinewidth": 0,
             "ticks": ""
            },
            "colorscale": [
             [
              0,
              "#0d0887"
             ],
             [
              0.1111111111111111,
              "#46039f"
             ],
             [
              0.2222222222222222,
              "#7201a8"
             ],
             [
              0.3333333333333333,
              "#9c179e"
             ],
             [
              0.4444444444444444,
              "#bd3786"
             ],
             [
              0.5555555555555556,
              "#d8576b"
             ],
             [
              0.6666666666666666,
              "#ed7953"
             ],
             [
              0.7777777777777778,
              "#fb9f3a"
             ],
             [
              0.8888888888888888,
              "#fdca26"
             ],
             [
              1,
              "#f0f921"
             ]
            ],
            "type": "histogram2d"
           }
          ],
          "histogram2dcontour": [
           {
            "colorbar": {
             "outlinewidth": 0,
             "ticks": ""
            },
            "colorscale": [
             [
              0,
              "#0d0887"
             ],
             [
              0.1111111111111111,
              "#46039f"
             ],
             [
              0.2222222222222222,
              "#7201a8"
             ],
             [
              0.3333333333333333,
              "#9c179e"
             ],
             [
              0.4444444444444444,
              "#bd3786"
             ],
             [
              0.5555555555555556,
              "#d8576b"
             ],
             [
              0.6666666666666666,
              "#ed7953"
             ],
             [
              0.7777777777777778,
              "#fb9f3a"
             ],
             [
              0.8888888888888888,
              "#fdca26"
             ],
             [
              1,
              "#f0f921"
             ]
            ],
            "type": "histogram2dcontour"
           }
          ],
          "mesh3d": [
           {
            "colorbar": {
             "outlinewidth": 0,
             "ticks": ""
            },
            "type": "mesh3d"
           }
          ],
          "parcoords": [
           {
            "line": {
             "colorbar": {
              "outlinewidth": 0,
              "ticks": ""
             }
            },
            "type": "parcoords"
           }
          ],
          "pie": [
           {
            "automargin": true,
            "type": "pie"
           }
          ],
          "scatter": [
           {
            "fillpattern": {
             "fillmode": "overlay",
             "size": 10,
             "solidity": 0.2
            },
            "type": "scatter"
           }
          ],
          "scatter3d": [
           {
            "line": {
             "colorbar": {
              "outlinewidth": 0,
              "ticks": ""
             }
            },
            "marker": {
             "colorbar": {
              "outlinewidth": 0,
              "ticks": ""
             }
            },
            "type": "scatter3d"
           }
          ],
          "scattercarpet": [
           {
            "marker": {
             "colorbar": {
              "outlinewidth": 0,
              "ticks": ""
             }
            },
            "type": "scattercarpet"
           }
          ],
          "scattergeo": [
           {
            "marker": {
             "colorbar": {
              "outlinewidth": 0,
              "ticks": ""
             }
            },
            "type": "scattergeo"
           }
          ],
          "scattergl": [
           {
            "marker": {
             "colorbar": {
              "outlinewidth": 0,
              "ticks": ""
             }
            },
            "type": "scattergl"
           }
          ],
          "scattermapbox": [
           {
            "marker": {
             "colorbar": {
              "outlinewidth": 0,
              "ticks": ""
             }
            },
            "type": "scattermapbox"
           }
          ],
          "scatterpolar": [
           {
            "marker": {
             "colorbar": {
              "outlinewidth": 0,
              "ticks": ""
             }
            },
            "type": "scatterpolar"
           }
          ],
          "scatterpolargl": [
           {
            "marker": {
             "colorbar": {
              "outlinewidth": 0,
              "ticks": ""
             }
            },
            "type": "scatterpolargl"
           }
          ],
          "scatterternary": [
           {
            "marker": {
             "colorbar": {
              "outlinewidth": 0,
              "ticks": ""
             }
            },
            "type": "scatterternary"
           }
          ],
          "surface": [
           {
            "colorbar": {
             "outlinewidth": 0,
             "ticks": ""
            },
            "colorscale": [
             [
              0,
              "#0d0887"
             ],
             [
              0.1111111111111111,
              "#46039f"
             ],
             [
              0.2222222222222222,
              "#7201a8"
             ],
             [
              0.3333333333333333,
              "#9c179e"
             ],
             [
              0.4444444444444444,
              "#bd3786"
             ],
             [
              0.5555555555555556,
              "#d8576b"
             ],
             [
              0.6666666666666666,
              "#ed7953"
             ],
             [
              0.7777777777777778,
              "#fb9f3a"
             ],
             [
              0.8888888888888888,
              "#fdca26"
             ],
             [
              1,
              "#f0f921"
             ]
            ],
            "type": "surface"
           }
          ],
          "table": [
           {
            "cells": {
             "fill": {
              "color": "#EBF0F8"
             },
             "line": {
              "color": "white"
             }
            },
            "header": {
             "fill": {
              "color": "#C8D4E3"
             },
             "line": {
              "color": "white"
             }
            },
            "type": "table"
           }
          ]
         },
         "layout": {
          "annotationdefaults": {
           "arrowcolor": "#2a3f5f",
           "arrowhead": 0,
           "arrowwidth": 1
          },
          "autotypenumbers": "strict",
          "coloraxis": {
           "colorbar": {
            "outlinewidth": 0,
            "ticks": ""
           }
          },
          "colorscale": {
           "diverging": [
            [
             0,
             "#8e0152"
            ],
            [
             0.1,
             "#c51b7d"
            ],
            [
             0.2,
             "#de77ae"
            ],
            [
             0.3,
             "#f1b6da"
            ],
            [
             0.4,
             "#fde0ef"
            ],
            [
             0.5,
             "#f7f7f7"
            ],
            [
             0.6,
             "#e6f5d0"
            ],
            [
             0.7,
             "#b8e186"
            ],
            [
             0.8,
             "#7fbc41"
            ],
            [
             0.9,
             "#4d9221"
            ],
            [
             1,
             "#276419"
            ]
           ],
           "sequential": [
            [
             0,
             "#0d0887"
            ],
            [
             0.1111111111111111,
             "#46039f"
            ],
            [
             0.2222222222222222,
             "#7201a8"
            ],
            [
             0.3333333333333333,
             "#9c179e"
            ],
            [
             0.4444444444444444,
             "#bd3786"
            ],
            [
             0.5555555555555556,
             "#d8576b"
            ],
            [
             0.6666666666666666,
             "#ed7953"
            ],
            [
             0.7777777777777778,
             "#fb9f3a"
            ],
            [
             0.8888888888888888,
             "#fdca26"
            ],
            [
             1,
             "#f0f921"
            ]
           ],
           "sequentialminus": [
            [
             0,
             "#0d0887"
            ],
            [
             0.1111111111111111,
             "#46039f"
            ],
            [
             0.2222222222222222,
             "#7201a8"
            ],
            [
             0.3333333333333333,
             "#9c179e"
            ],
            [
             0.4444444444444444,
             "#bd3786"
            ],
            [
             0.5555555555555556,
             "#d8576b"
            ],
            [
             0.6666666666666666,
             "#ed7953"
            ],
            [
             0.7777777777777778,
             "#fb9f3a"
            ],
            [
             0.8888888888888888,
             "#fdca26"
            ],
            [
             1,
             "#f0f921"
            ]
           ]
          },
          "colorway": [
           "#636efa",
           "#EF553B",
           "#00cc96",
           "#ab63fa",
           "#FFA15A",
           "#19d3f3",
           "#FF6692",
           "#B6E880",
           "#FF97FF",
           "#FECB52"
          ],
          "font": {
           "color": "#2a3f5f"
          },
          "geo": {
           "bgcolor": "white",
           "lakecolor": "white",
           "landcolor": "#E5ECF6",
           "showlakes": true,
           "showland": true,
           "subunitcolor": "white"
          },
          "hoverlabel": {
           "align": "left"
          },
          "hovermode": "closest",
          "mapbox": {
           "style": "light"
          },
          "paper_bgcolor": "white",
          "plot_bgcolor": "#E5ECF6",
          "polar": {
           "angularaxis": {
            "gridcolor": "white",
            "linecolor": "white",
            "ticks": ""
           },
           "bgcolor": "#E5ECF6",
           "radialaxis": {
            "gridcolor": "white",
            "linecolor": "white",
            "ticks": ""
           }
          },
          "scene": {
           "xaxis": {
            "backgroundcolor": "#E5ECF6",
            "gridcolor": "white",
            "gridwidth": 2,
            "linecolor": "white",
            "showbackground": true,
            "ticks": "",
            "zerolinecolor": "white"
           },
           "yaxis": {
            "backgroundcolor": "#E5ECF6",
            "gridcolor": "white",
            "gridwidth": 2,
            "linecolor": "white",
            "showbackground": true,
            "ticks": "",
            "zerolinecolor": "white"
           },
           "zaxis": {
            "backgroundcolor": "#E5ECF6",
            "gridcolor": "white",
            "gridwidth": 2,
            "linecolor": "white",
            "showbackground": true,
            "ticks": "",
            "zerolinecolor": "white"
           }
          },
          "shapedefaults": {
           "line": {
            "color": "#2a3f5f"
           }
          },
          "ternary": {
           "aaxis": {
            "gridcolor": "white",
            "linecolor": "white",
            "ticks": ""
           },
           "baxis": {
            "gridcolor": "white",
            "linecolor": "white",
            "ticks": ""
           },
           "bgcolor": "#E5ECF6",
           "caxis": {
            "gridcolor": "white",
            "linecolor": "white",
            "ticks": ""
           }
          },
          "title": {
           "x": 0.05
          },
          "xaxis": {
           "automargin": true,
           "gridcolor": "white",
           "linecolor": "white",
           "ticks": "",
           "title": {
            "standoff": 15
           },
           "zerolinecolor": "white",
           "zerolinewidth": 2
          },
          "yaxis": {
           "automargin": true,
           "gridcolor": "white",
           "linecolor": "white",
           "ticks": "",
           "title": {
            "standoff": 15
           },
           "zerolinecolor": "white",
           "zerolinewidth": 2
          }
         }
        },
        "title": {
         "text": "Number of Proposals Participated by Each Voter with High Voting Power"
        },
        "xaxis": {
         "anchor": "y",
         "domain": [
          0,
          1
         ],
         "showticklabels": false,
         "title": {
          "text": "Voter"
         }
        },
        "yaxis": {
         "anchor": "x",
         "domain": [
          0,
          1
         ],
         "title": {
          "text": "Total Proposals Participated"
         }
        }
       }
      }
     },
     "metadata": {},
     "output_type": "display_data"
    }
   ],
   "source": [
    "# Calculate the mean of total proposals participated\n",
    "mean_total_proposals = df_sorted['total_proposals_participated'].mean()\n",
    "\n",
    "# Create the bar chart using Plotly\n",
    "fig = px.bar(df_sorted, x='voter', y='total_proposals_participated', color='total_proposals_participated',\n",
    "             labels={'voter': 'Voter', 'total_proposals_participated': 'Total Proposals Participated'},\n",
    "             title='Number of Proposals Participated by Each Voter with High Voting Power')\n",
    "\n",
    "# Remove x-ticks\n",
    "fig.update_xaxes(showticklabels=False)\n",
    "\n",
    "# Add a line representing the mean\n",
    "fig.add_trace(go.Scatter(x=df_sorted['voter'], y=[mean_total_proposals] * len(df_sorted),\n",
    "                         mode='lines', name='Mean', line=dict(color='red', dash='dash'),\n",
    "                         showlegend=False, hoverinfo='skip',\n",
    "                         text=[f'Mean: {mean_total_proposals:.2f}'] * len(df_sorted)))\n",
    "\n",
    "# Show the interactive plot\n",
    "fig.show()\n",
    "fig.write_html(r'Graphs\\voter-engagement.html')"
   ]
  }
 ],
 "metadata": {
  "kernelspec": {
   "display_name": "data_analysis",
   "language": "python",
   "name": "python3"
  },
  "language_info": {
   "codemirror_mode": {
    "name": "ipython",
    "version": 3
   },
   "file_extension": ".py",
   "mimetype": "text/x-python",
   "name": "python",
   "nbconvert_exporter": "python",
   "pygments_lexer": "ipython3",
   "version": "3.7.9"
  }
 },
 "nbformat": 4,
 "nbformat_minor": 2
}
